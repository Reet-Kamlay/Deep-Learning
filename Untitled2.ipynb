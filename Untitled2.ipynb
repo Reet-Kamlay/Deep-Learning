{
  "nbformat": 4,
  "nbformat_minor": 0,
  "metadata": {
    "colab": {
      "provenance": []
    },
    "kernelspec": {
      "name": "python3",
      "display_name": "Python 3"
    },
    "language_info": {
      "name": "python"
    },
    "widgets": {
      "application/vnd.jupyter.widget-state+json": {
        "0728e4a7c6f0448189dddb1fdf387947": {
          "model_module": "@jupyter-widgets/controls",
          "model_name": "HBoxModel",
          "model_module_version": "1.5.0",
          "state": {
            "_dom_classes": [],
            "_model_module": "@jupyter-widgets/controls",
            "_model_module_version": "1.5.0",
            "_model_name": "HBoxModel",
            "_view_count": null,
            "_view_module": "@jupyter-widgets/controls",
            "_view_module_version": "1.5.0",
            "_view_name": "HBoxView",
            "box_style": "",
            "children": [
              "IPY_MODEL_99d41f9447ff4e49a89f748ebcd55f9e",
              "IPY_MODEL_064cff4bc5614b1b9c41506b7ddc1350",
              "IPY_MODEL_a01d94b028b74498b2005fe339a1ed79"
            ],
            "layout": "IPY_MODEL_d82c38c32fd54b5082b428bd2a22ee01"
          }
        },
        "99d41f9447ff4e49a89f748ebcd55f9e": {
          "model_module": "@jupyter-widgets/controls",
          "model_name": "HTMLModel",
          "model_module_version": "1.5.0",
          "state": {
            "_dom_classes": [],
            "_model_module": "@jupyter-widgets/controls",
            "_model_module_version": "1.5.0",
            "_model_name": "HTMLModel",
            "_view_count": null,
            "_view_module": "@jupyter-widgets/controls",
            "_view_module_version": "1.5.0",
            "_view_name": "HTMLView",
            "description": "",
            "description_tooltip": null,
            "layout": "IPY_MODEL_a6b7ad3963e5439bb1eaba7d1b9c9f9d",
            "placeholder": "​",
            "style": "IPY_MODEL_9de1e5eff6c54d199c6cac5866b8e2f3",
            "value": "100%"
          }
        },
        "064cff4bc5614b1b9c41506b7ddc1350": {
          "model_module": "@jupyter-widgets/controls",
          "model_name": "FloatProgressModel",
          "model_module_version": "1.5.0",
          "state": {
            "_dom_classes": [],
            "_model_module": "@jupyter-widgets/controls",
            "_model_module_version": "1.5.0",
            "_model_name": "FloatProgressModel",
            "_view_count": null,
            "_view_module": "@jupyter-widgets/controls",
            "_view_module_version": "1.5.0",
            "_view_name": "ProgressView",
            "bar_style": "success",
            "description": "",
            "description_tooltip": null,
            "layout": "IPY_MODEL_bfcca4eed41a476d9a3a107c13ac477d",
            "max": 3,
            "min": 0,
            "orientation": "horizontal",
            "style": "IPY_MODEL_162d5c477bec445d8d71c7f542a1a177",
            "value": 3
          }
        },
        "a01d94b028b74498b2005fe339a1ed79": {
          "model_module": "@jupyter-widgets/controls",
          "model_name": "HTMLModel",
          "model_module_version": "1.5.0",
          "state": {
            "_dom_classes": [],
            "_model_module": "@jupyter-widgets/controls",
            "_model_module_version": "1.5.0",
            "_model_name": "HTMLModel",
            "_view_count": null,
            "_view_module": "@jupyter-widgets/controls",
            "_view_module_version": "1.5.0",
            "_view_name": "HTMLView",
            "description": "",
            "description_tooltip": null,
            "layout": "IPY_MODEL_2f4c1ab359a442669deb47bf7e5f5de7",
            "placeholder": "​",
            "style": "IPY_MODEL_5285a5ec99b84274a1c4b2b51cb1fbe6",
            "value": " 3/3 [00:39&lt;00:00, 12.51s/it]"
          }
        },
        "d82c38c32fd54b5082b428bd2a22ee01": {
          "model_module": "@jupyter-widgets/base",
          "model_name": "LayoutModel",
          "model_module_version": "1.2.0",
          "state": {
            "_model_module": "@jupyter-widgets/base",
            "_model_module_version": "1.2.0",
            "_model_name": "LayoutModel",
            "_view_count": null,
            "_view_module": "@jupyter-widgets/base",
            "_view_module_version": "1.2.0",
            "_view_name": "LayoutView",
            "align_content": null,
            "align_items": null,
            "align_self": null,
            "border": null,
            "bottom": null,
            "display": null,
            "flex": null,
            "flex_flow": null,
            "grid_area": null,
            "grid_auto_columns": null,
            "grid_auto_flow": null,
            "grid_auto_rows": null,
            "grid_column": null,
            "grid_gap": null,
            "grid_row": null,
            "grid_template_areas": null,
            "grid_template_columns": null,
            "grid_template_rows": null,
            "height": null,
            "justify_content": null,
            "justify_items": null,
            "left": null,
            "margin": null,
            "max_height": null,
            "max_width": null,
            "min_height": null,
            "min_width": null,
            "object_fit": null,
            "object_position": null,
            "order": null,
            "overflow": null,
            "overflow_x": null,
            "overflow_y": null,
            "padding": null,
            "right": null,
            "top": null,
            "visibility": null,
            "width": null
          }
        },
        "a6b7ad3963e5439bb1eaba7d1b9c9f9d": {
          "model_module": "@jupyter-widgets/base",
          "model_name": "LayoutModel",
          "model_module_version": "1.2.0",
          "state": {
            "_model_module": "@jupyter-widgets/base",
            "_model_module_version": "1.2.0",
            "_model_name": "LayoutModel",
            "_view_count": null,
            "_view_module": "@jupyter-widgets/base",
            "_view_module_version": "1.2.0",
            "_view_name": "LayoutView",
            "align_content": null,
            "align_items": null,
            "align_self": null,
            "border": null,
            "bottom": null,
            "display": null,
            "flex": null,
            "flex_flow": null,
            "grid_area": null,
            "grid_auto_columns": null,
            "grid_auto_flow": null,
            "grid_auto_rows": null,
            "grid_column": null,
            "grid_gap": null,
            "grid_row": null,
            "grid_template_areas": null,
            "grid_template_columns": null,
            "grid_template_rows": null,
            "height": null,
            "justify_content": null,
            "justify_items": null,
            "left": null,
            "margin": null,
            "max_height": null,
            "max_width": null,
            "min_height": null,
            "min_width": null,
            "object_fit": null,
            "object_position": null,
            "order": null,
            "overflow": null,
            "overflow_x": null,
            "overflow_y": null,
            "padding": null,
            "right": null,
            "top": null,
            "visibility": null,
            "width": null
          }
        },
        "9de1e5eff6c54d199c6cac5866b8e2f3": {
          "model_module": "@jupyter-widgets/controls",
          "model_name": "DescriptionStyleModel",
          "model_module_version": "1.5.0",
          "state": {
            "_model_module": "@jupyter-widgets/controls",
            "_model_module_version": "1.5.0",
            "_model_name": "DescriptionStyleModel",
            "_view_count": null,
            "_view_module": "@jupyter-widgets/base",
            "_view_module_version": "1.2.0",
            "_view_name": "StyleView",
            "description_width": ""
          }
        },
        "bfcca4eed41a476d9a3a107c13ac477d": {
          "model_module": "@jupyter-widgets/base",
          "model_name": "LayoutModel",
          "model_module_version": "1.2.0",
          "state": {
            "_model_module": "@jupyter-widgets/base",
            "_model_module_version": "1.2.0",
            "_model_name": "LayoutModel",
            "_view_count": null,
            "_view_module": "@jupyter-widgets/base",
            "_view_module_version": "1.2.0",
            "_view_name": "LayoutView",
            "align_content": null,
            "align_items": null,
            "align_self": null,
            "border": null,
            "bottom": null,
            "display": null,
            "flex": null,
            "flex_flow": null,
            "grid_area": null,
            "grid_auto_columns": null,
            "grid_auto_flow": null,
            "grid_auto_rows": null,
            "grid_column": null,
            "grid_gap": null,
            "grid_row": null,
            "grid_template_areas": null,
            "grid_template_columns": null,
            "grid_template_rows": null,
            "height": null,
            "justify_content": null,
            "justify_items": null,
            "left": null,
            "margin": null,
            "max_height": null,
            "max_width": null,
            "min_height": null,
            "min_width": null,
            "object_fit": null,
            "object_position": null,
            "order": null,
            "overflow": null,
            "overflow_x": null,
            "overflow_y": null,
            "padding": null,
            "right": null,
            "top": null,
            "visibility": null,
            "width": null
          }
        },
        "162d5c477bec445d8d71c7f542a1a177": {
          "model_module": "@jupyter-widgets/controls",
          "model_name": "ProgressStyleModel",
          "model_module_version": "1.5.0",
          "state": {
            "_model_module": "@jupyter-widgets/controls",
            "_model_module_version": "1.5.0",
            "_model_name": "ProgressStyleModel",
            "_view_count": null,
            "_view_module": "@jupyter-widgets/base",
            "_view_module_version": "1.2.0",
            "_view_name": "StyleView",
            "bar_color": null,
            "description_width": ""
          }
        },
        "2f4c1ab359a442669deb47bf7e5f5de7": {
          "model_module": "@jupyter-widgets/base",
          "model_name": "LayoutModel",
          "model_module_version": "1.2.0",
          "state": {
            "_model_module": "@jupyter-widgets/base",
            "_model_module_version": "1.2.0",
            "_model_name": "LayoutModel",
            "_view_count": null,
            "_view_module": "@jupyter-widgets/base",
            "_view_module_version": "1.2.0",
            "_view_name": "LayoutView",
            "align_content": null,
            "align_items": null,
            "align_self": null,
            "border": null,
            "bottom": null,
            "display": null,
            "flex": null,
            "flex_flow": null,
            "grid_area": null,
            "grid_auto_columns": null,
            "grid_auto_flow": null,
            "grid_auto_rows": null,
            "grid_column": null,
            "grid_gap": null,
            "grid_row": null,
            "grid_template_areas": null,
            "grid_template_columns": null,
            "grid_template_rows": null,
            "height": null,
            "justify_content": null,
            "justify_items": null,
            "left": null,
            "margin": null,
            "max_height": null,
            "max_width": null,
            "min_height": null,
            "min_width": null,
            "object_fit": null,
            "object_position": null,
            "order": null,
            "overflow": null,
            "overflow_x": null,
            "overflow_y": null,
            "padding": null,
            "right": null,
            "top": null,
            "visibility": null,
            "width": null
          }
        },
        "5285a5ec99b84274a1c4b2b51cb1fbe6": {
          "model_module": "@jupyter-widgets/controls",
          "model_name": "DescriptionStyleModel",
          "model_module_version": "1.5.0",
          "state": {
            "_model_module": "@jupyter-widgets/controls",
            "_model_module_version": "1.5.0",
            "_model_name": "DescriptionStyleModel",
            "_view_count": null,
            "_view_module": "@jupyter-widgets/base",
            "_view_module_version": "1.2.0",
            "_view_name": "StyleView",
            "description_width": ""
          }
        },
        "cdcd5b4179784143a55cfdd4e61c17c3": {
          "model_module": "@jupyter-widgets/controls",
          "model_name": "HBoxModel",
          "model_module_version": "1.5.0",
          "state": {
            "_dom_classes": [],
            "_model_module": "@jupyter-widgets/controls",
            "_model_module_version": "1.5.0",
            "_model_name": "HBoxModel",
            "_view_count": null,
            "_view_module": "@jupyter-widgets/controls",
            "_view_module_version": "1.5.0",
            "_view_name": "HBoxView",
            "box_style": "",
            "children": [
              "IPY_MODEL_40670f8c27fc42ee9ef13b88710414d7",
              "IPY_MODEL_10bd3e2ff02e495999c24f7d3f8d8067",
              "IPY_MODEL_efc6bb70239f4f9699cfd7a278dcd006"
            ],
            "layout": "IPY_MODEL_3d6a703badc9465ca931d85db6f13816"
          }
        },
        "40670f8c27fc42ee9ef13b88710414d7": {
          "model_module": "@jupyter-widgets/controls",
          "model_name": "HTMLModel",
          "model_module_version": "1.5.0",
          "state": {
            "_dom_classes": [],
            "_model_module": "@jupyter-widgets/controls",
            "_model_module_version": "1.5.0",
            "_model_name": "HTMLModel",
            "_view_count": null,
            "_view_module": "@jupyter-widgets/controls",
            "_view_module_version": "1.5.0",
            "_view_name": "HTMLView",
            "description": "",
            "description_tooltip": null,
            "layout": "IPY_MODEL_615d7cbe3de142b499f4e8162149756d",
            "placeholder": "​",
            "style": "IPY_MODEL_f2f3e61dab8b485ab51bc49721b69bda",
            "value": "100%"
          }
        },
        "10bd3e2ff02e495999c24f7d3f8d8067": {
          "model_module": "@jupyter-widgets/controls",
          "model_name": "FloatProgressModel",
          "model_module_version": "1.5.0",
          "state": {
            "_dom_classes": [],
            "_model_module": "@jupyter-widgets/controls",
            "_model_module_version": "1.5.0",
            "_model_name": "FloatProgressModel",
            "_view_count": null,
            "_view_module": "@jupyter-widgets/controls",
            "_view_module_version": "1.5.0",
            "_view_name": "ProgressView",
            "bar_style": "success",
            "description": "",
            "description_tooltip": null,
            "layout": "IPY_MODEL_21abd50d7ead433e8ed613570dab25e7",
            "max": 313,
            "min": 0,
            "orientation": "horizontal",
            "style": "IPY_MODEL_0cf8eaeec4634c28bb428fe0a4bdfa13",
            "value": 313
          }
        },
        "efc6bb70239f4f9699cfd7a278dcd006": {
          "model_module": "@jupyter-widgets/controls",
          "model_name": "HTMLModel",
          "model_module_version": "1.5.0",
          "state": {
            "_dom_classes": [],
            "_model_module": "@jupyter-widgets/controls",
            "_model_module_version": "1.5.0",
            "_model_name": "HTMLModel",
            "_view_count": null,
            "_view_module": "@jupyter-widgets/controls",
            "_view_module_version": "1.5.0",
            "_view_name": "HTMLView",
            "description": "",
            "description_tooltip": null,
            "layout": "IPY_MODEL_699fe25944164392ac067786d59bcb5f",
            "placeholder": "​",
            "style": "IPY_MODEL_aae6989db78f4ac984aa86803a578be8",
            "value": " 313/313 [00:01&lt;00:00, 272.52it/s]"
          }
        },
        "3d6a703badc9465ca931d85db6f13816": {
          "model_module": "@jupyter-widgets/base",
          "model_name": "LayoutModel",
          "model_module_version": "1.2.0",
          "state": {
            "_model_module": "@jupyter-widgets/base",
            "_model_module_version": "1.2.0",
            "_model_name": "LayoutModel",
            "_view_count": null,
            "_view_module": "@jupyter-widgets/base",
            "_view_module_version": "1.2.0",
            "_view_name": "LayoutView",
            "align_content": null,
            "align_items": null,
            "align_self": null,
            "border": null,
            "bottom": null,
            "display": null,
            "flex": null,
            "flex_flow": null,
            "grid_area": null,
            "grid_auto_columns": null,
            "grid_auto_flow": null,
            "grid_auto_rows": null,
            "grid_column": null,
            "grid_gap": null,
            "grid_row": null,
            "grid_template_areas": null,
            "grid_template_columns": null,
            "grid_template_rows": null,
            "height": null,
            "justify_content": null,
            "justify_items": null,
            "left": null,
            "margin": null,
            "max_height": null,
            "max_width": null,
            "min_height": null,
            "min_width": null,
            "object_fit": null,
            "object_position": null,
            "order": null,
            "overflow": null,
            "overflow_x": null,
            "overflow_y": null,
            "padding": null,
            "right": null,
            "top": null,
            "visibility": null,
            "width": null
          }
        },
        "615d7cbe3de142b499f4e8162149756d": {
          "model_module": "@jupyter-widgets/base",
          "model_name": "LayoutModel",
          "model_module_version": "1.2.0",
          "state": {
            "_model_module": "@jupyter-widgets/base",
            "_model_module_version": "1.2.0",
            "_model_name": "LayoutModel",
            "_view_count": null,
            "_view_module": "@jupyter-widgets/base",
            "_view_module_version": "1.2.0",
            "_view_name": "LayoutView",
            "align_content": null,
            "align_items": null,
            "align_self": null,
            "border": null,
            "bottom": null,
            "display": null,
            "flex": null,
            "flex_flow": null,
            "grid_area": null,
            "grid_auto_columns": null,
            "grid_auto_flow": null,
            "grid_auto_rows": null,
            "grid_column": null,
            "grid_gap": null,
            "grid_row": null,
            "grid_template_areas": null,
            "grid_template_columns": null,
            "grid_template_rows": null,
            "height": null,
            "justify_content": null,
            "justify_items": null,
            "left": null,
            "margin": null,
            "max_height": null,
            "max_width": null,
            "min_height": null,
            "min_width": null,
            "object_fit": null,
            "object_position": null,
            "order": null,
            "overflow": null,
            "overflow_x": null,
            "overflow_y": null,
            "padding": null,
            "right": null,
            "top": null,
            "visibility": null,
            "width": null
          }
        },
        "f2f3e61dab8b485ab51bc49721b69bda": {
          "model_module": "@jupyter-widgets/controls",
          "model_name": "DescriptionStyleModel",
          "model_module_version": "1.5.0",
          "state": {
            "_model_module": "@jupyter-widgets/controls",
            "_model_module_version": "1.5.0",
            "_model_name": "DescriptionStyleModel",
            "_view_count": null,
            "_view_module": "@jupyter-widgets/base",
            "_view_module_version": "1.2.0",
            "_view_name": "StyleView",
            "description_width": ""
          }
        },
        "21abd50d7ead433e8ed613570dab25e7": {
          "model_module": "@jupyter-widgets/base",
          "model_name": "LayoutModel",
          "model_module_version": "1.2.0",
          "state": {
            "_model_module": "@jupyter-widgets/base",
            "_model_module_version": "1.2.0",
            "_model_name": "LayoutModel",
            "_view_count": null,
            "_view_module": "@jupyter-widgets/base",
            "_view_module_version": "1.2.0",
            "_view_name": "LayoutView",
            "align_content": null,
            "align_items": null,
            "align_self": null,
            "border": null,
            "bottom": null,
            "display": null,
            "flex": null,
            "flex_flow": null,
            "grid_area": null,
            "grid_auto_columns": null,
            "grid_auto_flow": null,
            "grid_auto_rows": null,
            "grid_column": null,
            "grid_gap": null,
            "grid_row": null,
            "grid_template_areas": null,
            "grid_template_columns": null,
            "grid_template_rows": null,
            "height": null,
            "justify_content": null,
            "justify_items": null,
            "left": null,
            "margin": null,
            "max_height": null,
            "max_width": null,
            "min_height": null,
            "min_width": null,
            "object_fit": null,
            "object_position": null,
            "order": null,
            "overflow": null,
            "overflow_x": null,
            "overflow_y": null,
            "padding": null,
            "right": null,
            "top": null,
            "visibility": null,
            "width": null
          }
        },
        "0cf8eaeec4634c28bb428fe0a4bdfa13": {
          "model_module": "@jupyter-widgets/controls",
          "model_name": "ProgressStyleModel",
          "model_module_version": "1.5.0",
          "state": {
            "_model_module": "@jupyter-widgets/controls",
            "_model_module_version": "1.5.0",
            "_model_name": "ProgressStyleModel",
            "_view_count": null,
            "_view_module": "@jupyter-widgets/base",
            "_view_module_version": "1.2.0",
            "_view_name": "StyleView",
            "bar_color": null,
            "description_width": ""
          }
        },
        "699fe25944164392ac067786d59bcb5f": {
          "model_module": "@jupyter-widgets/base",
          "model_name": "LayoutModel",
          "model_module_version": "1.2.0",
          "state": {
            "_model_module": "@jupyter-widgets/base",
            "_model_module_version": "1.2.0",
            "_model_name": "LayoutModel",
            "_view_count": null,
            "_view_module": "@jupyter-widgets/base",
            "_view_module_version": "1.2.0",
            "_view_name": "LayoutView",
            "align_content": null,
            "align_items": null,
            "align_self": null,
            "border": null,
            "bottom": null,
            "display": null,
            "flex": null,
            "flex_flow": null,
            "grid_area": null,
            "grid_auto_columns": null,
            "grid_auto_flow": null,
            "grid_auto_rows": null,
            "grid_column": null,
            "grid_gap": null,
            "grid_row": null,
            "grid_template_areas": null,
            "grid_template_columns": null,
            "grid_template_rows": null,
            "height": null,
            "justify_content": null,
            "justify_items": null,
            "left": null,
            "margin": null,
            "max_height": null,
            "max_width": null,
            "min_height": null,
            "min_width": null,
            "object_fit": null,
            "object_position": null,
            "order": null,
            "overflow": null,
            "overflow_x": null,
            "overflow_y": null,
            "padding": null,
            "right": null,
            "top": null,
            "visibility": null,
            "width": null
          }
        },
        "aae6989db78f4ac984aa86803a578be8": {
          "model_module": "@jupyter-widgets/controls",
          "model_name": "DescriptionStyleModel",
          "model_module_version": "1.5.0",
          "state": {
            "_model_module": "@jupyter-widgets/controls",
            "_model_module_version": "1.5.0",
            "_model_name": "DescriptionStyleModel",
            "_view_count": null,
            "_view_module": "@jupyter-widgets/base",
            "_view_module_version": "1.2.0",
            "_view_name": "StyleView",
            "description_width": ""
          }
        },
        "2300ebb7851c4bec90e4225289677902": {
          "model_module": "@jupyter-widgets/controls",
          "model_name": "HBoxModel",
          "model_module_version": "1.5.0",
          "state": {
            "_dom_classes": [],
            "_model_module": "@jupyter-widgets/controls",
            "_model_module_version": "1.5.0",
            "_model_name": "HBoxModel",
            "_view_count": null,
            "_view_module": "@jupyter-widgets/controls",
            "_view_module_version": "1.5.0",
            "_view_name": "HBoxView",
            "box_style": "",
            "children": [
              "IPY_MODEL_ad5783308a7544bb8c2d51aeb6a2f742",
              "IPY_MODEL_bed3562b58aa4a9ca05b9a0e71411060",
              "IPY_MODEL_e1b53cd649d84efd866aa4eb46dfcf03"
            ],
            "layout": "IPY_MODEL_7e632283f40e47729ae5c4209bb0ee9c"
          }
        },
        "ad5783308a7544bb8c2d51aeb6a2f742": {
          "model_module": "@jupyter-widgets/controls",
          "model_name": "HTMLModel",
          "model_module_version": "1.5.0",
          "state": {
            "_dom_classes": [],
            "_model_module": "@jupyter-widgets/controls",
            "_model_module_version": "1.5.0",
            "_model_name": "HTMLModel",
            "_view_count": null,
            "_view_module": "@jupyter-widgets/controls",
            "_view_module_version": "1.5.0",
            "_view_name": "HTMLView",
            "description": "",
            "description_tooltip": null,
            "layout": "IPY_MODEL_4a99712dce87416ab2b3dc3e8a051ba5",
            "placeholder": "​",
            "style": "IPY_MODEL_4bd9aafb5d8a4fdc854895ef4242e437",
            "value": "100%"
          }
        },
        "bed3562b58aa4a9ca05b9a0e71411060": {
          "model_module": "@jupyter-widgets/controls",
          "model_name": "FloatProgressModel",
          "model_module_version": "1.5.0",
          "state": {
            "_dom_classes": [],
            "_model_module": "@jupyter-widgets/controls",
            "_model_module_version": "1.5.0",
            "_model_name": "FloatProgressModel",
            "_view_count": null,
            "_view_module": "@jupyter-widgets/controls",
            "_view_module_version": "1.5.0",
            "_view_name": "ProgressView",
            "bar_style": "success",
            "description": "",
            "description_tooltip": null,
            "layout": "IPY_MODEL_07273fedfbc943acbe4ecb70f2807a2c",
            "max": 3,
            "min": 0,
            "orientation": "horizontal",
            "style": "IPY_MODEL_04d055dd6fbf44faa8eceb45c7668fc1",
            "value": 3
          }
        },
        "e1b53cd649d84efd866aa4eb46dfcf03": {
          "model_module": "@jupyter-widgets/controls",
          "model_name": "HTMLModel",
          "model_module_version": "1.5.0",
          "state": {
            "_dom_classes": [],
            "_model_module": "@jupyter-widgets/controls",
            "_model_module_version": "1.5.0",
            "_model_name": "HTMLModel",
            "_view_count": null,
            "_view_module": "@jupyter-widgets/controls",
            "_view_module_version": "1.5.0",
            "_view_name": "HTMLView",
            "description": "",
            "description_tooltip": null,
            "layout": "IPY_MODEL_eb232b184ea34506842777ceef884927",
            "placeholder": "​",
            "style": "IPY_MODEL_7641f6a439664710b54ef41b379a9eda",
            "value": " 3/3 [00:29&lt;00:00,  9.57s/it]"
          }
        },
        "7e632283f40e47729ae5c4209bb0ee9c": {
          "model_module": "@jupyter-widgets/base",
          "model_name": "LayoutModel",
          "model_module_version": "1.2.0",
          "state": {
            "_model_module": "@jupyter-widgets/base",
            "_model_module_version": "1.2.0",
            "_model_name": "LayoutModel",
            "_view_count": null,
            "_view_module": "@jupyter-widgets/base",
            "_view_module_version": "1.2.0",
            "_view_name": "LayoutView",
            "align_content": null,
            "align_items": null,
            "align_self": null,
            "border": null,
            "bottom": null,
            "display": null,
            "flex": null,
            "flex_flow": null,
            "grid_area": null,
            "grid_auto_columns": null,
            "grid_auto_flow": null,
            "grid_auto_rows": null,
            "grid_column": null,
            "grid_gap": null,
            "grid_row": null,
            "grid_template_areas": null,
            "grid_template_columns": null,
            "grid_template_rows": null,
            "height": null,
            "justify_content": null,
            "justify_items": null,
            "left": null,
            "margin": null,
            "max_height": null,
            "max_width": null,
            "min_height": null,
            "min_width": null,
            "object_fit": null,
            "object_position": null,
            "order": null,
            "overflow": null,
            "overflow_x": null,
            "overflow_y": null,
            "padding": null,
            "right": null,
            "top": null,
            "visibility": null,
            "width": null
          }
        },
        "4a99712dce87416ab2b3dc3e8a051ba5": {
          "model_module": "@jupyter-widgets/base",
          "model_name": "LayoutModel",
          "model_module_version": "1.2.0",
          "state": {
            "_model_module": "@jupyter-widgets/base",
            "_model_module_version": "1.2.0",
            "_model_name": "LayoutModel",
            "_view_count": null,
            "_view_module": "@jupyter-widgets/base",
            "_view_module_version": "1.2.0",
            "_view_name": "LayoutView",
            "align_content": null,
            "align_items": null,
            "align_self": null,
            "border": null,
            "bottom": null,
            "display": null,
            "flex": null,
            "flex_flow": null,
            "grid_area": null,
            "grid_auto_columns": null,
            "grid_auto_flow": null,
            "grid_auto_rows": null,
            "grid_column": null,
            "grid_gap": null,
            "grid_row": null,
            "grid_template_areas": null,
            "grid_template_columns": null,
            "grid_template_rows": null,
            "height": null,
            "justify_content": null,
            "justify_items": null,
            "left": null,
            "margin": null,
            "max_height": null,
            "max_width": null,
            "min_height": null,
            "min_width": null,
            "object_fit": null,
            "object_position": null,
            "order": null,
            "overflow": null,
            "overflow_x": null,
            "overflow_y": null,
            "padding": null,
            "right": null,
            "top": null,
            "visibility": null,
            "width": null
          }
        },
        "4bd9aafb5d8a4fdc854895ef4242e437": {
          "model_module": "@jupyter-widgets/controls",
          "model_name": "DescriptionStyleModel",
          "model_module_version": "1.5.0",
          "state": {
            "_model_module": "@jupyter-widgets/controls",
            "_model_module_version": "1.5.0",
            "_model_name": "DescriptionStyleModel",
            "_view_count": null,
            "_view_module": "@jupyter-widgets/base",
            "_view_module_version": "1.2.0",
            "_view_name": "StyleView",
            "description_width": ""
          }
        },
        "07273fedfbc943acbe4ecb70f2807a2c": {
          "model_module": "@jupyter-widgets/base",
          "model_name": "LayoutModel",
          "model_module_version": "1.2.0",
          "state": {
            "_model_module": "@jupyter-widgets/base",
            "_model_module_version": "1.2.0",
            "_model_name": "LayoutModel",
            "_view_count": null,
            "_view_module": "@jupyter-widgets/base",
            "_view_module_version": "1.2.0",
            "_view_name": "LayoutView",
            "align_content": null,
            "align_items": null,
            "align_self": null,
            "border": null,
            "bottom": null,
            "display": null,
            "flex": null,
            "flex_flow": null,
            "grid_area": null,
            "grid_auto_columns": null,
            "grid_auto_flow": null,
            "grid_auto_rows": null,
            "grid_column": null,
            "grid_gap": null,
            "grid_row": null,
            "grid_template_areas": null,
            "grid_template_columns": null,
            "grid_template_rows": null,
            "height": null,
            "justify_content": null,
            "justify_items": null,
            "left": null,
            "margin": null,
            "max_height": null,
            "max_width": null,
            "min_height": null,
            "min_width": null,
            "object_fit": null,
            "object_position": null,
            "order": null,
            "overflow": null,
            "overflow_x": null,
            "overflow_y": null,
            "padding": null,
            "right": null,
            "top": null,
            "visibility": null,
            "width": null
          }
        },
        "04d055dd6fbf44faa8eceb45c7668fc1": {
          "model_module": "@jupyter-widgets/controls",
          "model_name": "ProgressStyleModel",
          "model_module_version": "1.5.0",
          "state": {
            "_model_module": "@jupyter-widgets/controls",
            "_model_module_version": "1.5.0",
            "_model_name": "ProgressStyleModel",
            "_view_count": null,
            "_view_module": "@jupyter-widgets/base",
            "_view_module_version": "1.2.0",
            "_view_name": "StyleView",
            "bar_color": null,
            "description_width": ""
          }
        },
        "eb232b184ea34506842777ceef884927": {
          "model_module": "@jupyter-widgets/base",
          "model_name": "LayoutModel",
          "model_module_version": "1.2.0",
          "state": {
            "_model_module": "@jupyter-widgets/base",
            "_model_module_version": "1.2.0",
            "_model_name": "LayoutModel",
            "_view_count": null,
            "_view_module": "@jupyter-widgets/base",
            "_view_module_version": "1.2.0",
            "_view_name": "LayoutView",
            "align_content": null,
            "align_items": null,
            "align_self": null,
            "border": null,
            "bottom": null,
            "display": null,
            "flex": null,
            "flex_flow": null,
            "grid_area": null,
            "grid_auto_columns": null,
            "grid_auto_flow": null,
            "grid_auto_rows": null,
            "grid_column": null,
            "grid_gap": null,
            "grid_row": null,
            "grid_template_areas": null,
            "grid_template_columns": null,
            "grid_template_rows": null,
            "height": null,
            "justify_content": null,
            "justify_items": null,
            "left": null,
            "margin": null,
            "max_height": null,
            "max_width": null,
            "min_height": null,
            "min_width": null,
            "object_fit": null,
            "object_position": null,
            "order": null,
            "overflow": null,
            "overflow_x": null,
            "overflow_y": null,
            "padding": null,
            "right": null,
            "top": null,
            "visibility": null,
            "width": null
          }
        },
        "7641f6a439664710b54ef41b379a9eda": {
          "model_module": "@jupyter-widgets/controls",
          "model_name": "DescriptionStyleModel",
          "model_module_version": "1.5.0",
          "state": {
            "_model_module": "@jupyter-widgets/controls",
            "_model_module_version": "1.5.0",
            "_model_name": "DescriptionStyleModel",
            "_view_count": null,
            "_view_module": "@jupyter-widgets/base",
            "_view_module_version": "1.2.0",
            "_view_name": "StyleView",
            "description_width": ""
          }
        },
        "5e64d0dde1bc4544be256ee1cf140d7d": {
          "model_module": "@jupyter-widgets/controls",
          "model_name": "HBoxModel",
          "model_module_version": "1.5.0",
          "state": {
            "_dom_classes": [],
            "_model_module": "@jupyter-widgets/controls",
            "_model_module_version": "1.5.0",
            "_model_name": "HBoxModel",
            "_view_count": null,
            "_view_module": "@jupyter-widgets/controls",
            "_view_module_version": "1.5.0",
            "_view_name": "HBoxView",
            "box_style": "",
            "children": [
              "IPY_MODEL_ad8dd8c8925d492a9a5809fa351bd948",
              "IPY_MODEL_202a0a6d4bc44dc29f5ef08716a2cd16",
              "IPY_MODEL_c8e288a1ad5e45eba1b03ff8927b0a94"
            ],
            "layout": "IPY_MODEL_929ac670a1cb4310837f1a5f500fda61"
          }
        },
        "ad8dd8c8925d492a9a5809fa351bd948": {
          "model_module": "@jupyter-widgets/controls",
          "model_name": "HTMLModel",
          "model_module_version": "1.5.0",
          "state": {
            "_dom_classes": [],
            "_model_module": "@jupyter-widgets/controls",
            "_model_module_version": "1.5.0",
            "_model_name": "HTMLModel",
            "_view_count": null,
            "_view_module": "@jupyter-widgets/controls",
            "_view_module_version": "1.5.0",
            "_view_name": "HTMLView",
            "description": "",
            "description_tooltip": null,
            "layout": "IPY_MODEL_76a87d090a0c4d44b84ade24383492ad",
            "placeholder": "​",
            "style": "IPY_MODEL_eb41ec55bdfb42fcb567c53595fc0a17",
            "value": "100%"
          }
        },
        "202a0a6d4bc44dc29f5ef08716a2cd16": {
          "model_module": "@jupyter-widgets/controls",
          "model_name": "FloatProgressModel",
          "model_module_version": "1.5.0",
          "state": {
            "_dom_classes": [],
            "_model_module": "@jupyter-widgets/controls",
            "_model_module_version": "1.5.0",
            "_model_name": "FloatProgressModel",
            "_view_count": null,
            "_view_module": "@jupyter-widgets/controls",
            "_view_module_version": "1.5.0",
            "_view_name": "ProgressView",
            "bar_style": "success",
            "description": "",
            "description_tooltip": null,
            "layout": "IPY_MODEL_4943086c45d24a17aa9977baaed52745",
            "max": 313,
            "min": 0,
            "orientation": "horizontal",
            "style": "IPY_MODEL_cd38ea7650cf4cfba2bc4846e4d5da27",
            "value": 313
          }
        },
        "c8e288a1ad5e45eba1b03ff8927b0a94": {
          "model_module": "@jupyter-widgets/controls",
          "model_name": "HTMLModel",
          "model_module_version": "1.5.0",
          "state": {
            "_dom_classes": [],
            "_model_module": "@jupyter-widgets/controls",
            "_model_module_version": "1.5.0",
            "_model_name": "HTMLModel",
            "_view_count": null,
            "_view_module": "@jupyter-widgets/controls",
            "_view_module_version": "1.5.0",
            "_view_name": "HTMLView",
            "description": "",
            "description_tooltip": null,
            "layout": "IPY_MODEL_fbb99ab9206c4afd9f11595bacaf8407",
            "placeholder": "​",
            "style": "IPY_MODEL_33af640110ca4e99b92d42446012a366",
            "value": " 313/313 [00:01&lt;00:00, 195.17it/s]"
          }
        },
        "929ac670a1cb4310837f1a5f500fda61": {
          "model_module": "@jupyter-widgets/base",
          "model_name": "LayoutModel",
          "model_module_version": "1.2.0",
          "state": {
            "_model_module": "@jupyter-widgets/base",
            "_model_module_version": "1.2.0",
            "_model_name": "LayoutModel",
            "_view_count": null,
            "_view_module": "@jupyter-widgets/base",
            "_view_module_version": "1.2.0",
            "_view_name": "LayoutView",
            "align_content": null,
            "align_items": null,
            "align_self": null,
            "border": null,
            "bottom": null,
            "display": null,
            "flex": null,
            "flex_flow": null,
            "grid_area": null,
            "grid_auto_columns": null,
            "grid_auto_flow": null,
            "grid_auto_rows": null,
            "grid_column": null,
            "grid_gap": null,
            "grid_row": null,
            "grid_template_areas": null,
            "grid_template_columns": null,
            "grid_template_rows": null,
            "height": null,
            "justify_content": null,
            "justify_items": null,
            "left": null,
            "margin": null,
            "max_height": null,
            "max_width": null,
            "min_height": null,
            "min_width": null,
            "object_fit": null,
            "object_position": null,
            "order": null,
            "overflow": null,
            "overflow_x": null,
            "overflow_y": null,
            "padding": null,
            "right": null,
            "top": null,
            "visibility": null,
            "width": null
          }
        },
        "76a87d090a0c4d44b84ade24383492ad": {
          "model_module": "@jupyter-widgets/base",
          "model_name": "LayoutModel",
          "model_module_version": "1.2.0",
          "state": {
            "_model_module": "@jupyter-widgets/base",
            "_model_module_version": "1.2.0",
            "_model_name": "LayoutModel",
            "_view_count": null,
            "_view_module": "@jupyter-widgets/base",
            "_view_module_version": "1.2.0",
            "_view_name": "LayoutView",
            "align_content": null,
            "align_items": null,
            "align_self": null,
            "border": null,
            "bottom": null,
            "display": null,
            "flex": null,
            "flex_flow": null,
            "grid_area": null,
            "grid_auto_columns": null,
            "grid_auto_flow": null,
            "grid_auto_rows": null,
            "grid_column": null,
            "grid_gap": null,
            "grid_row": null,
            "grid_template_areas": null,
            "grid_template_columns": null,
            "grid_template_rows": null,
            "height": null,
            "justify_content": null,
            "justify_items": null,
            "left": null,
            "margin": null,
            "max_height": null,
            "max_width": null,
            "min_height": null,
            "min_width": null,
            "object_fit": null,
            "object_position": null,
            "order": null,
            "overflow": null,
            "overflow_x": null,
            "overflow_y": null,
            "padding": null,
            "right": null,
            "top": null,
            "visibility": null,
            "width": null
          }
        },
        "eb41ec55bdfb42fcb567c53595fc0a17": {
          "model_module": "@jupyter-widgets/controls",
          "model_name": "DescriptionStyleModel",
          "model_module_version": "1.5.0",
          "state": {
            "_model_module": "@jupyter-widgets/controls",
            "_model_module_version": "1.5.0",
            "_model_name": "DescriptionStyleModel",
            "_view_count": null,
            "_view_module": "@jupyter-widgets/base",
            "_view_module_version": "1.2.0",
            "_view_name": "StyleView",
            "description_width": ""
          }
        },
        "4943086c45d24a17aa9977baaed52745": {
          "model_module": "@jupyter-widgets/base",
          "model_name": "LayoutModel",
          "model_module_version": "1.2.0",
          "state": {
            "_model_module": "@jupyter-widgets/base",
            "_model_module_version": "1.2.0",
            "_model_name": "LayoutModel",
            "_view_count": null,
            "_view_module": "@jupyter-widgets/base",
            "_view_module_version": "1.2.0",
            "_view_name": "LayoutView",
            "align_content": null,
            "align_items": null,
            "align_self": null,
            "border": null,
            "bottom": null,
            "display": null,
            "flex": null,
            "flex_flow": null,
            "grid_area": null,
            "grid_auto_columns": null,
            "grid_auto_flow": null,
            "grid_auto_rows": null,
            "grid_column": null,
            "grid_gap": null,
            "grid_row": null,
            "grid_template_areas": null,
            "grid_template_columns": null,
            "grid_template_rows": null,
            "height": null,
            "justify_content": null,
            "justify_items": null,
            "left": null,
            "margin": null,
            "max_height": null,
            "max_width": null,
            "min_height": null,
            "min_width": null,
            "object_fit": null,
            "object_position": null,
            "order": null,
            "overflow": null,
            "overflow_x": null,
            "overflow_y": null,
            "padding": null,
            "right": null,
            "top": null,
            "visibility": null,
            "width": null
          }
        },
        "cd38ea7650cf4cfba2bc4846e4d5da27": {
          "model_module": "@jupyter-widgets/controls",
          "model_name": "ProgressStyleModel",
          "model_module_version": "1.5.0",
          "state": {
            "_model_module": "@jupyter-widgets/controls",
            "_model_module_version": "1.5.0",
            "_model_name": "ProgressStyleModel",
            "_view_count": null,
            "_view_module": "@jupyter-widgets/base",
            "_view_module_version": "1.2.0",
            "_view_name": "StyleView",
            "bar_color": null,
            "description_width": ""
          }
        },
        "fbb99ab9206c4afd9f11595bacaf8407": {
          "model_module": "@jupyter-widgets/base",
          "model_name": "LayoutModel",
          "model_module_version": "1.2.0",
          "state": {
            "_model_module": "@jupyter-widgets/base",
            "_model_module_version": "1.2.0",
            "_model_name": "LayoutModel",
            "_view_count": null,
            "_view_module": "@jupyter-widgets/base",
            "_view_module_version": "1.2.0",
            "_view_name": "LayoutView",
            "align_content": null,
            "align_items": null,
            "align_self": null,
            "border": null,
            "bottom": null,
            "display": null,
            "flex": null,
            "flex_flow": null,
            "grid_area": null,
            "grid_auto_columns": null,
            "grid_auto_flow": null,
            "grid_auto_rows": null,
            "grid_column": null,
            "grid_gap": null,
            "grid_row": null,
            "grid_template_areas": null,
            "grid_template_columns": null,
            "grid_template_rows": null,
            "height": null,
            "justify_content": null,
            "justify_items": null,
            "left": null,
            "margin": null,
            "max_height": null,
            "max_width": null,
            "min_height": null,
            "min_width": null,
            "object_fit": null,
            "object_position": null,
            "order": null,
            "overflow": null,
            "overflow_x": null,
            "overflow_y": null,
            "padding": null,
            "right": null,
            "top": null,
            "visibility": null,
            "width": null
          }
        },
        "33af640110ca4e99b92d42446012a366": {
          "model_module": "@jupyter-widgets/controls",
          "model_name": "DescriptionStyleModel",
          "model_module_version": "1.5.0",
          "state": {
            "_model_module": "@jupyter-widgets/controls",
            "_model_module_version": "1.5.0",
            "_model_name": "DescriptionStyleModel",
            "_view_count": null,
            "_view_module": "@jupyter-widgets/base",
            "_view_module_version": "1.2.0",
            "_view_name": "StyleView",
            "description_width": ""
          }
        },
        "31765c1ce76846688274e160debfe98a": {
          "model_module": "@jupyter-widgets/controls",
          "model_name": "HBoxModel",
          "model_module_version": "1.5.0",
          "state": {
            "_dom_classes": [],
            "_model_module": "@jupyter-widgets/controls",
            "_model_module_version": "1.5.0",
            "_model_name": "HBoxModel",
            "_view_count": null,
            "_view_module": "@jupyter-widgets/controls",
            "_view_module_version": "1.5.0",
            "_view_name": "HBoxView",
            "box_style": "",
            "children": [
              "IPY_MODEL_087cc41781bf456394790fcddf6339f6",
              "IPY_MODEL_b02d902567764143890e410d2080c183",
              "IPY_MODEL_45423e98e568402bbe76e5ab202ba9fc"
            ],
            "layout": "IPY_MODEL_77494a75577048aab8c9da237ad37ca0"
          }
        },
        "087cc41781bf456394790fcddf6339f6": {
          "model_module": "@jupyter-widgets/controls",
          "model_name": "HTMLModel",
          "model_module_version": "1.5.0",
          "state": {
            "_dom_classes": [],
            "_model_module": "@jupyter-widgets/controls",
            "_model_module_version": "1.5.0",
            "_model_name": "HTMLModel",
            "_view_count": null,
            "_view_module": "@jupyter-widgets/controls",
            "_view_module_version": "1.5.0",
            "_view_name": "HTMLView",
            "description": "",
            "description_tooltip": null,
            "layout": "IPY_MODEL_ca96ed5ad0dd4d2caba94584680be9cb",
            "placeholder": "​",
            "style": "IPY_MODEL_14b8ed4a4d1046959e7eb715c8eb3b52",
            "value": "100%"
          }
        },
        "b02d902567764143890e410d2080c183": {
          "model_module": "@jupyter-widgets/controls",
          "model_name": "FloatProgressModel",
          "model_module_version": "1.5.0",
          "state": {
            "_dom_classes": [],
            "_model_module": "@jupyter-widgets/controls",
            "_model_module_version": "1.5.0",
            "_model_name": "FloatProgressModel",
            "_view_count": null,
            "_view_module": "@jupyter-widgets/controls",
            "_view_module_version": "1.5.0",
            "_view_name": "ProgressView",
            "bar_style": "success",
            "description": "",
            "description_tooltip": null,
            "layout": "IPY_MODEL_1dbdea9fc55d491bb9e3a6d757a071c0",
            "max": 3,
            "min": 0,
            "orientation": "horizontal",
            "style": "IPY_MODEL_521d4e69056c483dafb2e222797ce95a",
            "value": 3
          }
        },
        "45423e98e568402bbe76e5ab202ba9fc": {
          "model_module": "@jupyter-widgets/controls",
          "model_name": "HTMLModel",
          "model_module_version": "1.5.0",
          "state": {
            "_dom_classes": [],
            "_model_module": "@jupyter-widgets/controls",
            "_model_module_version": "1.5.0",
            "_model_name": "HTMLModel",
            "_view_count": null,
            "_view_module": "@jupyter-widgets/controls",
            "_view_module_version": "1.5.0",
            "_view_name": "HTMLView",
            "description": "",
            "description_tooltip": null,
            "layout": "IPY_MODEL_5ea672236553491cb888696f4bd10c87",
            "placeholder": "​",
            "style": "IPY_MODEL_4e3dd21ca9c14d029f78da54d9ef31ae",
            "value": " 3/3 [02:45&lt;00:00, 55.15s/it]"
          }
        },
        "77494a75577048aab8c9da237ad37ca0": {
          "model_module": "@jupyter-widgets/base",
          "model_name": "LayoutModel",
          "model_module_version": "1.2.0",
          "state": {
            "_model_module": "@jupyter-widgets/base",
            "_model_module_version": "1.2.0",
            "_model_name": "LayoutModel",
            "_view_count": null,
            "_view_module": "@jupyter-widgets/base",
            "_view_module_version": "1.2.0",
            "_view_name": "LayoutView",
            "align_content": null,
            "align_items": null,
            "align_self": null,
            "border": null,
            "bottom": null,
            "display": null,
            "flex": null,
            "flex_flow": null,
            "grid_area": null,
            "grid_auto_columns": null,
            "grid_auto_flow": null,
            "grid_auto_rows": null,
            "grid_column": null,
            "grid_gap": null,
            "grid_row": null,
            "grid_template_areas": null,
            "grid_template_columns": null,
            "grid_template_rows": null,
            "height": null,
            "justify_content": null,
            "justify_items": null,
            "left": null,
            "margin": null,
            "max_height": null,
            "max_width": null,
            "min_height": null,
            "min_width": null,
            "object_fit": null,
            "object_position": null,
            "order": null,
            "overflow": null,
            "overflow_x": null,
            "overflow_y": null,
            "padding": null,
            "right": null,
            "top": null,
            "visibility": null,
            "width": null
          }
        },
        "ca96ed5ad0dd4d2caba94584680be9cb": {
          "model_module": "@jupyter-widgets/base",
          "model_name": "LayoutModel",
          "model_module_version": "1.2.0",
          "state": {
            "_model_module": "@jupyter-widgets/base",
            "_model_module_version": "1.2.0",
            "_model_name": "LayoutModel",
            "_view_count": null,
            "_view_module": "@jupyter-widgets/base",
            "_view_module_version": "1.2.0",
            "_view_name": "LayoutView",
            "align_content": null,
            "align_items": null,
            "align_self": null,
            "border": null,
            "bottom": null,
            "display": null,
            "flex": null,
            "flex_flow": null,
            "grid_area": null,
            "grid_auto_columns": null,
            "grid_auto_flow": null,
            "grid_auto_rows": null,
            "grid_column": null,
            "grid_gap": null,
            "grid_row": null,
            "grid_template_areas": null,
            "grid_template_columns": null,
            "grid_template_rows": null,
            "height": null,
            "justify_content": null,
            "justify_items": null,
            "left": null,
            "margin": null,
            "max_height": null,
            "max_width": null,
            "min_height": null,
            "min_width": null,
            "object_fit": null,
            "object_position": null,
            "order": null,
            "overflow": null,
            "overflow_x": null,
            "overflow_y": null,
            "padding": null,
            "right": null,
            "top": null,
            "visibility": null,
            "width": null
          }
        },
        "14b8ed4a4d1046959e7eb715c8eb3b52": {
          "model_module": "@jupyter-widgets/controls",
          "model_name": "DescriptionStyleModel",
          "model_module_version": "1.5.0",
          "state": {
            "_model_module": "@jupyter-widgets/controls",
            "_model_module_version": "1.5.0",
            "_model_name": "DescriptionStyleModel",
            "_view_count": null,
            "_view_module": "@jupyter-widgets/base",
            "_view_module_version": "1.2.0",
            "_view_name": "StyleView",
            "description_width": ""
          }
        },
        "1dbdea9fc55d491bb9e3a6d757a071c0": {
          "model_module": "@jupyter-widgets/base",
          "model_name": "LayoutModel",
          "model_module_version": "1.2.0",
          "state": {
            "_model_module": "@jupyter-widgets/base",
            "_model_module_version": "1.2.0",
            "_model_name": "LayoutModel",
            "_view_count": null,
            "_view_module": "@jupyter-widgets/base",
            "_view_module_version": "1.2.0",
            "_view_name": "LayoutView",
            "align_content": null,
            "align_items": null,
            "align_self": null,
            "border": null,
            "bottom": null,
            "display": null,
            "flex": null,
            "flex_flow": null,
            "grid_area": null,
            "grid_auto_columns": null,
            "grid_auto_flow": null,
            "grid_auto_rows": null,
            "grid_column": null,
            "grid_gap": null,
            "grid_row": null,
            "grid_template_areas": null,
            "grid_template_columns": null,
            "grid_template_rows": null,
            "height": null,
            "justify_content": null,
            "justify_items": null,
            "left": null,
            "margin": null,
            "max_height": null,
            "max_width": null,
            "min_height": null,
            "min_width": null,
            "object_fit": null,
            "object_position": null,
            "order": null,
            "overflow": null,
            "overflow_x": null,
            "overflow_y": null,
            "padding": null,
            "right": null,
            "top": null,
            "visibility": null,
            "width": null
          }
        },
        "521d4e69056c483dafb2e222797ce95a": {
          "model_module": "@jupyter-widgets/controls",
          "model_name": "ProgressStyleModel",
          "model_module_version": "1.5.0",
          "state": {
            "_model_module": "@jupyter-widgets/controls",
            "_model_module_version": "1.5.0",
            "_model_name": "ProgressStyleModel",
            "_view_count": null,
            "_view_module": "@jupyter-widgets/base",
            "_view_module_version": "1.2.0",
            "_view_name": "StyleView",
            "bar_color": null,
            "description_width": ""
          }
        },
        "5ea672236553491cb888696f4bd10c87": {
          "model_module": "@jupyter-widgets/base",
          "model_name": "LayoutModel",
          "model_module_version": "1.2.0",
          "state": {
            "_model_module": "@jupyter-widgets/base",
            "_model_module_version": "1.2.0",
            "_model_name": "LayoutModel",
            "_view_count": null,
            "_view_module": "@jupyter-widgets/base",
            "_view_module_version": "1.2.0",
            "_view_name": "LayoutView",
            "align_content": null,
            "align_items": null,
            "align_self": null,
            "border": null,
            "bottom": null,
            "display": null,
            "flex": null,
            "flex_flow": null,
            "grid_area": null,
            "grid_auto_columns": null,
            "grid_auto_flow": null,
            "grid_auto_rows": null,
            "grid_column": null,
            "grid_gap": null,
            "grid_row": null,
            "grid_template_areas": null,
            "grid_template_columns": null,
            "grid_template_rows": null,
            "height": null,
            "justify_content": null,
            "justify_items": null,
            "left": null,
            "margin": null,
            "max_height": null,
            "max_width": null,
            "min_height": null,
            "min_width": null,
            "object_fit": null,
            "object_position": null,
            "order": null,
            "overflow": null,
            "overflow_x": null,
            "overflow_y": null,
            "padding": null,
            "right": null,
            "top": null,
            "visibility": null,
            "width": null
          }
        },
        "4e3dd21ca9c14d029f78da54d9ef31ae": {
          "model_module": "@jupyter-widgets/controls",
          "model_name": "DescriptionStyleModel",
          "model_module_version": "1.5.0",
          "state": {
            "_model_module": "@jupyter-widgets/controls",
            "_model_module_version": "1.5.0",
            "_model_name": "DescriptionStyleModel",
            "_view_count": null,
            "_view_module": "@jupyter-widgets/base",
            "_view_module_version": "1.2.0",
            "_view_name": "StyleView",
            "description_width": ""
          }
        },
        "2d63ffa979004feeb30fe249ad35b69e": {
          "model_module": "@jupyter-widgets/controls",
          "model_name": "HBoxModel",
          "model_module_version": "1.5.0",
          "state": {
            "_dom_classes": [],
            "_model_module": "@jupyter-widgets/controls",
            "_model_module_version": "1.5.0",
            "_model_name": "HBoxModel",
            "_view_count": null,
            "_view_module": "@jupyter-widgets/controls",
            "_view_module_version": "1.5.0",
            "_view_name": "HBoxView",
            "box_style": "",
            "children": [
              "IPY_MODEL_12f07f62460a42c38eccaf8cc4776c96",
              "IPY_MODEL_7737fc11934e4ef280681bcec630dfad",
              "IPY_MODEL_d00158e53b554720ac984b8ea9eb1e63"
            ],
            "layout": "IPY_MODEL_3e291e4193e94755997de47d01535d64"
          }
        },
        "12f07f62460a42c38eccaf8cc4776c96": {
          "model_module": "@jupyter-widgets/controls",
          "model_name": "HTMLModel",
          "model_module_version": "1.5.0",
          "state": {
            "_dom_classes": [],
            "_model_module": "@jupyter-widgets/controls",
            "_model_module_version": "1.5.0",
            "_model_name": "HTMLModel",
            "_view_count": null,
            "_view_module": "@jupyter-widgets/controls",
            "_view_module_version": "1.5.0",
            "_view_name": "HTMLView",
            "description": "",
            "description_tooltip": null,
            "layout": "IPY_MODEL_f250fd40e0f6459ea48eaf00c4341819",
            "placeholder": "​",
            "style": "IPY_MODEL_2720ce011f5249768ba2e3aacd3d5632",
            "value": "100%"
          }
        },
        "7737fc11934e4ef280681bcec630dfad": {
          "model_module": "@jupyter-widgets/controls",
          "model_name": "FloatProgressModel",
          "model_module_version": "1.5.0",
          "state": {
            "_dom_classes": [],
            "_model_module": "@jupyter-widgets/controls",
            "_model_module_version": "1.5.0",
            "_model_name": "FloatProgressModel",
            "_view_count": null,
            "_view_module": "@jupyter-widgets/controls",
            "_view_module_version": "1.5.0",
            "_view_name": "ProgressView",
            "bar_style": "success",
            "description": "",
            "description_tooltip": null,
            "layout": "IPY_MODEL_e1433190ab874d3ea37aca67ad923dd7",
            "max": 313,
            "min": 0,
            "orientation": "horizontal",
            "style": "IPY_MODEL_125d6cf846bc463db782886fef64e2d6",
            "value": 313
          }
        },
        "d00158e53b554720ac984b8ea9eb1e63": {
          "model_module": "@jupyter-widgets/controls",
          "model_name": "HTMLModel",
          "model_module_version": "1.5.0",
          "state": {
            "_dom_classes": [],
            "_model_module": "@jupyter-widgets/controls",
            "_model_module_version": "1.5.0",
            "_model_name": "HTMLModel",
            "_view_count": null,
            "_view_module": "@jupyter-widgets/controls",
            "_view_module_version": "1.5.0",
            "_view_name": "HTMLView",
            "description": "",
            "description_tooltip": null,
            "layout": "IPY_MODEL_cc12ed72c42c4056940970e2320ff43c",
            "placeholder": "​",
            "style": "IPY_MODEL_c0328ccfb9944847bd373ec04fcea50a",
            "value": " 313/313 [00:04&lt;00:00, 79.13it/s]"
          }
        },
        "3e291e4193e94755997de47d01535d64": {
          "model_module": "@jupyter-widgets/base",
          "model_name": "LayoutModel",
          "model_module_version": "1.2.0",
          "state": {
            "_model_module": "@jupyter-widgets/base",
            "_model_module_version": "1.2.0",
            "_model_name": "LayoutModel",
            "_view_count": null,
            "_view_module": "@jupyter-widgets/base",
            "_view_module_version": "1.2.0",
            "_view_name": "LayoutView",
            "align_content": null,
            "align_items": null,
            "align_self": null,
            "border": null,
            "bottom": null,
            "display": null,
            "flex": null,
            "flex_flow": null,
            "grid_area": null,
            "grid_auto_columns": null,
            "grid_auto_flow": null,
            "grid_auto_rows": null,
            "grid_column": null,
            "grid_gap": null,
            "grid_row": null,
            "grid_template_areas": null,
            "grid_template_columns": null,
            "grid_template_rows": null,
            "height": null,
            "justify_content": null,
            "justify_items": null,
            "left": null,
            "margin": null,
            "max_height": null,
            "max_width": null,
            "min_height": null,
            "min_width": null,
            "object_fit": null,
            "object_position": null,
            "order": null,
            "overflow": null,
            "overflow_x": null,
            "overflow_y": null,
            "padding": null,
            "right": null,
            "top": null,
            "visibility": null,
            "width": null
          }
        },
        "f250fd40e0f6459ea48eaf00c4341819": {
          "model_module": "@jupyter-widgets/base",
          "model_name": "LayoutModel",
          "model_module_version": "1.2.0",
          "state": {
            "_model_module": "@jupyter-widgets/base",
            "_model_module_version": "1.2.0",
            "_model_name": "LayoutModel",
            "_view_count": null,
            "_view_module": "@jupyter-widgets/base",
            "_view_module_version": "1.2.0",
            "_view_name": "LayoutView",
            "align_content": null,
            "align_items": null,
            "align_self": null,
            "border": null,
            "bottom": null,
            "display": null,
            "flex": null,
            "flex_flow": null,
            "grid_area": null,
            "grid_auto_columns": null,
            "grid_auto_flow": null,
            "grid_auto_rows": null,
            "grid_column": null,
            "grid_gap": null,
            "grid_row": null,
            "grid_template_areas": null,
            "grid_template_columns": null,
            "grid_template_rows": null,
            "height": null,
            "justify_content": null,
            "justify_items": null,
            "left": null,
            "margin": null,
            "max_height": null,
            "max_width": null,
            "min_height": null,
            "min_width": null,
            "object_fit": null,
            "object_position": null,
            "order": null,
            "overflow": null,
            "overflow_x": null,
            "overflow_y": null,
            "padding": null,
            "right": null,
            "top": null,
            "visibility": null,
            "width": null
          }
        },
        "2720ce011f5249768ba2e3aacd3d5632": {
          "model_module": "@jupyter-widgets/controls",
          "model_name": "DescriptionStyleModel",
          "model_module_version": "1.5.0",
          "state": {
            "_model_module": "@jupyter-widgets/controls",
            "_model_module_version": "1.5.0",
            "_model_name": "DescriptionStyleModel",
            "_view_count": null,
            "_view_module": "@jupyter-widgets/base",
            "_view_module_version": "1.2.0",
            "_view_name": "StyleView",
            "description_width": ""
          }
        },
        "e1433190ab874d3ea37aca67ad923dd7": {
          "model_module": "@jupyter-widgets/base",
          "model_name": "LayoutModel",
          "model_module_version": "1.2.0",
          "state": {
            "_model_module": "@jupyter-widgets/base",
            "_model_module_version": "1.2.0",
            "_model_name": "LayoutModel",
            "_view_count": null,
            "_view_module": "@jupyter-widgets/base",
            "_view_module_version": "1.2.0",
            "_view_name": "LayoutView",
            "align_content": null,
            "align_items": null,
            "align_self": null,
            "border": null,
            "bottom": null,
            "display": null,
            "flex": null,
            "flex_flow": null,
            "grid_area": null,
            "grid_auto_columns": null,
            "grid_auto_flow": null,
            "grid_auto_rows": null,
            "grid_column": null,
            "grid_gap": null,
            "grid_row": null,
            "grid_template_areas": null,
            "grid_template_columns": null,
            "grid_template_rows": null,
            "height": null,
            "justify_content": null,
            "justify_items": null,
            "left": null,
            "margin": null,
            "max_height": null,
            "max_width": null,
            "min_height": null,
            "min_width": null,
            "object_fit": null,
            "object_position": null,
            "order": null,
            "overflow": null,
            "overflow_x": null,
            "overflow_y": null,
            "padding": null,
            "right": null,
            "top": null,
            "visibility": null,
            "width": null
          }
        },
        "125d6cf846bc463db782886fef64e2d6": {
          "model_module": "@jupyter-widgets/controls",
          "model_name": "ProgressStyleModel",
          "model_module_version": "1.5.0",
          "state": {
            "_model_module": "@jupyter-widgets/controls",
            "_model_module_version": "1.5.0",
            "_model_name": "ProgressStyleModel",
            "_view_count": null,
            "_view_module": "@jupyter-widgets/base",
            "_view_module_version": "1.2.0",
            "_view_name": "StyleView",
            "bar_color": null,
            "description_width": ""
          }
        },
        "cc12ed72c42c4056940970e2320ff43c": {
          "model_module": "@jupyter-widgets/base",
          "model_name": "LayoutModel",
          "model_module_version": "1.2.0",
          "state": {
            "_model_module": "@jupyter-widgets/base",
            "_model_module_version": "1.2.0",
            "_model_name": "LayoutModel",
            "_view_count": null,
            "_view_module": "@jupyter-widgets/base",
            "_view_module_version": "1.2.0",
            "_view_name": "LayoutView",
            "align_content": null,
            "align_items": null,
            "align_self": null,
            "border": null,
            "bottom": null,
            "display": null,
            "flex": null,
            "flex_flow": null,
            "grid_area": null,
            "grid_auto_columns": null,
            "grid_auto_flow": null,
            "grid_auto_rows": null,
            "grid_column": null,
            "grid_gap": null,
            "grid_row": null,
            "grid_template_areas": null,
            "grid_template_columns": null,
            "grid_template_rows": null,
            "height": null,
            "justify_content": null,
            "justify_items": null,
            "left": null,
            "margin": null,
            "max_height": null,
            "max_width": null,
            "min_height": null,
            "min_width": null,
            "object_fit": null,
            "object_position": null,
            "order": null,
            "overflow": null,
            "overflow_x": null,
            "overflow_y": null,
            "padding": null,
            "right": null,
            "top": null,
            "visibility": null,
            "width": null
          }
        },
        "c0328ccfb9944847bd373ec04fcea50a": {
          "model_module": "@jupyter-widgets/controls",
          "model_name": "DescriptionStyleModel",
          "model_module_version": "1.5.0",
          "state": {
            "_model_module": "@jupyter-widgets/controls",
            "_model_module_version": "1.5.0",
            "_model_name": "DescriptionStyleModel",
            "_view_count": null,
            "_view_module": "@jupyter-widgets/base",
            "_view_module_version": "1.2.0",
            "_view_name": "StyleView",
            "description_width": ""
          }
        },
        "3b2ef4b1e3c64f258dc5334821c92b72": {
          "model_module": "@jupyter-widgets/controls",
          "model_name": "HBoxModel",
          "model_module_version": "1.5.0",
          "state": {
            "_dom_classes": [],
            "_model_module": "@jupyter-widgets/controls",
            "_model_module_version": "1.5.0",
            "_model_name": "HBoxModel",
            "_view_count": null,
            "_view_module": "@jupyter-widgets/controls",
            "_view_module_version": "1.5.0",
            "_view_name": "HBoxView",
            "box_style": "",
            "children": [
              "IPY_MODEL_c4efb6f93ff246e29c19af280bdee8a3",
              "IPY_MODEL_a247d5a242384b8eab215ffd486c3d59",
              "IPY_MODEL_d95ae3cb2d0b4cf4aa60d70a5e4588e6"
            ],
            "layout": "IPY_MODEL_f6fdcbdcf4b440a983821d66c1f83c70"
          }
        },
        "c4efb6f93ff246e29c19af280bdee8a3": {
          "model_module": "@jupyter-widgets/controls",
          "model_name": "HTMLModel",
          "model_module_version": "1.5.0",
          "state": {
            "_dom_classes": [],
            "_model_module": "@jupyter-widgets/controls",
            "_model_module_version": "1.5.0",
            "_model_name": "HTMLModel",
            "_view_count": null,
            "_view_module": "@jupyter-widgets/controls",
            "_view_module_version": "1.5.0",
            "_view_name": "HTMLView",
            "description": "",
            "description_tooltip": null,
            "layout": "IPY_MODEL_0b0bad67e0e445f6870d229a26ce6046",
            "placeholder": "​",
            "style": "IPY_MODEL_778c61f18d1948b28acd18f348ec3ce2",
            "value": "Making predictions: 100%"
          }
        },
        "a247d5a242384b8eab215ffd486c3d59": {
          "model_module": "@jupyter-widgets/controls",
          "model_name": "FloatProgressModel",
          "model_module_version": "1.5.0",
          "state": {
            "_dom_classes": [],
            "_model_module": "@jupyter-widgets/controls",
            "_model_module_version": "1.5.0",
            "_model_name": "FloatProgressModel",
            "_view_count": null,
            "_view_module": "@jupyter-widgets/controls",
            "_view_module_version": "1.5.0",
            "_view_name": "ProgressView",
            "bar_style": "success",
            "description": "",
            "description_tooltip": null,
            "layout": "IPY_MODEL_e7493a5fe6fd4219afc206585d9bbaed",
            "max": 313,
            "min": 0,
            "orientation": "horizontal",
            "style": "IPY_MODEL_911ef58e8f4f41aaaa9899256b935e07",
            "value": 313
          }
        },
        "d95ae3cb2d0b4cf4aa60d70a5e4588e6": {
          "model_module": "@jupyter-widgets/controls",
          "model_name": "HTMLModel",
          "model_module_version": "1.5.0",
          "state": {
            "_dom_classes": [],
            "_model_module": "@jupyter-widgets/controls",
            "_model_module_version": "1.5.0",
            "_model_name": "HTMLModel",
            "_view_count": null,
            "_view_module": "@jupyter-widgets/controls",
            "_view_module_version": "1.5.0",
            "_view_name": "HTMLView",
            "description": "",
            "description_tooltip": null,
            "layout": "IPY_MODEL_e6e4e4e754614b7682bd7b61dc49b88b",
            "placeholder": "​",
            "style": "IPY_MODEL_cfdbe3f8889c493aa72eb68c16dd1126",
            "value": " 313/313 [00:04&lt;00:00, 56.96it/s]"
          }
        },
        "f6fdcbdcf4b440a983821d66c1f83c70": {
          "model_module": "@jupyter-widgets/base",
          "model_name": "LayoutModel",
          "model_module_version": "1.2.0",
          "state": {
            "_model_module": "@jupyter-widgets/base",
            "_model_module_version": "1.2.0",
            "_model_name": "LayoutModel",
            "_view_count": null,
            "_view_module": "@jupyter-widgets/base",
            "_view_module_version": "1.2.0",
            "_view_name": "LayoutView",
            "align_content": null,
            "align_items": null,
            "align_self": null,
            "border": null,
            "bottom": null,
            "display": null,
            "flex": null,
            "flex_flow": null,
            "grid_area": null,
            "grid_auto_columns": null,
            "grid_auto_flow": null,
            "grid_auto_rows": null,
            "grid_column": null,
            "grid_gap": null,
            "grid_row": null,
            "grid_template_areas": null,
            "grid_template_columns": null,
            "grid_template_rows": null,
            "height": null,
            "justify_content": null,
            "justify_items": null,
            "left": null,
            "margin": null,
            "max_height": null,
            "max_width": null,
            "min_height": null,
            "min_width": null,
            "object_fit": null,
            "object_position": null,
            "order": null,
            "overflow": null,
            "overflow_x": null,
            "overflow_y": null,
            "padding": null,
            "right": null,
            "top": null,
            "visibility": null,
            "width": null
          }
        },
        "0b0bad67e0e445f6870d229a26ce6046": {
          "model_module": "@jupyter-widgets/base",
          "model_name": "LayoutModel",
          "model_module_version": "1.2.0",
          "state": {
            "_model_module": "@jupyter-widgets/base",
            "_model_module_version": "1.2.0",
            "_model_name": "LayoutModel",
            "_view_count": null,
            "_view_module": "@jupyter-widgets/base",
            "_view_module_version": "1.2.0",
            "_view_name": "LayoutView",
            "align_content": null,
            "align_items": null,
            "align_self": null,
            "border": null,
            "bottom": null,
            "display": null,
            "flex": null,
            "flex_flow": null,
            "grid_area": null,
            "grid_auto_columns": null,
            "grid_auto_flow": null,
            "grid_auto_rows": null,
            "grid_column": null,
            "grid_gap": null,
            "grid_row": null,
            "grid_template_areas": null,
            "grid_template_columns": null,
            "grid_template_rows": null,
            "height": null,
            "justify_content": null,
            "justify_items": null,
            "left": null,
            "margin": null,
            "max_height": null,
            "max_width": null,
            "min_height": null,
            "min_width": null,
            "object_fit": null,
            "object_position": null,
            "order": null,
            "overflow": null,
            "overflow_x": null,
            "overflow_y": null,
            "padding": null,
            "right": null,
            "top": null,
            "visibility": null,
            "width": null
          }
        },
        "778c61f18d1948b28acd18f348ec3ce2": {
          "model_module": "@jupyter-widgets/controls",
          "model_name": "DescriptionStyleModel",
          "model_module_version": "1.5.0",
          "state": {
            "_model_module": "@jupyter-widgets/controls",
            "_model_module_version": "1.5.0",
            "_model_name": "DescriptionStyleModel",
            "_view_count": null,
            "_view_module": "@jupyter-widgets/base",
            "_view_module_version": "1.2.0",
            "_view_name": "StyleView",
            "description_width": ""
          }
        },
        "e7493a5fe6fd4219afc206585d9bbaed": {
          "model_module": "@jupyter-widgets/base",
          "model_name": "LayoutModel",
          "model_module_version": "1.2.0",
          "state": {
            "_model_module": "@jupyter-widgets/base",
            "_model_module_version": "1.2.0",
            "_model_name": "LayoutModel",
            "_view_count": null,
            "_view_module": "@jupyter-widgets/base",
            "_view_module_version": "1.2.0",
            "_view_name": "LayoutView",
            "align_content": null,
            "align_items": null,
            "align_self": null,
            "border": null,
            "bottom": null,
            "display": null,
            "flex": null,
            "flex_flow": null,
            "grid_area": null,
            "grid_auto_columns": null,
            "grid_auto_flow": null,
            "grid_auto_rows": null,
            "grid_column": null,
            "grid_gap": null,
            "grid_row": null,
            "grid_template_areas": null,
            "grid_template_columns": null,
            "grid_template_rows": null,
            "height": null,
            "justify_content": null,
            "justify_items": null,
            "left": null,
            "margin": null,
            "max_height": null,
            "max_width": null,
            "min_height": null,
            "min_width": null,
            "object_fit": null,
            "object_position": null,
            "order": null,
            "overflow": null,
            "overflow_x": null,
            "overflow_y": null,
            "padding": null,
            "right": null,
            "top": null,
            "visibility": null,
            "width": null
          }
        },
        "911ef58e8f4f41aaaa9899256b935e07": {
          "model_module": "@jupyter-widgets/controls",
          "model_name": "ProgressStyleModel",
          "model_module_version": "1.5.0",
          "state": {
            "_model_module": "@jupyter-widgets/controls",
            "_model_module_version": "1.5.0",
            "_model_name": "ProgressStyleModel",
            "_view_count": null,
            "_view_module": "@jupyter-widgets/base",
            "_view_module_version": "1.2.0",
            "_view_name": "StyleView",
            "bar_color": null,
            "description_width": ""
          }
        },
        "e6e4e4e754614b7682bd7b61dc49b88b": {
          "model_module": "@jupyter-widgets/base",
          "model_name": "LayoutModel",
          "model_module_version": "1.2.0",
          "state": {
            "_model_module": "@jupyter-widgets/base",
            "_model_module_version": "1.2.0",
            "_model_name": "LayoutModel",
            "_view_count": null,
            "_view_module": "@jupyter-widgets/base",
            "_view_module_version": "1.2.0",
            "_view_name": "LayoutView",
            "align_content": null,
            "align_items": null,
            "align_self": null,
            "border": null,
            "bottom": null,
            "display": null,
            "flex": null,
            "flex_flow": null,
            "grid_area": null,
            "grid_auto_columns": null,
            "grid_auto_flow": null,
            "grid_auto_rows": null,
            "grid_column": null,
            "grid_gap": null,
            "grid_row": null,
            "grid_template_areas": null,
            "grid_template_columns": null,
            "grid_template_rows": null,
            "height": null,
            "justify_content": null,
            "justify_items": null,
            "left": null,
            "margin": null,
            "max_height": null,
            "max_width": null,
            "min_height": null,
            "min_width": null,
            "object_fit": null,
            "object_position": null,
            "order": null,
            "overflow": null,
            "overflow_x": null,
            "overflow_y": null,
            "padding": null,
            "right": null,
            "top": null,
            "visibility": null,
            "width": null
          }
        },
        "cfdbe3f8889c493aa72eb68c16dd1126": {
          "model_module": "@jupyter-widgets/controls",
          "model_name": "DescriptionStyleModel",
          "model_module_version": "1.5.0",
          "state": {
            "_model_module": "@jupyter-widgets/controls",
            "_model_module_version": "1.5.0",
            "_model_name": "DescriptionStyleModel",
            "_view_count": null,
            "_view_module": "@jupyter-widgets/base",
            "_view_module_version": "1.2.0",
            "_view_name": "StyleView",
            "description_width": ""
          }
        },
        "37798f566ae94b0ba541e185ef8532e5": {
          "model_module": "@jupyter-widgets/controls",
          "model_name": "HBoxModel",
          "model_module_version": "1.5.0",
          "state": {
            "_dom_classes": [],
            "_model_module": "@jupyter-widgets/controls",
            "_model_module_version": "1.5.0",
            "_model_name": "HBoxModel",
            "_view_count": null,
            "_view_module": "@jupyter-widgets/controls",
            "_view_module_version": "1.5.0",
            "_view_name": "HBoxView",
            "box_style": "",
            "children": [
              "IPY_MODEL_9b1bd52e28ca452eac404aa7c485064f",
              "IPY_MODEL_294402cb78614b99a8847d9822ddff80",
              "IPY_MODEL_ed80915c01594bdb961dbbfe535a280a"
            ],
            "layout": "IPY_MODEL_2e6d793550984307ab1a14f72b15b343"
          }
        },
        "9b1bd52e28ca452eac404aa7c485064f": {
          "model_module": "@jupyter-widgets/controls",
          "model_name": "HTMLModel",
          "model_module_version": "1.5.0",
          "state": {
            "_dom_classes": [],
            "_model_module": "@jupyter-widgets/controls",
            "_model_module_version": "1.5.0",
            "_model_name": "HTMLModel",
            "_view_count": null,
            "_view_module": "@jupyter-widgets/controls",
            "_view_module_version": "1.5.0",
            "_view_name": "HTMLView",
            "description": "",
            "description_tooltip": null,
            "layout": "IPY_MODEL_d0c943403b954dc3835d76a9a1e3f403",
            "placeholder": "​",
            "style": "IPY_MODEL_8e631086267548a08e1e481e7ac7f8de",
            "value": "100%"
          }
        },
        "294402cb78614b99a8847d9822ddff80": {
          "model_module": "@jupyter-widgets/controls",
          "model_name": "FloatProgressModel",
          "model_module_version": "1.5.0",
          "state": {
            "_dom_classes": [],
            "_model_module": "@jupyter-widgets/controls",
            "_model_module_version": "1.5.0",
            "_model_name": "FloatProgressModel",
            "_view_count": null,
            "_view_module": "@jupyter-widgets/controls",
            "_view_module_version": "1.5.0",
            "_view_name": "ProgressView",
            "bar_style": "success",
            "description": "",
            "description_tooltip": null,
            "layout": "IPY_MODEL_3a032caf7b26448ba5ca9ae046f8d308",
            "max": 313,
            "min": 0,
            "orientation": "horizontal",
            "style": "IPY_MODEL_50141f1bdc9e444db72a6963c1487520",
            "value": 313
          }
        },
        "ed80915c01594bdb961dbbfe535a280a": {
          "model_module": "@jupyter-widgets/controls",
          "model_name": "HTMLModel",
          "model_module_version": "1.5.0",
          "state": {
            "_dom_classes": [],
            "_model_module": "@jupyter-widgets/controls",
            "_model_module_version": "1.5.0",
            "_model_name": "HTMLModel",
            "_view_count": null,
            "_view_module": "@jupyter-widgets/controls",
            "_view_module_version": "1.5.0",
            "_view_name": "HTMLView",
            "description": "",
            "description_tooltip": null,
            "layout": "IPY_MODEL_e506a893e63a4d7fab999776b412365a",
            "placeholder": "​",
            "style": "IPY_MODEL_e0ad4e2c9b60497eae993ccedd4e623e",
            "value": " 313/313 [00:08&lt;00:00, 36.72it/s]"
          }
        },
        "2e6d793550984307ab1a14f72b15b343": {
          "model_module": "@jupyter-widgets/base",
          "model_name": "LayoutModel",
          "model_module_version": "1.2.0",
          "state": {
            "_model_module": "@jupyter-widgets/base",
            "_model_module_version": "1.2.0",
            "_model_name": "LayoutModel",
            "_view_count": null,
            "_view_module": "@jupyter-widgets/base",
            "_view_module_version": "1.2.0",
            "_view_name": "LayoutView",
            "align_content": null,
            "align_items": null,
            "align_self": null,
            "border": null,
            "bottom": null,
            "display": null,
            "flex": null,
            "flex_flow": null,
            "grid_area": null,
            "grid_auto_columns": null,
            "grid_auto_flow": null,
            "grid_auto_rows": null,
            "grid_column": null,
            "grid_gap": null,
            "grid_row": null,
            "grid_template_areas": null,
            "grid_template_columns": null,
            "grid_template_rows": null,
            "height": null,
            "justify_content": null,
            "justify_items": null,
            "left": null,
            "margin": null,
            "max_height": null,
            "max_width": null,
            "min_height": null,
            "min_width": null,
            "object_fit": null,
            "object_position": null,
            "order": null,
            "overflow": null,
            "overflow_x": null,
            "overflow_y": null,
            "padding": null,
            "right": null,
            "top": null,
            "visibility": null,
            "width": null
          }
        },
        "d0c943403b954dc3835d76a9a1e3f403": {
          "model_module": "@jupyter-widgets/base",
          "model_name": "LayoutModel",
          "model_module_version": "1.2.0",
          "state": {
            "_model_module": "@jupyter-widgets/base",
            "_model_module_version": "1.2.0",
            "_model_name": "LayoutModel",
            "_view_count": null,
            "_view_module": "@jupyter-widgets/base",
            "_view_module_version": "1.2.0",
            "_view_name": "LayoutView",
            "align_content": null,
            "align_items": null,
            "align_self": null,
            "border": null,
            "bottom": null,
            "display": null,
            "flex": null,
            "flex_flow": null,
            "grid_area": null,
            "grid_auto_columns": null,
            "grid_auto_flow": null,
            "grid_auto_rows": null,
            "grid_column": null,
            "grid_gap": null,
            "grid_row": null,
            "grid_template_areas": null,
            "grid_template_columns": null,
            "grid_template_rows": null,
            "height": null,
            "justify_content": null,
            "justify_items": null,
            "left": null,
            "margin": null,
            "max_height": null,
            "max_width": null,
            "min_height": null,
            "min_width": null,
            "object_fit": null,
            "object_position": null,
            "order": null,
            "overflow": null,
            "overflow_x": null,
            "overflow_y": null,
            "padding": null,
            "right": null,
            "top": null,
            "visibility": null,
            "width": null
          }
        },
        "8e631086267548a08e1e481e7ac7f8de": {
          "model_module": "@jupyter-widgets/controls",
          "model_name": "DescriptionStyleModel",
          "model_module_version": "1.5.0",
          "state": {
            "_model_module": "@jupyter-widgets/controls",
            "_model_module_version": "1.5.0",
            "_model_name": "DescriptionStyleModel",
            "_view_count": null,
            "_view_module": "@jupyter-widgets/base",
            "_view_module_version": "1.2.0",
            "_view_name": "StyleView",
            "description_width": ""
          }
        },
        "3a032caf7b26448ba5ca9ae046f8d308": {
          "model_module": "@jupyter-widgets/base",
          "model_name": "LayoutModel",
          "model_module_version": "1.2.0",
          "state": {
            "_model_module": "@jupyter-widgets/base",
            "_model_module_version": "1.2.0",
            "_model_name": "LayoutModel",
            "_view_count": null,
            "_view_module": "@jupyter-widgets/base",
            "_view_module_version": "1.2.0",
            "_view_name": "LayoutView",
            "align_content": null,
            "align_items": null,
            "align_self": null,
            "border": null,
            "bottom": null,
            "display": null,
            "flex": null,
            "flex_flow": null,
            "grid_area": null,
            "grid_auto_columns": null,
            "grid_auto_flow": null,
            "grid_auto_rows": null,
            "grid_column": null,
            "grid_gap": null,
            "grid_row": null,
            "grid_template_areas": null,
            "grid_template_columns": null,
            "grid_template_rows": null,
            "height": null,
            "justify_content": null,
            "justify_items": null,
            "left": null,
            "margin": null,
            "max_height": null,
            "max_width": null,
            "min_height": null,
            "min_width": null,
            "object_fit": null,
            "object_position": null,
            "order": null,
            "overflow": null,
            "overflow_x": null,
            "overflow_y": null,
            "padding": null,
            "right": null,
            "top": null,
            "visibility": null,
            "width": null
          }
        },
        "50141f1bdc9e444db72a6963c1487520": {
          "model_module": "@jupyter-widgets/controls",
          "model_name": "ProgressStyleModel",
          "model_module_version": "1.5.0",
          "state": {
            "_model_module": "@jupyter-widgets/controls",
            "_model_module_version": "1.5.0",
            "_model_name": "ProgressStyleModel",
            "_view_count": null,
            "_view_module": "@jupyter-widgets/base",
            "_view_module_version": "1.2.0",
            "_view_name": "StyleView",
            "bar_color": null,
            "description_width": ""
          }
        },
        "e506a893e63a4d7fab999776b412365a": {
          "model_module": "@jupyter-widgets/base",
          "model_name": "LayoutModel",
          "model_module_version": "1.2.0",
          "state": {
            "_model_module": "@jupyter-widgets/base",
            "_model_module_version": "1.2.0",
            "_model_name": "LayoutModel",
            "_view_count": null,
            "_view_module": "@jupyter-widgets/base",
            "_view_module_version": "1.2.0",
            "_view_name": "LayoutView",
            "align_content": null,
            "align_items": null,
            "align_self": null,
            "border": null,
            "bottom": null,
            "display": null,
            "flex": null,
            "flex_flow": null,
            "grid_area": null,
            "grid_auto_columns": null,
            "grid_auto_flow": null,
            "grid_auto_rows": null,
            "grid_column": null,
            "grid_gap": null,
            "grid_row": null,
            "grid_template_areas": null,
            "grid_template_columns": null,
            "grid_template_rows": null,
            "height": null,
            "justify_content": null,
            "justify_items": null,
            "left": null,
            "margin": null,
            "max_height": null,
            "max_width": null,
            "min_height": null,
            "min_width": null,
            "object_fit": null,
            "object_position": null,
            "order": null,
            "overflow": null,
            "overflow_x": null,
            "overflow_y": null,
            "padding": null,
            "right": null,
            "top": null,
            "visibility": null,
            "width": null
          }
        },
        "e0ad4e2c9b60497eae993ccedd4e623e": {
          "model_module": "@jupyter-widgets/controls",
          "model_name": "DescriptionStyleModel",
          "model_module_version": "1.5.0",
          "state": {
            "_model_module": "@jupyter-widgets/controls",
            "_model_module_version": "1.5.0",
            "_model_name": "DescriptionStyleModel",
            "_view_count": null,
            "_view_module": "@jupyter-widgets/base",
            "_view_module_version": "1.2.0",
            "_view_name": "StyleView",
            "description_width": ""
          }
        }
      }
    }
  },
  "cells": [
    {
      "cell_type": "code",
      "execution_count": null,
      "metadata": {
        "colab": {
          "base_uri": "https://localhost:8080/"
        },
        "id": "5x1TU9RvRkeT",
        "outputId": "b80c6d4a-39c6-4592-dd4f-b52df87847e0"
      },
      "outputs": [
        {
          "output_type": "stream",
          "name": "stdout",
          "text": [
            "2.5.1+cu124\n",
            "0.20.1+cu124\n"
          ]
        }
      ],
      "source": [
        "import torch\n",
        "from torch import nn\n",
        "import torchvision\n",
        "from torchvision import datasets\n",
        "from torchvision import transforms\n",
        "from torchvision.transforms import ToTensor\n",
        "import matplotlib.pyplot as plt\n",
        "print(torch.__version__)\n",
        "print(torchvision.__version__)"
      ]
    },
    {
      "cell_type": "code",
      "source": [
        "train_data=datasets.FashionMNIST(\n",
        "    root=\"data\",\n",
        "    train=True,\n",
        "    download=True,\n",
        "    transform=torchvision.transforms.ToTensor(),\n",
        "    target_transform=None\n",
        ")\n",
        "test_data=datasets.FashionMNIST(\n",
        "    root=\"data\",\n",
        "    train=False,\n",
        "    download=True,\n",
        "    transform=ToTensor(),\n",
        "    target_transform=None\n",
        ")"
      ],
      "metadata": {
        "id": "6gTjndj8rirJ",
        "colab": {
          "base_uri": "https://localhost:8080/"
        },
        "outputId": "83f6a4f8-ad21-4d8e-b10a-8582a701d7ea"
      },
      "execution_count": null,
      "outputs": [
        {
          "output_type": "stream",
          "name": "stdout",
          "text": [
            "Downloading http://fashion-mnist.s3-website.eu-central-1.amazonaws.com/train-images-idx3-ubyte.gz\n",
            "Downloading http://fashion-mnist.s3-website.eu-central-1.amazonaws.com/train-images-idx3-ubyte.gz to data/FashionMNIST/raw/train-images-idx3-ubyte.gz\n"
          ]
        },
        {
          "output_type": "stream",
          "name": "stderr",
          "text": [
            "100%|██████████| 26.4M/26.4M [00:01<00:00, 15.3MB/s]\n"
          ]
        },
        {
          "output_type": "stream",
          "name": "stdout",
          "text": [
            "Extracting data/FashionMNIST/raw/train-images-idx3-ubyte.gz to data/FashionMNIST/raw\n",
            "\n",
            "Downloading http://fashion-mnist.s3-website.eu-central-1.amazonaws.com/train-labels-idx1-ubyte.gz\n",
            "Downloading http://fashion-mnist.s3-website.eu-central-1.amazonaws.com/train-labels-idx1-ubyte.gz to data/FashionMNIST/raw/train-labels-idx1-ubyte.gz\n"
          ]
        },
        {
          "output_type": "stream",
          "name": "stderr",
          "text": [
            "100%|██████████| 29.5k/29.5k [00:00<00:00, 328kB/s]\n"
          ]
        },
        {
          "output_type": "stream",
          "name": "stdout",
          "text": [
            "Extracting data/FashionMNIST/raw/train-labels-idx1-ubyte.gz to data/FashionMNIST/raw\n",
            "\n",
            "Downloading http://fashion-mnist.s3-website.eu-central-1.amazonaws.com/t10k-images-idx3-ubyte.gz\n",
            "Downloading http://fashion-mnist.s3-website.eu-central-1.amazonaws.com/t10k-images-idx3-ubyte.gz to data/FashionMNIST/raw/t10k-images-idx3-ubyte.gz\n"
          ]
        },
        {
          "output_type": "stream",
          "name": "stderr",
          "text": [
            "100%|██████████| 4.42M/4.42M [00:00<00:00, 6.21MB/s]\n"
          ]
        },
        {
          "output_type": "stream",
          "name": "stdout",
          "text": [
            "Extracting data/FashionMNIST/raw/t10k-images-idx3-ubyte.gz to data/FashionMNIST/raw\n",
            "\n",
            "Downloading http://fashion-mnist.s3-website.eu-central-1.amazonaws.com/t10k-labels-idx1-ubyte.gz\n",
            "Downloading http://fashion-mnist.s3-website.eu-central-1.amazonaws.com/t10k-labels-idx1-ubyte.gz to data/FashionMNIST/raw/t10k-labels-idx1-ubyte.gz\n"
          ]
        },
        {
          "output_type": "stream",
          "name": "stderr",
          "text": [
            "100%|██████████| 5.15k/5.15k [00:00<00:00, 17.7MB/s]"
          ]
        },
        {
          "output_type": "stream",
          "name": "stdout",
          "text": [
            "Extracting data/FashionMNIST/raw/t10k-labels-idx1-ubyte.gz to data/FashionMNIST/raw\n",
            "\n"
          ]
        },
        {
          "output_type": "stream",
          "name": "stderr",
          "text": [
            "\n"
          ]
        }
      ]
    },
    {
      "cell_type": "code",
      "source": [
        "len(train_data),len(test_data)"
      ],
      "metadata": {
        "colab": {
          "base_uri": "https://localhost:8080/"
        },
        "id": "LEOgWk-VBYgI",
        "outputId": "201c5a6b-f813-4bd1-dc06-213df2cc7643"
      },
      "execution_count": null,
      "outputs": [
        {
          "output_type": "execute_result",
          "data": {
            "text/plain": [
              "(60000, 10000)"
            ]
          },
          "metadata": {},
          "execution_count": 3
        }
      ]
    },
    {
      "cell_type": "code",
      "source": [
        "image,label=train_data[0]\n",
        "image,label"
      ],
      "metadata": {
        "colab": {
          "base_uri": "https://localhost:8080/"
        },
        "id": "uJP65hftCKxC",
        "outputId": "82e7fb97-20ef-4788-d599-2752d4c8c811"
      },
      "execution_count": null,
      "outputs": [
        {
          "output_type": "execute_result",
          "data": {
            "text/plain": [
              "(tensor([[[0.0000, 0.0000, 0.0000, 0.0000, 0.0000, 0.0000, 0.0000, 0.0000,\n",
              "           0.0000, 0.0000, 0.0000, 0.0000, 0.0000, 0.0000, 0.0000, 0.0000,\n",
              "           0.0000, 0.0000, 0.0000, 0.0000, 0.0000, 0.0000, 0.0000, 0.0000,\n",
              "           0.0000, 0.0000, 0.0000, 0.0000],\n",
              "          [0.0000, 0.0000, 0.0000, 0.0000, 0.0000, 0.0000, 0.0000, 0.0000,\n",
              "           0.0000, 0.0000, 0.0000, 0.0000, 0.0000, 0.0000, 0.0000, 0.0000,\n",
              "           0.0000, 0.0000, 0.0000, 0.0000, 0.0000, 0.0000, 0.0000, 0.0000,\n",
              "           0.0000, 0.0000, 0.0000, 0.0000],\n",
              "          [0.0000, 0.0000, 0.0000, 0.0000, 0.0000, 0.0000, 0.0000, 0.0000,\n",
              "           0.0000, 0.0000, 0.0000, 0.0000, 0.0000, 0.0000, 0.0000, 0.0000,\n",
              "           0.0000, 0.0000, 0.0000, 0.0000, 0.0000, 0.0000, 0.0000, 0.0000,\n",
              "           0.0000, 0.0000, 0.0000, 0.0000],\n",
              "          [0.0000, 0.0000, 0.0000, 0.0000, 0.0000, 0.0000, 0.0000, 0.0000,\n",
              "           0.0000, 0.0000, 0.0000, 0.0000, 0.0039, 0.0000, 0.0000, 0.0510,\n",
              "           0.2863, 0.0000, 0.0000, 0.0039, 0.0157, 0.0000, 0.0000, 0.0000,\n",
              "           0.0000, 0.0039, 0.0039, 0.0000],\n",
              "          [0.0000, 0.0000, 0.0000, 0.0000, 0.0000, 0.0000, 0.0000, 0.0000,\n",
              "           0.0000, 0.0000, 0.0000, 0.0000, 0.0118, 0.0000, 0.1412, 0.5333,\n",
              "           0.4980, 0.2431, 0.2118, 0.0000, 0.0000, 0.0000, 0.0039, 0.0118,\n",
              "           0.0157, 0.0000, 0.0000, 0.0118],\n",
              "          [0.0000, 0.0000, 0.0000, 0.0000, 0.0000, 0.0000, 0.0000, 0.0000,\n",
              "           0.0000, 0.0000, 0.0000, 0.0000, 0.0235, 0.0000, 0.4000, 0.8000,\n",
              "           0.6902, 0.5255, 0.5647, 0.4824, 0.0902, 0.0000, 0.0000, 0.0000,\n",
              "           0.0000, 0.0471, 0.0392, 0.0000],\n",
              "          [0.0000, 0.0000, 0.0000, 0.0000, 0.0000, 0.0000, 0.0000, 0.0000,\n",
              "           0.0000, 0.0000, 0.0000, 0.0000, 0.0000, 0.0000, 0.6078, 0.9255,\n",
              "           0.8118, 0.6980, 0.4196, 0.6118, 0.6314, 0.4275, 0.2510, 0.0902,\n",
              "           0.3020, 0.5098, 0.2824, 0.0588],\n",
              "          [0.0000, 0.0000, 0.0000, 0.0000, 0.0000, 0.0000, 0.0000, 0.0000,\n",
              "           0.0000, 0.0000, 0.0000, 0.0039, 0.0000, 0.2706, 0.8118, 0.8745,\n",
              "           0.8549, 0.8471, 0.8471, 0.6392, 0.4980, 0.4745, 0.4784, 0.5725,\n",
              "           0.5529, 0.3451, 0.6745, 0.2588],\n",
              "          [0.0000, 0.0000, 0.0000, 0.0000, 0.0000, 0.0000, 0.0000, 0.0000,\n",
              "           0.0000, 0.0039, 0.0039, 0.0039, 0.0000, 0.7843, 0.9098, 0.9098,\n",
              "           0.9137, 0.8980, 0.8745, 0.8745, 0.8431, 0.8353, 0.6431, 0.4980,\n",
              "           0.4824, 0.7686, 0.8980, 0.0000],\n",
              "          [0.0000, 0.0000, 0.0000, 0.0000, 0.0000, 0.0000, 0.0000, 0.0000,\n",
              "           0.0000, 0.0000, 0.0000, 0.0000, 0.0000, 0.7176, 0.8824, 0.8471,\n",
              "           0.8745, 0.8941, 0.9216, 0.8902, 0.8784, 0.8706, 0.8784, 0.8667,\n",
              "           0.8745, 0.9608, 0.6784, 0.0000],\n",
              "          [0.0000, 0.0000, 0.0000, 0.0000, 0.0000, 0.0000, 0.0000, 0.0000,\n",
              "           0.0000, 0.0000, 0.0000, 0.0000, 0.0000, 0.7569, 0.8941, 0.8549,\n",
              "           0.8353, 0.7765, 0.7059, 0.8314, 0.8235, 0.8275, 0.8353, 0.8745,\n",
              "           0.8627, 0.9529, 0.7922, 0.0000],\n",
              "          [0.0000, 0.0000, 0.0000, 0.0000, 0.0000, 0.0000, 0.0000, 0.0000,\n",
              "           0.0000, 0.0039, 0.0118, 0.0000, 0.0471, 0.8588, 0.8627, 0.8314,\n",
              "           0.8549, 0.7529, 0.6627, 0.8902, 0.8157, 0.8549, 0.8784, 0.8314,\n",
              "           0.8863, 0.7725, 0.8196, 0.2039],\n",
              "          [0.0000, 0.0000, 0.0000, 0.0000, 0.0000, 0.0000, 0.0000, 0.0000,\n",
              "           0.0000, 0.0000, 0.0235, 0.0000, 0.3882, 0.9569, 0.8706, 0.8627,\n",
              "           0.8549, 0.7961, 0.7765, 0.8667, 0.8431, 0.8353, 0.8706, 0.8627,\n",
              "           0.9608, 0.4667, 0.6549, 0.2196],\n",
              "          [0.0000, 0.0000, 0.0000, 0.0000, 0.0000, 0.0000, 0.0000, 0.0000,\n",
              "           0.0000, 0.0157, 0.0000, 0.0000, 0.2157, 0.9255, 0.8941, 0.9020,\n",
              "           0.8941, 0.9412, 0.9098, 0.8353, 0.8549, 0.8745, 0.9176, 0.8510,\n",
              "           0.8510, 0.8196, 0.3608, 0.0000],\n",
              "          [0.0000, 0.0000, 0.0039, 0.0157, 0.0235, 0.0275, 0.0078, 0.0000,\n",
              "           0.0000, 0.0000, 0.0000, 0.0000, 0.9294, 0.8863, 0.8510, 0.8745,\n",
              "           0.8706, 0.8588, 0.8706, 0.8667, 0.8471, 0.8745, 0.8980, 0.8431,\n",
              "           0.8549, 1.0000, 0.3020, 0.0000],\n",
              "          [0.0000, 0.0118, 0.0000, 0.0000, 0.0000, 0.0000, 0.0000, 0.0000,\n",
              "           0.0000, 0.2431, 0.5686, 0.8000, 0.8941, 0.8118, 0.8353, 0.8667,\n",
              "           0.8549, 0.8157, 0.8275, 0.8549, 0.8784, 0.8745, 0.8588, 0.8431,\n",
              "           0.8784, 0.9569, 0.6235, 0.0000],\n",
              "          [0.0000, 0.0000, 0.0000, 0.0000, 0.0706, 0.1725, 0.3216, 0.4196,\n",
              "           0.7412, 0.8941, 0.8627, 0.8706, 0.8510, 0.8863, 0.7843, 0.8039,\n",
              "           0.8275, 0.9020, 0.8784, 0.9176, 0.6902, 0.7373, 0.9804, 0.9725,\n",
              "           0.9137, 0.9333, 0.8431, 0.0000],\n",
              "          [0.0000, 0.2235, 0.7333, 0.8157, 0.8784, 0.8667, 0.8784, 0.8157,\n",
              "           0.8000, 0.8392, 0.8157, 0.8196, 0.7843, 0.6235, 0.9608, 0.7569,\n",
              "           0.8078, 0.8745, 1.0000, 1.0000, 0.8667, 0.9176, 0.8667, 0.8275,\n",
              "           0.8627, 0.9098, 0.9647, 0.0000],\n",
              "          [0.0118, 0.7922, 0.8941, 0.8784, 0.8667, 0.8275, 0.8275, 0.8392,\n",
              "           0.8039, 0.8039, 0.8039, 0.8627, 0.9412, 0.3137, 0.5882, 1.0000,\n",
              "           0.8980, 0.8667, 0.7373, 0.6039, 0.7490, 0.8235, 0.8000, 0.8196,\n",
              "           0.8706, 0.8941, 0.8824, 0.0000],\n",
              "          [0.3843, 0.9137, 0.7765, 0.8235, 0.8706, 0.8980, 0.8980, 0.9176,\n",
              "           0.9765, 0.8627, 0.7608, 0.8431, 0.8510, 0.9451, 0.2549, 0.2863,\n",
              "           0.4157, 0.4588, 0.6588, 0.8588, 0.8667, 0.8431, 0.8510, 0.8745,\n",
              "           0.8745, 0.8784, 0.8980, 0.1137],\n",
              "          [0.2941, 0.8000, 0.8314, 0.8000, 0.7569, 0.8039, 0.8275, 0.8824,\n",
              "           0.8471, 0.7255, 0.7725, 0.8078, 0.7765, 0.8353, 0.9412, 0.7647,\n",
              "           0.8902, 0.9608, 0.9373, 0.8745, 0.8549, 0.8314, 0.8196, 0.8706,\n",
              "           0.8627, 0.8667, 0.9020, 0.2627],\n",
              "          [0.1882, 0.7961, 0.7176, 0.7608, 0.8353, 0.7725, 0.7255, 0.7451,\n",
              "           0.7608, 0.7529, 0.7922, 0.8392, 0.8588, 0.8667, 0.8627, 0.9255,\n",
              "           0.8824, 0.8471, 0.7804, 0.8078, 0.7294, 0.7098, 0.6941, 0.6745,\n",
              "           0.7098, 0.8039, 0.8078, 0.4510],\n",
              "          [0.0000, 0.4784, 0.8588, 0.7569, 0.7020, 0.6706, 0.7176, 0.7686,\n",
              "           0.8000, 0.8235, 0.8353, 0.8118, 0.8275, 0.8235, 0.7843, 0.7686,\n",
              "           0.7608, 0.7490, 0.7647, 0.7490, 0.7765, 0.7529, 0.6902, 0.6118,\n",
              "           0.6549, 0.6941, 0.8235, 0.3608],\n",
              "          [0.0000, 0.0000, 0.2902, 0.7412, 0.8314, 0.7490, 0.6863, 0.6745,\n",
              "           0.6863, 0.7098, 0.7255, 0.7373, 0.7412, 0.7373, 0.7569, 0.7765,\n",
              "           0.8000, 0.8196, 0.8235, 0.8235, 0.8275, 0.7373, 0.7373, 0.7608,\n",
              "           0.7529, 0.8471, 0.6667, 0.0000],\n",
              "          [0.0078, 0.0000, 0.0000, 0.0000, 0.2588, 0.7843, 0.8706, 0.9294,\n",
              "           0.9373, 0.9490, 0.9647, 0.9529, 0.9569, 0.8667, 0.8627, 0.7569,\n",
              "           0.7490, 0.7020, 0.7137, 0.7137, 0.7098, 0.6902, 0.6510, 0.6588,\n",
              "           0.3882, 0.2275, 0.0000, 0.0000],\n",
              "          [0.0000, 0.0000, 0.0000, 0.0000, 0.0000, 0.0000, 0.0000, 0.1569,\n",
              "           0.2392, 0.1725, 0.2824, 0.1608, 0.1373, 0.0000, 0.0000, 0.0000,\n",
              "           0.0000, 0.0000, 0.0000, 0.0000, 0.0000, 0.0000, 0.0000, 0.0000,\n",
              "           0.0000, 0.0000, 0.0000, 0.0000],\n",
              "          [0.0000, 0.0000, 0.0000, 0.0000, 0.0000, 0.0000, 0.0000, 0.0000,\n",
              "           0.0000, 0.0000, 0.0000, 0.0000, 0.0000, 0.0000, 0.0000, 0.0000,\n",
              "           0.0000, 0.0000, 0.0000, 0.0000, 0.0000, 0.0000, 0.0000, 0.0000,\n",
              "           0.0000, 0.0000, 0.0000, 0.0000],\n",
              "          [0.0000, 0.0000, 0.0000, 0.0000, 0.0000, 0.0000, 0.0000, 0.0000,\n",
              "           0.0000, 0.0000, 0.0000, 0.0000, 0.0000, 0.0000, 0.0000, 0.0000,\n",
              "           0.0000, 0.0000, 0.0000, 0.0000, 0.0000, 0.0000, 0.0000, 0.0000,\n",
              "           0.0000, 0.0000, 0.0000, 0.0000]]]),\n",
              " 9)"
            ]
          },
          "metadata": {},
          "execution_count": 4
        }
      ]
    },
    {
      "cell_type": "code",
      "source": [
        "class_names=train_data.classes\n",
        "class_names"
      ],
      "metadata": {
        "colab": {
          "base_uri": "https://localhost:8080/"
        },
        "id": "fm4SdPDVCjcX",
        "outputId": "8fc8a734-c33c-4b25-8f23-793c42d3e481"
      },
      "execution_count": null,
      "outputs": [
        {
          "output_type": "execute_result",
          "data": {
            "text/plain": [
              "['T-shirt/top',\n",
              " 'Trouser',\n",
              " 'Pullover',\n",
              " 'Dress',\n",
              " 'Coat',\n",
              " 'Sandal',\n",
              " 'Shirt',\n",
              " 'Sneaker',\n",
              " 'Bag',\n",
              " 'Ankle boot']"
            ]
          },
          "metadata": {},
          "execution_count": 5
        }
      ]
    },
    {
      "cell_type": "code",
      "source": [
        "class_to_idx=train_data.class_to_idx\n",
        "class_to_idx"
      ],
      "metadata": {
        "colab": {
          "base_uri": "https://localhost:8080/"
        },
        "id": "JWLC0RXKC-SU",
        "outputId": "65a5bfd1-2035-404a-9a3e-0981fbbb079b"
      },
      "execution_count": null,
      "outputs": [
        {
          "output_type": "execute_result",
          "data": {
            "text/plain": [
              "{'T-shirt/top': 0,\n",
              " 'Trouser': 1,\n",
              " 'Pullover': 2,\n",
              " 'Dress': 3,\n",
              " 'Coat': 4,\n",
              " 'Sandal': 5,\n",
              " 'Shirt': 6,\n",
              " 'Sneaker': 7,\n",
              " 'Bag': 8,\n",
              " 'Ankle boot': 9}"
            ]
          },
          "metadata": {},
          "execution_count": 6
        }
      ]
    },
    {
      "cell_type": "code",
      "source": [
        "train_data.targets"
      ],
      "metadata": {
        "colab": {
          "base_uri": "https://localhost:8080/"
        },
        "id": "bus8VAIgDLYr",
        "outputId": "65ae655b-624b-4133-9b4b-d47a7e76f999"
      },
      "execution_count": null,
      "outputs": [
        {
          "output_type": "execute_result",
          "data": {
            "text/plain": [
              "tensor([9, 0, 0,  ..., 3, 0, 5])"
            ]
          },
          "metadata": {},
          "execution_count": 7
        }
      ]
    },
    {
      "cell_type": "code",
      "source": [
        "image.shape,label"
      ],
      "metadata": {
        "colab": {
          "base_uri": "https://localhost:8080/"
        },
        "id": "JaqddhIBfNUd",
        "outputId": "d91d046d-e1bf-43f9-c44a-dcde72d232a0"
      },
      "execution_count": null,
      "outputs": [
        {
          "output_type": "execute_result",
          "data": {
            "text/plain": [
              "(torch.Size([1, 28, 28]), 9)"
            ]
          },
          "metadata": {},
          "execution_count": 8
        }
      ]
    },
    {
      "cell_type": "code",
      "source": [
        "import matplotlib.pyplot as plt\n",
        "image,label=train_data[0]\n",
        "print(f\"Image shape:{image.shape}\")\n",
        "image\n",
        "plt.imshow(image.squeeze())"
      ],
      "metadata": {
        "colab": {
          "base_uri": "https://localhost:8080/",
          "height": 465
        },
        "id": "9g8VVGjhftlX",
        "outputId": "6ed55012-e55c-4cbc-b0c3-594864c0f04a"
      },
      "execution_count": null,
      "outputs": [
        {
          "output_type": "stream",
          "name": "stdout",
          "text": [
            "Image shape:torch.Size([1, 28, 28])\n"
          ]
        },
        {
          "output_type": "execute_result",
          "data": {
            "text/plain": [
              "<matplotlib.image.AxesImage at 0x7e3436de73d0>"
            ]
          },
          "metadata": {},
          "execution_count": 9
        },
        {
          "output_type": "display_data",
          "data": {
            "text/plain": [
              "<Figure size 640x480 with 1 Axes>"
            ],
            "image/png": "[encoded data removed]"
          },
          "metadata": {}
        }
      ]
    },
    {
      "cell_type": "code",
      "source": [
        "plt.imshow(image.squeeze(),cmap=\"grey\")\n",
        "plt.title(class_names[label])\n",
        "plt.axis(False)"
      ],
      "metadata": {
        "colab": {
          "base_uri": "https://localhost:8080/",
          "height": 445
        },
        "id": "vECsqK3hqBCa",
        "outputId": "df5b81ab-e5e1-4b2d-b730-357ece214b98"
      },
      "execution_count": null,
      "outputs": [
        {
          "output_type": "execute_result",
          "data": {
            "text/plain": [
              "(-0.5, 27.5, 27.5, -0.5)"
            ]
          },
          "metadata": {},
          "execution_count": 10
        },
        {
          "output_type": "display_data",
          "data": {
            "text/plain": [
              "<Figure size 640x480 with 1 Axes>"
            ],
            "image/png": "[encoded data removed]"
          },
          "metadata": {}
        }
      ]
    },
    {
      "cell_type": "code",
      "source": [
        "torch.manual_seed(42)\n",
        "fig=plt.figure(figsize=(9,9))\n",
        "rows,cols=4,4\n",
        "for i in range(1,rows*cols+1):\n",
        "  random_idx=torch.randint(0,len(train_data),size=[1]).item()\n",
        "  img,label=train_data[random_idx]\n",
        "  fig.add_subplot(rows,cols,i)\n",
        "  plt.imshow(img.squeeze())\n",
        "  plt.title(class_names[label])\n",
        "  plt.axis(False)"
      ],
      "metadata": {
        "colab": {
          "base_uri": "https://localhost:8080/",
          "height": 679
        },
        "id": "AoNTZdi68K0Z",
        "outputId": "257ec639-c99c-4baf-996d-14087096550b"
      },
      "execution_count": null,
      "outputs": [
        {
          "output_type": "display_data",
          "data": {
            "text/plain": [
              "<Figure size 900x900 with 16 Axes>"
            ],
            "image/png": "[encoded data removed]"
          },
          "metadata": {}
        }
      ]
    },
    {
      "cell_type": "code",
      "source": [
        "from torch.utils.data import DataLoader\n",
        "BATCH_SIZE=32\n",
        "train_dataloader=DataLoader(dataset=train_data,batch_size=BATCH_SIZE,shuffle=True)\n",
        "test_dataloader=DataLoader(dataset=test_data,batch_size=BATCH_SIZE,shuffle=False)\n",
        "train_dataloader,test_dataloader"
      ],
      "metadata": {
        "colab": {
          "base_uri": "https://localhost:8080/"
        },
        "id": "Q1g1G1N7A4Rt",
        "outputId": "b6615d58-da4c-459c-8565-6e9c03a6c505"
      },
      "execution_count": null,
      "outputs": [
        {
          "output_type": "execute_result",
          "data": {
            "text/plain": [
              "(<torch.utils.data.dataloader.DataLoader at 0x7e3436e61850>,\n",
              " <torch.utils.data.dataloader.DataLoader at 0x7e34349adad0>)"
            ]
          },
          "metadata": {},
          "execution_count": 12
        }
      ]
    },
    {
      "cell_type": "code",
      "source": [
        "print(f\"DataLoaders:{train_dataloader,test_dataloader}\")\n",
        "print(f\"Length of train_dataloader:{len(train_dataloader)} batches of {BATCH_SIZE}...\")\n",
        "print(f\"Length of test_dataloader:{len(test_dataloader)} batches of {BATCH_SIZE}...\")"
      ],
      "metadata": {
        "id": "93IsSiY9U2gg",
        "colab": {
          "base_uri": "https://localhost:8080/"
        },
        "outputId": "7afaab80-561e-4fd0-cdb6-0a8113aef60d"
      },
      "execution_count": null,
      "outputs": [
        {
          "output_type": "stream",
          "name": "stdout",
          "text": [
            "DataLoaders:(<torch.utils.data.dataloader.DataLoader object at 0x7e3436e61850>, <torch.utils.data.dataloader.DataLoader object at 0x7e34349adad0>)\n",
            "Length of train_dataloader:1875 batches of 32...\n",
            "Length of test_dataloader:313 batches of 32...\n"
          ]
        }
      ]
    },
    {
      "cell_type": "code",
      "source": [
        "train_features_batch,train_labels_batch=next(iter(train_dataloader))\n",
        "train_features_batch.shape,train_labels_batch.shape"
      ],
      "metadata": {
        "colab": {
          "base_uri": "https://localhost:8080/"
        },
        "id": "7N_Bcy9pNl2J",
        "outputId": "af6a4fee-e127-4d73-d6a3-e02a0820bd24"
      },
      "execution_count": null,
      "outputs": [
        {
          "output_type": "execute_result",
          "data": {
            "text/plain": [
              "(torch.Size([32, 1, 28, 28]), torch.Size([32]))"
            ]
          },
          "metadata": {},
          "execution_count": 14
        }
      ]
    },
    {
      "cell_type": "code",
      "source": [
        "torch.manual_seed(42)\n",
        "random_idx=torch.randint(0,len(train_features_batch),size=[1]).item()\n",
        "img,label=train_features_batch[random_idx],train_labels_batch[random_idx]\n",
        "plt.imshow(img.squeeze(),cmap=\"grey\")\n",
        "plt.title(class_names[label])\n",
        "plt.axis(False)\n",
        "print(f\"Image size: {img.shape}\")\n",
        "print(f\"Label:{label} , label size:{label.shape}\")"
      ],
      "metadata": {
        "id": "5E1YF4ACODeL",
        "colab": {
          "base_uri": "https://localhost:8080/",
          "height": 463
        },
        "outputId": "a49b9265-7ce9-4375-fb53-24d9c3124c71"
      },
      "execution_count": null,
      "outputs": [
        {
          "output_type": "stream",
          "name": "stdout",
          "text": [
            "Image size: torch.Size([1, 28, 28])\n",
            "Label:6 , label size:torch.Size([])\n"
          ]
        },
        {
          "output_type": "display_data",
          "data": {
            "text/plain": [
              "<Figure size 640x480 with 1 Axes>"
            ],
            "image/png": "[encoded data removed]"
          },
          "metadata": {}
        }
      ]
    },
    {
      "cell_type": "code",
      "source": [
        "flatten_model=nn.Flatten()\n",
        "x=train_features_batch[0]\n",
        "output=flatten_model(x)\n",
        "print(f\"Shape before flattening:{x.shape}\")\n",
        "print(f\"Shape after flattening:{output.shape}\")"
      ],
      "metadata": {
        "colab": {
          "base_uri": "https://localhost:8080/"
        },
        "id": "VnqS2090Q4Oo",
        "outputId": "f3eff188-995c-4df0-d7bf-5f23f5f80970"
      },
      "execution_count": null,
      "outputs": [
        {
          "output_type": "stream",
          "name": "stdout",
          "text": [
            "Shape before flattening:torch.Size([1, 28, 28])\n",
            "Shape after flattening:torch.Size([1, 784])\n"
          ]
        }
      ]
    },
    {
      "cell_type": "code",
      "source": [
        "output.squeeze()"
      ],
      "metadata": {
        "colab": {
          "base_uri": "https://localhost:8080/"
        },
        "id": "VY9t9-RqTg1u",
        "outputId": "9bca0128-074b-4d6a-a9bc-1ff6dfecae64"
      },
      "execution_count": null,
      "outputs": [
        {
          "output_type": "execute_result",
          "data": {
            "text/plain": [
              "tensor([0.0000, 0.0000, 0.0000, 0.0000, 0.0000, 0.0000, 0.0000, 0.0000, 0.0000,\n",
              "        0.0000, 0.0000, 0.0000, 0.0000, 0.0000, 0.0000, 0.0000, 0.0000, 0.0000,\n",
              "        0.0000, 0.0000, 0.0000, 0.0000, 0.0000, 0.0000, 0.0000, 0.0000, 0.0000,\n",
              "        0.0000, 0.0000, 0.0000, 0.0000, 0.0000, 0.0000, 0.0000, 0.0000, 0.0000,\n",
              "        0.0000, 0.0000, 0.0000, 0.0000, 0.0000, 0.0000, 0.0000, 0.0000, 0.0000,\n",
              "        0.0000, 0.0000, 0.0000, 0.0000, 0.0000, 0.0000, 0.0000, 0.0000, 0.0000,\n",
              "        0.0000, 0.0000, 0.0000, 0.0000, 0.0000, 0.0000, 0.0000, 0.0000, 0.0000,\n",
              "        0.0000, 0.0000, 0.0000, 0.0000, 0.0000, 0.0000, 0.0000, 0.0000, 0.0000,\n",
              "        0.0000, 0.0000, 0.0000, 0.0000, 0.0000, 0.0000, 0.0000, 0.0000, 0.0000,\n",
              "        0.0000, 0.0000, 0.0000, 0.0000, 0.0000, 0.0000, 0.0000, 0.0000, 0.0000,\n",
              "        0.0000, 0.0000, 0.0000, 0.0039, 0.0039, 0.0000, 0.0000, 0.0078, 0.0078,\n",
              "        0.0000, 0.0000, 0.0039, 0.0078, 0.0000, 0.0000, 0.0000, 0.0000, 0.0000,\n",
              "        0.2863, 0.0000, 0.0000, 0.0078, 0.0000, 0.0000, 0.0000, 0.0000, 0.0000,\n",
              "        0.0000, 0.0000, 0.0000, 0.0000, 0.0000, 0.0000, 0.0000, 0.0000, 0.0000,\n",
              "        0.0000, 0.0000, 0.0000, 0.0000, 0.0000, 0.0000, 0.0000, 0.0000, 0.0000,\n",
              "        0.0000, 0.3725, 0.0000, 0.0000, 0.0000, 0.0000, 0.0000, 0.0000, 0.0000,\n",
              "        0.0000, 0.0000, 0.0000, 0.0000, 0.0000, 0.0000, 0.0000, 0.0000, 0.0000,\n",
              "        0.3373, 0.3569, 0.2039, 0.4980, 0.4196, 0.4706, 0.3608, 0.3961, 0.4706,\n",
              "        0.4471, 1.0000, 0.4314, 0.3451, 0.0078, 0.0000, 0.0000, 0.0000, 0.0000,\n",
              "        0.0000, 0.0000, 0.0000, 0.0000, 0.0000, 0.0000, 0.0000, 0.0000, 0.0000,\n",
              "        0.0000, 0.0706, 0.0824, 0.0706, 0.4588, 0.4118, 0.4980, 0.2588, 0.2235,\n",
              "        0.2588, 0.0824, 0.0510, 0.1922, 0.5137, 0.5765, 0.0000, 0.0000, 0.0000,\n",
              "        0.0000, 0.0000, 0.0000, 0.0000, 0.0000, 0.0000, 0.0000, 0.0000, 0.0000,\n",
              "        0.0000, 0.0000, 0.0000, 0.0000, 0.0000, 0.0000, 0.0000, 0.0000, 0.0000,\n",
              "        0.0000, 0.0000, 0.0000, 0.1333, 0.8000, 0.5608, 0.5255, 0.2431, 0.0000,\n",
              "        0.0000, 0.0000, 0.0000, 0.0000, 0.0000, 0.0000, 0.0000, 0.0000, 0.0000,\n",
              "        0.0000, 0.0000, 0.0000, 0.0039, 0.0039, 0.0000, 0.0000, 0.0000, 0.0000,\n",
              "        0.0078, 0.0000, 0.0000, 0.0000, 0.9137, 0.9686, 0.5137, 0.4353, 0.6471,\n",
              "        0.0000, 0.0000, 0.0000, 0.0000, 0.0000, 0.0000, 0.0000, 0.0000, 0.0000,\n",
              "        0.0000, 0.0000, 0.0000, 0.0000, 0.0000, 0.0000, 0.0000, 0.0000, 0.0000,\n",
              "        0.0000, 0.0000, 0.0000, 0.0000, 0.0588, 0.3843, 0.6980, 0.0588, 0.2824,\n",
              "        0.1686, 0.0000, 0.0000, 0.0000, 0.0000, 0.0000, 0.0000, 0.0000, 0.0000,\n",
              "        0.0000, 0.0000, 0.0000, 0.0000, 0.0000, 0.0000, 0.0000, 0.0000, 0.0000,\n",
              "        0.0000, 0.0000, 0.0000, 0.0000, 0.1333, 0.2078, 0.2157, 0.6745, 0.2941,\n",
              "        0.1059, 0.0000, 0.0000, 0.0000, 0.0000, 0.0000, 0.0000, 0.0000, 0.0000,\n",
              "        0.0000, 0.0000, 0.0000, 0.0000, 0.0000, 0.0000, 0.0000, 0.0000, 0.0000,\n",
              "        0.0000, 0.0000, 0.0039, 0.0000, 0.0078, 0.3333, 0.2980, 0.2941, 0.2039,\n",
              "        0.0314, 0.0000, 0.0000, 0.0000, 0.0000, 0.0000, 0.0000, 0.0000, 0.0000,\n",
              "        0.0000, 0.0000, 0.0000, 0.0000, 0.0000, 0.0000, 0.0000, 0.0000, 0.0000,\n",
              "        0.0000, 0.0000, 0.0039, 0.0039, 0.0000, 0.2196, 0.5020, 0.0157, 0.0706,\n",
              "        0.3451, 0.3216, 0.0588, 0.0000, 0.0000, 0.0000, 0.0000, 0.0000, 0.0000,\n",
              "        0.0000, 0.0000, 0.0000, 0.0000, 0.0000, 0.0000, 0.0000, 0.0000, 0.0000,\n",
              "        0.0000, 0.0000, 0.0000, 0.0000, 0.0000, 0.0157, 0.4863, 0.3843, 0.1804,\n",
              "        0.6235, 0.7882, 0.6000, 0.1569, 0.0000, 0.0000, 0.0000, 0.0000, 0.0000,\n",
              "        0.0000, 0.0000, 0.0000, 0.0000, 0.0000, 0.0000, 0.0000, 0.0000, 0.0000,\n",
              "        0.0000, 0.0000, 0.0000, 0.0000, 0.0000, 0.0000, 0.2863, 0.4431, 0.4196,\n",
              "        0.5882, 0.5020, 0.1020, 0.2235, 0.0549, 0.0000, 0.0000, 0.0000, 0.0000,\n",
              "        0.0000, 0.0000, 0.0000, 0.0000, 0.0000, 0.0000, 0.0000, 0.0000, 0.0000,\n",
              "        0.0000, 0.0000, 0.0000, 0.0000, 0.0000, 0.0000, 0.0039, 0.4078, 0.4314,\n",
              "        0.7137, 0.1843, 0.2196, 0.4118, 0.3216, 0.0196, 0.0000, 0.0000, 0.0000,\n",
              "        0.0000, 0.0000, 0.0039, 0.0000, 0.0000, 0.0000, 0.0000, 0.0000, 0.0000,\n",
              "        0.0000, 0.0000, 0.0000, 0.0000, 0.0000, 0.0000, 0.0000, 0.2549, 0.5647,\n",
              "        0.6275, 0.0824, 0.0000, 0.0000, 0.5098, 0.3333, 0.0000, 0.0000, 0.0000,\n",
              "        0.0000, 0.0000, 0.0000, 0.0000, 0.0000, 0.0039, 0.0039, 0.0000, 0.0000,\n",
              "        0.0000, 0.0000, 0.0000, 0.0000, 0.0000, 0.0000, 0.0000, 0.3333, 0.5647,\n",
              "        0.5529, 0.0000, 0.0000, 0.0000, 0.0000, 0.6510, 0.3059, 0.0000, 0.0000,\n",
              "        0.0000, 0.0000, 0.0000, 0.0000, 0.0000, 0.0000, 0.0000, 0.0000, 0.0000,\n",
              "        0.0000, 0.0000, 0.0000, 0.0000, 0.0000, 0.0000, 0.0000, 0.1922, 0.7216,\n",
              "        0.4510, 0.0000, 0.0000, 0.0157, 0.0000, 0.0000, 0.6275, 0.2667, 0.0000,\n",
              "        0.0000, 0.0000, 0.0000, 0.0000, 0.0039, 0.0000, 0.0000, 0.0784, 0.0784,\n",
              "        0.0000, 0.0000, 0.0000, 0.0000, 0.0000, 0.0000, 0.0000, 0.0706, 0.6392,\n",
              "        0.3804, 0.0000, 0.0000, 0.0000, 0.0314, 0.0000, 0.0000, 0.6667, 0.1529,\n",
              "        0.0000, 0.0000, 0.0000, 0.0000, 0.0039, 0.0000, 0.0314, 0.2471, 0.2980,\n",
              "        0.1686, 0.0000, 0.0000, 0.0000, 0.0000, 0.0000, 0.0000, 0.0000, 0.5255,\n",
              "        0.5333, 0.0000, 0.0000, 0.0000, 0.0000, 0.0078, 0.0000, 0.0000, 0.6784,\n",
              "        0.0706, 0.0000, 0.0039, 0.0039, 0.0039, 0.0000, 0.0000, 0.0706, 0.0941,\n",
              "        0.0000, 0.0196, 0.0000, 0.0000, 0.0000, 0.0000, 0.0000, 0.0000, 0.3451,\n",
              "        0.7137, 0.0275, 0.0000, 0.0000, 0.0000, 0.0000, 0.0000, 0.0000, 0.0000,\n",
              "        0.6588, 0.0039, 0.0000, 0.0039, 0.0000, 0.0000, 0.0000, 0.0000, 0.0078,\n",
              "        0.1922, 0.1059, 0.1216, 0.2196, 0.0667, 0.0000, 0.0000, 0.0000, 0.3451,\n",
              "        0.6000, 0.1922, 0.0000, 0.0196, 0.0000, 0.0039, 0.0000, 0.0000, 0.0000,\n",
              "        0.0000, 0.6471, 0.0000, 0.0000, 0.0039, 0.0510, 0.0275, 0.0000, 0.0000,\n",
              "        0.0000, 0.3294, 0.3804, 0.4000, 0.4941, 0.3882, 0.0000, 0.0196, 0.5020,\n",
              "        0.6000, 0.2863, 0.0000, 0.0000, 0.0000, 0.0000, 0.0000, 0.0000, 0.0000,\n",
              "        0.0000, 0.0039, 0.5451, 0.0000, 0.0000, 0.0000, 0.3176, 0.5961, 0.5725,\n",
              "        0.5490, 0.4863, 0.4824, 0.5098, 0.4941, 0.4431, 0.4431, 0.4471, 0.7216,\n",
              "        0.6235, 0.1647, 0.0000, 0.0000, 0.0000, 0.0078, 0.0000, 0.0000, 0.0000,\n",
              "        0.0000, 0.0000, 0.0000, 0.7294, 0.0000, 0.0000, 0.0039, 0.0000, 0.0000,\n",
              "        0.0000, 0.0941, 0.1647, 0.1804, 0.2235, 0.2549, 0.2706, 0.2549, 0.2471,\n",
              "        0.1569, 0.0000, 0.0000, 0.0000, 0.0000, 0.0000, 0.0000, 0.0000, 0.0000,\n",
              "        0.0000, 0.0000, 0.0000, 0.0000, 0.7137, 0.0157, 0.0000, 0.0039, 0.0000,\n",
              "        0.0000, 0.0000, 0.0000, 0.0000, 0.0000, 0.0000, 0.0000, 0.0000, 0.0000,\n",
              "        0.0000, 0.0000, 0.0000, 0.0000, 0.0000, 0.0000, 0.0000, 0.0000, 0.0000,\n",
              "        0.0000, 0.0000, 0.0000, 0.0000, 0.0000, 0.0000, 0.0000, 0.0000, 0.0000,\n",
              "        0.0000, 0.0000, 0.0000, 0.0000, 0.0000, 0.0000, 0.0000, 0.0000, 0.0000,\n",
              "        0.0000, 0.0000, 0.0000, 0.0000, 0.0000, 0.0000, 0.0000, 0.0000, 0.0000,\n",
              "        0.0000, 0.0000, 0.0000, 0.0000, 0.0000, 0.0000, 0.0000, 0.0000, 0.0000,\n",
              "        0.0000])"
            ]
          },
          "metadata": {},
          "execution_count": 17
        }
      ]
    },
    {
      "cell_type": "code",
      "source": [
        "from torch import nn\n",
        "class FashionMNISTModelV0(nn.Module):\n",
        "  def __init__(self,input_shape:int,hidden_units:int,output_shape:int):\n",
        "    super().__init__()\n",
        "    self.layer_stack=nn.Sequential(\n",
        "        nn.Flatten(),\n",
        "        nn.Linear(in_features=input_shape,out_features=hidden_units),\n",
        "        nn.Linear(in_features=hidden_units,out_features=output_shape)\n",
        "    )\n",
        "  def forward(self,x):\n",
        "    return self.layer_stack(x)"
      ],
      "metadata": {
        "id": "KgUTUE5ZT9Ni"
      },
      "execution_count": null,
      "outputs": []
    },
    {
      "cell_type": "code",
      "source": [
        "torch.manual_seed(42)\n",
        "model_0=FashionMNISTModelV0(\n",
        "    input_shape=784,\n",
        "    hidden_units=10,\n",
        "    output_shape=len(class_names)\n",
        ").to(\"cpu\")\n",
        "model_0"
      ],
      "metadata": {
        "id": "Q2nPl2YaVeqM",
        "colab": {
          "base_uri": "https://localhost:8080/"
        },
        "outputId": "aff1a2c8-47ce-4e6b-a855-7b9e50f77a9a"
      },
      "execution_count": null,
      "outputs": [
        {
          "output_type": "execute_result",
          "data": {
            "text/plain": [
              "FashionMNISTModelV0(\n",
              "  (layer_stack): Sequential(\n",
              "    (0): Flatten(start_dim=1, end_dim=-1)\n",
              "    (1): Linear(in_features=784, out_features=10, bias=True)\n",
              "    (2): Linear(in_features=10, out_features=10, bias=True)\n",
              "  )\n",
              ")"
            ]
          },
          "metadata": {},
          "execution_count": 19
        }
      ]
    },
    {
      "cell_type": "code",
      "source": [
        "dummy_x=torch.rand([1,1,28,28])\n",
        "model_0(dummy_x)\n"
      ],
      "metadata": {
        "colab": {
          "base_uri": "https://localhost:8080/"
        },
        "id": "brAHqEq8VO6P",
        "outputId": "2c74b89c-3f08-4dfb-8d70-e8c2a4103e53"
      },
      "execution_count": null,
      "outputs": [
        {
          "output_type": "execute_result",
          "data": {
            "text/plain": [
              "tensor([[-0.0315,  0.3171,  0.0531, -0.2525,  0.5959,  0.2112,  0.3233,  0.2694,\n",
              "         -0.1004,  0.0157]], grad_fn=<AddmmBackward0>)"
            ]
          },
          "metadata": {},
          "execution_count": 20
        }
      ]
    },
    {
      "cell_type": "code",
      "source": [
        "model_0.state_dict()"
      ],
      "metadata": {
        "colab": {
          "base_uri": "https://localhost:8080/"
        },
        "id": "7zt1cS-qWdOp",
        "outputId": "2faf23be-70e8-43ab-f38d-8bb43eb4a1d0"
      },
      "execution_count": null,
      "outputs": [
        {
          "output_type": "execute_result",
          "data": {
            "text/plain": [
              "OrderedDict([('layer_stack.1.weight',\n",
              "              tensor([[ 0.0273,  0.0296, -0.0084,  ..., -0.0142,  0.0093,  0.0135],\n",
              "                      [-0.0188, -0.0354,  0.0187,  ..., -0.0106, -0.0001,  0.0115],\n",
              "                      [-0.0008,  0.0017,  0.0045,  ..., -0.0127, -0.0188,  0.0059],\n",
              "                      ...,\n",
              "                      [-0.0116,  0.0273, -0.0344,  ...,  0.0176,  0.0283, -0.0011],\n",
              "                      [-0.0230,  0.0257,  0.0291,  ..., -0.0187, -0.0087,  0.0001],\n",
              "                      [ 0.0176, -0.0147,  0.0053,  ..., -0.0336, -0.0221,  0.0205]])),\n",
              "             ('layer_stack.1.bias',\n",
              "              tensor([-0.0093,  0.0283, -0.0033,  0.0255,  0.0017,  0.0037, -0.0302, -0.0123,\n",
              "                       0.0018,  0.0163])),\n",
              "             ('layer_stack.2.weight',\n",
              "              tensor([[ 0.0614, -0.0687,  0.0021,  0.2718,  0.2109,  0.1079, -0.2279, -0.1063,\n",
              "                        0.2019,  0.2847],\n",
              "                      [-0.1495,  0.1344, -0.0740,  0.2006, -0.0475, -0.2514, -0.3130, -0.0118,\n",
              "                        0.0932, -0.1864],\n",
              "                      [ 0.2488,  0.1500,  0.1907,  0.1457, -0.3050, -0.0580,  0.1643,  0.1565,\n",
              "                       -0.2877, -0.1792],\n",
              "                      [ 0.2305, -0.2618,  0.2397, -0.0610,  0.0232,  0.1542,  0.0851, -0.2027,\n",
              "                        0.1030, -0.2715],\n",
              "                      [-0.1596, -0.0555, -0.0633,  0.2302, -0.1726,  0.2654,  0.1473,  0.1029,\n",
              "                        0.2252, -0.2160],\n",
              "                      [-0.2725,  0.0118,  0.1559,  0.1596,  0.0132,  0.3024,  0.1124,  0.1366,\n",
              "                       -0.1533,  0.0965],\n",
              "                      [-0.1184, -0.2555, -0.2057, -0.1909, -0.0477, -0.1324,  0.2905,  0.1307,\n",
              "                       -0.2629,  0.0133],\n",
              "                      [ 0.2727, -0.0127,  0.0513,  0.0863, -0.1043, -0.2047, -0.1185, -0.0825,\n",
              "                        0.2488, -0.2571],\n",
              "                      [ 0.0425, -0.1209, -0.0336, -0.0281, -0.1227,  0.0730,  0.0747, -0.1816,\n",
              "                        0.1943,  0.2853],\n",
              "                      [-0.1310,  0.0645, -0.1171,  0.2168, -0.0245, -0.2820,  0.0736,  0.2621,\n",
              "                        0.0012, -0.0810]])),\n",
              "             ('layer_stack.2.bias',\n",
              "              tensor([-0.0087,  0.1791,  0.2712, -0.0791,  0.1685,  0.1762,  0.2825,  0.2266,\n",
              "                      -0.2612, -0.2613]))])"
            ]
          },
          "metadata": {},
          "execution_count": 21
        }
      ]
    },
    {
      "cell_type": "code",
      "source": [
        "import requests\n",
        "from pathlib import Path\n",
        "if Path(\"helper_functions.py\").is_file():\n",
        "  print(\"helper_functions.py already exists,skipping download...\")\n",
        "else:\n",
        "  print(\"Downloading helper_functions.py\")\n",
        "  request=requests.get(\"https://raw.githubusercontent.com/mrdbourke/pytorch-deep-learning/refs/heads/main/helper_functions.py\")\n",
        "  with open(\"helper_functions.py\",\"wb\") as f:\n",
        "    f.write(request.content)"
      ],
      "metadata": {
        "colab": {
          "base_uri": "https://localhost:8080/"
        },
        "id": "y2wfBDj-Z8l7",
        "outputId": "2f8d325d-4dd4-41a7-8b07-a9bcb80c7ebf"
      },
      "execution_count": null,
      "outputs": [
        {
          "output_type": "stream",
          "name": "stdout",
          "text": [
            "Downloading helper_functions.py\n"
          ]
        }
      ]
    },
    {
      "cell_type": "code",
      "source": [
        "from helper_functions import accuracy_fn\n",
        "loss_fn= nn.CrossEntropyLoss()\n",
        "optimizer=torch.optim.SGD(params=model_0.parameters(),lr=0.1)"
      ],
      "metadata": {
        "id": "zwpe3dmW2HX0"
      },
      "execution_count": null,
      "outputs": []
    },
    {
      "cell_type": "code",
      "source": [
        "from timeit import default_timer as timer\n",
        "def print_train_time(start:float,end:float,device:torch.device=None):\n",
        "  total_time=end-start\n",
        "  print(f\"Train time on {device}: {total_time:.3f} seconds\")\n",
        "  return total_time"
      ],
      "metadata": {
        "id": "d8ZN6QvX6dd8"
      },
      "execution_count": null,
      "outputs": []
    },
    {
      "cell_type": "code",
      "source": [
        "start_time=timer()\n",
        "end_time=timer()\n",
        "print_train_time(start=start_time,end=end_time,device=\"cpu\")"
      ],
      "metadata": {
        "colab": {
          "base_uri": "https://localhost:8080/"
        },
        "id": "rFkDGLjJ-kKw",
        "outputId": "431d6d65-e98d-4f9e-91d3-4219b4fa2853"
      },
      "execution_count": null,
      "outputs": [
        {
          "output_type": "stream",
          "name": "stdout",
          "text": [
            "Train time on cpu: 0.000 seconds\n"
          ]
        },
        {
          "output_type": "execute_result",
          "data": {
            "text/plain": [
              "4.806200000473382e-05"
            ]
          },
          "metadata": {},
          "execution_count": 25
        }
      ]
    },
    {
      "cell_type": "code",
      "source": [
        "from tqdm.auto import tqdm\n",
        "torch.manual_seed(42)\n",
        "train_time_start_on_cpu=timer()\n",
        "epochs=3\n",
        "for epoch in tqdm(range(epochs)):\n",
        "  print(f\"Epoch: {epoch}\\n------\")\n",
        "  train_loss=0\n",
        "  for batch,(x,y) in enumerate(train_dataloader):\n",
        "    model_0.train()\n",
        "    y_pred=model_0(x)\n",
        "    loss=loss_fn(y_pred,y)\n",
        "    train_loss+=loss\n",
        "    optimizer.zero_grad()\n",
        "    loss.backward()\n",
        "    optimizer.step()\n",
        "    if batch % 400 == 0:\n",
        "      print(f\"Looked at {batch*len(x)}/{len(train_dataloader.dataset)}samples\")\n",
        "  train_loss/=len(train_dataloader)\n",
        "  test_loss,test_acc=0,0\n",
        "  model_0.eval()\n",
        "  with torch.inference_mode():\n",
        "    for x_test,y_test in test_dataloader:\n",
        "      test_pred=model_0(x_test)\n",
        "      test_loss+=loss_fn(test_pred,y_test)\n",
        "      test_acc=accuracy_fn(y_true=y_test,y_pred=test_pred.argmax(dim=1))\n",
        "    test_loss/=len(test_dataloader)\n",
        "    test_acc/=len(test_dataloader)\n",
        "    print(f\"\\nTrain loss:{train_loss:.4f}| Test_loss:{test_loss:.4f},test_acc:{test_acc:.4f}\")\n",
        "train_time_end_on_cpu=timer()\n",
        "total_train_time_model_0=print_train_time(start=train_time_start_on_cpu,end=train_time_end_on_cpu,device=str(next(model_0.parameters())))\n"
      ],
      "metadata": {
        "colab": {
          "base_uri": "https://localhost:8080/",
          "height": 674,
          "referenced_widgets": [
            "0728e4a7c6f0448189dddb1fdf387947",
            "99d41f9447ff4e49a89f748ebcd55f9e",
            "064cff4bc5614b1b9c41506b7ddc1350",
            "a01d94b028b74498b2005fe339a1ed79",
            "d82c38c32fd54b5082b428bd2a22ee01",
            "a6b7ad3963e5439bb1eaba7d1b9c9f9d",
            "9de1e5eff6c54d199c6cac5866b8e2f3",
            "bfcca4eed41a476d9a3a107c13ac477d",
            "162d5c477bec445d8d71c7f542a1a177",
            "2f4c1ab359a442669deb47bf7e5f5de7",
            "5285a5ec99b84274a1c4b2b51cb1fbe6"
          ]
        },
        "id": "oz6ivsXX-0bZ",
        "outputId": "99525af3-40c2-42ec-82f5-958baeca4869"
      },
      "execution_count": null,
      "outputs": [
        {
          "output_type": "display_data",
          "data": {
            "text/plain": [
              "  0%|          | 0/3 [00:00<?, ?it/s]"
            ],
            "application/vnd.jupyter.widget-view+json": {
              "version_major": 2,
              "version_minor": 0,
              "model_id": "0728e4a7c6f0448189dddb1fdf387947"
            }
          },
          "metadata": {}
        },
        {
          "output_type": "stream",
          "name": "stdout",
          "text": [
            "Epoch: 0\n",
            "------\n",
            "Looked at 0/60000samples\n",
            "Looked at 12800/60000samples\n",
            "Looked at 25600/60000samples\n",
            "Looked at 38400/60000samples\n",
            "Looked at 51200/60000samples\n",
            "\n",
            "Train loss:0.5904| Test_loss:0.5095,test_acc:0.2796\n",
            "Epoch: 1\n",
            "------\n",
            "Looked at 0/60000samples\n",
            "Looked at 12800/60000samples\n",
            "Looked at 25600/60000samples\n",
            "Looked at 38400/60000samples\n",
            "Looked at 51200/60000samples\n",
            "\n",
            "Train loss:0.4763| Test_loss:0.4799,test_acc:0.2995\n",
            "Epoch: 2\n",
            "------\n",
            "Looked at 0/60000samples\n",
            "Looked at 12800/60000samples\n",
            "Looked at 25600/60000samples\n",
            "Looked at 38400/60000samples\n",
            "Looked at 51200/60000samples\n",
            "\n",
            "Train loss:0.4550| Test_loss:0.4766,test_acc:0.2995\n",
            "Train time on Parameter containing:\n",
            "tensor([[ 0.0273,  0.0298, -0.0065,  ...,  0.0071,  0.0091,  0.0170],\n",
            "        [-0.0189, -0.0355,  0.0155,  ...,  0.0161,  0.0120,  0.0117],\n",
            "        [-0.0008,  0.0020,  0.0032,  ...,  0.0058, -0.0146,  0.0084],\n",
            "        ...,\n",
            "        [-0.0116,  0.0274, -0.0323,  ...,  0.0527,  0.0434,  0.0006],\n",
            "        [-0.0231,  0.0252,  0.0236,  ..., -0.0892, -0.0385, -0.0071],\n",
            "        [ 0.0175, -0.0148,  0.0027,  ..., -0.1155, -0.0674,  0.0125]],\n",
            "       requires_grad=True): 39.710 seconds\n"
          ]
        }
      ]
    },
    {
      "cell_type": "code",
      "source": [
        "next(model_0.parameters()).device"
      ],
      "metadata": {
        "colab": {
          "base_uri": "https://localhost:8080/"
        },
        "id": "x8pB6NKjrkXg",
        "outputId": "1e96fd62-1a7b-4a7c-a617-5ff938998b3a"
      },
      "execution_count": null,
      "outputs": [
        {
          "output_type": "execute_result",
          "data": {
            "text/plain": [
              "device(type='cpu')"
            ]
          },
          "metadata": {},
          "execution_count": 27
        }
      ]
    },
    {
      "cell_type": "code",
      "source": [
        "torch.manual_seed(42)\n",
        "def eval_model(model:torch.nn.Module,\n",
        "               data_loader:torch.utils.data.DataLoader,\n",
        "               loss_fn:torch.nn.Module,\n",
        "               accuracy_fn):\n",
        "  \"\"\"Returns a dictionary containing the results of model predicting on data_loader.\"\"\"\n",
        "  loss,acc=0,0\n",
        "  model.eval()\n",
        "  with torch.inference_mode():\n",
        "    for x,y in tqdm(data_loader):\n",
        "      y_pred=model(x)\n",
        "      loss+=loss_fn(y_pred,y)\n",
        "      acc+=accuracy_fn(y_true=y,y_pred=y_pred.argmax(dim=1))\n",
        "    loss/=len(data_loader)\n",
        "    acc/=len(data_loader)\n",
        "  return{\"model_name\":model.__class__.__name__,\n",
        "         \"model_loss\":loss.item(),\n",
        "         \"model_acc\":acc}\n",
        "model_0_results=eval_model(model=model_0,\n",
        "                           data_loader=test_dataloader,\n",
        "                           loss_fn=loss_fn,\n",
        "                           accuracy_fn=accuracy_fn)\n",
        "model_0_results"
      ],
      "metadata": {
        "colab": {
          "base_uri": "https://localhost:8080/",
          "height": 101,
          "referenced_widgets": [
            "cdcd5b4179784143a55cfdd4e61c17c3",
            "40670f8c27fc42ee9ef13b88710414d7",
            "10bd3e2ff02e495999c24f7d3f8d8067",
            "efc6bb70239f4f9699cfd7a278dcd006",
            "3d6a703badc9465ca931d85db6f13816",
            "615d7cbe3de142b499f4e8162149756d",
            "f2f3e61dab8b485ab51bc49721b69bda",
            "21abd50d7ead433e8ed613570dab25e7",
            "0cf8eaeec4634c28bb428fe0a4bdfa13",
            "699fe25944164392ac067786d59bcb5f",
            "aae6989db78f4ac984aa86803a578be8"
          ]
        },
        "id": "tu5QoEDsrtLG",
        "outputId": "abd01561-6484-4dca-c206-7c2052ed7d33"
      },
      "execution_count": null,
      "outputs": [
        {
          "output_type": "display_data",
          "data": {
            "text/plain": [
              "  0%|          | 0/313 [00:00<?, ?it/s]"
            ],
            "application/vnd.jupyter.widget-view+json": {
              "version_major": 2,
              "version_minor": 0,
              "model_id": "cdcd5b4179784143a55cfdd4e61c17c3"
            }
          },
          "metadata": {}
        },
        {
          "output_type": "execute_result",
          "data": {
            "text/plain": [
              "{'model_name': 'FashionMNISTModelV0',\n",
              " 'model_loss': 0.47663894295692444,\n",
              " 'model_acc': 83.42651757188499}"
            ]
          },
          "metadata": {},
          "execution_count": 28
        }
      ]
    },
    {
      "cell_type": "code",
      "source": [
        "import torch\n",
        "device=\"cuda\" if torch.cuda.is_available() else \"cpu\"\n",
        "device"
      ],
      "metadata": {
        "id": "hn8Qf85Ow6wO",
        "colab": {
          "base_uri": "https://localhost:8080/",
          "height": 36
        },
        "outputId": "2303c49d-3791-436b-dea3-0d20e9c80541"
      },
      "execution_count": null,
      "outputs": [
        {
          "output_type": "execute_result",
          "data": {
            "text/plain": [
              "'cpu'"
            ],
            "application/vnd.google.colaboratory.intrinsic+json": {
              "type": "string"
            }
          },
          "metadata": {},
          "execution_count": 29
        }
      ]
    },
    {
      "cell_type": "code",
      "source": [
        "class FashionMNISTModelV1(nn.Module):\n",
        "  def __init__(self,\n",
        "               input_shape:int,\n",
        "               hidden_units:int,\n",
        "               output_shape:int):\n",
        "    super().__init__()\n",
        "    self.layer_stack=nn.Sequential(\n",
        "        nn.Flatten(),\n",
        "        nn.Linear(in_features=input_shape,\n",
        "                  out_features=hidden_units),\n",
        "        nn.ReLU(),\n",
        "        nn.Linear(in_features=hidden_units,\n",
        "                  out_features=output_shape),\n",
        "        nn.ReLU()\n",
        "    )\n",
        "  def forward(self,x:torch.Tensor):\n",
        "    return self.layer_stack(x)"
      ],
      "metadata": {
        "id": "yilrjPpuQvpG"
      },
      "execution_count": null,
      "outputs": []
    },
    {
      "cell_type": "code",
      "source": [
        "torch.manual_seed(42)\n",
        "model_1=FashionMNISTModelV1(input_shape=784,\n",
        "                            hidden_units=10,\n",
        "                            output_shape=len(class_names)).to(device)\n",
        "next(model_1.parameters()).device"
      ],
      "metadata": {
        "colab": {
          "base_uri": "https://localhost:8080/"
        },
        "id": "eG7ZtiMJUKMi",
        "outputId": "ce1ad1fb-bb09-4ef4-d716-aefa6a980546"
      },
      "execution_count": null,
      "outputs": [
        {
          "output_type": "execute_result",
          "data": {
            "text/plain": [
              "device(type='cpu')"
            ]
          },
          "metadata": {},
          "execution_count": 31
        }
      ]
    },
    {
      "cell_type": "code",
      "source": [
        "from helper_functions import accuracy_fn\n",
        "loss_fn=nn.CrossEntropyLoss()\n",
        "optimizer=torch.optim.SGD(params=model_1.parameters(),lr=0.1)"
      ],
      "metadata": {
        "id": "XKwyXzB4VIhh"
      },
      "execution_count": null,
      "outputs": []
    },
    {
      "cell_type": "code",
      "source": [
        "def train_step(model:torch.nn.Module,\n",
        "               data_loader:torch.utils.data.DataLoader,\n",
        "               loss_fn:torch.nn.Module,\n",
        "               optimizer:torch.optim.Optimizer,\n",
        "               accuracy_fn,\n",
        "               device:torch.device=device):\n",
        "  \"\"\"Performs a training with model trying to learn on data_loader\"\"\"\n",
        "  train_loss,train_acc=0,0\n",
        "  model.train()\n",
        "  for batch,(x,y) in enumerate(data_loader):\n",
        "    x,y=x.to(device),y.to(device)\n",
        "    y_pred=model(x)\n",
        "    loss=loss_fn(y_pred,y)\n",
        "    train_loss+=loss\n",
        "    train_acc+=accuracy_fn(y_true=y,y_pred=y_pred.argmax(dim=1))\n",
        "    optimizer.zero_grad()\n",
        "    loss.backward()\n",
        "    optimizer.step()\n",
        "  train_loss/=len(data_loader)\n",
        "  train_acc/=len(data_loader)\n",
        "  print(f\"Train_loss: {train_loss:.5f} | Train_acc:{train_acc:.2f}%\")"
      ],
      "metadata": {
        "id": "w2uCJbBvWJ49"
      },
      "execution_count": null,
      "outputs": []
    },
    {
      "cell_type": "code",
      "source": [
        "def test_step(model:torch.nn.Module,\n",
        "              data_loader:torch.utils.data.DataLoader,\n",
        "              loss_fn:torch.nn.Module,\n",
        "              accuracy_fn,\n",
        "              device:torch.device=device):\n",
        "  \"\"\"Performs a testing loop with model trying to learn on data_loader\"\"\"\n",
        "  test_loss,test_acc=0,0\n",
        "  model.eval()\n",
        "  with torch.inference_mode():\n",
        "    for x,y in data_loader:\n",
        "      x,y=x.to(device),y.to(device)\n",
        "      test_pred=model(x)\n",
        "      test_loss+=loss_fn(test_pred,y)\n",
        "      test_acc+=accuracy_fn(y_true=y,y_pred=test_pred.argmax(dim=1))\n",
        "    test_loss/=len(data_loader)\n",
        "    test_acc/=len(data_loader)\n",
        "    print(f\"Test_loss:{test_loss:.5f} | Test_acc:{test_acc:.2f}%\\n\")"
      ],
      "metadata": {
        "id": "8E8loA0bZfu9"
      },
      "execution_count": null,
      "outputs": []
    },
    {
      "cell_type": "code",
      "source": [
        "from timeit import default_timer as timer\n",
        "train_time_start_on_gpu=timer()\n",
        "epochs=3\n",
        "for epoch in tqdm(range(epochs)):\n",
        "  print(f\"Epoch:{epoch}\\n--------\")\n",
        "  train_step(model=model_1,\n",
        "             data_loader=train_dataloader,\n",
        "             loss_fn=loss_fn,\n",
        "             optimizer=optimizer,\n",
        "             device=device,\n",
        "             accuracy_fn=accuracy_fn)\n",
        "  test_step(model=model_1,\n",
        "            data_loader=test_dataloader,\n",
        "            loss_fn=loss_fn,\n",
        "            accuracy_fn=accuracy_fn,\n",
        "            device=device)\n",
        "train_time_end_on_gpu=timer()\n",
        "total_train_time_model_1=print_train_time(start=train_time_start_on_gpu,end=train_time_end_on_gpu,device=device)\n"
      ],
      "metadata": {
        "colab": {
          "base_uri": "https://localhost:8080/",
          "height": 327,
          "referenced_widgets": [
            "2300ebb7851c4bec90e4225289677902",
            "ad5783308a7544bb8c2d51aeb6a2f742",
            "bed3562b58aa4a9ca05b9a0e71411060",
            "e1b53cd649d84efd866aa4eb46dfcf03",
            "7e632283f40e47729ae5c4209bb0ee9c",
            "4a99712dce87416ab2b3dc3e8a051ba5",
            "4bd9aafb5d8a4fdc854895ef4242e437",
            "07273fedfbc943acbe4ecb70f2807a2c",
            "04d055dd6fbf44faa8eceb45c7668fc1",
            "eb232b184ea34506842777ceef884927",
            "7641f6a439664710b54ef41b379a9eda"
          ]
        },
        "id": "vlHMemexb-Ty",
        "outputId": "af6e450f-dc8a-43d7-f5b3-4a9b17ef595e"
      },
      "execution_count": null,
      "outputs": [
        {
          "output_type": "display_data",
          "data": {
            "text/plain": [
              "  0%|          | 0/3 [00:00<?, ?it/s]"
            ],
            "application/vnd.jupyter.widget-view+json": {
              "version_major": 2,
              "version_minor": 0,
              "model_id": "2300ebb7851c4bec90e4225289677902"
            }
          },
          "metadata": {}
        },
        {
          "output_type": "stream",
          "name": "stdout",
          "text": [
            "Epoch:0\n",
            "--------\n",
            "Train_loss: 1.05878 | Train_acc:62.19%\n",
            "Test_loss:0.99506 | Test_acc:64.13%\n",
            "\n",
            "Epoch:1\n",
            "--------\n",
            "Train_loss: 0.91331 | Train_acc:66.40%\n",
            "Test_loss:0.90508 | Test_acc:66.86%\n",
            "\n",
            "Epoch:2\n",
            "--------\n",
            "Train_loss: 0.87981 | Train_acc:67.25%\n",
            "Test_loss:0.89485 | Test_acc:66.47%\n",
            "\n",
            "Train time on cpu: 29.030 seconds\n"
          ]
        }
      ]
    },
    {
      "cell_type": "code",
      "source": [
        "model_0_results"
      ],
      "metadata": {
        "colab": {
          "base_uri": "https://localhost:8080/"
        },
        "id": "ZqTV-bDijCZ8",
        "outputId": "3c919528-ab21-45c2-8dc5-2c09fb07fa06"
      },
      "execution_count": null,
      "outputs": [
        {
          "output_type": "execute_result",
          "data": {
            "text/plain": [
              "{'model_name': 'FashionMNISTModelV0',\n",
              " 'model_loss': 0.47663894295692444,\n",
              " 'model_acc': 83.42651757188499}"
            ]
          },
          "metadata": {},
          "execution_count": 36
        }
      ]
    },
    {
      "cell_type": "code",
      "source": [
        "total_train_time_model_0"
      ],
      "metadata": {
        "colab": {
          "base_uri": "https://localhost:8080/"
        },
        "id": "_uQjkc1YkQI-",
        "outputId": "e1c50eb5-4ba3-4272-d156-2c5dc030340e"
      },
      "execution_count": null,
      "outputs": [
        {
          "output_type": "execute_result",
          "data": {
            "text/plain": [
              "39.710397775000004"
            ]
          },
          "metadata": {},
          "execution_count": 37
        }
      ]
    },
    {
      "cell_type": "code",
      "source": [
        "torch.manual_seed(42)\n",
        "def eval_model(model:torch.nn.Module,\n",
        "               data_loader:torch.utils.data.DataLoader,\n",
        "               loss_fn:torch.nn.Module,\n",
        "               accuracy_fn,\n",
        "               device:device):\n",
        "  \"\"\"Returns a dictionary containing the results of model predicting on data_loader.\"\"\"\n",
        "  loss,acc=0,0\n",
        "  model.eval()\n",
        "  with torch.inference_mode():\n",
        "    for x,y in tqdm(data_loader):\n",
        "      x,y=x.to(device),y.to(device)\n",
        "      y_pred=model(x)\n",
        "      loss+=loss_fn(y_pred,y)\n",
        "      acc+=accuracy_fn(y_true=y,y_pred=y_pred.argmax(dim=1))\n",
        "    loss/=len(data_loader)\n",
        "    acc/=len(data_loader)\n",
        "  return{\"model_name\":model.__class__.__name__,\n",
        "         \"model_loss\":loss.item(),\n",
        "         \"model_acc\":acc}"
      ],
      "metadata": {
        "id": "uiSqO7Twka0E"
      },
      "execution_count": null,
      "outputs": []
    },
    {
      "cell_type": "code",
      "source": [
        "model_1_results=eval_model(model=model_1,\n",
        "                           data_loader=test_dataloader,\n",
        "                           accuracy_fn=accuracy_fn,\n",
        "                           loss_fn=loss_fn,\n",
        "                           device=device)\n",
        "model_1_results"
      ],
      "metadata": {
        "colab": {
          "base_uri": "https://localhost:8080/",
          "height": 101,
          "referenced_widgets": [
            "5e64d0dde1bc4544be256ee1cf140d7d",
            "ad8dd8c8925d492a9a5809fa351bd948",
            "202a0a6d4bc44dc29f5ef08716a2cd16",
            "c8e288a1ad5e45eba1b03ff8927b0a94",
            "929ac670a1cb4310837f1a5f500fda61",
            "76a87d090a0c4d44b84ade24383492ad",
            "eb41ec55bdfb42fcb567c53595fc0a17",
            "4943086c45d24a17aa9977baaed52745",
            "cd38ea7650cf4cfba2bc4846e4d5da27",
            "fbb99ab9206c4afd9f11595bacaf8407",
            "33af640110ca4e99b92d42446012a366"
          ]
        },
        "id": "XOpPleJGmyP8",
        "outputId": "d24f426f-1152-42b9-a983-437e2efd9c72"
      },
      "execution_count": null,
      "outputs": [
        {
          "output_type": "display_data",
          "data": {
            "text/plain": [
              "  0%|          | 0/313 [00:00<?, ?it/s]"
            ],
            "application/vnd.jupyter.widget-view+json": {
              "version_major": 2,
              "version_minor": 0,
              "model_id": "5e64d0dde1bc4544be256ee1cf140d7d"
            }
          },
          "metadata": {}
        },
        {
          "output_type": "execute_result",
          "data": {
            "text/plain": [
              "{'model_name': 'FashionMNISTModelV1',\n",
              " 'model_loss': 0.8948529958724976,\n",
              " 'model_acc': 66.47364217252397}"
            ]
          },
          "metadata": {},
          "execution_count": 39
        }
      ]
    },
    {
      "cell_type": "code",
      "source": [
        "model_0_results"
      ],
      "metadata": {
        "colab": {
          "base_uri": "https://localhost:8080/"
        },
        "id": "hGdQ3q_snHPV",
        "outputId": "038a09ad-a219-45bb-90d4-b96ccacf1c2e"
      },
      "execution_count": null,
      "outputs": [
        {
          "output_type": "execute_result",
          "data": {
            "text/plain": [
              "{'model_name': 'FashionMNISTModelV0',\n",
              " 'model_loss': 0.47663894295692444,\n",
              " 'model_acc': 83.42651757188499}"
            ]
          },
          "metadata": {},
          "execution_count": 40
        }
      ]
    },
    {
      "cell_type": "code",
      "source": [
        "class FashionMNISTModelV2(nn.Module):\n",
        "  \"\"\"\n",
        "  Model architecture that replicates the TinyVGG\n",
        "  model from CNN explainer website.\n",
        "  \"\"\"\n",
        "  def __init__(self,input_shape:int,hidden_units:int,output_shape:int):\n",
        "    super().__init__()\n",
        "    self.conv_block_1=nn.Sequential(\n",
        "        nn.Conv2d(in_channels=input_shape,\n",
        "                  out_channels=hidden_units,\n",
        "                  kernel_size=3,\n",
        "                  padding=1,\n",
        "                  stride=1),\n",
        "        nn.ReLU(),\n",
        "        nn.Conv2d(in_channels=hidden_units,\n",
        "                  out_channels=hidden_units,\n",
        "                  stride=1,\n",
        "                  padding=1,\n",
        "                  kernel_size=3),\n",
        "        nn.ReLU(),\n",
        "        nn.MaxPool2d(kernel_size=2)\n",
        "\n",
        "    )\n",
        "    self.conv_block_2=nn.Sequential(\n",
        "        nn.Conv2d(in_channels=hidden_units,\n",
        "                  out_channels=hidden_units,\n",
        "                  kernel_size=3,\n",
        "                  stride=1,\n",
        "                  padding=1),\n",
        "        nn.ReLU(),\n",
        "        nn.Conv2d(in_channels=hidden_units,\n",
        "                  out_channels=hidden_units,\n",
        "                  kernel_size=3,\n",
        "                  stride=1,\n",
        "                  padding=1),\n",
        "        nn.ReLU(),\n",
        "        nn.MaxPool2d(kernel_size=2)\n",
        "    )\n",
        "    self.classifier=nn.Sequential(\n",
        "        nn.Flatten(),\n",
        "        nn.Linear(in_features=hidden_units*7*7,\n",
        "                  out_features=output_shape)\n",
        "    )\n",
        "  def forward(self,x):\n",
        "    x=self.conv_block_1(x)\n",
        "    # print(f\"Output shape of conv_block_1:{x.shape}\")\n",
        "    x=self.conv_block_2(x)\n",
        "    # print(f\"Output shape of conv_block_2:{x.shape}\")\n",
        "    x=self.classifier(x)\n",
        "    # print(f\"Output shape of classifier:{x.shape}\")\n",
        "    return x"
      ],
      "metadata": {
        "id": "7Ytq1GuhnNMC"
      },
      "execution_count": null,
      "outputs": []
    },
    {
      "cell_type": "code",
      "source": [
        "torch.manual_seed(42)\n",
        "model_2=FashionMNISTModelV2(input_shape=1,\n",
        "                            hidden_units=10,\n",
        "                            output_shape=len(class_names)).to(device)"
      ],
      "metadata": {
        "id": "MHIcqHCkJFOF"
      },
      "execution_count": null,
      "outputs": []
    },
    {
      "cell_type": "code",
      "source": [
        "torch.manual_seed(42)\n",
        "images=torch.randn(size=(32,3,64,64))\n",
        "test_image=images[0]\n",
        "print(f\"Image batch shape: {images.shape}\")\n",
        "print(f\"Single image shape: {test_image.shape}\")\n",
        "print(f\"Test image:\\n{test_image}\")"
      ],
      "metadata": {
        "colab": {
          "base_uri": "https://localhost:8080/"
        },
        "id": "0dqEPjqqN0YC",
        "outputId": "2e69096d-944c-438f-976e-20ffc4a6db67"
      },
      "execution_count": null,
      "outputs": [
        {
          "output_type": "stream",
          "name": "stdout",
          "text": [
            "Image batch shape: torch.Size([32, 3, 64, 64])\n",
            "Single image shape: torch.Size([3, 64, 64])\n",
            "Test image:\n",
            "tensor([[[ 1.9269,  1.4873,  0.9007,  ...,  1.8446, -1.1845,  1.3835],\n",
            "         [ 1.4451,  0.8564,  2.2181,  ...,  0.3399,  0.7200,  0.4114],\n",
            "         [ 1.9312,  1.0119, -1.4364,  ..., -0.5558,  0.7043,  0.7099],\n",
            "         ...,\n",
            "         [-0.5610, -0.4830,  0.4770,  ..., -0.2713, -0.9537, -0.6737],\n",
            "         [ 0.3076, -0.1277,  0.0366,  ..., -2.0060,  0.2824, -0.8111],\n",
            "         [-1.5486,  0.0485, -0.7712,  ..., -0.1403,  0.9416, -0.0118]],\n",
            "\n",
            "        [[-0.5197,  1.8524,  1.8365,  ...,  0.8935, -1.5114, -0.8515],\n",
            "         [ 2.0818,  1.0677, -1.4277,  ...,  1.6612, -2.6223, -0.4319],\n",
            "         [-0.1010, -0.4388, -1.9775,  ...,  0.2106,  0.2536, -0.7318],\n",
            "         ...,\n",
            "         [ 0.2779,  0.7342, -0.3736,  ..., -0.4601,  0.1815,  0.1850],\n",
            "         [ 0.7205, -0.2833,  0.0937,  ..., -0.1002, -2.3609,  2.2465],\n",
            "         [-1.3242, -0.1973,  0.2920,  ...,  0.5409,  0.6940,  1.8563]],\n",
            "\n",
            "        [[-0.7978,  1.0261,  1.1465,  ...,  1.2134,  0.9354, -0.0780],\n",
            "         [-1.4647, -1.9571,  0.1017,  ..., -1.9986, -0.7409,  0.7011],\n",
            "         [-1.3938,  0.8466, -1.7191,  ..., -1.1867,  0.1320,  0.3407],\n",
            "         ...,\n",
            "         [ 0.8206, -0.3745,  1.2499,  ..., -0.0676,  0.0385,  0.6335],\n",
            "         [-0.5589, -0.3393,  0.2347,  ...,  2.1181,  2.4569,  1.3083],\n",
            "         [-0.4092,  1.5199,  0.2401,  ..., -0.2558,  0.7870,  0.9924]]])\n"
          ]
        }
      ]
    },
    {
      "cell_type": "code",
      "source": [
        "torch.manual_seed(42)\n",
        "conv_layer=nn.Conv2d(in_channels=3,\n",
        "                     out_channels=10,\n",
        "                     kernel_size=(3,3),\n",
        "                     stride=1,\n",
        "                     padding=1)\n",
        "conv_output=conv_layer(test_image)\n",
        "conv_output"
      ],
      "metadata": {
        "colab": {
          "base_uri": "https://localhost:8080/"
        },
        "id": "VLv47rDbORjZ",
        "outputId": "fded68b8-f2ff-495b-e41c-b977d3a25420"
      },
      "execution_count": null,
      "outputs": [
        {
          "output_type": "execute_result",
          "data": {
            "text/plain": [
              "tensor([[[ 1.3047,  1.4238,  0.9435,  ...,  0.3078,  0.4244, -0.3909],\n",
              "         [ 0.6132,  1.5396,  0.0516,  ...,  0.8711,  0.4256, -0.3416],\n",
              "         [ 1.0524,  0.3662,  1.0114,  ...,  0.2809, -0.2741,  0.3787],\n",
              "         ...,\n",
              "         [ 0.0377,  0.2981, -0.2432,  ..., -0.7283, -0.5767, -0.0783],\n",
              "         [-0.2693, -0.0386, -0.0781,  ...,  0.4228, -0.1802, -0.5140],\n",
              "         [ 0.5006, -0.5684,  0.1166,  ...,  0.5425, -0.3335,  0.7756]],\n",
              "\n",
              "        [[-0.1153,  0.5129, -0.7227,  ..., -0.6758,  0.4840, -0.8125],\n",
              "         [ 0.2266, -0.2840, -0.0319,  ...,  1.5599, -1.2449, -0.4410],\n",
              "         [-0.6666,  0.2753, -0.1262,  ...,  0.1999, -0.8856, -0.4292],\n",
              "         ...,\n",
              "         [-0.0647, -0.1984, -0.6386,  ..., -0.0585, -0.7833, -0.0764],\n",
              "         [ 0.2940, -0.6306, -0.2052,  ...,  0.2456, -0.7134,  0.7373],\n",
              "         [-0.1683, -0.8397,  0.2643,  ...,  0.2593, -0.5630,  0.1587]],\n",
              "\n",
              "        [[ 0.4864, -0.7476, -0.6414,  ...,  0.5477, -1.2156,  0.2989],\n",
              "         [-0.5791,  0.4414,  0.5100,  ...,  0.2638,  1.1258, -0.0662],\n",
              "         [ 0.6065,  0.8117,  0.3191,  ...,  0.2319,  0.5003,  0.0034],\n",
              "         ...,\n",
              "         [-0.7888,  0.2941,  0.4417,  ...,  0.4814, -0.4799,  0.6813],\n",
              "         [-0.2186,  0.6059, -0.0415,  ...,  0.2521, -0.4372, -0.9096],\n",
              "         [ 0.4489, -0.2549, -0.3202,  ..., -0.7820, -0.5369,  0.2537]],\n",
              "\n",
              "        ...,\n",
              "\n",
              "        [[-0.5501,  0.9690,  1.2804,  ...,  0.2162,  0.6271,  0.3134],\n",
              "         [ 0.7574, -0.2560, -0.0477,  ...,  0.7553, -0.7055, -0.0276],\n",
              "         [-0.1636,  1.5595, -0.2209,  ...,  0.7754,  0.0750,  0.0063],\n",
              "         ...,\n",
              "         [-0.1605, -0.3486, -0.7173,  ...,  0.7219,  0.1513, -0.7218],\n",
              "         [ 0.5251,  0.0119,  0.1017,  ..., -0.8127, -0.1257,  0.4847],\n",
              "         [-0.6399,  0.1466, -0.2109,  ...,  0.7455, -0.6983,  0.1332]],\n",
              "\n",
              "        [[ 0.1910, -1.2740, -2.1166,  ..., -0.8778, -0.0292, -0.3584],\n",
              "         [-0.1359,  0.3841,  1.1322,  ...,  0.0109,  0.6058, -0.0432],\n",
              "         [ 0.7342,  0.1664,  0.1873,  ...,  0.9096, -0.5399, -0.2297],\n",
              "         ...,\n",
              "         [-0.0607,  0.0535,  0.4411,  ..., -1.0056,  0.3759,  0.2856],\n",
              "         [ 0.1089,  0.3031, -0.1590,  ..., -0.4271, -0.4876, -0.2490],\n",
              "         [ 0.4154,  0.0436,  0.3085,  ..., -0.1570, -0.7712, -0.3026]],\n",
              "\n",
              "        [[-0.1319, -0.2679, -0.4623,  ...,  0.4089, -0.7995,  0.0225],\n",
              "         [-1.2177, -1.1865, -0.7280,  ..., -0.0542, -1.5949,  0.3016],\n",
              "         [-0.5843, -0.6345, -0.5920,  ..., -0.7963, -0.0647,  0.1041],\n",
              "         ...,\n",
              "         [ 0.3000, -0.2609, -0.2328,  ..., -0.8436, -0.7524,  0.2401],\n",
              "         [-0.2574, -1.1399, -0.1751,  ...,  0.3377,  0.3493,  1.2920],\n",
              "         [-0.6151,  0.4477,  0.0631,  ..., -0.5504,  0.0327, -0.3162]]],\n",
              "       grad_fn=<SqueezeBackward1>)"
            ]
          },
          "metadata": {},
          "execution_count": 44
        }
      ]
    },
    {
      "cell_type": "code",
      "source": [
        "test_image.shape"
      ],
      "metadata": {
        "colab": {
          "base_uri": "https://localhost:8080/"
        },
        "id": "JbhsGFSYQRQB",
        "outputId": "c3d0b208-9bd7-419d-edc0-983146455852"
      },
      "execution_count": null,
      "outputs": [
        {
          "output_type": "execute_result",
          "data": {
            "text/plain": [
              "torch.Size([3, 64, 64])"
            ]
          },
          "metadata": {},
          "execution_count": 45
        }
      ]
    },
    {
      "cell_type": "code",
      "source": [
        "print(f\"Test image original shape:{test_image.shape}\")\n",
        "print(f\"Test image with unsqueezed dimension: {test_image.unsqueeze(0).shape}\")\n",
        "max_pool_layer=nn.MaxPool2d(kernel_size=2)\n",
        "test_image_through_conv=conv_layer(test_image.unsqueeze(0))\n",
        "print(f\"Shape after going through conv_layer(): {test_image_through_conv.shape}\")\n",
        "test_image_through_conv_and_max_pool=max_pool_layer(test_image_through_conv)\n",
        "print(f\"Shape after going through conv_layer() and max_pool_layer():{test_image_through_conv_and_max_pool.shape}\")"
      ],
      "metadata": {
        "colab": {
          "base_uri": "https://localhost:8080/"
        },
        "id": "e3mbLi0OQcAO",
        "outputId": "86e15f3e-2ea9-4bdc-ef0f-0a701b503a23"
      },
      "execution_count": null,
      "outputs": [
        {
          "output_type": "stream",
          "name": "stdout",
          "text": [
            "Test image original shape:torch.Size([3, 64, 64])\n",
            "Test image with unsqueezed dimension: torch.Size([1, 3, 64, 64])\n",
            "Shape after going through conv_layer(): torch.Size([1, 10, 64, 64])\n",
            "Shape after going through conv_layer() and max_pool_layer():torch.Size([1, 10, 32, 32])\n"
          ]
        }
      ]
    },
    {
      "cell_type": "code",
      "source": [
        "torch.manual_seed(42)\n",
        "random_tensor=torch.randn(size=(1,1,2,2))\n",
        "print(f\"\\nRandom tensor:\\n{random_tensor}\")\n",
        "print(f\"Random tensor shape:{random_tensor.shape}\")\n",
        "max_pool_layer=nn.MaxPool2d(kernel_size=2)\n",
        "max_pool_tensor=max_pool_layer(random_tensor)\n",
        "print(f\"\\nMax pool tensor:\\n {max_pool_tensor}\")\n",
        "print(f\"Max pool tensor shape: {max_pool_tensor.shape}\")"
      ],
      "metadata": {
        "colab": {
          "base_uri": "https://localhost:8080/"
        },
        "id": "RW0Ou_fTUcr7",
        "outputId": "5cf2fd5f-8381-4d63-82c2-b747365f5fc1"
      },
      "execution_count": null,
      "outputs": [
        {
          "output_type": "stream",
          "name": "stdout",
          "text": [
            "\n",
            "Random tensor:\n",
            "tensor([[[[0.3367, 0.1288],\n",
            "          [0.2345, 0.2303]]]])\n",
            "Random tensor shape:torch.Size([1, 1, 2, 2])\n",
            "\n",
            "Max pool tensor:\n",
            " tensor([[[[0.3367]]]])\n",
            "Max pool tensor shape: torch.Size([1, 1, 1, 1])\n"
          ]
        }
      ]
    },
    {
      "cell_type": "code",
      "source": [
        "plt.imshow(image.squeeze(),cmap=\"grey\")"
      ],
      "metadata": {
        "colab": {
          "base_uri": "https://localhost:8080/",
          "height": 447
        },
        "id": "knDen8mhZHEJ",
        "outputId": "c740874a-ecdf-4ca3-e122-2733f96c3037"
      },
      "execution_count": null,
      "outputs": [
        {
          "output_type": "execute_result",
          "data": {
            "text/plain": [
              "<matplotlib.image.AxesImage at 0x7e3434525d10>"
            ]
          },
          "metadata": {},
          "execution_count": 48
        },
        {
          "output_type": "display_data",
          "data": {
            "text/plain": [
              "<Figure size 640x480 with 1 Axes>"
            ],
            "image/png": "[encoded data removed]"
          },
          "metadata": {}
        }
      ]
    },
    {
      "cell_type": "code",
      "source": [
        "model_2(image.unsqueeze(0))"
      ],
      "metadata": {
        "colab": {
          "base_uri": "https://localhost:8080/"
        },
        "id": "KAU4s8e_bMBG",
        "outputId": "dac1f1a0-fae2-4e22-d2eb-9b4051800a4c"
      },
      "execution_count": null,
      "outputs": [
        {
          "output_type": "execute_result",
          "data": {
            "text/plain": [
              "tensor([[ 0.0246, -0.0644,  0.0551, -0.0360, -0.0139,  0.0113, -0.0014, -0.0075,\n",
              "          0.0213,  0.0076]], grad_fn=<AddmmBackward0>)"
            ]
          },
          "metadata": {},
          "execution_count": 49
        }
      ]
    },
    {
      "cell_type": "code",
      "source": [
        "from helper_functions import accuracy_fn\n",
        "loss_fn=nn.CrossEntropyLoss()\n",
        "optimizer=torch.optim.SGD(params=model_2.parameters(),lr=0.1)"
      ],
      "metadata": {
        "id": "HkKPDtSlcEIB"
      },
      "execution_count": null,
      "outputs": []
    },
    {
      "cell_type": "code",
      "source": [
        "torch.manual_seed(42)\n",
        "torch.cuda.manual_seed(42)\n",
        "from timeit import default_timer as timer\n",
        "train_time_start_model_2=timer()\n",
        "epochs=3\n",
        "for epoch in tqdm(range(epochs)):\n",
        "  print(f\"Epoch:{epoch}\\n-----\")\n",
        "  train_step(model=model_2,\n",
        "             data_loader=train_dataloader,\n",
        "             loss_fn=loss_fn,\n",
        "             optimizer=optimizer,\n",
        "             accuracy_fn=accuracy_fn,\n",
        "             device=device)\n",
        "  test_step(model=model_2,\n",
        "            data_loader=test_dataloader,\n",
        "            loss_fn=loss_fn,\n",
        "            accuracy_fn=accuracy_fn,\n",
        "            device=device)\n",
        "train_time_end_model_2=timer()\n",
        "total_train_time_model_2=print_train_time(start=train_time_start_model_2,end=train_time_end_model_2,device=device)"
      ],
      "metadata": {
        "colab": {
          "base_uri": "https://localhost:8080/",
          "height": 327,
          "referenced_widgets": [
            "31765c1ce76846688274e160debfe98a",
            "087cc41781bf456394790fcddf6339f6",
            "b02d902567764143890e410d2080c183",
            "45423e98e568402bbe76e5ab202ba9fc",
            "77494a75577048aab8c9da237ad37ca0",
            "ca96ed5ad0dd4d2caba94584680be9cb",
            "14b8ed4a4d1046959e7eb715c8eb3b52",
            "1dbdea9fc55d491bb9e3a6d757a071c0",
            "521d4e69056c483dafb2e222797ce95a",
            "5ea672236553491cb888696f4bd10c87",
            "4e3dd21ca9c14d029f78da54d9ef31ae"
          ]
        },
        "id": "1vWfsEjmrINA",
        "outputId": "8a3d949a-9676-4660-c3f1-6e71844162a1"
      },
      "execution_count": null,
      "outputs": [
        {
          "output_type": "display_data",
          "data": {
            "text/plain": [
              "  0%|          | 0/3 [00:00<?, ?it/s]"
            ],
            "application/vnd.jupyter.widget-view+json": {
              "version_major": 2,
              "version_minor": 0,
              "model_id": "31765c1ce76846688274e160debfe98a"
            }
          },
          "metadata": {}
        },
        {
          "output_type": "stream",
          "name": "stdout",
          "text": [
            "Epoch:0\n",
            "-----\n",
            "Train_loss: 0.59518 | Train_acc:78.38%\n",
            "Test_loss:0.39500 | Test_acc:85.99%\n",
            "\n",
            "Epoch:1\n",
            "-----\n",
            "Train_loss: 0.36536 | Train_acc:86.90%\n",
            "Test_loss:0.35244 | Test_acc:86.91%\n",
            "\n",
            "Epoch:2\n",
            "-----\n",
            "Train_loss: 0.32588 | Train_acc:88.13%\n",
            "Test_loss:0.32719 | Test_acc:88.07%\n",
            "\n",
            "Train time on cpu: 165.779 seconds\n"
          ]
        }
      ]
    },
    {
      "cell_type": "code",
      "source": [
        "model_2_results=eval_model(\n",
        "    model=model_2,\n",
        "    data_loader=test_dataloader,\n",
        "    accuracy_fn=accuracy_fn,\n",
        "    loss_fn=loss_fn,\n",
        "    device=device\n",
        ")\n",
        "model_2_results"
      ],
      "metadata": {
        "colab": {
          "base_uri": "https://localhost:8080/",
          "height": 101,
          "referenced_widgets": [
            "2d63ffa979004feeb30fe249ad35b69e",
            "12f07f62460a42c38eccaf8cc4776c96",
            "7737fc11934e4ef280681bcec630dfad",
            "d00158e53b554720ac984b8ea9eb1e63",
            "3e291e4193e94755997de47d01535d64",
            "f250fd40e0f6459ea48eaf00c4341819",
            "2720ce011f5249768ba2e3aacd3d5632",
            "e1433190ab874d3ea37aca67ad923dd7",
            "125d6cf846bc463db782886fef64e2d6",
            "cc12ed72c42c4056940970e2320ff43c",
            "c0328ccfb9944847bd373ec04fcea50a"
          ]
        },
        "id": "ZBlCiXcgtVd0",
        "outputId": "12a03e1a-281c-41b7-e4b0-c2dd3382b17e"
      },
      "execution_count": null,
      "outputs": [
        {
          "output_type": "display_data",
          "data": {
            "text/plain": [
              "  0%|          | 0/313 [00:00<?, ?it/s]"
            ],
            "application/vnd.jupyter.widget-view+json": {
              "version_major": 2,
              "version_minor": 0,
              "model_id": "2d63ffa979004feeb30fe249ad35b69e"
            }
          },
          "metadata": {}
        },
        {
          "output_type": "execute_result",
          "data": {
            "text/plain": [
              "{'model_name': 'FashionMNISTModelV2',\n",
              " 'model_loss': 0.32718968391418457,\n",
              " 'model_acc': 88.06908945686901}"
            ]
          },
          "metadata": {},
          "execution_count": 52
        }
      ]
    },
    {
      "cell_type": "code",
      "source": [
        "import pandas as pd\n",
        "compare_results=pd.DataFrame([model_0_results,\n",
        "                              model_1_results,\n",
        "                              model_2_results])\n",
        "compare_results"
      ],
      "metadata": {
        "colab": {
          "base_uri": "https://localhost:8080/",
          "height": 143
        },
        "id": "RAMqLT8Cu5Np",
        "outputId": "9d0f242b-ede1-4a50-b69f-583010113d34"
      },
      "execution_count": null,
      "outputs": [
        {
          "output_type": "execute_result",
          "data": {
            "text/plain": [
              "            model_name  model_loss  model_acc\n",
              "0  FashionMNISTModelV0    0.476639  83.426518\n",
              "1  FashionMNISTModelV1    0.894853  66.473642\n",
              "2  FashionMNISTModelV2    0.327190  88.069089"
            ],
            "text/html": [
              "\n",
              "  <div id=\"df-50ef93a6-3308-433c-981c-d3b09d0d10f5\" class=\"colab-df-container\">\n",
              "    <div>\n",
              "<style scoped>\n",
              "    .dataframe tbody tr th:only-of-type {\n",
              "        vertical-align: middle;\n",
              "    }\n",
              "\n",
              "    .dataframe tbody tr th {\n",
              "        vertical-align: top;\n",
              "    }\n",
              "\n",
              "    .dataframe thead th {\n",
              "        text-align: right;\n",
              "    }\n",
              "</style>\n",
              "<table border=\"1\" class=\"dataframe\">\n",
              "  <thead>\n",
              "    <tr style=\"text-align: right;\">\n",
              "      <th></th>\n",
              "      <th>model_name</th>\n",
              "      <th>model_loss</th>\n",
              "      <th>model_acc</th>\n",
              "    </tr>\n",
              "  </thead>\n",
              "  <tbody>\n",
              "    <tr>\n",
              "      <th>0</th>\n",
              "      <td>FashionMNISTModelV0</td>\n",
              "      <td>0.476639</td>\n",
              "      <td>83.426518</td>\n",
              "    </tr>\n",
              "    <tr>\n",
              "      <th>1</th>\n",
              "      <td>FashionMNISTModelV1</td>\n",
              "      <td>0.894853</td>\n",
              "      <td>66.473642</td>\n",
              "    </tr>\n",
              "    <tr>\n",
              "      <th>2</th>\n",
              "      <td>FashionMNISTModelV2</td>\n",
              "      <td>0.327190</td>\n",
              "      <td>88.069089</td>\n",
              "    </tr>\n",
              "  </tbody>\n",
              "</table>\n",
              "</div>\n",
              "    <div class=\"colab-df-buttons\">\n",
              "\n",
              "  <div class=\"colab-df-container\">\n",
              "    <button class=\"colab-df-convert\" onclick=\"convertToInteractive('df-50ef93a6-3308-433c-981c-d3b09d0d10f5')\"\n",
              "            title=\"Convert this dataframe to an interactive table.\"\n",
              "            style=\"display:none;\">\n",
              "\n",
              "  <svg xmlns=\"http://www.w3.org/2000/svg\" height=\"24px\" viewBox=\"0 -960 960 960\">\n",
              "    <path d=\"M120-120v-720h720v720H120Zm60-500h600v-160H180v160Zm220 220h160v-160H400v160Zm0 220h160v-160H400v160ZM180-400h160v-160H180v160Zm440 0h160v-160H620v160ZM180-180h160v-160H180v160Zm440 0h160v-160H620v160Z\"/>\n",
              "  </svg>\n",
              "    </button>\n",
              "\n",
              "  <style>\n",
              "    .colab-df-container {\n",
              "      display:flex;\n",
              "      gap: 12px;\n",
              "    }\n",
              "\n",
              "    .colab-df-convert {\n",
              "      background-color: #E8F0FE;\n",
              "      border: none;\n",
              "      border-radius: 50%;\n",
              "      cursor: pointer;\n",
              "      display: none;\n",
              "      fill: #1967D2;\n",
              "      height: 32px;\n",
              "      padding: 0 0 0 0;\n",
              "      width: 32px;\n",
              "    }\n",
              "\n",
              "    .colab-df-convert:hover {\n",
              "      background-color: #E2EBFA;\n",
              "      box-shadow: 0px 1px 2px rgba(60, 64, 67, 0.3), 0px 1px 3px 1px rgba(60, 64, 67, 0.15);\n",
              "      fill: #174EA6;\n",
              "    }\n",
              "\n",
              "    .colab-df-buttons div {\n",
              "      margin-bottom: 4px;\n",
              "    }\n",
              "\n",
              "    [theme=dark] .colab-df-convert {\n",
              "      background-color: #3B4455;\n",
              "      fill: #D2E3FC;\n",
              "    }\n",
              "\n",
              "    [theme=dark] .colab-df-convert:hover {\n",
              "      background-color: #434B5C;\n",
              "      box-shadow: 0px 1px 3px 1px rgba(0, 0, 0, 0.15);\n",
              "      filter: drop-shadow(0px 1px 2px rgba(0, 0, 0, 0.3));\n",
              "      fill: #FFFFFF;\n",
              "    }\n",
              "  </style>\n",
              "\n",
              "    <script>\n",
              "      const buttonEl =\n",
              "        document.querySelector('#df-50ef93a6-3308-433c-981c-d3b09d0d10f5 button.colab-df-convert');\n",
              "      buttonEl.style.display =\n",
              "        google.colab.kernel.accessAllowed ? 'block' : 'none';\n",
              "\n",
              "      async function convertToInteractive(key) {\n",
              "        const element = document.querySelector('#df-50ef93a6-3308-433c-981c-d3b09d0d10f5');\n",
              "        const dataTable =\n",
              "          await google.colab.kernel.invokeFunction('convertToInteractive',\n",
              "                                                    [key], {});\n",
              "        if (!dataTable) return;\n",
              "\n",
              "        const docLinkHtml = 'Like what you see? Visit the ' +\n",
              "          '<a target=\"_blank\" href=https://colab.research.google.com/notebooks/data_table.ipynb>data table notebook</a>'\n",
              "          + ' to learn more about interactive tables.';\n",
              "        element.innerHTML = '';\n",
              "        dataTable['output_type'] = 'display_data';\n",
              "        await google.colab.output.renderOutput(dataTable, element);\n",
              "        const docLink = document.createElement('div');\n",
              "        docLink.innerHTML = docLinkHtml;\n",
              "        element.appendChild(docLink);\n",
              "      }\n",
              "    </script>\n",
              "  </div>\n",
              "\n",
              "\n",
              "<div id=\"df-3e8bae6e-ce9c-4c9c-a28e-cc016a74076f\">\n",
              "  <button class=\"colab-df-quickchart\" onclick=\"quickchart('df-3e8bae6e-ce9c-4c9c-a28e-cc016a74076f')\"\n",
              "            title=\"Suggest charts\"\n",
              "            style=\"display:none;\">\n",
              "\n",
              "<svg xmlns=\"http://www.w3.org/2000/svg\" height=\"24px\"viewBox=\"0 0 24 24\"\n",
              "     width=\"24px\">\n",
              "    <g>\n",
              "        <path d=\"M19 3H5c-1.1 0-2 .9-2 2v14c0 1.1.9 2 2 2h14c1.1 0 2-.9 2-2V5c0-1.1-.9-2-2-2zM9 17H7v-7h2v7zm4 0h-2V7h2v10zm4 0h-2v-4h2v4z\"/>\n",
              "    </g>\n",
              "</svg>\n",
              "  </button>\n",
              "\n",
              "<style>\n",
              "  .colab-df-quickchart {\n",
              "      --bg-color: #E8F0FE;\n",
              "      --fill-color: #1967D2;\n",
              "      --hover-bg-color: #E2EBFA;\n",
              "      --hover-fill-color: #174EA6;\n",
              "      --disabled-fill-color: #AAA;\n",
              "      --disabled-bg-color: #DDD;\n",
              "  }\n",
              "\n",
              "  [theme=dark] .colab-df-quickchart {\n",
              "      --bg-color: #3B4455;\n",
              "      --fill-color: #D2E3FC;\n",
              "      --hover-bg-color: #434B5C;\n",
              "      --hover-fill-color: #FFFFFF;\n",
              "      --disabled-bg-color: #3B4455;\n",
              "      --disabled-fill-color: #666;\n",
              "  }\n",
              "\n",
              "  .colab-df-quickchart {\n",
              "    background-color: var(--bg-color);\n",
              "    border: none;\n",
              "    border-radius: 50%;\n",
              "    cursor: pointer;\n",
              "    display: none;\n",
              "    fill: var(--fill-color);\n",
              "    height: 32px;\n",
              "    padding: 0;\n",
              "    width: 32px;\n",
              "  }\n",
              "\n",
              "  .colab-df-quickchart:hover {\n",
              "    background-color: var(--hover-bg-color);\n",
              "    box-shadow: 0 1px 2px rgba(60, 64, 67, 0.3), 0 1px 3px 1px rgba(60, 64, 67, 0.15);\n",
              "    fill: var(--button-hover-fill-color);\n",
              "  }\n",
              "\n",
              "  .colab-df-quickchart-complete:disabled,\n",
              "  .colab-df-quickchart-complete:disabled:hover {\n",
              "    background-color: var(--disabled-bg-color);\n",
              "    fill: var(--disabled-fill-color);\n",
              "    box-shadow: none;\n",
              "  }\n",
              "\n",
              "  .colab-df-spinner {\n",
              "    border: 2px solid var(--fill-color);\n",
              "    border-color: transparent;\n",
              "    border-bottom-color: var(--fill-color);\n",
              "    animation:\n",
              "      spin 1s steps(1) infinite;\n",
              "  }\n",
              "\n",
              "  @keyframes spin {\n",
              "    0% {\n",
              "      border-color: transparent;\n",
              "      border-bottom-color: var(--fill-color);\n",
              "      border-left-color: var(--fill-color);\n",
              "    }\n",
              "    20% {\n",
              "      border-color: transparent;\n",
              "      border-left-color: var(--fill-color);\n",
              "      border-top-color: var(--fill-color);\n",
              "    }\n",
              "    30% {\n",
              "      border-color: transparent;\n",
              "      border-left-color: var(--fill-color);\n",
              "      border-top-color: var(--fill-color);\n",
              "      border-right-color: var(--fill-color);\n",
              "    }\n",
              "    40% {\n",
              "      border-color: transparent;\n",
              "      border-right-color: var(--fill-color);\n",
              "      border-top-color: var(--fill-color);\n",
              "    }\n",
              "    60% {\n",
              "      border-color: transparent;\n",
              "      border-right-color: var(--fill-color);\n",
              "    }\n",
              "    80% {\n",
              "      border-color: transparent;\n",
              "      border-right-color: var(--fill-color);\n",
              "      border-bottom-color: var(--fill-color);\n",
              "    }\n",
              "    90% {\n",
              "      border-color: transparent;\n",
              "      border-bottom-color: var(--fill-color);\n",
              "    }\n",
              "  }\n",
              "</style>\n",
              "\n",
              "  <script>\n",
              "    async function quickchart(key) {\n",
              "      const quickchartButtonEl =\n",
              "        document.querySelector('#' + key + ' button');\n",
              "      quickchartButtonEl.disabled = true;  // To prevent multiple clicks.\n",
              "      quickchartButtonEl.classList.add('colab-df-spinner');\n",
              "      try {\n",
              "        const charts = await google.colab.kernel.invokeFunction(\n",
              "            'suggestCharts', [key], {});\n",
              "      } catch (error) {\n",
              "        console.error('Error during call to suggestCharts:', error);\n",
              "      }\n",
              "      quickchartButtonEl.classList.remove('colab-df-spinner');\n",
              "      quickchartButtonEl.classList.add('colab-df-quickchart-complete');\n",
              "    }\n",
              "    (() => {\n",
              "      let quickchartButtonEl =\n",
              "        document.querySelector('#df-3e8bae6e-ce9c-4c9c-a28e-cc016a74076f button');\n",
              "      quickchartButtonEl.style.display =\n",
              "        google.colab.kernel.accessAllowed ? 'block' : 'none';\n",
              "    })();\n",
              "  </script>\n",
              "</div>\n",
              "\n",
              "  <div id=\"id_5e89bcce-962a-498e-b9d7-12ec108085f8\">\n",
              "    <style>\n",
              "      .colab-df-generate {\n",
              "        background-color: #E8F0FE;\n",
              "        border: none;\n",
              "        border-radius: 50%;\n",
              "        cursor: pointer;\n",
              "        display: none;\n",
              "        fill: #1967D2;\n",
              "        height: 32px;\n",
              "        padding: 0 0 0 0;\n",
              "        width: 32px;\n",
              "      }\n",
              "\n",
              "      .colab-df-generate:hover {\n",
              "        background-color: #E2EBFA;\n",
              "        box-shadow: 0px 1px 2px rgba(60, 64, 67, 0.3), 0px 1px 3px 1px rgba(60, 64, 67, 0.15);\n",
              "        fill: #174EA6;\n",
              "      }\n",
              "\n",
              "      [theme=dark] .colab-df-generate {\n",
              "        background-color: #3B4455;\n",
              "        fill: #D2E3FC;\n",
              "      }\n",
              "\n",
              "      [theme=dark] .colab-df-generate:hover {\n",
              "        background-color: #434B5C;\n",
              "        box-shadow: 0px 1px 3px 1px rgba(0, 0, 0, 0.15);\n",
              "        filter: drop-shadow(0px 1px 2px rgba(0, 0, 0, 0.3));\n",
              "        fill: #FFFFFF;\n",
              "      }\n",
              "    </style>\n",
              "    <button class=\"colab-df-generate\" onclick=\"generateWithVariable('compare_results')\"\n",
              "            title=\"Generate code using this dataframe.\"\n",
              "            style=\"display:none;\">\n",
              "\n",
              "  <svg xmlns=\"http://www.w3.org/2000/svg\" height=\"24px\"viewBox=\"0 0 24 24\"\n",
              "       width=\"24px\">\n",
              "    <path d=\"M7,19H8.4L18.45,9,17,7.55,7,17.6ZM5,21V16.75L18.45,3.32a2,2,0,0,1,2.83,0l1.4,1.43a1.91,1.91,0,0,1,.58,1.4,1.91,1.91,0,0,1-.58,1.4L9.25,21ZM18.45,9,17,7.55Zm-12,3A5.31,5.31,0,0,0,4.9,8.1,5.31,5.31,0,0,0,1,6.5,5.31,5.31,0,0,0,4.9,4.9,5.31,5.31,0,0,0,6.5,1,5.31,5.31,0,0,0,8.1,4.9,5.31,5.31,0,0,0,12,6.5,5.46,5.46,0,0,0,6.5,12Z\"/>\n",
              "  </svg>\n",
              "    </button>\n",
              "    <script>\n",
              "      (() => {\n",
              "      const buttonEl =\n",
              "        document.querySelector('#id_5e89bcce-962a-498e-b9d7-12ec108085f8 button.colab-df-generate');\n",
              "      buttonEl.style.display =\n",
              "        google.colab.kernel.accessAllowed ? 'block' : 'none';\n",
              "\n",
              "      buttonEl.onclick = () => {\n",
              "        google.colab.notebook.generateWithVariable('compare_results');\n",
              "      }\n",
              "      })();\n",
              "    </script>\n",
              "  </div>\n",
              "\n",
              "    </div>\n",
              "  </div>\n"
            ],
            "application/vnd.google.colaboratory.intrinsic+json": {
              "type": "dataframe",
              "variable_name": "compare_results",
              "summary": "{\n  \"name\": \"compare_results\",\n  \"rows\": 3,\n  \"fields\": [\n    {\n      \"column\": \"model_name\",\n      \"properties\": {\n        \"dtype\": \"string\",\n        \"num_unique_values\": 3,\n        \"samples\": [\n          \"FashionMNISTModelV0\",\n          \"FashionMNISTModelV1\",\n          \"FashionMNISTModelV2\"\n        ],\n        \"semantic_type\": \"\",\n        \"description\": \"\"\n      }\n    },\n    {\n      \"column\": \"model_loss\",\n      \"properties\": {\n        \"dtype\": \"number\",\n        \"std\": 0.2942447141490607,\n        \"min\": 0.32718968391418457,\n        \"max\": 0.8948529958724976,\n        \"num_unique_values\": 3,\n        \"samples\": [\n          0.47663894295692444,\n          0.8948529958724976,\n          0.32718968391418457\n        ],\n        \"semantic_type\": \"\",\n        \"description\": \"\"\n      }\n    },\n    {\n      \"column\": \"model_acc\",\n      \"properties\": {\n        \"dtype\": \"number\",\n        \"std\": 11.367474077563212,\n        \"min\": 66.47364217252397,\n        \"max\": 88.06908945686901,\n        \"num_unique_values\": 3,\n        \"samples\": [\n          83.42651757188499,\n          66.47364217252397,\n          88.06908945686901\n        ],\n        \"semantic_type\": \"\",\n        \"description\": \"\"\n      }\n    }\n  ]\n}"
            }
          },
          "metadata": {},
          "execution_count": 53
        }
      ]
    },
    {
      "cell_type": "code",
      "source": [
        "compare_results[\"training_time\"]=[total_train_time_model_0,\n",
        "                                  total_train_time_model_1,\n",
        "                                  total_train_time_model_2]\n",
        "compare_results"
      ],
      "metadata": {
        "colab": {
          "base_uri": "https://localhost:8080/",
          "height": 143
        },
        "id": "BDRG8aBJQVm8",
        "outputId": "4c036564-1391-4546-d139-928304232e3d"
      },
      "execution_count": null,
      "outputs": [
        {
          "output_type": "execute_result",
          "data": {
            "text/plain": [
              "            model_name  model_loss  model_acc  training_time\n",
              "0  FashionMNISTModelV0    0.476639  83.426518      39.710398\n",
              "1  FashionMNISTModelV1    0.894853  66.473642      29.029771\n",
              "2  FashionMNISTModelV2    0.327190  88.069089     165.779250"
            ],
            "text/html": [
              "\n",
              "  <div id=\"df-133b8e2c-2522-43d6-bbad-5788b4f4fdb2\" class=\"colab-df-container\">\n",
              "    <div>\n",
              "<style scoped>\n",
              "    .dataframe tbody tr th:only-of-type {\n",
              "        vertical-align: middle;\n",
              "    }\n",
              "\n",
              "    .dataframe tbody tr th {\n",
              "        vertical-align: top;\n",
              "    }\n",
              "\n",
              "    .dataframe thead th {\n",
              "        text-align: right;\n",
              "    }\n",
              "</style>\n",
              "<table border=\"1\" class=\"dataframe\">\n",
              "  <thead>\n",
              "    <tr style=\"text-align: right;\">\n",
              "      <th></th>\n",
              "      <th>model_name</th>\n",
              "      <th>model_loss</th>\n",
              "      <th>model_acc</th>\n",
              "      <th>training_time</th>\n",
              "    </tr>\n",
              "  </thead>\n",
              "  <tbody>\n",
              "    <tr>\n",
              "      <th>0</th>\n",
              "      <td>FashionMNISTModelV0</td>\n",
              "      <td>0.476639</td>\n",
              "      <td>83.426518</td>\n",
              "      <td>39.710398</td>\n",
              "    </tr>\n",
              "    <tr>\n",
              "      <th>1</th>\n",
              "      <td>FashionMNISTModelV1</td>\n",
              "      <td>0.894853</td>\n",
              "      <td>66.473642</td>\n",
              "      <td>29.029771</td>\n",
              "    </tr>\n",
              "    <tr>\n",
              "      <th>2</th>\n",
              "      <td>FashionMNISTModelV2</td>\n",
              "      <td>0.327190</td>\n",
              "      <td>88.069089</td>\n",
              "      <td>165.779250</td>\n",
              "    </tr>\n",
              "  </tbody>\n",
              "</table>\n",
              "</div>\n",
              "    <div class=\"colab-df-buttons\">\n",
              "\n",
              "  <div class=\"colab-df-container\">\n",
              "    <button class=\"colab-df-convert\" onclick=\"convertToInteractive('df-133b8e2c-2522-43d6-bbad-5788b4f4fdb2')\"\n",
              "            title=\"Convert this dataframe to an interactive table.\"\n",
              "            style=\"display:none;\">\n",
              "\n",
              "  <svg xmlns=\"http://www.w3.org/2000/svg\" height=\"24px\" viewBox=\"0 -960 960 960\">\n",
              "    <path d=\"M120-120v-720h720v720H120Zm60-500h600v-160H180v160Zm220 220h160v-160H400v160Zm0 220h160v-160H400v160ZM180-400h160v-160H180v160Zm440 0h160v-160H620v160ZM180-180h160v-160H180v160Zm440 0h160v-160H620v160Z\"/>\n",
              "  </svg>\n",
              "    </button>\n",
              "\n",
              "  <style>\n",
              "    .colab-df-container {\n",
              "      display:flex;\n",
              "      gap: 12px;\n",
              "    }\n",
              "\n",
              "    .colab-df-convert {\n",
              "      background-color: #E8F0FE;\n",
              "      border: none;\n",
              "      border-radius: 50%;\n",
              "      cursor: pointer;\n",
              "      display: none;\n",
              "      fill: #1967D2;\n",
              "      height: 32px;\n",
              "      padding: 0 0 0 0;\n",
              "      width: 32px;\n",
              "    }\n",
              "\n",
              "    .colab-df-convert:hover {\n",
              "      background-color: #E2EBFA;\n",
              "      box-shadow: 0px 1px 2px rgba(60, 64, 67, 0.3), 0px 1px 3px 1px rgba(60, 64, 67, 0.15);\n",
              "      fill: #174EA6;\n",
              "    }\n",
              "\n",
              "    .colab-df-buttons div {\n",
              "      margin-bottom: 4px;\n",
              "    }\n",
              "\n",
              "    [theme=dark] .colab-df-convert {\n",
              "      background-color: #3B4455;\n",
              "      fill: #D2E3FC;\n",
              "    }\n",
              "\n",
              "    [theme=dark] .colab-df-convert:hover {\n",
              "      background-color: #434B5C;\n",
              "      box-shadow: 0px 1px 3px 1px rgba(0, 0, 0, 0.15);\n",
              "      filter: drop-shadow(0px 1px 2px rgba(0, 0, 0, 0.3));\n",
              "      fill: #FFFFFF;\n",
              "    }\n",
              "  </style>\n",
              "\n",
              "    <script>\n",
              "      const buttonEl =\n",
              "        document.querySelector('#df-133b8e2c-2522-43d6-bbad-5788b4f4fdb2 button.colab-df-convert');\n",
              "      buttonEl.style.display =\n",
              "        google.colab.kernel.accessAllowed ? 'block' : 'none';\n",
              "\n",
              "      async function convertToInteractive(key) {\n",
              "        const element = document.querySelector('#df-133b8e2c-2522-43d6-bbad-5788b4f4fdb2');\n",
              "        const dataTable =\n",
              "          await google.colab.kernel.invokeFunction('convertToInteractive',\n",
              "                                                    [key], {});\n",
              "        if (!dataTable) return;\n",
              "\n",
              "        const docLinkHtml = 'Like what you see? Visit the ' +\n",
              "          '<a target=\"_blank\" href=https://colab.research.google.com/notebooks/data_table.ipynb>data table notebook</a>'\n",
              "          + ' to learn more about interactive tables.';\n",
              "        element.innerHTML = '';\n",
              "        dataTable['output_type'] = 'display_data';\n",
              "        await google.colab.output.renderOutput(dataTable, element);\n",
              "        const docLink = document.createElement('div');\n",
              "        docLink.innerHTML = docLinkHtml;\n",
              "        element.appendChild(docLink);\n",
              "      }\n",
              "    </script>\n",
              "  </div>\n",
              "\n",
              "\n",
              "<div id=\"df-2680d258-fc8e-4491-811f-d92937439bf5\">\n",
              "  <button class=\"colab-df-quickchart\" onclick=\"quickchart('df-2680d258-fc8e-4491-811f-d92937439bf5')\"\n",
              "            title=\"Suggest charts\"\n",
              "            style=\"display:none;\">\n",
              "\n",
              "<svg xmlns=\"http://www.w3.org/2000/svg\" height=\"24px\"viewBox=\"0 0 24 24\"\n",
              "     width=\"24px\">\n",
              "    <g>\n",
              "        <path d=\"M19 3H5c-1.1 0-2 .9-2 2v14c0 1.1.9 2 2 2h14c1.1 0 2-.9 2-2V5c0-1.1-.9-2-2-2zM9 17H7v-7h2v7zm4 0h-2V7h2v10zm4 0h-2v-4h2v4z\"/>\n",
              "    </g>\n",
              "</svg>\n",
              "  </button>\n",
              "\n",
              "<style>\n",
              "  .colab-df-quickchart {\n",
              "      --bg-color: #E8F0FE;\n",
              "      --fill-color: #1967D2;\n",
              "      --hover-bg-color: #E2EBFA;\n",
              "      --hover-fill-color: #174EA6;\n",
              "      --disabled-fill-color: #AAA;\n",
              "      --disabled-bg-color: #DDD;\n",
              "  }\n",
              "\n",
              "  [theme=dark] .colab-df-quickchart {\n",
              "      --bg-color: #3B4455;\n",
              "      --fill-color: #D2E3FC;\n",
              "      --hover-bg-color: #434B5C;\n",
              "      --hover-fill-color: #FFFFFF;\n",
              "      --disabled-bg-color: #3B4455;\n",
              "      --disabled-fill-color: #666;\n",
              "  }\n",
              "\n",
              "  .colab-df-quickchart {\n",
              "    background-color: var(--bg-color);\n",
              "    border: none;\n",
              "    border-radius: 50%;\n",
              "    cursor: pointer;\n",
              "    display: none;\n",
              "    fill: var(--fill-color);\n",
              "    height: 32px;\n",
              "    padding: 0;\n",
              "    width: 32px;\n",
              "  }\n",
              "\n",
              "  .colab-df-quickchart:hover {\n",
              "    background-color: var(--hover-bg-color);\n",
              "    box-shadow: 0 1px 2px rgba(60, 64, 67, 0.3), 0 1px 3px 1px rgba(60, 64, 67, 0.15);\n",
              "    fill: var(--button-hover-fill-color);\n",
              "  }\n",
              "\n",
              "  .colab-df-quickchart-complete:disabled,\n",
              "  .colab-df-quickchart-complete:disabled:hover {\n",
              "    background-color: var(--disabled-bg-color);\n",
              "    fill: var(--disabled-fill-color);\n",
              "    box-shadow: none;\n",
              "  }\n",
              "\n",
              "  .colab-df-spinner {\n",
              "    border: 2px solid var(--fill-color);\n",
              "    border-color: transparent;\n",
              "    border-bottom-color: var(--fill-color);\n",
              "    animation:\n",
              "      spin 1s steps(1) infinite;\n",
              "  }\n",
              "\n",
              "  @keyframes spin {\n",
              "    0% {\n",
              "      border-color: transparent;\n",
              "      border-bottom-color: var(--fill-color);\n",
              "      border-left-color: var(--fill-color);\n",
              "    }\n",
              "    20% {\n",
              "      border-color: transparent;\n",
              "      border-left-color: var(--fill-color);\n",
              "      border-top-color: var(--fill-color);\n",
              "    }\n",
              "    30% {\n",
              "      border-color: transparent;\n",
              "      border-left-color: var(--fill-color);\n",
              "      border-top-color: var(--fill-color);\n",
              "      border-right-color: var(--fill-color);\n",
              "    }\n",
              "    40% {\n",
              "      border-color: transparent;\n",
              "      border-right-color: var(--fill-color);\n",
              "      border-top-color: var(--fill-color);\n",
              "    }\n",
              "    60% {\n",
              "      border-color: transparent;\n",
              "      border-right-color: var(--fill-color);\n",
              "    }\n",
              "    80% {\n",
              "      border-color: transparent;\n",
              "      border-right-color: var(--fill-color);\n",
              "      border-bottom-color: var(--fill-color);\n",
              "    }\n",
              "    90% {\n",
              "      border-color: transparent;\n",
              "      border-bottom-color: var(--fill-color);\n",
              "    }\n",
              "  }\n",
              "</style>\n",
              "\n",
              "  <script>\n",
              "    async function quickchart(key) {\n",
              "      const quickchartButtonEl =\n",
              "        document.querySelector('#' + key + ' button');\n",
              "      quickchartButtonEl.disabled = true;  // To prevent multiple clicks.\n",
              "      quickchartButtonEl.classList.add('colab-df-spinner');\n",
              "      try {\n",
              "        const charts = await google.colab.kernel.invokeFunction(\n",
              "            'suggestCharts', [key], {});\n",
              "      } catch (error) {\n",
              "        console.error('Error during call to suggestCharts:', error);\n",
              "      }\n",
              "      quickchartButtonEl.classList.remove('colab-df-spinner');\n",
              "      quickchartButtonEl.classList.add('colab-df-quickchart-complete');\n",
              "    }\n",
              "    (() => {\n",
              "      let quickchartButtonEl =\n",
              "        document.querySelector('#df-2680d258-fc8e-4491-811f-d92937439bf5 button');\n",
              "      quickchartButtonEl.style.display =\n",
              "        google.colab.kernel.accessAllowed ? 'block' : 'none';\n",
              "    })();\n",
              "  </script>\n",
              "</div>\n",
              "\n",
              "  <div id=\"id_06a888f7-a6c0-4fc5-9ae6-9ba831452c21\">\n",
              "    <style>\n",
              "      .colab-df-generate {\n",
              "        background-color: #E8F0FE;\n",
              "        border: none;\n",
              "        border-radius: 50%;\n",
              "        cursor: pointer;\n",
              "        display: none;\n",
              "        fill: #1967D2;\n",
              "        height: 32px;\n",
              "        padding: 0 0 0 0;\n",
              "        width: 32px;\n",
              "      }\n",
              "\n",
              "      .colab-df-generate:hover {\n",
              "        background-color: #E2EBFA;\n",
              "        box-shadow: 0px 1px 2px rgba(60, 64, 67, 0.3), 0px 1px 3px 1px rgba(60, 64, 67, 0.15);\n",
              "        fill: #174EA6;\n",
              "      }\n",
              "\n",
              "      [theme=dark] .colab-df-generate {\n",
              "        background-color: #3B4455;\n",
              "        fill: #D2E3FC;\n",
              "      }\n",
              "\n",
              "      [theme=dark] .colab-df-generate:hover {\n",
              "        background-color: #434B5C;\n",
              "        box-shadow: 0px 1px 3px 1px rgba(0, 0, 0, 0.15);\n",
              "        filter: drop-shadow(0px 1px 2px rgba(0, 0, 0, 0.3));\n",
              "        fill: #FFFFFF;\n",
              "      }\n",
              "    </style>\n",
              "    <button class=\"colab-df-generate\" onclick=\"generateWithVariable('compare_results')\"\n",
              "            title=\"Generate code using this dataframe.\"\n",
              "            style=\"display:none;\">\n",
              "\n",
              "  <svg xmlns=\"http://www.w3.org/2000/svg\" height=\"24px\"viewBox=\"0 0 24 24\"\n",
              "       width=\"24px\">\n",
              "    <path d=\"M7,19H8.4L18.45,9,17,7.55,7,17.6ZM5,21V16.75L18.45,3.32a2,2,0,0,1,2.83,0l1.4,1.43a1.91,1.91,0,0,1,.58,1.4,1.91,1.91,0,0,1-.58,1.4L9.25,21ZM18.45,9,17,7.55Zm-12,3A5.31,5.31,0,0,0,4.9,8.1,5.31,5.31,0,0,0,1,6.5,5.31,5.31,0,0,0,4.9,4.9,5.31,5.31,0,0,0,6.5,1,5.31,5.31,0,0,0,8.1,4.9,5.31,5.31,0,0,0,12,6.5,5.46,5.46,0,0,0,6.5,12Z\"/>\n",
              "  </svg>\n",
              "    </button>\n",
              "    <script>\n",
              "      (() => {\n",
              "      const buttonEl =\n",
              "        document.querySelector('#id_06a888f7-a6c0-4fc5-9ae6-9ba831452c21 button.colab-df-generate');\n",
              "      buttonEl.style.display =\n",
              "        google.colab.kernel.accessAllowed ? 'block' : 'none';\n",
              "\n",
              "      buttonEl.onclick = () => {\n",
              "        google.colab.notebook.generateWithVariable('compare_results');\n",
              "      }\n",
              "      })();\n",
              "    </script>\n",
              "  </div>\n",
              "\n",
              "    </div>\n",
              "  </div>\n"
            ],
            "application/vnd.google.colaboratory.intrinsic+json": {
              "type": "dataframe",
              "variable_name": "compare_results",
              "summary": "{\n  \"name\": \"compare_results\",\n  \"rows\": 3,\n  \"fields\": [\n    {\n      \"column\": \"model_name\",\n      \"properties\": {\n        \"dtype\": \"string\",\n        \"num_unique_values\": 3,\n        \"samples\": [\n          \"FashionMNISTModelV0\",\n          \"FashionMNISTModelV1\",\n          \"FashionMNISTModelV2\"\n        ],\n        \"semantic_type\": \"\",\n        \"description\": \"\"\n      }\n    },\n    {\n      \"column\": \"model_loss\",\n      \"properties\": {\n        \"dtype\": \"number\",\n        \"std\": 0.2942447141490607,\n        \"min\": 0.32718968391418457,\n        \"max\": 0.8948529958724976,\n        \"num_unique_values\": 3,\n        \"samples\": [\n          0.47663894295692444,\n          0.8948529958724976,\n          0.32718968391418457\n        ],\n        \"semantic_type\": \"\",\n        \"description\": \"\"\n      }\n    },\n    {\n      \"column\": \"model_acc\",\n      \"properties\": {\n        \"dtype\": \"number\",\n        \"std\": 11.367474077563212,\n        \"min\": 66.47364217252397,\n        \"max\": 88.06908945686901,\n        \"num_unique_values\": 3,\n        \"samples\": [\n          83.42651757188499,\n          66.47364217252397,\n          88.06908945686901\n        ],\n        \"semantic_type\": \"\",\n        \"description\": \"\"\n      }\n    },\n    {\n      \"column\": \"training_time\",\n      \"properties\": {\n        \"dtype\": \"number\",\n        \"std\": 76.05683340468401,\n        \"min\": 29.029770626999976,\n        \"max\": 165.779250074,\n        \"num_unique_values\": 3,\n        \"samples\": [\n          39.710397775000004,\n          29.029770626999976,\n          165.779250074\n        ],\n        \"semantic_type\": \"\",\n        \"description\": \"\"\n      }\n    }\n  ]\n}"
            }
          },
          "metadata": {},
          "execution_count": 54
        }
      ]
    },
    {
      "cell_type": "code",
      "source": [
        "compare_results.set_index(\"model_name\")[\"model_acc\"].plot(kind=\"barh\")\n",
        "plt.xlabel(\"accuracy(%)\")\n",
        "plt.ylabel(\"model\");"
      ],
      "metadata": {
        "colab": {
          "base_uri": "https://localhost:8080/",
          "height": 414
        },
        "id": "kH1nI_-2RYw6",
        "outputId": "36f763f4-fad1-4cd0-dd2b-7d33353501b0"
      },
      "execution_count": null,
      "outputs": [
        {
          "output_type": "display_data",
          "data": {
            "text/plain": [
              "<Figure size 640x480 with 1 Axes>"
            ],
            "image/png": "[encoded data removed]"
          },
          "metadata": {}
        }
      ]
    },
    {
      "cell_type": "code",
      "source": [
        "def make_predictions(model:torch.nn.Module,\n",
        "                     data:list,\n",
        "                     device:torch.device=device):\n",
        "  pred_probs=[]\n",
        "  model.to(device)\n",
        "  model.eval()\n",
        "  with torch.inference_mode():\n",
        "    for sample in data:\n",
        "      sample=torch.unsqueeze(sample,dim=0).to(device)\n",
        "      pred_logit=model(sample)\n",
        "      pred_prob=torch.softmax(pred_logit.squeeze(),dim=0)\n",
        "      pred_probs.append(pred_prob.cpu())\n",
        "  return torch.stack(pred_probs)"
      ],
      "metadata": {
        "id": "WBumFen6To9W"
      },
      "execution_count": null,
      "outputs": []
    },
    {
      "cell_type": "code",
      "source": [
        "img,label=test_data[0][:10]\n",
        "img.shape,label"
      ],
      "metadata": {
        "colab": {
          "base_uri": "https://localhost:8080/"
        },
        "id": "SGHBCj_mXJv9",
        "outputId": "6a229289-0cc3-4926-a143-3c9ceece1443"
      },
      "execution_count": null,
      "outputs": [
        {
          "output_type": "execute_result",
          "data": {
            "text/plain": [
              "(torch.Size([1, 28, 28]), 9)"
            ]
          },
          "metadata": {},
          "execution_count": 57
        }
      ]
    },
    {
      "cell_type": "code",
      "source": [
        "import random\n",
        "random.seed(42)\n",
        "test_samples=[]\n",
        "test_labels=[]\n",
        "for sample,label in random.sample(list(test_data),k=9):\n",
        "  test_samples.append(sample)\n",
        "  test_labels.append(label)\n",
        "test_samples[0].shape"
      ],
      "metadata": {
        "colab": {
          "base_uri": "https://localhost:8080/"
        },
        "id": "bnqqXAstYVwf",
        "outputId": "eb9b1c71-4150-42ce-ec6c-11937b844375"
      },
      "execution_count": null,
      "outputs": [
        {
          "output_type": "execute_result",
          "data": {
            "text/plain": [
              "torch.Size([1, 28, 28])"
            ]
          },
          "metadata": {},
          "execution_count": 58
        }
      ]
    },
    {
      "cell_type": "code",
      "source": [
        "plt.imshow(test_samples[0].squeeze(),cmap=\"grey\")\n",
        "plt.title(class_names[test_labels[0]])"
      ],
      "metadata": {
        "colab": {
          "base_uri": "https://localhost:8080/",
          "height": 469
        },
        "id": "3As-D0PRaLUe",
        "outputId": "d81cf6a3-edfe-4930-f5fa-c03902b40930"
      },
      "execution_count": null,
      "outputs": [
        {
          "output_type": "execute_result",
          "data": {
            "text/plain": [
              "Text(0.5, 1.0, 'Sandal')"
            ]
          },
          "metadata": {},
          "execution_count": 59
        },
        {
          "output_type": "display_data",
          "data": {
            "text/plain": [
              "<Figure size 640x480 with 1 Axes>"
            ],
            "image/png": "[encoded data removed]"
          },
          "metadata": {}
        }
      ]
    },
    {
      "cell_type": "code",
      "source": [
        "pred_probs=make_predictions(model=model_2,\n",
        "                            data=test_samples)\n",
        "pred_probs[:2]"
      ],
      "metadata": {
        "colab": {
          "base_uri": "https://localhost:8080/"
        },
        "id": "RwslpyHyaVKK",
        "outputId": "1f9fe472-95f5-4e95-f3dc-e98726a26dc8"
      },
      "execution_count": null,
      "outputs": [
        {
          "output_type": "execute_result",
          "data": {
            "text/plain": [
              "tensor([[1.4021e-06, 1.7343e-07, 4.4511e-07, 1.2103e-05, 5.4026e-07, 9.9938e-01,\n",
              "         3.7154e-06, 2.1650e-04, 1.4199e-04, 2.4416e-04],\n",
              "        [1.0080e-01, 5.6287e-01, 7.4506e-04, 1.1212e-01, 6.3881e-02, 3.0674e-04,\n",
              "         1.5560e-01, 1.6463e-03, 1.0169e-03, 1.0133e-03]])"
            ]
          },
          "metadata": {},
          "execution_count": 60
        }
      ]
    },
    {
      "cell_type": "code",
      "source": [
        "test_labels"
      ],
      "metadata": {
        "colab": {
          "base_uri": "https://localhost:8080/"
        },
        "id": "XTbpLgU0dqU_",
        "outputId": "dfe45436-4ad7-4fd6-8aa2-009de32e1e2a"
      },
      "execution_count": null,
      "outputs": [
        {
          "output_type": "execute_result",
          "data": {
            "text/plain": [
              "[5, 1, 7, 4, 3, 0, 4, 7, 1]"
            ]
          },
          "metadata": {},
          "execution_count": 61
        }
      ]
    },
    {
      "cell_type": "code",
      "source": [
        "pred_classes=pred_probs.argmax(dim=1)\n",
        "pred_classes"
      ],
      "metadata": {
        "colab": {
          "base_uri": "https://localhost:8080/"
        },
        "id": "uVqW00wReNxh",
        "outputId": "18a1b360-0d7e-46c4-e849-7e7cd8acfe5e"
      },
      "execution_count": null,
      "outputs": [
        {
          "output_type": "execute_result",
          "data": {
            "text/plain": [
              "tensor([5, 1, 7, 4, 3, 0, 4, 7, 1])"
            ]
          },
          "metadata": {},
          "execution_count": 62
        }
      ]
    },
    {
      "cell_type": "code",
      "source": [
        "plt.figure(figsize=(9,9))\n",
        "nrows=3\n",
        "ncols=3\n",
        "for i,sample in enumerate(test_samples):\n",
        "  plt.subplot(nrows,ncols,i+1)\n",
        "  plt.imshow(sample.squeeze(),cmap=\"grey\")\n",
        "  pred_label=class_names[pred_classes[i]]\n",
        "  truth_label=class_names[test_labels[i]]\n",
        "  title_text=f\"Pred: {pred_label} | Truth: {truth_label}\"\n",
        "  if pred_label == truth_label:\n",
        "    plt.title(title_text,fontsize=10,c=\"g\")\n",
        "  else:\n",
        "    plt.title(title_text,fontsize=10,c=\"r\")\n",
        "  plt.axis(False)"
      ],
      "metadata": {
        "colab": {
          "base_uri": "https://localhost:8080/",
          "height": 661
        },
        "id": "wewHTCXkeb5E",
        "outputId": "c77bcf46-d3f7-4c06-f03a-e2aae3161569"
      },
      "execution_count": null,
      "outputs": [
        {
          "output_type": "display_data",
          "data": {
            "text/plain": [
              "<Figure size 900x900 with 9 Axes>"
            ],
            "image/png": "[encoded data removed]"
          },
          "metadata": {}
        }
      ]
    },
    {
      "cell_type": "code",
      "source": [
        "import mlxtend"
      ],
      "metadata": {
        "id": "Vz0AmIDbcRXj"
      },
      "execution_count": null,
      "outputs": []
    },
    {
      "cell_type": "code",
      "source": [
        "mlxtend.__version__"
      ],
      "metadata": {
        "colab": {
          "base_uri": "https://localhost:8080/",
          "height": 36
        },
        "id": "6igbGhqoiHkZ",
        "outputId": "1d4f52a2-5b01-4aa4-f938-eed487dafd4a"
      },
      "execution_count": null,
      "outputs": [
        {
          "output_type": "execute_result",
          "data": {
            "text/plain": [
              "'0.23.4'"
            ],
            "application/vnd.google.colaboratory.intrinsic+json": {
              "type": "string"
            }
          },
          "metadata": {},
          "execution_count": 65
        }
      ]
    },
    {
      "cell_type": "code",
      "source": [
        "from tqdm.auto import tqdm\n",
        "y_preds=[]\n",
        "model_2.eval()\n",
        "with torch.inference_mode():\n",
        "  for x,y in tqdm(test_dataloader,desc=\"Making predictions\"):\n",
        "    x,y=x.to(device),y.to(device)\n",
        "    y_logit=model_2(x)\n",
        "    y_pred=torch.softmax(y_logit.squeeze(),dim=0).argmax(dim=1)\n",
        "    y_preds.append(y_pred.cpu())\n",
        "print(y_preds)\n",
        "y_pred_tensor=torch.cat(y_preds)\n",
        "y_pred_tensor[:10]"
      ],
      "metadata": {
        "colab": {
          "base_uri": "https://localhost:8080/",
          "height": 1000,
          "referenced_widgets": [
            "3b2ef4b1e3c64f258dc5334821c92b72",
            "c4efb6f93ff246e29c19af280bdee8a3",
            "a247d5a242384b8eab215ffd486c3d59",
            "d95ae3cb2d0b4cf4aa60d70a5e4588e6",
            "f6fdcbdcf4b440a983821d66c1f83c70",
            "0b0bad67e0e445f6870d229a26ce6046",
            "778c61f18d1948b28acd18f348ec3ce2",
            "e7493a5fe6fd4219afc206585d9bbaed",
            "911ef58e8f4f41aaaa9899256b935e07",
            "e6e4e4e754614b7682bd7b61dc49b88b",
            "cfdbe3f8889c493aa72eb68c16dd1126"
          ]
        },
        "id": "PP0jRV-sih4g",
        "outputId": "4502dd12-89ce-460b-b675-433270448281"
      },
      "execution_count": null,
      "outputs": [
        {
          "output_type": "display_data",
          "data": {
            "text/plain": [
              "Making predictions:   0%|          | 0/313 [00:00<?, ?it/s]"
            ],
            "application/vnd.jupyter.widget-view+json": {
              "version_major": 2,
              "version_minor": 0,
              "model_id": "3b2ef4b1e3c64f258dc5334821c92b72"
            }
          },
          "metadata": {}
        },
        {
          "output_type": "stream",
          "name": "stdout",
          "text": [
            "[tensor([9, 2, 1, 1, 6, 1, 4, 6, 5, 7, 4, 5, 5, 3, 4, 1, 2, 4, 8, 0, 2, 9, 7, 5,\n",
            "        1, 2, 6, 3, 9, 3, 8, 8]), tensor([3, 3, 8, 0, 7, 5, 7, 9, 6, 1, 3, 9, 6, 7, 2, 1, 4, 6, 4, 4, 5, 8, 2, 2,\n",
            "        8, 4, 8, 0, 7, 7, 8, 5]), tensor([1, 3, 3, 3, 7, 8, 7, 0, 2, 6, 2, 3, 1, 2, 8, 4, 3, 8, 5, 9, 5, 0, 3, 2,\n",
            "        0, 2, 5, 3, 6, 7, 1, 8]), tensor([6, 1, 6, 2, 3, 6, 7, 6, 7, 8, 5, 9, 9, 4, 2, 5, 7, 6, 5, 2, 8, 6, 7, 8,\n",
            "        0, 0, 9, 9, 3, 0, 8, 4]), tensor([1, 5, 4, 1, 9, 1, 8, 6, 6, 1, 2, 5, 1, 6, 0, 0, 1, 6, 1, 3, 2, 2, 2, 4,\n",
            "        1, 4, 5, 6, 4, 7, 9, 3]), tensor([8, 2, 3, 8, 0, 9, 4, 8, 4, 2, 6, 5, 6, 1, 2, 1, 3, 6, 8, 1, 0, 9, 3, 6,\n",
            "        7, 9, 9, 4, 4, 7, 1, 2]), tensor([3, 6, 3, 6, 8, 3, 6, 1, 1, 6, 2, 9, 2, 4, 0, 7, 9, 8, 4, 1, 6, 4, 1, 3,\n",
            "        1, 6, 7, 2, 8, 5, 6, 0]), tensor([7, 7, 6, 3, 7, 0, 7, 8, 9, 2, 9, 0, 5, 1, 3, 2, 5, 4, 9, 2, 2, 8, 6, 4,\n",
            "        6, 2, 9, 7, 3, 5, 5, 4]), tensor([8, 5, 2, 3, 0, 4, 8, 6, 0, 6, 3, 8, 9, 6, 1, 3, 0, 2, 3, 0, 8, 3, 7, 2,\n",
            "        0, 1, 6, 3, 6, 2, 6, 7]), tensor([8, 3, 8, 9, 5, 6, 5, 5, 1, 9, 8, 3, 3, 3, 6, 8, 0, 0, 2, 9, 7, 7, 1, 3,\n",
            "        8, 6, 2, 4, 7, 1, 6, 4]), tensor([8, 2, 6, 5, 6, 2, 8, 7, 7, 3, 3, 8, 0, 7, 1, 3, 7, 2, 2, 3, 4, 0, 0, 1,\n",
            "        0, 1, 9, 4, 9, 9, 1, 7]), tensor([8, 3, 6, 0, 2, 4, 8, 6, 1, 2, 2, 4, 4, 7, 3, 2, 2, 8, 0, 7, 9, 4, 0, 9,\n",
            "        3, 9, 8, 2, 5, 6, 0, 3]), tensor([5, 8, 1, 6, 2, 2, 6, 4, 9, 5, 2, 0, 6, 6, 1, 2, 0, 9, 7, 0, 3, 4, 3, 6,\n",
            "        2, 3, 3, 6, 7, 3, 9, 4]), tensor([2, 1, 5, 4, 5, 3, 6, 5, 8, 4, 4, 8, 9, 8, 6, 2, 4, 2, 2, 4, 1, 6, 1, 3,\n",
            "        0, 7, 8, 8, 6, 5, 3, 1]), tensor([9, 5, 3, 3, 6, 1, 6, 2, 9, 4, 6, 6, 1, 4, 2, 0, 0, 3, 3, 8, 2, 8, 9, 4,\n",
            "        0, 7, 6, 4, 6, 9, 2, 9]), tensor([7, 9, 3, 7, 5, 7, 8, 1, 6, 0, 6, 6, 8, 9, 7, 9, 1, 2, 7, 3, 2, 0, 5, 9,\n",
            "        1, 8, 2, 2, 2, 2, 4, 4]), tensor([6, 0, 9, 0, 7, 1, 9, 0, 6, 8, 3, 0, 7, 2, 6, 6, 8, 0, 2, 0, 5, 0, 7, 5,\n",
            "        0, 9, 4, 3, 6, 2, 7, 1]), tensor([3, 1, 2, 6, 2, 9, 6, 3, 5, 1, 3, 1, 9, 3, 4, 5, 3, 6, 2, 6, 4, 6, 0, 5,\n",
            "        8, 3, 3, 4, 6, 7, 7, 8]), tensor([9, 0, 3, 8, 7, 6, 7, 9, 3, 2, 6, 3, 8, 0, 1, 3, 5, 9, 4, 2, 5, 7, 8, 1,\n",
            "        4, 9, 8, 7, 1, 0, 9, 3]), tensor([4, 9, 0, 5, 1, 8, 2, 7, 1, 2, 3, 8, 2, 4, 6, 9, 3, 0, 7, 8, 8, 2, 9, 4,\n",
            "        1, 6, 4, 1, 0, 1, 4, 1]), tensor([7, 5, 8, 3, 9, 1, 0, 5, 4, 4, 4, 6, 0, 4, 5, 6, 0, 3, 5, 2, 1, 3, 1, 3,\n",
            "        6, 2, 3, 8, 2, 8, 6, 7]), tensor([0, 4, 1, 8, 5, 0, 8, 2, 7, 2, 8, 9, 6, 4, 2, 9, 2, 4, 5, 0, 9, 5, 3, 4,\n",
            "        6, 2, 3, 1, 8, 1, 4, 0]), tensor([9, 7, 7, 4, 8, 9, 1, 3, 7, 3, 0, 2, 4, 7, 1, 0, 6, 8, 7, 2, 4, 4, 4, 4,\n",
            "        1, 5, 9, 3, 2, 1, 6, 5]), tensor([0, 6, 4, 3, 3, 8, 1, 1, 8, 5, 7, 9, 8, 7, 2, 0, 7, 3, 8, 0, 9, 7, 6, 1,\n",
            "        6, 2, 4, 8, 6, 6, 3, 6]), tensor([8, 6, 0, 8, 9, 2, 4, 5, 9, 1, 6, 4, 9, 2, 3, 7, 9, 7, 8, 3, 7, 7, 3, 1,\n",
            "        1, 6, 9, 5, 3, 8, 4, 2]), tensor([9, 0, 8, 3, 2, 2, 4, 7, 1, 4, 9, 0, 5, 8, 5, 4, 7, 2, 8, 5, 9, 0, 3, 6,\n",
            "        7, 1, 7, 0, 7, 4, 6, 8]), tensor([8, 3, 9, 1, 2, 6, 1, 9, 3, 2, 7, 1, 3, 7, 5, 9, 9, 1, 8, 4, 5, 7, 1, 9,\n",
            "        6, 1, 0, 0, 2, 1, 7, 1]), tensor([1, 8, 7, 1, 5, 2, 2, 3, 3, 1, 1, 4, 9, 4, 3, 7, 7, 0, 8, 9, 9, 6, 1, 3,\n",
            "        4, 0, 3, 5, 9, 2, 0, 5]), tensor([5, 1, 5, 7, 8, 7, 9, 3, 6, 4, 0, 4, 0, 2, 0, 2, 5, 5, 1, 2, 0, 9, 3, 7,\n",
            "        8, 4, 8, 3, 4, 7, 0, 7]), tensor([4, 8, 6, 3, 4, 2, 3, 4, 9, 6, 2, 4, 9, 1, 8, 1, 7, 5, 5, 6, 3, 2, 1, 6,\n",
            "        5, 4, 0, 0, 2, 7, 8, 0]), tensor([2, 5, 9, 4, 8, 6, 3, 3, 6, 2, 9, 3, 7, 7, 1, 4, 4, 0, 5, 0, 9, 9, 8, 8,\n",
            "        2, 0, 2, 4, 6, 6, 3, 2]), tensor([3, 7, 4, 9, 3, 4, 7, 7, 0, 3, 9, 5, 6, 4, 5, 9, 6, 3, 7, 5, 1, 9, 8, 8,\n",
            "        9, 9, 2, 9, 2, 2, 3, 8]), tensor([7, 4, 4, 5, 2, 8, 6, 1, 4, 9, 3, 1, 6, 8, 0, 5, 7, 8, 2, 3, 3, 9, 6, 3,\n",
            "        6, 0, 6, 8, 0, 2, 8, 2]), tensor([6, 3, 4, 7, 0, 2, 1, 1, 3, 6, 6, 5, 9, 0, 1, 6, 5, 1, 4, 4, 8, 4, 7, 7,\n",
            "        3, 8, 3, 1, 9, 8, 1, 3]), tensor([3, 7, 5, 0, 5, 7, 8, 9, 2, 0, 5, 8, 4, 6, 3, 8, 6, 0, 5, 2, 9, 1, 0, 0,\n",
            "        5, 4, 8, 6, 2, 1, 1, 7]), tensor([9, 1, 2, 7, 1, 1, 8, 2, 2, 0, 1, 4, 4, 9, 6, 8, 4, 5, 9, 0, 3, 9, 6, 9,\n",
            "        8, 7, 4, 2, 2, 5, 1, 7]), tensor([0, 7, 2, 9, 3, 7, 0, 9, 3, 8, 4, 4, 7, 2, 3, 6, 2, 0, 7, 8, 4, 2, 4, 5,\n",
            "        5, 6, 3, 5, 5, 8, 1, 3]), tensor([7, 4, 4, 9, 6, 8, 7, 2, 2, 1, 2, 7, 7, 4, 9, 8, 5, 1, 3, 3, 2, 3, 9, 3,\n",
            "        1, 9, 3, 5, 5, 3, 0, 7]), tensor([0, 2, 3, 1, 3, 1, 3, 6, 7, 2, 4, 9, 5, 2, 9, 6, 3, 4, 4, 0, 8, 5, 2, 2,\n",
            "        8, 6, 1, 8, 2, 7, 4, 4]), tensor([8, 3, 2, 4, 0, 6, 3, 6, 8, 3, 8, 2, 0, 4, 3, 8, 8, 4, 5, 2, 2, 3, 0, 1,\n",
            "        7, 0, 9, 1, 7, 3, 5, 2]), tensor([2, 7, 3, 8, 9, 6, 8, 0, 7, 5, 5, 9, 5, 0, 6, 0, 3, 2, 4, 4, 2, 7, 1, 3,\n",
            "        4, 2, 6, 5, 1, 6, 7, 3]), tensor([4, 8, 8, 4, 8, 9, 4, 1, 6, 5, 2, 7, 8, 5, 3, 8, 5, 2, 2, 8, 9, 8, 3, 3,\n",
            "        0, 8, 8, 3, 0, 9, 4, 4]), tensor([8, 1, 3, 6, 1, 9, 2, 1, 6, 2, 7, 9, 2, 6, 3, 4, 4, 2, 4, 5, 6, 2, 8, 3,\n",
            "        7, 4, 4, 0, 0, 5, 4, 8]), tensor([2, 6, 2, 0, 2, 1, 7, 9, 5, 4, 7, 2, 2, 9, 3, 3, 1, 3, 6, 6, 6, 1, 9, 6,\n",
            "        4, 7, 1, 0, 6, 5, 8, 4]), tensor([2, 7, 9, 8, 0, 7, 9, 5, 1, 2, 9, 8, 8, 3, 9, 9, 1, 2, 7, 8, 0, 1, 7, 2,\n",
            "        7, 1, 1, 8, 5, 6, 4, 2]), tensor([9, 5, 5, 2, 3, 9, 3, 8, 5, 4, 6, 3, 6, 5, 7, 6, 8, 2, 6, 4, 6, 7, 6, 0,\n",
            "        5, 1, 7, 2, 3, 6, 8, 9]), tensor([8, 7, 1, 2, 3, 2, 9, 7, 5, 6, 0, 0, 7, 1, 2, 4, 9, 3, 6, 4, 4, 3, 0, 0,\n",
            "        2, 3, 6, 1, 3, 5, 2, 5]), tensor([0, 9, 1, 1, 8, 2, 9, 5, 0, 5, 4, 6, 7, 1, 1, 5, 3, 8, 7, 8, 3, 8, 9, 2,\n",
            "        2, 1, 1, 3, 5, 6, 7, 1]), tensor([9, 9, 2, 2, 7, 0, 1, 3, 9, 6, 3, 5, 2, 8, 1, 8, 0, 7, 9, 8, 5, 8, 2, 6,\n",
            "        4, 6, 6, 5, 8, 3, 8, 5]), tensor([5, 7, 3, 7, 6, 7, 0, 2, 2, 5, 3, 5, 1, 1, 7, 7, 6, 6, 6, 4, 2, 8, 6, 3,\n",
            "        8, 4, 9, 9, 4, 5, 2, 2]), tensor([7, 8, 6, 7, 9, 1, 2, 9, 4, 9, 3, 6, 3, 3, 1, 8, 8, 5, 3, 8, 0, 6, 6, 3,\n",
            "        6, 0, 2, 7, 3, 2, 8, 3]), tensor([9, 7, 3, 1, 7, 5, 8, 8, 6, 3, 8, 4, 4, 8, 5, 7, 0, 6, 2, 7, 7, 3, 9, 4,\n",
            "        5, 9, 7, 3, 7, 2, 4, 5]), tensor([1, 6, 7, 4, 5, 0, 2, 2, 1, 4, 4, 8, 6, 7, 9, 4, 1, 1, 7, 2, 3, 8, 6, 3,\n",
            "        9, 7, 5, 3, 8, 8, 8, 7]), tensor([1, 1, 6, 4, 1, 4, 3, 4, 9, 5, 6, 0, 6, 9, 4, 9, 6, 6, 3, 8, 9, 2, 5, 4,\n",
            "        8, 0, 7, 2, 3, 6, 4, 5]), tensor([6, 1, 9, 6, 2, 2, 5, 9, 0, 8, 3, 2, 6, 6, 0, 4, 2, 4, 6, 5, 0, 2, 7, 8,\n",
            "        7, 4, 3, 6, 0, 5, 2, 4]), tensor([2, 9, 5, 2, 6, 7, 0, 1, 9, 5, 5, 6, 3, 7, 5, 0, 5, 3, 3, 4, 7, 9, 8, 2,\n",
            "        4, 7, 3, 3, 7, 7, 7, 8]), tensor([4, 9, 8, 7, 6, 8, 8, 5, 1, 3, 0, 4, 9, 9, 8, 3, 7, 0, 3, 4, 9, 3, 3, 1,\n",
            "        8, 9, 1, 8, 7, 2, 8, 4]), tensor([5, 7, 6, 7, 5, 5, 4, 0, 7, 6, 3, 2, 0, 2, 9, 9, 0, 6, 6, 8, 3, 8, 6, 4,\n",
            "        4, 1, 8, 2, 6, 5, 0, 4]), tensor([4, 3, 0, 0, 1, 6, 8, 4, 9, 0, 7, 6, 7, 7, 1, 5, 8, 7, 2, 9, 9, 1, 2, 6,\n",
            "        1, 1, 1, 8, 8, 1, 4, 7]), tensor([5, 2, 0, 8, 4, 8, 9, 4, 1, 3, 3, 9, 8, 3, 3, 3, 8, 6, 9, 5, 7, 6, 0, 3,\n",
            "        2, 1, 1, 7, 9, 2, 2, 0]), tensor([3, 6, 4, 8, 1, 9, 2, 4, 2, 2, 3, 8, 7, 1, 8, 5, 5, 9, 9, 6, 6, 2, 9, 3,\n",
            "        4, 3, 5, 5, 3, 6, 1, 0]), tensor([3, 7, 7, 3, 7, 4, 5, 7, 9, 8, 9, 1, 4, 8, 3, 2, 3, 6, 0, 8, 3, 8, 3, 8,\n",
            "        6, 0, 8, 8, 4, 2, 9, 3]), tensor([2, 0, 8, 5, 9, 0, 3, 1, 1, 9, 5, 1, 3, 3, 6, 0, 8, 4, 1, 3, 8, 8, 6, 7,\n",
            "        5, 6, 6, 7, 3, 3, 2, 4]), tensor([6, 5, 5, 6, 2, 3, 9, 1, 1, 7, 3, 8, 7, 2, 2, 9, 3, 9, 9, 0, 1, 7, 1, 2,\n",
            "        8, 1, 6, 9, 3, 4, 0, 6]), tensor([5, 6, 9, 9, 5, 5, 7, 0, 9, 3, 3, 6, 9, 8, 4, 2, 6, 3, 9, 2, 3, 6, 7, 4,\n",
            "        0, 6, 8, 1, 8, 7, 4, 4]), tensor([5, 2, 2, 9, 1, 9, 4, 9, 1, 3, 2, 8, 8, 7, 7, 7, 7, 2, 6, 0, 7, 5, 8, 5,\n",
            "        3, 0, 2, 4, 9, 2, 6, 3]), tensor([1, 9, 3, 1, 2, 2, 2, 3, 8, 5, 7, 6, 4, 8, 1, 2, 8, 5, 4, 2, 8, 1, 5, 9,\n",
            "        3, 6, 6, 4, 0, 1, 8, 7]), tensor([6, 6, 7, 7, 6, 6, 4, 3, 4, 7, 8, 7, 2, 8, 0, 8, 7, 6, 4, 2, 7, 0, 9, 9,\n",
            "        3, 1, 5, 9, 3, 1, 6, 3]), tensor([3, 8, 9, 7, 9, 8, 3, 8, 9, 3, 7, 9, 3, 6, 0, 0, 5, 7, 7, 2, 4, 8, 3, 1,\n",
            "        1, 9, 4, 3, 9, 5, 8, 7]), tensor([2, 4, 9, 0, 2, 1, 9, 7, 1, 5, 0, 5, 5, 3, 3, 0, 6, 3, 3, 7, 4, 2, 6, 8,\n",
            "        5, 9, 2, 1, 3, 5, 5, 8]), tensor([5, 3, 7, 4, 4, 3, 9, 6, 0, 3, 9, 1, 4, 3, 1, 5, 3, 8, 5, 1, 1, 2, 9, 4,\n",
            "        0, 5, 2, 8, 6, 2, 9, 8]), tensor([2, 4, 8, 3, 8, 0, 4, 2, 6, 4, 8, 5, 2, 9, 0, 9, 5, 8, 0, 9, 1, 2, 7, 2,\n",
            "        1, 6, 3, 3, 4, 5, 2, 4]), tensor([8, 7, 5, 2, 6, 6, 8, 3, 3, 1, 9, 2, 9, 7, 2, 6, 4, 8, 3, 4, 8, 5, 6, 8,\n",
            "        3, 3, 1, 4, 2, 0, 4, 9]), tensor([6, 4, 1, 9, 9, 8, 1, 4, 8, 3, 3, 3, 8, 5, 9, 2, 4, 8, 7, 6, 3, 6, 4, 4,\n",
            "        5, 7, 5, 0, 7, 9, 1, 2]), tensor([4, 8, 9, 3, 5, 2, 2, 4, 6, 7, 8, 9, 1, 8, 2, 5, 5, 3, 1, 1, 8, 8, 3, 6,\n",
            "        7, 0, 1, 8, 2, 6, 2, 9]), tensor([8, 9, 8, 8, 6, 9, 1, 8, 2, 2, 7, 7, 6, 5, 1, 1, 0, 6, 2, 3, 0, 2, 3, 5,\n",
            "        1, 2, 3, 3, 4, 6, 5, 6]), tensor([9, 8, 3, 3, 1, 0, 2, 1, 4, 4, 6, 8, 2, 7, 0, 2, 9, 5, 3, 6, 0, 7, 0, 3,\n",
            "        9, 7, 3, 6, 1, 9, 4, 1]), tensor([0, 4, 5, 4, 1, 2, 8, 5, 7, 4, 5, 3, 3, 8, 3, 6, 6, 8, 9, 0, 5, 6, 2, 6,\n",
            "        7, 3, 2, 2, 8, 7, 7, 2]), tensor([3, 1, 6, 3, 6, 2, 7, 4, 1, 2, 6, 3, 3, 4, 8, 5, 6, 8, 5, 2, 7, 8, 1, 5,\n",
            "        9, 8, 6, 9, 0, 9, 3, 7]), tensor([5, 7, 9, 6, 0, 7, 1, 5, 5, 9, 5, 4, 4, 2, 4, 5, 9, 7, 3, 2, 6, 9, 9, 3,\n",
            "        2, 1, 3, 7, 1, 8, 7, 7]), tensor([1, 8, 9, 3, 7, 7, 7, 1, 7, 4, 4, 6, 2, 4, 5, 2, 8, 9, 6, 8, 0, 0, 7, 7,\n",
            "        5, 0, 1, 9, 2, 6, 4, 9]), tensor([2, 2, 6, 9, 1, 0, 5, 8, 9, 2, 8, 2, 3, 6, 0, 7, 4, 8, 7, 4, 1, 7, 8, 2,\n",
            "        0, 6, 4, 4, 1, 8, 6, 9]), tensor([2, 9, 6, 5, 2, 3, 3, 8, 6, 2, 0, 7, 2, 4, 0, 3, 1, 3, 8, 1, 7, 7, 2, 6,\n",
            "        3, 1, 2, 7, 2, 6, 6, 3]), tensor([2, 7, 2, 2, 3, 2, 3, 0, 9, 7, 3, 5, 4, 9, 2, 4, 5, 0, 6, 8, 4, 0, 4, 4,\n",
            "        0, 6, 1, 6, 4, 6, 7, 1]), tensor([0, 4, 4, 1, 1, 5, 6, 3, 8, 3, 4, 1, 7, 4, 9, 8, 8, 4, 5, 5, 6, 7, 2, 9,\n",
            "        1, 0, 5, 3, 7, 2, 1, 1]), tensor([8, 6, 2, 0, 5, 9, 6, 3, 8, 3, 6, 4, 6, 6, 2, 8, 3, 4, 2, 3, 9, 2, 7, 9,\n",
            "        2, 7, 2, 1, 8, 8, 8, 2]), tensor([6, 4, 6, 3, 1, 2, 4, 0, 3, 9, 8, 4, 0, 3, 4, 3, 9, 7, 1, 1, 7, 5, 1, 9,\n",
            "        2, 4, 2, 3, 8, 6, 7, 1]), tensor([3, 0, 7, 3, 5, 8, 1, 4, 2, 3, 4, 8, 8, 8, 4, 6, 1, 8, 9, 3, 0, 6, 6, 2,\n",
            "        9, 7, 3, 7, 0, 1, 2, 5]), tensor([9, 4, 0, 5, 0, 5, 8, 7, 4, 6, 2, 8, 6, 4, 9, 3, 0, 5, 8, 1, 1, 2, 6, 6,\n",
            "        4, 7, 6, 2, 3, 3, 9, 7]), tensor([4, 3, 3, 1, 8, 1, 5, 4, 0, 6, 7, 9, 3, 2, 7, 1, 7, 6, 1, 6, 2, 8, 6, 7,\n",
            "        6, 4, 9, 3, 2, 5, 2, 8]), tensor([6, 2, 6, 7, 2, 2, 1, 1, 0, 3, 5, 5, 2, 6, 4, 1, 8, 8, 3, 4, 3, 4, 2, 9,\n",
            "        2, 3, 9, 6, 2, 6, 8, 4]), tensor([5, 4, 9, 8, 3, 6, 3, 2, 2, 9, 4, 3, 5, 1, 2, 6, 0, 1, 1, 0, 2, 6, 5, 7,\n",
            "        0, 1, 2, 4, 3, 7, 2, 1]), tensor([1, 7, 7, 8, 7, 6, 5, 3, 7, 2, 0, 9, 6, 1, 4, 2, 2, 5, 8, 5, 4, 7, 8, 4,\n",
            "        6, 9, 0, 8, 1, 3, 8, 2]), tensor([8, 2, 0, 2, 3, 8, 7, 8, 2, 2, 6, 6, 0, 4, 5, 3, 4, 3, 1, 9, 7, 3, 6, 6,\n",
            "        1, 4, 2, 7, 7, 1, 8, 3]), tensor([3, 7, 9, 8, 7, 2, 7, 9, 7, 2, 2, 6, 6, 3, 3, 9, 1, 1, 4, 8, 0, 9, 5, 5,\n",
            "        4, 8, 8, 3, 6, 3, 2, 4]), tensor([6, 2, 9, 9, 2, 4, 8, 3, 2, 8, 3, 3, 2, 1, 3, 0, 1, 8, 4, 1, 5, 2, 1, 5,\n",
            "        8, 2, 7, 7, 7, 5, 6, 5]), tensor([5, 3, 6, 7, 8, 1, 5, 1, 6, 2, 2, 4, 3, 7, 7, 9, 9, 2, 5, 8, 5, 8, 5, 3,\n",
            "        0, 9, 7, 2, 0, 6, 8, 2]), tensor([0, 5, 4, 7, 6, 8, 4, 7, 0, 0, 4, 0, 2, 9, 8, 1, 3, 8, 1, 5, 3, 6, 1, 1,\n",
            "        6, 6, 9, 8, 2, 8, 2, 7]), tensor([7, 1, 3, 6, 3, 0, 7, 8, 7, 6, 5, 2, 6, 7, 5, 5, 6, 9, 7, 3, 2, 4, 8, 3,\n",
            "        9, 5, 7, 6, 2, 6, 7, 3]), tensor([8, 5, 1, 8, 9, 2, 2, 1, 2, 2, 7, 4, 0, 4, 4, 8, 5, 7, 9, 2, 2, 8, 2, 6,\n",
            "        0, 6, 3, 3, 1, 5, 2, 7]), tensor([5, 3, 7, 6, 2, 3, 5, 1, 1, 2, 7, 3, 8, 8, 7, 5, 6, 9, 5, 5, 4, 0, 7, 1,\n",
            "        4, 2, 0, 9, 9, 6, 6, 8]), tensor([6, 5, 7, 8, 2, 2, 9, 6, 6, 4, 8, 1, 6, 4, 2, 0, 7, 5, 8, 9, 9, 7, 5, 6,\n",
            "        7, 6, 2, 2, 6, 3, 4, 2]), tensor([0, 8, 9, 4, 5, 4, 3, 1, 2, 8, 9, 0, 5, 2, 2, 5, 6, 3, 8, 6, 8, 7, 2, 7,\n",
            "        2, 3, 2, 5, 1, 2, 3, 4]), tensor([2, 4, 3, 9, 9, 6, 8, 0, 4, 0, 6, 1, 9, 3, 9, 6, 8, 6, 9, 4, 7, 9, 1, 5,\n",
            "        8, 1, 3, 6, 2, 6, 8, 3]), tensor([3, 3, 0, 0, 4, 3, 3, 1, 4, 8, 4, 9, 3, 0, 2, 5, 8, 8, 8, 6, 1, 0, 8, 9,\n",
            "        8, 5, 8, 7, 0, 7, 2, 7]), tensor([3, 5, 5, 8, 3, 2, 8, 5, 9, 9, 2, 0, 4, 7, 1, 8, 8, 8, 7, 2, 0, 9, 7, 9,\n",
            "        6, 9, 2, 1, 4, 7, 2, 5]), tensor([2, 6, 2, 9, 0, 7, 1, 9, 7, 2, 5, 3, 8, 4, 9, 3, 7, 5, 7, 5, 1, 3, 3, 2,\n",
            "        6, 7, 5, 3, 5, 5, 8, 7]), tensor([9, 4, 6, 5, 5, 3, 4, 8, 3, 0, 9, 2, 3, 2, 2, 9, 4, 3, 9, 1, 3, 8, 1, 4,\n",
            "        9, 8, 2, 6, 7, 2, 6, 2]), tensor([2, 3, 6, 3, 0, 5, 2, 3, 2, 2, 5, 0, 7, 4, 6, 4, 8, 3, 5, 1, 3, 9, 1, 2,\n",
            "        9, 3, 7, 4, 2, 0, 2, 5]), tensor([6, 3, 6, 6, 5, 1, 7, 9, 4, 6, 7, 3, 0, 2, 8, 1, 0, 9, 9, 7, 8, 4, 6, 9,\n",
            "        7, 7, 5, 8, 6, 7, 5, 3]), tensor([5, 5, 0, 8, 9, 7, 2, 1, 4, 7, 1, 3, 4, 3, 2, 2, 9, 4, 7, 7, 6, 5, 0, 8,\n",
            "        8, 6, 8, 5, 6, 0, 7, 3]), tensor([6, 6, 4, 5, 2, 0, 7, 7, 7, 1, 8, 2, 1, 8, 5, 4, 4, 8, 7, 7, 6, 7, 1, 6,\n",
            "        9, 5, 3, 9, 3, 5, 0, 7]), tensor([4, 6, 6, 1, 2, 5, 9, 3, 2, 8, 5, 7, 3, 1, 4, 6, 8, 1, 8, 5, 6, 9, 3, 3,\n",
            "        6, 6, 4, 2, 0, 6, 4, 2]), tensor([3, 6, 5, 9, 1, 1, 9, 4, 7, 0, 3, 1, 6, 0, 7, 7, 0, 7, 8, 0, 5, 6, 4, 3,\n",
            "        8, 9, 7, 2, 9, 5, 3, 9]), tensor([2, 6, 1, 9, 7, 8, 1, 3, 9, 3, 6, 7, 8, 6, 5, 6, 7, 9, 9, 7, 0, 4, 2, 3,\n",
            "        4, 0, 7, 5, 3, 9, 2, 8]), tensor([8, 0, 0, 4, 1, 9, 3, 3, 5, 1, 5, 5, 9, 2, 8, 5, 5, 9, 5, 6, 0, 7, 3, 8,\n",
            "        4, 2, 0, 9, 6, 8, 1, 9]), tensor([2, 6, 2, 4, 6, 8, 7, 7, 3, 9, 3, 9, 6, 8, 2, 6, 9, 0, 3, 2, 5, 5, 0, 4,\n",
            "        6, 4, 1, 3, 1, 2, 7, 8]), tensor([8, 9, 7, 6, 5, 9, 3, 6, 0, 4, 2, 3, 6, 8, 8, 8, 0, 2, 3, 2, 8, 2, 1, 4,\n",
            "        1, 1, 6, 3, 2, 2, 6, 0]), tensor([0, 4, 1, 3, 2, 5, 0, 2, 7, 9, 9, 2, 5, 2, 9, 9, 8, 4, 8, 3, 2, 0, 9, 6,\n",
            "        2, 4, 3, 8, 2, 3, 6, 5]), tensor([6, 2, 7, 3, 5, 8, 8, 2, 4, 8, 8, 0, 1, 5, 8, 9, 8, 7, 2, 0, 3, 0, 0, 0,\n",
            "        9, 3, 9, 9, 1, 5, 9, 4]), tensor([1, 7, 6, 1, 0, 5, 3, 8, 6, 4, 1, 7, 0, 5, 0, 4, 1, 7, 1, 7, 9, 6, 3, 9,\n",
            "        2, 2, 9, 3, 5, 0, 8, 4]), tensor([4, 7, 7, 4, 2, 0, 5, 5, 3, 6, 2, 5, 6, 8, 5, 6, 9, 1, 3, 1, 4, 5, 9, 3,\n",
            "        7, 0, 3, 5, 6, 1, 5, 8]), tensor([5, 6, 6, 9, 1, 9, 1, 7, 1, 8, 0, 3, 4, 0, 2, 0, 3, 3, 4, 8, 0, 3, 4, 8,\n",
            "        1, 1, 3, 3, 2, 2, 1, 8]), tensor([0, 2, 6, 6, 4, 2, 0, 9, 2, 3, 0, 4, 5, 7, 1, 6, 1, 8, 0, 0, 8, 5, 1, 6,\n",
            "        5, 2, 8, 1, 7, 1, 6, 4]), tensor([7, 4, 6, 1, 5, 3, 3, 5, 8, 7, 7, 7, 2, 7, 5, 6, 2, 2, 0, 6, 6, 9, 9, 3,\n",
            "        8, 0, 4, 4, 1, 3, 7, 3]), tensor([6, 0, 9, 8, 5, 3, 6, 7, 1, 9, 7, 8, 4, 6, 9, 9, 1, 2, 2, 2, 2, 4, 5, 1,\n",
            "        6, 4, 8, 3, 4, 8, 3, 4]), tensor([0, 0, 3, 6, 7, 4, 4, 1, 7, 3, 6, 7, 9, 9, 1, 8, 8, 9, 1, 4, 6, 1, 2, 8,\n",
            "        2, 5, 9, 8, 0, 6, 2, 7]), tensor([2, 9, 5, 6, 8, 7, 8, 1, 4, 9, 2, 5, 5, 9, 9, 4, 4, 2, 1, 6, 3, 8, 7, 6,\n",
            "        1, 7, 5, 2, 7, 0, 3, 4]), tensor([4, 8, 4, 0, 2, 7, 3, 7, 3, 6, 3, 8, 3, 3, 2, 3, 2, 3, 5, 8, 0, 7, 0, 8,\n",
            "        9, 0, 2, 1, 4, 5, 1, 3]), tensor([4, 7, 6, 4, 9, 9, 1, 4, 3, 1, 0, 8, 0, 3, 0, 6, 2, 0, 2, 3, 6, 7, 2, 3,\n",
            "        4, 0, 8, 5, 4, 0, 1, 0]), tensor([2, 2, 6, 7, 9, 6, 2, 3, 3, 6, 8, 5, 4, 4, 0, 3, 3, 5, 2, 5, 1, 5, 5, 1,\n",
            "        7, 5, 2, 3, 8, 8, 0, 9]), tensor([0, 0, 0, 3, 2, 1, 8, 3, 4, 2, 1, 2, 0, 3, 0, 8, 5, 1, 5, 0, 2, 6, 3, 9,\n",
            "        8, 2, 8, 1, 0, 2, 2, 2]), tensor([3, 3, 7, 5, 0, 6, 2, 0, 8, 2, 4, 1, 8, 4, 8, 2, 9, 2, 4, 8, 5, 6, 7, 3,\n",
            "        2, 2, 6, 6, 6, 8, 5, 4]), tensor([1, 5, 2, 8, 2, 9, 3, 6, 3, 6, 4, 2, 7, 7, 9, 3, 4, 9, 8, 3, 5, 8, 7, 7,\n",
            "        0, 7, 7, 0, 7, 7, 2, 9]), tensor([5, 4, 2, 2, 4, 8, 0, 1, 9, 8, 0, 2, 4, 2, 3, 8, 0, 7, 6, 4, 3, 8, 1, 3,\n",
            "        8, 7, 3, 0, 3, 4, 8, 8]), tensor([9, 1, 3, 2, 1, 4, 8, 3, 4, 6, 7, 3, 9, 2, 9, 0, 4, 6, 5, 7, 0, 8, 1, 7,\n",
            "        5, 4, 9, 5, 7, 3, 2, 0]), tensor([9, 8, 7, 3, 7, 7, 4, 7, 5, 8, 8, 2, 4, 6, 2, 3, 8, 9, 7, 1, 3, 4, 2, 9,\n",
            "        7, 1, 4, 2, 6, 0, 5, 5]), tensor([4, 5, 2, 8, 9, 2, 9, 9, 0, 4, 0, 1, 5, 5, 0, 6, 8, 1, 5, 7, 7, 7, 9, 8,\n",
            "        0, 1, 3, 4, 6, 6, 9, 3]), tensor([4, 4, 4, 8, 2, 5, 4, 9, 0, 2, 8, 4, 8, 6, 3, 6, 1, 4, 3, 3, 8, 2, 9, 9,\n",
            "        0, 7, 9, 5, 3, 1, 7, 2]), tensor([8, 4, 7, 2, 1, 6, 0, 7, 8, 1, 9, 3, 2, 8, 1, 8, 4, 2, 5, 6, 7, 6, 1, 2,\n",
            "        6, 7, 9, 0, 1, 3, 7, 5]), tensor([3, 2, 1, 1, 3, 8, 3, 9, 5, 4, 6, 3, 7, 7, 7, 2, 3, 9, 3, 9, 2, 6, 0, 7,\n",
            "        6, 6, 7, 9, 6, 3, 2, 9]), tensor([6, 4, 6, 2, 7, 9, 6, 1, 3, 2, 0, 8, 8, 7, 3, 6, 7, 5, 7, 6, 1, 8, 1, 4,\n",
            "        9, 8, 9, 3, 1, 0, 3, 3]), tensor([3, 0, 6, 6, 1, 5, 7, 1, 2, 2, 5, 3, 4, 1, 7, 6, 7, 0, 2, 8, 8, 1, 4, 9,\n",
            "        7, 6, 0, 4, 9, 3, 9, 8]), tensor([5, 3, 8, 4, 7, 1, 4, 1, 9, 4, 8, 3, 2, 4, 8, 1, 1, 5, 8, 6, 1, 6, 2, 9,\n",
            "        0, 9, 5, 3, 5, 0, 6, 5]), tensor([6, 8, 3, 8, 0, 2, 9, 9, 1, 5, 3, 2, 6, 5, 3, 6, 3, 6, 7, 4, 0, 4, 1, 9,\n",
            "        5, 1, 7, 5, 5, 5, 9, 4]), tensor([8, 2, 6, 6, 4, 6, 2, 1, 1, 4, 2, 8, 4, 9, 0, 5, 8, 1, 3, 8, 3, 2, 3, 8,\n",
            "        3, 6, 9, 3, 2, 9, 7, 2]), tensor([2, 2, 6, 8, 9, 6, 6, 4, 7, 7, 9, 9, 3, 6, 9, 6, 7, 3, 0, 2, 0, 9, 4, 3,\n",
            "        3, 1, 9, 5, 8, 2, 3, 5]), tensor([0, 6, 4, 5, 2, 3, 5, 2, 7, 7, 6, 0, 9, 5, 1, 4, 4, 5, 3, 0, 6, 1, 4, 0,\n",
            "        5, 4, 8, 5, 7, 2, 0, 8]), tensor([3, 5, 2, 6, 9, 8, 9, 9, 2, 1, 7, 5, 0, 1, 5, 3, 3, 3, 3, 4, 6, 3, 6, 7,\n",
            "        8, 0, 9, 3, 3, 0, 4, 2]), tensor([9, 3, 5, 7, 3, 9, 8, 6, 6, 6, 2, 3, 1, 0, 7, 5, 6, 6, 4, 1, 1, 4, 7, 2,\n",
            "        3, 5, 5, 6, 4, 4, 3, 8]), tensor([9, 9, 2, 6, 9, 6, 3, 5, 3, 1, 4, 5, 0, 1, 8, 5, 8, 4, 6, 7, 8, 9, 2, 4,\n",
            "        6, 3, 2, 6, 4, 7, 9, 1]), tensor([9, 7, 4, 5, 6, 3, 2, 4, 5, 6, 1, 5, 8, 6, 4, 2, 9, 4, 7, 8, 3, 0, 2, 7,\n",
            "        7, 5, 9, 5, 7, 3, 8, 7]), tensor([5, 9, 7, 8, 2, 1, 3, 8, 6, 2, 6, 7, 9, 2, 4, 5, 2, 3, 4, 1, 1, 7, 0, 5,\n",
            "        5, 4, 7, 8, 9, 3, 7, 4]), tensor([6, 6, 5, 7, 8, 4, 8, 8, 7, 4, 9, 4, 9, 6, 9, 7, 3, 9, 7, 3, 2, 4, 2, 8,\n",
            "        7, 9, 2, 0, 2, 4, 1, 0]), tensor([3, 8, 6, 8, 4, 4, 6, 3, 5, 7, 7, 8, 5, 6, 3, 2, 1, 8, 3, 2, 5, 4, 2, 3,\n",
            "        0, 8, 3, 3, 4, 9, 0, 9]), tensor([7, 0, 1, 6, 3, 6, 3, 8, 6, 8, 5, 1, 3, 4, 1, 9, 3, 7, 0, 4, 2, 6, 1, 5,\n",
            "        3, 4, 8, 5, 7, 8, 6, 4]), tensor([1, 6, 6, 2, 5, 9, 6, 7, 2, 3, 6, 4, 6, 3, 3, 9, 4, 9, 0, 8, 6, 5, 6, 2,\n",
            "        0, 1, 3, 9, 4, 2, 5, 6]), tensor([5, 3, 2, 5, 2, 0, 6, 0, 6, 9, 1, 3, 3, 2, 5, 8, 6, 6, 1, 4, 9, 7, 2, 4,\n",
            "        7, 5, 7, 1, 4, 8, 7, 9]), tensor([8, 7, 0, 2, 9, 2, 5, 6, 7, 8, 4, 5, 2, 7, 4, 1, 4, 5, 9, 6, 5, 7, 7, 3,\n",
            "        8, 1, 9, 4, 5, 3, 6, 7]), tensor([6, 9, 5, 1, 3, 6, 9, 1, 4, 2, 5, 3, 4, 9, 9, 1, 2, 2, 2, 4, 6, 8, 7, 9,\n",
            "        9, 4, 8, 8, 9, 0, 7, 6]), tensor([4, 2, 8, 8, 4, 2, 0, 1, 2, 0, 2, 1, 5, 4, 6, 0, 0, 3, 4, 5, 6, 3, 7, 6,\n",
            "        0, 3, 1, 8, 4, 8, 9, 9]), tensor([5, 5, 8, 2, 5, 4, 4, 2, 5, 6, 9, 2, 7, 1, 0, 2, 4, 6, 7, 8, 6, 2, 9, 1,\n",
            "        9, 2, 7, 3, 5, 2, 3, 4]), tensor([2, 1, 6, 2, 4, 3, 7, 8, 4, 9, 5, 9, 0, 6, 3, 4, 5, 5, 5, 7, 6, 1, 3, 3,\n",
            "        7, 0, 9, 7, 6, 8, 3, 5]), tensor([5, 8, 1, 9, 4, 2, 2, 2, 1, 6, 3, 3, 2, 5, 0, 8, 1, 3, 7, 8, 2, 5, 9, 0,\n",
            "        8, 3, 4, 4, 2, 7, 0, 7]), tensor([3, 3, 2, 3, 7, 1, 2, 2, 3, 3, 0, 6, 6, 4, 8, 5, 0, 3, 3, 4, 7, 3, 3, 6,\n",
            "        0, 2, 4, 4, 1, 8, 1, 9]), tensor([3, 2, 6, 4, 2, 3, 3, 3, 5, 3, 5, 8, 3, 9, 7, 3, 0, 6, 1, 6, 1, 0, 7, 7,\n",
            "        2, 8, 9, 6, 1, 5, 6, 9]), tensor([4, 7, 9, 9, 9, 0, 1, 0, 9, 9, 5, 1, 7, 2, 9, 3, 2, 6, 8, 1, 7, 4, 3, 8,\n",
            "        4, 7, 8, 8, 9, 6, 8, 4]), tensor([5, 6, 4, 5, 9, 6, 0, 5, 3, 1, 7, 4, 6, 7, 1, 5, 8, 3, 7, 2, 7, 1, 8, 8,\n",
            "        8, 7, 8, 6, 0, 5, 7, 9]), tensor([8, 5, 6, 0, 6, 2, 3, 2, 3, 9, 9, 1, 9, 5, 8, 4, 4, 2, 4, 2, 7, 2, 8, 3,\n",
            "        0, 7, 8, 8, 3, 9, 9, 5]), tensor([9, 2, 6, 9, 7, 0, 7, 4, 7, 9, 2, 3, 9, 5, 3, 5, 3, 1, 2, 9, 1, 2, 8, 5,\n",
            "        1, 7, 9, 0, 3, 3, 6, 9]), tensor([3, 4, 3, 0, 0, 6, 9, 7, 3, 9, 6, 5, 3, 8, 5, 9, 5, 6, 4, 6, 5, 2, 2, 5,\n",
            "        4, 2, 7, 1, 6, 6, 3, 6]), tensor([5, 6, 4, 6, 7, 8, 5, 1, 5, 2, 3, 4, 2, 4, 1, 8, 0, 7, 2, 7, 3, 2, 9, 8,\n",
            "        4, 6, 6, 1, 7, 1, 4, 7]), tensor([6, 1, 7, 3, 0, 3, 8, 6, 8, 0, 4, 1, 7, 9, 6, 2, 9, 2, 6, 7, 1, 9, 5, 2,\n",
            "        9, 8, 6, 4, 0, 3, 3, 2]), tensor([2, 8, 3, 6, 8, 1, 8, 1, 0, 1, 6, 7, 3, 7, 7, 3, 3, 9, 9, 6, 2, 2, 5, 8,\n",
            "        9, 6, 3, 5, 4, 1, 6, 9]), tensor([4, 3, 2, 6, 1, 8, 9, 3, 4, 0, 2, 1, 9, 0, 5, 3, 9, 3, 6, 2, 1, 4, 0, 7,\n",
            "        3, 6, 4, 3, 4, 4, 5, 2]), tensor([9, 6, 8, 0, 4, 6, 0, 1, 7, 8, 2, 3, 3, 2, 0, 3, 8, 2, 6, 2, 5, 1, 4, 2,\n",
            "        2, 1, 9, 3, 4, 6, 9, 8]), tensor([8, 0, 6, 3, 6, 6, 8, 1, 2, 3, 3, 1, 9, 5, 3, 2, 6, 7, 1, 9, 2, 9, 0, 3,\n",
            "        2, 4, 8, 6, 9, 4, 7, 0]), tensor([3, 2, 3, 8, 3, 4, 1, 2, 6, 0, 6, 7, 7, 8, 3, 2, 9, 5, 4, 6, 9, 5, 2, 3,\n",
            "        8, 5, 3, 8, 3, 7, 9, 0]), tensor([2, 5, 1, 0, 5, 6, 3, 9, 7, 9, 6, 0, 7, 1, 2, 0, 8, 6, 2, 2, 7, 8, 3, 6,\n",
            "        4, 6, 9, 7, 3, 2, 5, 4]), tensor([5, 1, 9, 5, 0, 5, 6, 4, 1, 7, 9, 3, 3, 3, 4, 9, 1, 3, 3, 9, 5, 6, 8, 2,\n",
            "        4, 1, 4, 0, 6, 7, 9, 0]), tensor([6, 3, 2, 3, 0, 9, 8, 1, 3, 7, 3, 9, 9, 5, 4, 2, 3, 2, 8, 8, 5, 5, 1, 8,\n",
            "        8, 5, 7, 9, 9, 0, 4, 4]), tensor([2, 8, 9, 4, 6, 7, 5, 4, 7, 6, 1, 4, 2, 2, 0, 9, 6, 3, 5, 1, 1, 7, 8, 3,\n",
            "        2, 6, 2, 0, 6, 4, 9, 5]), tensor([2, 4, 4, 4, 6, 1, 5, 2, 7, 8, 6, 7, 7, 0, 8, 4, 3, 6, 9, 1, 2, 1, 7, 4,\n",
            "        3, 4, 9, 9, 2, 6, 4, 3]), tensor([3, 3, 7, 5, 2, 7, 8, 9, 9, 2, 7, 8, 7, 7, 5, 8, 7, 4, 6, 9, 0, 1, 8, 7,\n",
            "        5, 4, 5, 3, 7, 4, 6, 5]), tensor([5, 6, 7, 9, 0, 9, 5, 9, 4, 0, 1, 7, 8, 3, 0, 1, 0, 6, 5, 0, 2, 3, 7, 1,\n",
            "        1, 1, 0, 7, 7, 4, 0, 4]), tensor([7, 0, 0, 5, 3, 4, 8, 1, 5, 2, 7, 3, 2, 3, 4, 7, 8, 0, 9, 6, 9, 5, 8, 6,\n",
            "        7, 3, 5, 0, 9, 7, 1, 0]), tensor([6, 5, 7, 8, 4, 3, 1, 9, 0, 2, 9, 1, 3, 4, 6, 3, 3, 6, 2, 4, 8, 6, 2, 9,\n",
            "        5, 0, 1, 8, 2, 2, 3, 4]), tensor([2, 9, 4, 3, 7, 9, 6, 3, 5, 4, 5, 9, 8, 5, 3, 0, 1, 2, 2, 4, 1, 9, 6, 4,\n",
            "        0, 5, 5, 4, 6, 2, 6, 1]), tensor([4, 9, 9, 7, 0, 1, 2, 6, 0, 2, 6, 2, 5, 9, 4, 8, 4, 6, 1, 5, 6, 4, 1, 8,\n",
            "        9, 3, 1, 7, 1, 1, 1, 9]), tensor([1, 3, 8, 9, 9, 1, 9, 6, 0, 5, 8, 5, 5, 5, 3, 8, 9, 4, 7, 8, 4, 5, 2, 6,\n",
            "        1, 5, 0, 7, 3, 4, 6, 7]), tensor([3, 1, 8, 2, 8, 9, 2, 0, 7, 2, 0, 0, 5, 1, 6, 8, 2, 3, 9, 6, 3, 9, 7, 6,\n",
            "        1, 3, 9, 2, 4, 0, 3, 7]), tensor([8, 1, 1, 9, 5, 3, 5, 4, 6, 6, 1, 5, 2, 3, 6, 2, 5, 9, 9, 4, 3, 4, 3, 7,\n",
            "        9, 0, 8, 7, 3, 3, 8, 4]), tensor([1, 8, 2, 7, 4, 6, 8, 9, 2, 9, 3, 2, 6, 1, 1, 0, 4, 1, 6, 7, 8, 5, 9, 1,\n",
            "        5, 0, 9, 4, 2, 1, 7, 6]), tensor([9, 8, 8, 9, 5, 5, 3, 8, 2, 0, 3, 6, 1, 1, 9, 6, 9, 7, 5, 3, 2, 9, 5, 5,\n",
            "        4, 2, 9, 9, 3, 0, 6, 4]), tensor([1, 7, 4, 7, 2, 8, 5, 8, 6, 0, 1, 3, 2, 2, 3, 6, 6, 0, 2, 8, 3, 2, 8, 0,\n",
            "        1, 8, 4, 5, 4, 2, 3, 9]), tensor([0, 4, 3, 4, 5, 4, 2, 7, 3, 7, 3, 3, 6, 9, 6, 8, 5, 6, 0, 3, 6, 7, 2, 5,\n",
            "        3, 1, 1, 9, 9, 5, 4, 2]), tensor([1, 6, 4, 8, 9, 2, 5, 8, 8, 3, 0, 9, 6, 8, 6, 3, 2, 4, 7, 6, 3, 6, 6, 2,\n",
            "        8, 4, 1, 3, 7, 2, 4, 2]), tensor([2, 3, 2, 4, 0, 8, 4, 5, 1, 4, 3, 8, 2, 1, 4, 1, 1, 9, 6, 5, 9, 6, 8, 0,\n",
            "        3, 4, 3, 8, 4, 7, 5, 4]), tensor([1, 1, 2, 6, 7, 8, 0, 1, 0, 5, 2, 8, 9, 7, 9, 1, 1, 3, 3, 8, 6, 7, 2, 9,\n",
            "        4, 9, 3, 6, 6, 2, 8, 7]), tensor([2, 5, 9, 8, 3, 8, 1, 3, 3, 4, 5, 2, 5, 4, 4, 9, 2, 7, 1, 4, 8, 3, 7, 7,\n",
            "        6, 7, 9, 4, 7, 7, 0, 1]), tensor([2, 1, 2, 8, 2, 2, 7, 6, 7, 1, 8, 7, 5, 1, 3, 1, 0, 3, 6, 5, 3, 8, 6, 3,\n",
            "        4, 9, 6, 1, 5, 3, 0, 7]), tensor([0, 6, 4, 5, 1, 6, 6, 2, 8, 3, 9, 8, 6, 7, 2, 4, 2, 5, 1, 9, 3, 3, 8, 7,\n",
            "        1, 8, 1, 2, 0, 9, 2, 4]), tensor([3, 4, 6, 1, 3, 5, 2, 9, 7, 5, 3, 9, 5, 5, 6, 4, 8, 0, 7, 6, 8, 6, 2, 1,\n",
            "        9, 7, 7, 3, 8, 0, 3, 0]), tensor([9, 8, 5, 6, 4, 8, 1, 5, 5, 9, 0, 1, 6, 1, 3, 4, 4, 2, 2, 1, 7, 6, 2, 2,\n",
            "        6, 1, 8, 2, 4, 6, 3, 0]), tensor([8, 8, 4, 6, 2, 0, 5, 0, 8, 9, 1, 4, 6, 7, 6, 8, 1, 8, 2, 6, 6, 7, 5, 7,\n",
            "        9, 9, 3, 9, 4, 4, 2, 6]), tensor([1, 4, 8, 4, 4, 5, 2, 2, 2, 9, 1, 8, 0, 6, 2, 2, 0, 6, 6, 6, 1, 3, 6, 3,\n",
            "        4, 1, 5, 5, 1, 0, 7, 6]), tensor([5, 0, 3, 2, 8, 9, 8, 7, 8, 4, 5, 9, 5, 5, 1, 2, 4, 7, 2, 9, 7, 8, 3, 7,\n",
            "        4, 6, 3, 8, 8, 4, 5, 1]), tensor([8, 2, 4, 2, 2, 7, 8, 9, 0, 2, 7, 9, 1, 5, 7, 8, 4, 3, 9, 5, 7, 1, 0, 8,\n",
            "        6, 1, 6, 1, 5, 8, 6, 0]), tensor([1, 8, 2, 9, 0, 0, 5, 6, 6, 2, 7, 4, 8, 8, 2, 6, 3, 6, 7, 1, 4, 7, 4, 3,\n",
            "        7, 1, 6, 5, 2, 3, 7, 9]), tensor([6, 2, 8, 2, 1, 1, 8, 8, 3, 5, 7, 5, 6, 9, 4, 3, 9, 3, 8, 9, 6, 6, 2, 4,\n",
            "        5, 7, 0, 2, 3, 9, 5, 7]), tensor([2, 6, 5, 8, 3, 1, 3, 7, 4, 9, 6, 3, 9, 7, 2, 0, 8, 6, 9, 1, 9, 9, 6, 7,\n",
            "        1, 4, 5, 0, 3, 8, 7, 2]), tensor([8, 5, 9, 4, 2, 0, 6, 9, 4, 5, 0, 4, 3, 7, 9, 1, 8, 9, 4, 0, 9, 7, 4, 8,\n",
            "        2, 1, 2, 7, 5, 4, 0, 8]), tensor([4, 4, 7, 2, 4, 6, 8, 5, 7, 9, 5, 7, 2, 2, 3, 9, 3, 4, 1, 5, 6, 9, 7, 4,\n",
            "        2, 2, 5, 8, 0, 7, 7, 2]), tensor([2, 6, 4, 8, 4, 0, 6, 9, 8, 9, 2, 5, 0, 6, 0, 2, 6, 3, 1, 8, 7, 4, 3, 9,\n",
            "        1, 2, 6, 5, 2, 3, 2, 0]), tensor([2, 6, 0, 7, 2, 1, 8, 2, 8, 7, 9, 4, 1, 3, 5, 7, 7, 3, 2, 5, 9, 4, 6, 5,\n",
            "        3, 2, 2, 9, 6, 7, 3, 9]), tensor([1, 2, 1, 9, 7, 2, 3, 4, 8, 1, 8, 3, 5, 0, 5, 3, 8, 2, 7, 4, 9, 0, 6, 8,\n",
            "        4, 2, 4, 4, 4, 3, 7, 8]), tensor([7, 1, 3, 7, 8, 9, 5, 5, 2, 2, 4, 5, 0, 8, 6, 3, 4, 0, 8, 8, 9, 6, 9, 1,\n",
            "        5, 1, 2, 1, 3, 2, 2, 2]), tensor([4, 5, 7, 5, 9, 2, 0, 5, 7, 0, 5, 6, 5, 3, 3, 4, 3, 7, 1, 5, 2, 9, 8, 1,\n",
            "        7, 3, 2, 6, 3, 7, 1, 8]), tensor([5, 7, 8, 3, 8, 3, 8, 3, 7, 7, 7, 6, 5, 2, 6, 1, 2, 3, 4, 1, 0, 3, 9, 1,\n",
            "        8, 2, 3, 7, 4, 9, 5, 8]), tensor([4, 3, 9, 5, 6, 8, 2, 7, 3, 9, 3, 0, 8, 8, 0, 9, 6, 6, 4, 5, 7, 1, 4, 8,\n",
            "        2, 0, 2, 3, 1, 1, 1, 7]), tensor([6, 2, 6, 5, 9, 8, 5, 5, 3, 4, 7, 9, 2, 0, 1, 1, 1, 4, 8, 6, 8, 0, 5, 5,\n",
            "        6, 7, 6, 8, 2, 3, 6, 2]), tensor([6, 2, 5, 7, 4, 9, 7, 2, 2, 2, 0, 7, 4, 5, 2, 3, 3, 1, 9, 8, 1, 8, 6, 6,\n",
            "        3, 9, 1, 9, 7, 6, 9, 6]), tensor([9, 3, 0, 2, 8, 3, 4, 6, 6, 9, 2, 1, 1, 0, 5, 6, 7, 0, 4, 1, 1, 7, 0, 0,\n",
            "        1, 9, 8, 7, 3, 5, 4, 8]), tensor([2, 6, 4, 0, 4, 6, 2, 3, 5, 9, 5, 8, 9, 3, 1, 7, 8, 9, 4, 1, 1, 7, 0, 7,\n",
            "        0, 6, 7, 6, 0, 2, 9, 2]), tensor([8, 5, 5, 9, 3, 3, 2, 7, 1, 2, 3, 3, 5, 6, 6, 4, 1, 1, 9, 1, 4, 0, 6, 2,\n",
            "        2, 6, 6, 0, 6, 5, 0, 3]), tensor([0, 5, 1, 1, 8, 2, 5, 3, 5, 1, 6, 6, 3, 1, 2, 9, 9, 6, 3, 8, 5, 6, 6, 9,\n",
            "        1, 5, 7, 7, 6, 2, 2, 7]), tensor([5, 6, 1, 5, 7, 7, 8, 2, 8, 3, 9, 6, 6, 2, 9, 9, 0, 2, 7, 3, 1, 0, 8, 2,\n",
            "        4, 4, 4, 7, 1, 8, 2, 0]), tensor([3, 4, 4, 6, 9, 8, 0, 6, 8, 3, 9, 2, 1, 5, 4, 5, 6, 8, 4, 2, 5, 9, 3, 6,\n",
            "        4, 7, 8, 5, 9, 5, 0, 0]), tensor([6, 8, 7, 2, 9, 2, 2, 6, 4, 6, 1, 6, 3, 9, 4, 0, 3, 8, 2, 6, 8, 4, 7, 2,\n",
            "        5, 6, 3, 6, 8, 7, 6, 2]), tensor([1, 1, 8, 7, 3, 2, 0, 5, 4, 3, 8, 8, 8, 9, 3, 6, 9, 4, 3, 3, 6, 4, 2, 8,\n",
            "        8, 5, 9, 6, 7, 1, 9, 0]), tensor([3, 3, 6, 2, 3, 9, 9, 5, 3, 0, 2, 2, 4, 6, 4, 5, 3, 6, 9, 8, 5, 8, 0, 4,\n",
            "        1, 4, 8, 7, 2, 6, 2, 3]), tensor([5, 6, 3, 5, 2, 5, 3, 7, 1, 2, 9, 8, 7, 6, 8, 8, 5, 5, 8, 4, 4, 0, 8, 3,\n",
            "        6, 4, 9, 6, 1, 0, 5, 1]), tensor([2, 0, 9, 2, 6, 3, 6, 7, 4, 4, 4, 3, 8, 5, 1, 8, 3, 4, 4, 5, 6, 0, 5, 8,\n",
            "        7, 4, 2, 2, 2, 9, 3, 5]), tensor([0, 9, 9, 0, 1, 3, 7, 1, 9, 4, 5, 2, 6, 9, 5, 7, 7, 4, 2, 8, 3, 4, 7, 8,\n",
            "        4, 6, 8, 0, 5, 5, 7, 1]), tensor([7, 6, 2, 1, 5, 1, 9, 0, 1, 2, 3, 2, 7, 3, 9, 3, 5, 4, 0, 6, 9, 7, 4, 2,\n",
            "        3, 8, 7, 8, 3, 0, 4, 1]), tensor([2, 9, 5, 8, 9, 0, 3, 2, 0, 5, 9, 3, 1, 0, 8, 4, 1, 4, 6, 9, 9, 8, 9, 7,\n",
            "        2, 0, 1, 9, 9, 3, 9, 3]), tensor([2, 3, 7, 3, 1, 4, 6, 8, 3, 4, 3, 3, 8, 3, 7, 1, 6, 3, 8, 4, 7, 9, 8, 6,\n",
            "        3, 0, 4, 5, 7, 6, 7, 2]), tensor([5, 0, 2, 3, 3, 3, 0, 0, 4, 2, 4, 3, 6, 9, 9, 6, 7, 4, 3, 2, 2, 1, 9, 5,\n",
            "        9, 9, 0, 5, 8, 2, 7, 3]), tensor([9, 5, 2, 8, 9, 5, 8, 0, 0, 3, 0, 6, 3, 7, 8, 0, 1, 2, 2, 6, 1, 1, 2, 2,\n",
            "        2, 5, 4, 3, 9, 3, 4, 2]), tensor([3, 7, 2, 9, 2, 1, 6, 7, 5, 5, 9, 4, 6, 9, 7, 9, 7, 4, 1, 8, 3, 3, 8, 0,\n",
            "        8, 7, 6, 7, 7, 9, 6, 4]), tensor([6, 3, 9, 2, 1, 5, 2, 0, 5, 8, 6, 7, 0, 1, 0, 5, 6, 2, 1, 4, 1, 8, 7, 9,\n",
            "        9, 7, 3, 2, 2, 2, 7, 2]), tensor([3, 9, 6, 3, 9, 5, 1, 0, 9, 2, 7, 4, 3, 5, 7, 2, 7, 6, 8, 7, 5, 4, 5, 9,\n",
            "        6, 3, 5, 0, 2, 7, 5, 3]), tensor([1, 9, 3, 7, 1, 6, 3, 4, 4, 2, 5, 9, 2, 1, 1, 9, 7, 9, 0, 1, 6, 8, 5, 2,\n",
            "        5, 3, 7, 8, 7, 7, 0, 8]), tensor([5, 6, 0, 3, 5, 2, 9, 7, 9, 7, 1, 0, 0, 8, 6, 4, 0, 3, 4, 5, 5, 6, 3, 3,\n",
            "        2, 4, 5, 6, 7, 1, 8, 7]), tensor([1, 2, 2, 0, 4, 7, 3, 7, 4, 6, 6, 3, 9, 4, 6, 0, 6, 8, 7, 3, 3, 0, 5, 6,\n",
            "        1, 5, 0, 9, 9, 1, 3, 0]), tensor([6, 1, 6, 6, 5, 5, 2, 2, 0, 9, 2, 6, 8, 2, 8, 3, 7, 7, 3, 3, 9, 5, 7, 3,\n",
            "        0, 9, 4, 5, 6, 7, 2, 9]), tensor([5, 5, 8, 8, 4, 9, 6, 6, 3, 6, 3, 0, 4, 7, 2, 4, 2, 2, 4, 1, 5, 7, 9, 7,\n",
            "        3, 9, 8, 8, 5, 1, 9, 6]), tensor([1, 0, 4, 8, 0, 5, 6, 9, 8, 8, 4, 4, 4, 1, 7, 5, 1, 2, 6, 5, 0, 3, 2, 8,\n",
            "        7, 8, 5, 9, 1, 1, 3, 5]), tensor([9, 9, 9, 1, 0, 6, 3, 4, 4, 4, 7, 1, 2, 0, 1, 5, 3, 4, 9, 2, 4, 2, 2, 6,\n",
            "        7, 9, 6, 7, 1, 4, 0, 8]), tensor([3, 3, 5, 6, 0, 8, 3, 3, 4, 0, 1, 8, 2, 3, 2, 9, 5, 4, 3, 5, 2, 1, 6, 4,\n",
            "        4, 5, 8, 6, 7, 3, 6, 6]), tensor([7, 4, 2, 3, 6, 6, 2, 6, 3, 4, 8, 1, 7, 8, 4, 8, 7, 8, 9, 9, 8, 2, 6, 9,\n",
            "        4, 0, 8, 8, 8, 0, 5, 6]), tensor([6, 6, 6, 2, 9, 9, 2, 3, 5, 2, 0, 1, 0, 8, 9, 5, 7, 3, 3, 2, 4, 1, 2, 8,\n",
            "        1, 8, 2, 6, 6, 9, 8, 5]), tensor([1, 2, 4, 0, 9, 2, 5, 5, 0, 7, 1, 6, 9, 8, 9, 9, 4, 9, 4, 3, 1, 2, 5, 0,\n",
            "        8, 0, 4, 2, 3, 0, 0, 0]), tensor([0, 3, 5, 9, 4, 7, 1, 5, 0, 1, 6, 1, 7, 9, 4, 0, 4, 5, 2, 9, 4, 9, 8, 8,\n",
            "        7, 6, 2, 3, 9, 3, 6, 7]), tensor([3, 2, 7, 0, 2, 1, 0, 5, 7, 3, 5, 9, 2, 3, 4, 8, 5, 8, 1, 9, 6, 7, 6, 7,\n",
            "        3, 6, 4, 5, 6, 8, 2, 6]), tensor([7, 4, 0, 5, 1, 5, 9, 6, 0, 9, 5, 8, 5, 7, 3, 9, 8, 3, 2, 6, 5, 7, 5, 1,\n",
            "        1, 5, 4, 1, 2, 5, 8, 2]), tensor([9, 6, 3, 3, 4, 6, 2, 4, 1, 1, 4, 7, 2, 5, 0, 2, 8, 8, 8, 8, 7, 7, 1, 2,\n",
            "        6, 4, 1, 4, 0, 2, 5, 8]), tensor([2, 4, 8, 3, 1, 8, 8, 4, 4, 0, 8, 4, 8, 0, 3, 2, 5, 8, 7, 5, 7, 0, 1, 1,\n",
            "        9, 7, 8, 6, 1, 9, 6, 3]), tensor([6, 9, 4, 0, 4, 9, 7, 2, 2, 2, 0, 5, 6, 6, 3, 7, 8, 6, 2, 6, 1, 1, 9, 9,\n",
            "        4, 5, 3, 6, 8, 5, 0, 6]), tensor([6, 1, 2, 3, 7, 6, 9, 0, 4, 8, 2, 3, 6, 9, 5, 5, 9, 4, 0, 4, 1, 1, 8, 9,\n",
            "        6, 4, 2, 3, 3, 0, 7, 1]), tensor([8, 8, 5, 3, 3, 7, 7, 1, 2, 1, 4, 1, 9, 0, 4, 1, 1, 6, 7, 3, 7, 3, 6, 0,\n",
            "        1, 8, 9, 2, 6, 6, 0, 9]), tensor([3, 6, 1, 4, 7, 8, 0, 2, 6, 8, 2, 5, 5, 3, 5, 9, 1, 8, 5, 3, 1, 2, 4, 3,\n",
            "        7, 3, 5, 4, 8, 0, 7, 1]), tensor([2, 3, 9, 8, 3, 8, 7, 7, 9, 7, 0, 9, 4, 0, 9, 6, 1, 9, 8, 6, 4, 7, 6, 9,\n",
            "        5, 4, 7, 1, 2, 1, 2, 6]), tensor([9, 6, 0, 5, 2, 0, 5, 6, 4, 6, 9, 9, 1, 2, 7, 7, 7, 4, 5, 1, 2, 0, 6, 3,\n",
            "        8, 9, 8, 4, 1, 0, 8, 3]), tensor([9, 8, 8, 7, 8, 3, 2, 0, 7, 4, 8, 6, 9, 9, 4, 7, 7, 2, 2, 1, 5, 3, 4, 3,\n",
            "        5, 5, 0, 8, 2, 7, 8, 9]), tensor([4, 2, 1, 7, 4, 6, 4, 9, 4, 3, 6, 0, 7, 7, 8, 0, 9, 1, 2, 6, 2, 9, 7, 1,\n",
            "        9, 7, 3, 3, 1, 4, 3, 5]), tensor([3, 3, 9, 4, 1, 4, 4, 6, 7, 5, 4, 6, 9, 9, 8, 1, 8, 1, 2, 2, 3, 5, 3, 1,\n",
            "        4, 6, 0, 1, 2, 0, 7, 6]), tensor([8, 8, 2, 8, 4, 5, 0, 6, 1, 7, 9, 7, 3, 9, 4, 6, 2, 8, 7, 1, 3, 8, 7, 6,\n",
            "        2, 4, 8, 2, 8, 0, 1, 5]), tensor([3, 8, 1, 7, 4, 9, 3, 7, 9, 3, 1, 8, 3, 0, 9, 3, 6, 2, 4, 2, 7, 6, 0, 9,\n",
            "        8, 8, 1, 5, 7, 7, 4, 9]), tensor([5, 4, 1, 0, 9, 8, 7, 3, 7, 3, 2, 5, 5, 1, 6, 9, 2, 6, 3, 2, 0, 4, 7, 2,\n",
            "        6, 6, 6, 1, 9, 3, 8, 3]), tensor([9, 7, 1, 7, 1, 3, 4, 6, 5, 6, 0, 6, 4, 1, 1, 2, 9, 6, 3, 2, 1, 3, 2, 7,\n",
            "        6, 1, 8, 5, 7, 3, 0, 5]), tensor([0, 4, 6, 2, 2, 5, 2, 1, 8, 2, 1, 5, 3, 8, 8, 9, 5, 0, 1, 2, 1, 4, 9, 6,\n",
            "        3, 1, 1, 4, 7, 8, 3, 6]), tensor([9, 3, 2, 8, 3, 8, 4, 9, 4, 7, 7, 6, 3, 6, 4, 5, 7, 3, 7, 6, 6, 6, 9, 3,\n",
            "        0, 5, 4, 1, 2, 1, 8, 1]), tensor([9, 4, 8, 9, 9, 3, 3, 7, 0, 6, 6, 1, 6, 4, 6, 4, 2, 2, 9, 3, 6, 3, 4, 0,\n",
            "        0, 1, 3, 6, 6, 5, 7, 9]), tensor([6, 6, 3, 7, 5, 1, 2, 7, 7, 5, 8, 0, 9, 1, 2, 1, 4, 9, 1, 6, 5, 2, 3, 6,\n",
            "        7, 1, 2, 7, 9, 3, 7, 4]), tensor([4, 6, 6, 7, 2, 7, 3, 1, 9, 8, 8, 7, 0, 1, 6, 0, 9, 7, 9, 9, 1, 2, 3, 4,\n",
            "        7, 4, 3, 3, 1, 7, 5, 7]), tensor([8, 5, 2, 0, 3, 1, 4, 7, 5, 3, 2, 5, 8, 4, 7, 4, 0, 8, 3, 0, 1, 7, 9, 2,\n",
            "        9, 1, 6, 6, 5, 1, 0, 6]), tensor([3, 8, 3, 1, 8, 2, 5, 9, 8, 8, 1, 0, 9, 6, 6, 6, 1, 1, 4, 7, 3, 0, 7, 9,\n",
            "        8, 9, 5, 2, 6, 4, 7, 2]), tensor([3, 8, 3, 8, 1, 1, 2, 4, 8, 1, 0, 8, 1, 8, 5, 3, 2, 5, 0, 2, 4, 9, 6, 2,\n",
            "        4, 5, 9, 6, 9, 9, 6, 7]), tensor([3, 4, 3, 3, 9, 6, 7, 7, 8, 1, 1, 6, 6, 5, 7, 9, 4, 7, 4, 7, 0, 6, 2, 9,\n",
            "        9, 7, 7, 5, 0, 1, 6, 3]), tensor([4, 6, 2, 0, 9, 8, 7, 8, 4, 2, 8, 9, 7, 1, 6, 7, 9, 9, 0, 1, 5, 1, 6, 3,\n",
            "        6, 7, 9, 8, 3, 3, 8, 5]), tensor([2, 4, 3, 6, 8, 0, 5, 2, 6, 9, 0, 1, 2, 5, 1, 8, 2, 1, 8, 1, 7, 1, 9, 1,\n",
            "        8, 3, 5, 4, 1, 0, 2, 4]), tensor([6, 6, 8, 2, 2, 5, 5, 0, 2, 6, 9, 8, 0, 1, 0, 6, 6, 8, 3, 4, 7, 7, 5, 9,\n",
            "        2, 5, 6, 4, 9, 9, 4, 8]), tensor([5, 6, 9, 3, 4, 0, 2, 8, 3, 1, 9, 2, 1, 6, 7, 3, 8, 5, 0, 4, 6, 4, 1, 1,\n",
            "        9, 8, 3, 9, 3, 2, 6, 0]), tensor([5, 2, 7, 6, 8, 3, 2, 4, 8, 4, 4, 5, 0, 3, 3, 1, 9, 2, 8, 7, 8, 2, 3, 6,\n",
            "        2, 5, 6, 9, 0, 7, 1, 1]), tensor([7, 9, 6, 1, 6, 7, 5, 4, 6, 3, 3, 2, 1, 0, 0, 9, 9, 8, 2, 9, 6, 2, 5, 4,\n",
            "        7, 2, 6, 5, 2, 6, 9, 3]), tensor([7, 0, 6, 3, 5, 3, 4, 3, 4, 6, 9, 8, 8, 3, 2, 0, 6, 3, 9, 4, 2, 8, 1, 7,\n",
            "        2, 4, 9, 3, 6, 2, 0, 6]), tensor([7, 3, 5, 0, 6, 3, 1, 3, 0, 9, 5, 4, 3, 9, 6, 2, 2, 9, 0, 7, 6, 5, 6, 8,\n",
            "        2, 1, 6, 2, 6, 5, 9, 3]), tensor([5, 0, 2, 0, 7, 4, 4, 8, 3, 3, 8, 2, 3, 8, 9, 4, 0, 6, 8, 4, 8, 2, 5, 7,\n",
            "        0, 3, 6, 8, 1, 5, 9, 2]), tensor([2, 8, 9, 4, 1, 0, 5, 5, 2, 2, 8, 2, 2, 6, 7, 2, 5, 3, 7, 4, 5, 8, 8, 3,\n",
            "        9, 8, 0, 6, 2, 0, 3, 6]), tensor([4, 9, 2, 5, 6, 5, 6, 3, 1, 7, 8, 6, 4, 7, 3, 3, 8, 0, 0, 9, 2, 8, 5, 4,\n",
            "        9, 6, 3, 2, 2, 0, 1, 1]), tensor([7, 3, 8, 2, 1, 9, 3, 8, 2, 8, 2, 3, 7, 3, 6, 4, 9, 2, 6, 2, 9, 8, 0, 5,\n",
            "        7, 2, 6, 5, 2, 1, 0, 7]), tensor([2, 4, 2, 7, 2, 6, 3, 3, 1, 5, 4, 0, 1, 7, 7, 5, 6, 5, 2, 7, 2, 6, 3, 5,\n",
            "        4, 8, 9, 0, 9, 7, 5, 7]), tensor([7, 9, 3, 3, 8, 4, 3, 9, 3, 1, 0, 2, 5, 2, 8, 7, 9, 7, 7, 7, 9, 2, 6, 0,\n",
            "        6, 7, 6, 1, 8, 0, 3, 8]), tensor([5, 0, 5, 6, 9, 1, 1, 2, 2, 8, 9, 7, 7, 5, 8, 6, 1, 4, 0, 1, 8, 4, 3, 4,\n",
            "        7, 9, 3, 7, 5, 5, 3, 9]), tensor([1, 2, 1, 2, 7, 4, 6, 9, 3, 4, 4, 1, 7, 8, 1, 6, 5, 9, 0, 0, 9, 5, 3, 8,\n",
            "        8, 2, 8, 5, 5, 0, 7, 0]), tensor([9, 6, 9, 2, 9, 4, 8, 5, 4, 0, 3, 4, 6, 4, 7, 3, 1, 7, 7, 8, 5, 7, 0, 6,\n",
            "        4, 2, 1, 3, 8, 3, 3, 2]), tensor([7, 5, 9, 1, 0, 4, 3, 7, 6, 6, 3, 1, 8, 4, 7, 2, 5, 9, 3, 1, 5, 1, 9, 2,\n",
            "        9, 6, 2, 6, 1, 8, 6, 9]), tensor([6, 4, 0, 3, 8, 4, 5, 1, 2, 4, 6, 4, 4, 8, 5, 7, 7, 7, 6, 5, 5, 7, 9, 9,\n",
            "        8, 2, 8, 2, 1, 3, 3, 2]), tensor([8, 9, 4, 0, 7, 3, 6, 8, 1, 2, 6, 1, 6, 5, 2, 9, 7, 2, 8, 7, 3, 7, 2, 3,\n",
            "        2, 1, 7, 4, 2, 8, 5, 0]), tensor([2, 3, 0, 1, 6, 6, 5, 0, 1, 5, 5, 4, 5, 1, 7, 8, 7, 3, 2, 7, 0, 9, 3, 1,\n",
            "        9, 0, 4, 6, 6, 5, 9, 9]), tensor([4, 2, 7, 1, 8, 1, 4, 2, 3, 7, 8, 4, 0, 4, 8, 1, 2, 9, 3, 5, 8, 0, 1, 9,\n",
            "        2, 7, 3, 7, 4, 4, 6, 6]), tensor([2, 1, 3, 3, 6, 7, 0, 5, 9, 8, 9, 3, 7, 9, 9, 6, 8, 3, 0, 1, 4, 4, 0, 2,\n",
            "        8, 1, 6, 1, 3, 3, 2, 7]), tensor([8, 7, 0, 4, 3, 4, 4, 5, 7, 9, 2, 5, 2, 4, 5, 6, 1, 7, 6, 7, 6, 6, 0, 3,\n",
            "        5, 1, 1, 2, 3, 6, 9, 8]), tensor([1, 0, 1, 6, 8, 5, 4, 0, 4, 0, 4, 9, 3, 7, 5, 4, 8, 6, 2, 8, 6, 4, 4, 0,\n",
            "        8, 7, 5, 2, 8, 7, 2, 9]), tensor([5, 9, 2, 1, 6, 4, 1, 9, 7, 1, 7, 3, 5, 8, 7, 2, 5, 1, 5, 2, 0, 6, 0, 3,\n",
            "        6, 4, 4, 8, 0, 3, 2, 2]), tensor([3, 5, 1, 6, 3, 6, 5, 1, 8, 3, 1, 6, 7, 8, 4, 2, 0, 3, 7, 8, 1, 3, 9, 0,\n",
            "        6, 8, 1, 4, 6, 8, 3, 0]), tensor([8, 5, 7, 2, 4, 7, 7, 6, 1, 8, 1, 7, 7, 0, 3, 1, 6, 5, 5, 3, 8, 9, 2, 0,\n",
            "        9, 5, 1, 7, 2, 1, 5, 2]), tensor([8, 3, 2, 0, 7, 1, 3, 4, 4, 5, 7, 0, 6, 7, 3, 3, 7, 8, 8, 2, 5, 6, 9, 7,\n",
            "        1, 2, 9, 3, 0, 5, 5, 0]), tensor([9, 1, 4, 2, 5, 2, 4, 1, 4, 6, 3, 3, 6, 3, 0, 8, 6, 7, 5, 5, 7, 0, 7, 9,\n",
            "        4, 3, 2, 9, 4, 7, 1, 8]), tensor([8, 8, 5, 8, 3, 8, 9, 3, 2, 0, 2, 1, 8, 4, 4, 2, 6, 9, 5, 3, 1, 5, 1, 3,\n",
            "        5, 6, 6, 2, 1, 7, 3, 0]), tensor([8, 2, 9, 3, 9, 6, 0, 4, 1, 2, 6, 2, 3, 1, 4, 9, 7, 3, 2, 6, 2, 9, 7, 8,\n",
            "        5, 6, 9, 6, 0, 3, 8, 1]), tensor([3, 2, 7, 5, 6, 4, 5, 6, 8, 9, 1, 9, 1, 8, 1, 8])]\n"
          ]
        },
        {
          "output_type": "execute_result",
          "data": {
            "text/plain": [
              "tensor([9, 2, 1, 1, 6, 1, 4, 6, 5, 7])"
            ]
          },
          "metadata": {},
          "execution_count": 66
        }
      ]
    },
    {
      "cell_type": "code",
      "source": [
        "try:\n",
        "  import torchmetrics,mlxtend\n",
        "  print(f\"mlxtend version:{mlxtend.__version__}\")\n",
        "  assert int(mlxtend.__version__.split(\".\")[1]>=19, \"mlxtend version should be 0.19.0 or higher\")\n",
        "except:\n",
        "  !pip install -q torchmetrics -U mlxtend\n",
        "  import torchmetrics,mlxtend\n",
        "  print(f\"mlxtend version:{mlxtend.__version__}\")"
      ],
      "metadata": {
        "colab": {
          "base_uri": "https://localhost:8080/"
        },
        "id": "1-ix269wkD2D",
        "outputId": "d1f0ef26-69ac-4603-c0a8-b2fc71243519"
      },
      "execution_count": null,
      "outputs": [
        {
          "output_type": "stream",
          "name": "stdout",
          "text": [
            "\u001b[2K   \u001b[90m━━━━━━━━━━━━━━━━━━━━━━━━━━━━━━━━━━━━━━━━\u001b[0m \u001b[32m931.6/931.6 kB\u001b[0m \u001b[31m40.3 MB/s\u001b[0m eta \u001b[36m0:00:00\u001b[0m\n",
            "\u001b[2K   \u001b[90m━━━━━━━━━━━━━━━━━━━━━━━━━━━━━━━━━━━━━━━━\u001b[0m \u001b[32m363.4/363.4 MB\u001b[0m \u001b[31m1.4 MB/s\u001b[0m eta \u001b[36m0:00:00\u001b[0m\n",
            "\u001b[2K   \u001b[90m━━━━━━━━━━━━━━━━━━━━━━━━━━━━━━━━━━━━━━━━\u001b[0m \u001b[32m13.8/13.8 MB\u001b[0m \u001b[31m96.0 MB/s\u001b[0m eta \u001b[36m0:00:00\u001b[0m\n",
            "\u001b[2K   \u001b[90m━━━━━━━━━━━━━━━━━━━━━━━━━━━━━━━━━━━━━━━━\u001b[0m \u001b[32m24.6/24.6 MB\u001b[0m \u001b[31m75.9 MB/s\u001b[0m eta \u001b[36m0:00:00\u001b[0m\n",
            "\u001b[2K   \u001b[90m━━━━━━━━━━━━━━━━━━━━━━━━━━━━━━━━━━━━━━━━\u001b[0m \u001b[32m883.7/883.7 kB\u001b[0m \u001b[31m48.4 MB/s\u001b[0m eta \u001b[36m0:00:00\u001b[0m\n",
            "\u001b[2K   \u001b[90m━━━━━━━━━━━━━━━━━━━━━━━━━━━━━━━━━━━━━━━━\u001b[0m \u001b[32m664.8/664.8 MB\u001b[0m \u001b[31m1.1 MB/s\u001b[0m eta \u001b[36m0:00:00\u001b[0m\n",
            "\u001b[2K   \u001b[90m━━━━━━━━━━━━━━━━━━━━━━━━━━━━━━━━━━━━━━━━\u001b[0m \u001b[32m211.5/211.5 MB\u001b[0m \u001b[31m5.4 MB/s\u001b[0m eta \u001b[36m0:00:00\u001b[0m\n",
            "\u001b[2K   \u001b[90m━━━━━━━━━━━━━━━━━━━━━━━━━━━━━━━━━━━━━━━━\u001b[0m \u001b[32m56.3/56.3 MB\u001b[0m \u001b[31m13.1 MB/s\u001b[0m eta \u001b[36m0:00:00\u001b[0m\n",
            "\u001b[2K   \u001b[90m━━━━━━━━━━━━━━━━━━━━━━━━━━━━━━━━━━━━━━━━\u001b[0m \u001b[32m127.9/127.9 MB\u001b[0m \u001b[31m7.6 MB/s\u001b[0m eta \u001b[36m0:00:00\u001b[0m\n",
            "\u001b[2K   \u001b[90m━━━━━━━━━━━━━━━━━━━━━━━━━━━━━━━━━━━━━━━━\u001b[0m \u001b[32m207.5/207.5 MB\u001b[0m \u001b[31m6.1 MB/s\u001b[0m eta \u001b[36m0:00:00\u001b[0m\n",
            "\u001b[2K   \u001b[90m━━━━━━━━━━━━━━━━━━━━━━━━━━━━━━━━━━━━━━━━\u001b[0m \u001b[32m21.1/21.1 MB\u001b[0m \u001b[31m81.6 MB/s\u001b[0m eta \u001b[36m0:00:00\u001b[0m\n",
            "\u001b[?25hmlxtend version:0.23.4\n"
          ]
        }
      ]
    },
    {
      "cell_type": "code",
      "source": [
        "y_pred_tensor[:10]"
      ],
      "metadata": {
        "colab": {
          "base_uri": "https://localhost:8080/"
        },
        "id": "JVuZIspozTGj",
        "outputId": "82c12b78-6b57-4bc6-e31f-765b62b375e1"
      },
      "execution_count": null,
      "outputs": [
        {
          "output_type": "execute_result",
          "data": {
            "text/plain": [
              "tensor([9, 2, 1, 1, 6, 1, 4, 6, 5, 7])"
            ]
          },
          "metadata": {},
          "execution_count": 68
        }
      ]
    },
    {
      "cell_type": "code",
      "source": [
        "test_data.targets"
      ],
      "metadata": {
        "colab": {
          "base_uri": "https://localhost:8080/"
        },
        "id": "aEg1P2i5zS7b",
        "outputId": "de68e60c-bd48-4110-952c-d05e621c2c35"
      },
      "execution_count": null,
      "outputs": [
        {
          "output_type": "execute_result",
          "data": {
            "text/plain": [
              "tensor([9, 2, 1,  ..., 8, 1, 5])"
            ]
          },
          "metadata": {},
          "execution_count": 69
        }
      ]
    },
    {
      "cell_type": "code",
      "source": [
        "from torchmetrics import ConfusionMatrix\n",
        "from mlxtend.plotting import plot_confusion_matrix\n",
        "confmat=ConfusionMatrix(task=\"multiclass\",num_classes=len(class_names))\n",
        "confmat_tensor=confmat(preds=y_pred_tensor,\n",
        "                       target=test_data.targets)\n",
        "fig,ax=plot_confusion_matrix(\n",
        "    conf_mat=confmat_tensor.numpy(),\n",
        "    class_names=class_names,\n",
        "    figsize=(10,7)\n",
        ")"
      ],
      "metadata": {
        "colab": {
          "base_uri": "https://localhost:8080/",
          "height": 650
        },
        "id": "grUkGiN4pjK3",
        "outputId": "28f91857-656a-4cc2-c633-178f1ccb6dbc"
      },
      "execution_count": null,
      "outputs": [
        {
          "output_type": "display_data",
          "data": {
            "text/plain": [
              "<Figure size 1000x700 with 1 Axes>"
            ],
            "image/png": "[encoded data removed]"
          },
          "metadata": {}
        }
      ]
    },
    {
      "cell_type": "code",
      "source": [
        "confmat_tensor"
      ],
      "metadata": {
        "colab": {
          "base_uri": "https://localhost:8080/"
        },
        "id": "5HQAf4DHzRX4",
        "outputId": "28e76d15-55c6-43e8-ec46-59843ebccdad"
      },
      "execution_count": null,
      "outputs": [
        {
          "output_type": "execute_result",
          "data": {
            "text/plain": [
              "tensor([[628,   5,  44,  79,  12,   1, 224,   0,   7,   0],\n",
              "        [  8, 895,   7,  68,  13,   0,   5,   0,   3,   1],\n",
              "        [  7,   1, 810,  13,  95,   0,  69,   0,   5,   0],\n",
              "        [ 25,  13,  25, 861,  36,   0,  34,   0,   4,   2],\n",
              "        [  5,   6, 117,  50, 712,   0, 106,   0,   4,   0],\n",
              "        [  6,   0,   9,  11,   0, 840,   4,  44,  66,  20],\n",
              "        [ 69,   7, 123,  64,  98,   0, 626,   0,  13,   0],\n",
              "        [  1,   1,   0,   1,   0,  33,   0, 877,  18,  69],\n",
              "        [  8,   2,  23,  17,   6,   7,  29,   7, 900,   1],\n",
              "        [  1,   0,   1,   2,   0,  20,   4,  71,  11, 890]])"
            ]
          },
          "metadata": {},
          "execution_count": 71
        }
      ]
    },
    {
      "cell_type": "code",
      "source": [
        "from pathlib import Path\n",
        "MODEL_PATH=Path(\"models\")\n",
        "MODEL_PATH.mkdir(parents=True,\n",
        "                 exist_ok=True)\n",
        "MODEL_NAME=\"03_pytorch_computer_vision_model_2.pth\"\n",
        "MODEL_SAVE_PATH=MODEL_PATH/MODEL_NAME\n",
        "MODEL_SAVE_PATH\n",
        "\n",
        "print(f\"Saving model to:{MODEL_SAVE_PATH}\")\n",
        "torch.save(obj=model_2.state_dict(),\n",
        "           f=MODEL_SAVE_PATH)"
      ],
      "metadata": {
        "colab": {
          "base_uri": "https://localhost:8080/"
        },
        "id": "woHoAnZQzvyh",
        "outputId": "877c7730-e878-44aa-c33d-f228f6788a89"
      },
      "execution_count": null,
      "outputs": [
        {
          "output_type": "stream",
          "name": "stdout",
          "text": [
            "Saving model to:models/03_pytorch_computer_vision_model_2.pth\n"
          ]
        }
      ]
    },
    {
      "cell_type": "code",
      "source": [
        "model_2.state_dict()"
      ],
      "metadata": {
        "colab": {
          "base_uri": "https://localhost:8080/"
        },
        "id": "wdWHEjS52sjB",
        "outputId": "7ae7fd34-7443-4abc-a2aa-a04bbe519be3"
      },
      "execution_count": null,
      "outputs": [
        {
          "output_type": "execute_result",
          "data": {
            "text/plain": [
              "OrderedDict([('conv_block_1.0.weight',\n",
              "              tensor([[[[ 0.3127,  0.3911, -0.4196],\n",
              "                        [ 0.1556,  0.1815,  0.0878],\n",
              "                        [-0.4420,  0.1430,  0.3166]]],\n",
              "              \n",
              "              \n",
              "                      [[[-0.3738,  0.4791, -0.1338],\n",
              "                        [ 0.2597,  0.4008,  0.0667],\n",
              "                        [-0.1557,  0.3132,  0.0871]]],\n",
              "              \n",
              "              \n",
              "                      [[[-0.3652, -0.0339, -0.0384],\n",
              "                        [-0.6494, -0.6025,  0.2116],\n",
              "                        [-0.8162, -0.6622, -0.1217]]],\n",
              "              \n",
              "              \n",
              "                      [[[-0.7466, -0.8917, -0.7278],\n",
              "                        [ 0.2914, -0.5231,  0.2517],\n",
              "                        [ 0.2942, -0.0444,  0.3574]]],\n",
              "              \n",
              "              \n",
              "                      [[[ 0.0132,  0.3515, -0.1108],\n",
              "                        [-0.2418,  0.2368, -0.2215],\n",
              "                        [-0.0970,  0.3388,  0.1292]]],\n",
              "              \n",
              "              \n",
              "                      [[[-0.1500,  0.1842,  0.0578],\n",
              "                        [ 0.1636, -0.2055, -0.3302],\n",
              "                        [-0.1302, -0.2574,  0.2596]]],\n",
              "              \n",
              "              \n",
              "                      [[[ 0.0797,  0.1085, -0.0129],\n",
              "                        [-0.0085,  0.1742, -0.2752],\n",
              "                        [-0.1569, -0.5007, -0.1128]]],\n",
              "              \n",
              "              \n",
              "                      [[[-0.1018,  0.0198, -0.1991],\n",
              "                        [ 0.3163, -0.2242, -0.2843],\n",
              "                        [-0.2339,  0.4021,  0.2681]]],\n",
              "              \n",
              "              \n",
              "                      [[[ 0.4493, -0.3163, -0.3617],\n",
              "                        [-0.2646, -0.3199,  0.1427],\n",
              "                        [ 0.2809,  0.4250, -0.1547]]],\n",
              "              \n",
              "              \n",
              "                      [[[-0.2270,  0.1762, -0.1351],\n",
              "                        [ 0.2009, -0.0808,  0.1890],\n",
              "                        [-0.2591, -0.1683,  0.1006]]]])),\n",
              "             ('conv_block_1.0.bias',\n",
              "              tensor([ 0.0146,  0.0639,  0.1502,  0.1288, -0.0777, -0.1986,  0.2286, -0.0547,\n",
              "                      -0.0331, -0.3243])),\n",
              "             ('conv_block_1.2.weight',\n",
              "              tensor([[[[ 1.4132e-01,  5.0070e-02, -1.2329e-03],\n",
              "                        [-8.6412e-02, -1.7911e-01, -1.9753e-01],\n",
              "                        [-1.0887e-01, -1.9915e-01, -1.9424e-01]],\n",
              "              \n",
              "                       [[-4.4994e-02,  3.0649e-03, -9.1226e-02],\n",
              "                        [-1.8272e-01, -3.3772e-01, -2.6753e-01],\n",
              "                        [-1.3380e-01, -2.1792e-01, -2.4426e-01]],\n",
              "              \n",
              "                       [[-3.2881e-02,  3.2946e-02,  1.2199e-01],\n",
              "                        [ 3.9099e-02,  2.5957e-01,  2.0143e-01],\n",
              "                        [-1.2151e-01,  6.9995e-03,  7.6315e-02]],\n",
              "              \n",
              "                       [[-1.9476e-01, -3.3695e-02, -1.8504e-01],\n",
              "                        [ 2.5007e-02, -3.1351e-02, -1.2563e-01],\n",
              "                        [ 1.9959e-01,  4.9990e-02,  4.1462e-02]],\n",
              "              \n",
              "                       [[-1.2295e-01, -1.2858e-01,  1.1220e-03],\n",
              "                        [-5.0595e-02,  3.1555e-02, -1.1153e-01],\n",
              "                        [ 7.4811e-02, -8.1775e-02, -2.4376e-02]],\n",
              "              \n",
              "                       [[ 2.2356e-02,  5.4761e-02,  8.5212e-02],\n",
              "                        [ 9.6272e-02, -8.3493e-02,  2.8942e-02],\n",
              "                        [-4.5051e-02, -1.2679e-02, -7.8151e-02]],\n",
              "              \n",
              "                       [[ 1.8992e-01, -2.0482e-02,  1.4882e-04],\n",
              "                        [ 1.5038e-01,  1.1008e-01, -4.4975e-02],\n",
              "                        [ 7.4644e-02,  6.7334e-03, -7.0354e-02]],\n",
              "              \n",
              "                       [[-8.6260e-02,  5.0988e-02, -5.2492e-03],\n",
              "                        [-4.6894e-02,  8.5026e-02,  1.4692e-02],\n",
              "                        [-4.5886e-02, -6.4936e-02, -1.8516e-02]],\n",
              "              \n",
              "                       [[ 6.9093e-02,  6.1735e-04, -3.2623e-02],\n",
              "                        [-4.0538e-02, -6.0386e-02,  6.6237e-02],\n",
              "                        [ 1.0027e-01, -1.0368e-01, -9.1766e-05]],\n",
              "              \n",
              "                       [[ 5.4450e-02,  1.9121e-02, -3.7530e-02],\n",
              "                        [ 5.5016e-02,  5.5394e-02,  3.9419e-02],\n",
              "                        [-1.8523e-02, -2.7911e-02,  1.1270e-02]]],\n",
              "              \n",
              "              \n",
              "                      [[[-3.2573e-02, -3.4480e-02,  7.7271e-02],\n",
              "                        [ 7.8543e-02, -5.2491e-03, -1.2140e-02],\n",
              "                        [-1.8832e-02, -1.7273e-02,  1.0484e-02]],\n",
              "              \n",
              "                       [[ 1.5693e-02, -8.7142e-02, -3.1447e-02],\n",
              "                        [ 7.7661e-02,  4.9420e-02,  5.3998e-03],\n",
              "                        [-1.1721e-01, -9.3256e-02, -1.0707e-01]],\n",
              "              \n",
              "                       [[-3.5195e-02,  3.3986e-02,  6.1428e-02],\n",
              "                        [ 4.6825e-02, -9.5292e-02, -6.8485e-02],\n",
              "                        [-2.0038e-02,  1.0315e-01,  1.3408e-02]],\n",
              "              \n",
              "                       [[-3.8608e-03,  4.9696e-02, -3.3929e-02],\n",
              "                        [-6.4143e-02,  7.5515e-02, -5.0730e-02],\n",
              "                        [-2.3875e-02, -1.1520e-01,  6.6499e-02]],\n",
              "              \n",
              "                       [[ 6.9069e-02,  3.3646e-02, -7.6364e-02],\n",
              "                        [-1.3072e-01, -1.0598e-01,  7.0833e-02],\n",
              "                        [ 1.9720e-02,  7.6607e-02,  4.3402e-02]],\n",
              "              \n",
              "                       [[ 2.6693e-02, -9.1875e-04, -8.0113e-02],\n",
              "                        [-9.0142e-02, -9.8504e-02,  4.3387e-02],\n",
              "                        [-5.1630e-02, -2.1233e-02, -6.0770e-02]],\n",
              "              \n",
              "                       [[-2.4979e-02, -7.6146e-02, -7.2911e-02],\n",
              "                        [ 4.1618e-02, -3.0417e-02,  6.7237e-02],\n",
              "                        [-1.8740e-02, -7.9357e-02, -2.0178e-02]],\n",
              "              \n",
              "                       [[-5.1239e-02, -3.2873e-02, -1.0064e-01],\n",
              "                        [ 6.1227e-02, -7.2032e-02,  5.3732e-02],\n",
              "                        [ 4.6598e-02,  7.7801e-02, -8.1214e-02]],\n",
              "              \n",
              "                       [[ 8.1963e-02, -4.7336e-02,  4.0120e-02],\n",
              "                        [ 9.7642e-02, -1.5587e-02, -1.4781e-03],\n",
              "                        [-2.5056e-02, -8.8515e-02,  5.1611e-02]],\n",
              "              \n",
              "                       [[-1.0464e-01,  6.5448e-02,  7.8875e-02],\n",
              "                        [ 9.9692e-02, -2.4860e-02, -8.6619e-02],\n",
              "                        [ 2.3702e-02,  5.8231e-02, -1.0491e-01]]],\n",
              "              \n",
              "              \n",
              "                      [[[-2.4704e-02, -6.4226e-02, -1.0606e-02],\n",
              "                        [-5.2106e-02, -4.3042e-02, -3.1557e-02],\n",
              "                        [-9.8293e-02,  8.7178e-02,  8.7962e-02]],\n",
              "              \n",
              "                       [[-1.6806e-02, -1.2355e-02, -4.2634e-02],\n",
              "                        [-9.5093e-02, -1.0211e-01,  4.0026e-02],\n",
              "                        [-5.5581e-02, -6.5852e-02, -6.9079e-03]],\n",
              "              \n",
              "                       [[-3.8252e-02, -3.8278e-02, -8.9653e-04],\n",
              "                        [-2.1629e-02, -3.6807e-02, -5.2300e-02],\n",
              "                        [-8.6188e-02,  8.7748e-02, -4.2085e-02]],\n",
              "              \n",
              "                       [[ 2.3888e-02, -3.9737e-02,  4.4075e-03],\n",
              "                        [ 9.8423e-02,  4.9412e-02, -8.9582e-02],\n",
              "                        [ 3.9052e-02,  9.8104e-02,  2.8546e-02]],\n",
              "              \n",
              "                       [[ 7.0670e-02,  1.0394e-01, -1.6054e-02],\n",
              "                        [ 2.2551e-02, -7.3487e-02, -2.1590e-02],\n",
              "                        [ 7.6981e-02,  5.3575e-02, -6.8292e-02]],\n",
              "              \n",
              "                       [[-8.4526e-02, -7.2033e-02, -1.0403e-01],\n",
              "                        [-8.1338e-02, -2.6175e-02,  7.1291e-02],\n",
              "                        [ 1.7650e-02, -8.0130e-02, -8.4563e-02]],\n",
              "              \n",
              "                       [[ 4.9383e-02, -8.1804e-02, -1.6324e-02],\n",
              "                        [ 4.9635e-02, -5.0581e-02, -1.2238e-02],\n",
              "                        [-9.8913e-03, -2.5776e-02, -5.3624e-02]],\n",
              "              \n",
              "                       [[-9.3976e-02, -8.5211e-02, -5.6465e-02],\n",
              "                        [ 1.0165e-01, -5.1014e-02, -7.0154e-02],\n",
              "                        [ 2.6239e-02,  3.0164e-02,  5.6748e-02]],\n",
              "              \n",
              "                       [[ 7.9810e-02,  5.8625e-02, -1.0454e-01],\n",
              "                        [ 1.1423e-02,  6.5220e-02, -9.5842e-03],\n",
              "                        [-6.4782e-02,  9.9568e-02, -3.8309e-02]],\n",
              "              \n",
              "                       [[-6.0014e-02, -9.5032e-02,  4.7085e-03],\n",
              "                        [ 4.6710e-02,  2.3334e-02,  2.0845e-02],\n",
              "                        [-7.9941e-02, -9.8437e-02,  1.8562e-03]]],\n",
              "              \n",
              "              \n",
              "                      [[[-1.7302e-01, -1.0141e-01, -1.2283e-02],\n",
              "                        [-1.2507e-02,  1.3711e-01, -4.7126e-02],\n",
              "                        [ 1.1215e-01,  1.5448e-01, -3.5841e-02]],\n",
              "              \n",
              "                       [[-2.6457e-02,  4.9508e-02,  1.4129e-01],\n",
              "                        [ 2.6512e-01,  1.1156e-01,  9.5714e-02],\n",
              "                        [-1.4558e-01, -9.6801e-02,  1.4719e-04]],\n",
              "              \n",
              "                       [[-1.7997e-01, -3.3847e-01, -3.8317e-01],\n",
              "                        [-1.4812e-01, -1.4034e-01, -2.3445e-01],\n",
              "                        [ 1.0951e-01, -9.5350e-02, -1.9136e-01]],\n",
              "              \n",
              "                       [[ 1.1824e-01,  1.1826e-01,  2.4634e-02],\n",
              "                        [-4.3983e-01, -3.4216e-01, -3.2814e-02],\n",
              "                        [-1.8947e-01, -2.9834e-01, -2.4000e-01]],\n",
              "              \n",
              "                       [[-1.3747e-01, -2.0980e-01, -4.7322e-02],\n",
              "                        [-2.5187e-02,  2.2903e-02,  1.6819e-01],\n",
              "                        [-9.0634e-02,  3.9938e-02,  9.5648e-02]],\n",
              "              \n",
              "                       [[-5.2095e-02, -4.8327e-02,  3.8016e-02],\n",
              "                        [-6.5929e-02, -6.7526e-02, -5.9897e-03],\n",
              "                        [-4.0215e-02, -7.7215e-02,  5.6636e-02]],\n",
              "              \n",
              "                       [[ 9.4890e-02, -9.2540e-02,  9.6272e-02],\n",
              "                        [-7.2108e-02, -1.4322e-01, -2.5034e-02],\n",
              "                        [ 3.0382e-01,  6.7963e-02,  1.5312e-01]],\n",
              "              \n",
              "                       [[-6.8099e-02, -2.1761e-01, -1.3467e-01],\n",
              "                        [-1.7582e-01, -2.3910e-02, -9.4330e-02],\n",
              "                        [ 3.6324e-02, -7.1336e-02, -7.4818e-03]],\n",
              "              \n",
              "                       [[-3.8004e-02, -1.4124e-05, -1.1533e-01],\n",
              "                        [-1.9645e-01, -2.1144e-01, -8.4215e-02],\n",
              "                        [ 2.2354e-02, -5.3375e-02, -1.0052e-01]],\n",
              "              \n",
              "                       [[-1.0387e-01, -8.6011e-02,  2.0277e-02],\n",
              "                        [ 2.8199e-02,  2.2122e-02, -2.8687e-02],\n",
              "                        [ 9.7205e-02,  1.5087e-02, -6.2208e-02]]],\n",
              "              \n",
              "              \n",
              "                      [[[-4.6331e-02,  1.6870e-02,  9.9492e-03],\n",
              "                        [-1.2036e-01,  3.6161e-02, -8.1075e-02],\n",
              "                        [-1.0014e-01, -6.5071e-02,  4.9379e-02]],\n",
              "              \n",
              "                       [[ 8.6566e-02,  9.7018e-02,  4.4157e-03],\n",
              "                        [ 7.5707e-02, -2.9150e-02, -1.2725e-01],\n",
              "                        [ 4.6634e-02, -8.0300e-02, -1.1802e-01]],\n",
              "              \n",
              "                       [[-4.8552e-02,  6.4093e-03,  3.4599e-02],\n",
              "                        [-5.3099e-02, -7.6856e-02, -4.1904e-03],\n",
              "                        [-7.5511e-02, -8.1954e-02,  4.1710e-02]],\n",
              "              \n",
              "                       [[-4.0110e-02,  5.7692e-02,  7.7271e-02],\n",
              "                        [ 1.3576e-02,  1.4270e-02,  9.9877e-04],\n",
              "                        [-1.5659e-02, -2.8276e-02, -2.0086e-02]],\n",
              "              \n",
              "                       [[ 2.1908e-02,  8.8408e-02, -5.5152e-02],\n",
              "                        [-5.1165e-02, -3.2332e-02, -6.7907e-02],\n",
              "                        [ 8.0970e-03,  6.4193e-02,  6.0364e-02]],\n",
              "              \n",
              "                       [[ 4.8425e-02, -7.7561e-02, -5.6554e-02],\n",
              "                        [-2.3147e-02, -1.9446e-02,  8.6139e-03],\n",
              "                        [-9.6898e-02,  3.2940e-02, -8.0362e-02]],\n",
              "              \n",
              "                       [[-9.7198e-02, -9.6465e-02,  8.9105e-02],\n",
              "                        [-1.2073e-01,  8.0904e-02, -1.2698e-02],\n",
              "                        [-2.8957e-02,  4.9352e-02, -2.8588e-02]],\n",
              "              \n",
              "                       [[ 5.5773e-02,  6.6278e-02, -9.6162e-02],\n",
              "                        [ 3.6954e-02,  2.0662e-02,  1.9478e-02],\n",
              "                        [ 1.2870e-02,  2.7960e-02, -5.6885e-02]],\n",
              "              \n",
              "                       [[-1.7855e-02,  9.5005e-02,  7.1449e-02],\n",
              "                        [-5.8828e-03, -1.0408e-01,  1.0389e-02],\n",
              "                        [-7.3347e-02,  8.2949e-02, -6.0551e-02]],\n",
              "              \n",
              "                       [[-7.6170e-03, -2.3395e-02,  1.8770e-02],\n",
              "                        [ 9.9193e-02,  1.0021e-02,  6.1064e-02],\n",
              "                        [ 8.1818e-02,  8.5101e-02, -3.6403e-02]]],\n",
              "              \n",
              "              \n",
              "                      [[[ 2.1226e-01,  3.8519e-01,  3.3996e-01],\n",
              "                        [-9.8467e-02, -2.9488e-02,  1.1950e-02],\n",
              "                        [-2.8850e-01, -2.3819e-01, -4.6257e-02]],\n",
              "              \n",
              "                       [[ 2.9504e-01,  3.8437e-01,  4.2499e-01],\n",
              "                        [-1.0089e-01, -7.0688e-02,  5.2471e-02],\n",
              "                        [-3.2131e-01, -4.1241e-01, -2.5069e-01]],\n",
              "              \n",
              "                       [[ 3.2336e-03, -6.2637e-02, -4.2889e-02],\n",
              "                        [-5.4584e-02, -2.4243e-02,  4.1488e-02],\n",
              "                        [ 1.6910e-01,  9.2841e-02,  8.3676e-02]],\n",
              "              \n",
              "                       [[ 5.5750e-03, -9.7356e-02, -8.6997e-02],\n",
              "                        [-3.9053e-02, -2.0420e-01, -1.0040e-01],\n",
              "                        [ 7.6002e-02, -1.3406e-02, -3.6822e-02]],\n",
              "              \n",
              "                       [[ 4.4000e-03,  9.1438e-02,  4.1840e-02],\n",
              "                        [ 3.1703e-03,  2.0594e-02,  2.0662e-02],\n",
              "                        [-2.5773e-01, -1.2640e-01, -1.7345e-01]],\n",
              "              \n",
              "                       [[-8.3753e-02, -8.6020e-03, -9.3077e-02],\n",
              "                        [ 7.4492e-02,  1.1865e-02, -5.6648e-02],\n",
              "                        [ 5.6594e-02, -9.9486e-02, -3.9942e-02]],\n",
              "              \n",
              "                       [[ 1.2646e-01,  7.7896e-03, -3.3194e-02],\n",
              "                        [ 6.1485e-02,  8.5953e-02,  1.0651e-01],\n",
              "                        [ 2.5123e-01,  9.6023e-02,  3.0821e-02]],\n",
              "              \n",
              "                       [[ 7.7657e-02,  4.4122e-02,  2.0087e-02],\n",
              "                        [-7.8862e-03, -9.6436e-02, -4.9096e-02],\n",
              "                        [ 1.0034e-01, -3.6748e-02, -5.4598e-03]],\n",
              "              \n",
              "                       [[-9.7341e-02, -3.8400e-02,  7.8582e-03],\n",
              "                        [-3.6757e-02,  1.6713e-02,  4.0991e-02],\n",
              "                        [-8.3970e-02,  4.7691e-02, -7.4737e-02]],\n",
              "              \n",
              "                       [[-5.1535e-02,  4.0202e-02,  8.3849e-02],\n",
              "                        [-2.8681e-02, -4.3249e-02, -9.5252e-02],\n",
              "                        [-5.4247e-02, -9.2328e-02, -2.4045e-02]]],\n",
              "              \n",
              "              \n",
              "                      [[[ 1.4559e-01, -1.1716e-01, -1.4409e-01],\n",
              "                        [ 1.2000e-01,  7.0122e-02, -3.3973e-01],\n",
              "                        [ 2.1197e-01,  3.6084e-01, -1.3431e-01]],\n",
              "              \n",
              "                       [[ 6.4816e-02,  1.1958e-01, -5.0509e-01],\n",
              "                        [ 3.5393e-01,  2.3612e-01, -3.2364e-01],\n",
              "                        [ 3.4444e-01,  1.6420e-01, -4.5015e-01]],\n",
              "              \n",
              "                       [[-2.0327e-01, -1.9219e-01, -1.1191e-01],\n",
              "                        [-9.7420e-02, -2.9245e-01,  4.5937e-02],\n",
              "                        [ 1.4234e-01, -7.3331e-02,  9.2364e-02]],\n",
              "              \n",
              "                       [[-3.8171e-01, -8.0684e-02,  8.0917e-02],\n",
              "                        [-2.0733e-02, -1.4181e-01,  4.0425e-01],\n",
              "                        [-5.9438e-02, -3.2035e-01,  2.8981e-01]],\n",
              "              \n",
              "                       [[-1.6875e-03,  6.9261e-02, -2.3999e-01],\n",
              "                        [-1.4881e-02,  1.5496e-01, -1.5149e-01],\n",
              "                        [-1.3583e-01,  2.1691e-01, -6.7903e-02]],\n",
              "              \n",
              "                       [[ 9.4413e-02, -9.2556e-02, -3.6247e-02],\n",
              "                        [-1.0030e-01, -4.3534e-02,  3.1953e-02],\n",
              "                        [ 9.9666e-02,  1.6475e-02,  1.0209e-01]],\n",
              "              \n",
              "                       [[ 9.5622e-02,  1.0168e-01,  2.2261e-01],\n",
              "                        [-3.6329e-02, -1.1198e-01,  4.9594e-02],\n",
              "                        [ 7.1616e-02,  4.9416e-02,  6.4127e-03]],\n",
              "              \n",
              "                       [[-1.7675e-01, -6.4400e-02, -5.3221e-02],\n",
              "                        [-1.3415e-01,  2.6335e-02,  3.1090e-02],\n",
              "                        [ 3.0370e-02, -4.6787e-02,  9.0090e-02]],\n",
              "              \n",
              "                       [[ 1.0337e-01, -2.3521e-01,  1.3282e-02],\n",
              "                        [ 4.6383e-02, -1.0629e-01, -2.1734e-01],\n",
              "                        [ 2.3498e-02, -9.7458e-02, -2.1884e-01]],\n",
              "              \n",
              "                       [[ 5.9407e-02,  3.8282e-02,  8.3596e-02],\n",
              "                        [-3.9443e-02,  3.5458e-02,  3.7593e-02],\n",
              "                        [-8.7927e-02, -1.0210e-01, -5.4815e-02]]],\n",
              "              \n",
              "              \n",
              "                      [[[ 1.2447e-01, -1.7208e-01, -3.1887e-01],\n",
              "                        [ 1.6618e-01,  1.0110e-01, -1.6226e-01],\n",
              "                        [-1.9662e-02,  7.2777e-02, -5.7784e-02]],\n",
              "              \n",
              "                       [[ 1.5032e-01, -2.2155e-02, -2.6879e-01],\n",
              "                        [ 9.7208e-02,  1.1548e-01, -2.9423e-01],\n",
              "                        [ 6.9185e-02,  2.5047e-01, -2.4765e-01]],\n",
              "              \n",
              "                       [[-8.1241e-02,  7.4734e-03,  1.0236e-02],\n",
              "                        [-1.1046e-02, -1.2355e-01, -5.5204e-02],\n",
              "                        [ 7.4758e-02, -1.1124e-01, -3.3861e-02]],\n",
              "              \n",
              "                       [[ 2.7416e-02, -5.6326e-02,  2.5487e-01],\n",
              "                        [-3.3548e-02, -6.9658e-02,  1.7088e-01],\n",
              "                        [-6.0098e-02, -1.8525e-01,  1.0664e-01]],\n",
              "              \n",
              "                       [[ 1.9109e-02, -1.5793e-01, -2.1634e-01],\n",
              "                        [ 1.1442e-01,  7.8823e-02, -7.6076e-02],\n",
              "                        [-5.8627e-02,  4.2574e-02, -8.5543e-02]],\n",
              "              \n",
              "                       [[-1.9411e-02, -7.2137e-02,  8.2978e-03],\n",
              "                        [ 1.0078e-02, -1.4001e-02,  1.4227e-02],\n",
              "                        [-4.2427e-02,  2.6573e-02,  3.9263e-02]],\n",
              "              \n",
              "                       [[-3.2668e-02, -8.3003e-02,  1.0500e-01],\n",
              "                        [ 1.5957e-02, -5.6393e-02,  8.0423e-02],\n",
              "                        [-8.9796e-02,  9.5766e-02,  7.6812e-02]],\n",
              "              \n",
              "                       [[-8.5963e-02,  7.1398e-02, -1.1897e-01],\n",
              "                        [-1.0014e-01,  3.3576e-03, -2.2989e-02],\n",
              "                        [ 9.2063e-02, -5.1873e-02,  3.3240e-02]],\n",
              "              \n",
              "                       [[-9.2608e-02,  7.5210e-02, -6.5493e-02],\n",
              "                        [-8.8128e-02,  1.4264e-02,  2.2519e-02],\n",
              "                        [ 9.4545e-02, -6.0562e-02, -8.7014e-02]],\n",
              "              \n",
              "                       [[ 2.0284e-02,  2.8592e-02,  4.0526e-02],\n",
              "                        [ 5.7901e-02, -2.3897e-02,  5.8618e-02],\n",
              "                        [ 7.7686e-02, -2.7557e-02,  7.4976e-02]]],\n",
              "              \n",
              "              \n",
              "                      [[[-2.2712e-02,  6.5149e-02,  5.3222e-02],\n",
              "                        [ 7.6656e-02, -4.8885e-03, -5.5646e-03],\n",
              "                        [ 1.8509e-01, -2.1651e-02, -6.6152e-02]],\n",
              "              \n",
              "                       [[ 1.2228e-01,  1.0293e-01, -5.2364e-02],\n",
              "                        [ 1.2447e-01, -1.9136e-01, -1.5305e-01],\n",
              "                        [ 2.1365e-01, -1.2886e-01,  5.6429e-02]],\n",
              "              \n",
              "                       [[-1.3688e-01, -2.6241e-01, -3.0883e-02],\n",
              "                        [-1.8782e-01, -2.5779e-01, -1.6474e-01],\n",
              "                        [-8.2088e-02, -1.5580e-01, -1.8933e-02]],\n",
              "              \n",
              "                       [[-1.6330e-01, -7.7293e-02,  1.7375e-02],\n",
              "                        [-2.5276e-01, -2.9470e-01, -1.0261e-01],\n",
              "                        [ 1.0697e-02, -8.6075e-02,  9.4151e-02]],\n",
              "              \n",
              "                       [[ 5.8823e-02, -2.3789e-02,  9.2677e-02],\n",
              "                        [ 1.9114e-01,  2.6773e-02,  1.8731e-02],\n",
              "                        [ 5.9295e-02, -1.1593e-01, -6.7537e-02]],\n",
              "              \n",
              "                       [[ 8.6781e-02,  8.1052e-02,  3.0387e-02],\n",
              "                        [ 8.4060e-03, -9.0489e-02, -1.2702e-02],\n",
              "                        [ 1.0142e-01,  2.6218e-02,  8.9040e-03]],\n",
              "              \n",
              "                       [[-1.6641e-02,  9.6994e-04,  1.0826e-01],\n",
              "                        [ 4.2682e-02,  1.4501e-02, -9.3230e-02],\n",
              "                        [ 1.0815e-01,  9.7547e-02,  7.0143e-03]],\n",
              "              \n",
              "                       [[-2.9264e-02, -4.4359e-02,  1.1044e-01],\n",
              "                        [ 1.6033e-02, -7.0578e-02, -1.2087e-01],\n",
              "                        [ 2.4864e-03,  3.2522e-03, -2.5803e-02]],\n",
              "              \n",
              "                       [[-8.1190e-02, -8.3140e-02, -6.2706e-02],\n",
              "                        [-1.3058e-02, -9.1348e-02, -1.3460e-01],\n",
              "                        [ 7.4543e-03, -7.9266e-02,  3.7130e-03]],\n",
              "              \n",
              "                       [[ 5.5807e-02,  9.4944e-02,  4.9636e-04],\n",
              "                        [ 2.1267e-02,  3.6647e-02, -9.9799e-02],\n",
              "                        [ 9.3672e-03, -6.9949e-03, -5.9084e-02]]],\n",
              "              \n",
              "              \n",
              "                      [[[-2.2003e-01,  3.3334e-01,  4.1038e-01],\n",
              "                        [-3.4537e-01,  1.3324e-02,  2.1481e-01],\n",
              "                        [-3.3249e-01, -9.7892e-02,  1.4437e-01]],\n",
              "              \n",
              "                       [[-2.0274e-01,  1.1863e-01,  2.5753e-01],\n",
              "                        [-3.4517e-01, -4.0697e-02,  3.9433e-01],\n",
              "                        [-3.3356e-01, -1.3721e-01,  4.0236e-01]],\n",
              "              \n",
              "                       [[-5.8784e-02,  2.1039e-02,  3.0902e-02],\n",
              "                        [-7.6911e-02,  5.7627e-02, -8.5088e-02],\n",
              "                        [-1.3596e-02,  3.5604e-02, -3.6415e-02]],\n",
              "              \n",
              "                       [[-6.1696e-02, -1.0061e-02, -4.9293e-02],\n",
              "                        [ 1.4748e-02, -5.3957e-02, -1.6417e-01],\n",
              "                        [ 1.1116e-01, -1.2302e-01, -1.0229e-01]],\n",
              "              \n",
              "                       [[-9.7991e-02, -7.9804e-03, -4.8763e-02],\n",
              "                        [-2.3948e-02, -7.6755e-02,  7.7550e-02],\n",
              "                        [-2.1107e-04,  5.0802e-02,  2.2344e-01]],\n",
              "              \n",
              "                       [[-1.0050e-01, -7.4505e-02, -3.8447e-02],\n",
              "                        [ 8.8925e-02,  1.1581e-02, -7.8268e-02],\n",
              "                        [ 1.9489e-03, -8.2432e-02, -2.2001e-02]],\n",
              "              \n",
              "                       [[-3.1896e-02,  8.2189e-02, -1.7235e-02],\n",
              "                        [ 7.3160e-03,  1.7762e-02, -4.6761e-02],\n",
              "                        [ 8.3252e-02, -1.9000e-02, -3.2028e-02]],\n",
              "              \n",
              "                       [[-6.6826e-02,  9.0789e-02, -9.4953e-03],\n",
              "                        [-3.8360e-02,  4.2549e-02,  1.0215e-01],\n",
              "                        [ 9.9208e-02,  4.0270e-02, -2.0837e-02]],\n",
              "              \n",
              "                       [[ 5.5648e-02,  1.1545e-01, -6.3872e-02],\n",
              "                        [ 1.1915e-02, -8.7142e-02,  9.7502e-03],\n",
              "                        [ 3.4212e-02, -4.4744e-02, -1.0344e-03]],\n",
              "              \n",
              "                       [[ 4.7590e-02, -1.7837e-02, -8.8413e-02],\n",
              "                        [ 8.4380e-02, -5.2926e-02, -1.1487e-02],\n",
              "                        [ 9.9819e-03, -6.4159e-03, -9.9128e-02]]]])),\n",
              "             ('conv_block_1.2.bias',\n",
              "              tensor([ 0.3807, -0.0463, -0.0578,  0.4977, -0.1159,  0.0840,  0.0968, -0.0248,\n",
              "                       0.1861, -0.0132])),\n",
              "             ('conv_block_2.0.weight',\n",
              "              tensor([[[[-3.4366e-02, -9.7543e-02, -2.9272e-02],\n",
              "                        [-4.0713e-02,  3.0923e-02,  1.4551e-01],\n",
              "                        [-6.8500e-02,  6.1483e-02,  1.1853e-01]],\n",
              "              \n",
              "                       [[ 5.8927e-02, -9.7374e-02, -4.0165e-02],\n",
              "                        [-8.9797e-02, -6.7605e-02,  5.8799e-02],\n",
              "                        [-1.2248e-02,  4.6800e-02, -6.1115e-02]],\n",
              "              \n",
              "                       [[ 1.6244e-02, -6.3540e-02,  5.2657e-02],\n",
              "                        [-4.5822e-02, -2.5967e-02, -9.1511e-02],\n",
              "                        [ 3.3972e-04,  1.0020e-01,  5.1189e-02]],\n",
              "              \n",
              "                       [[-9.0490e-02,  7.0746e-02, -3.1064e-02],\n",
              "                        [-1.2508e-01,  9.3816e-02, -8.6839e-02],\n",
              "                        [-3.0898e-02, -9.5017e-02, -7.9061e-02]],\n",
              "              \n",
              "                       [[ 1.5586e-02,  3.7387e-02,  2.3682e-02],\n",
              "                        [-5.1432e-02,  1.0427e-01, -1.7614e-02],\n",
              "                        [-6.8993e-02, -4.6998e-02,  1.0125e-01]],\n",
              "              \n",
              "                       [[ 1.0417e-01, -2.0438e-02, -6.5403e-02],\n",
              "                        [ 6.8717e-02, -3.8391e-02, -1.0036e-01],\n",
              "                        [ 9.2588e-02,  1.5188e-01,  6.5877e-02]],\n",
              "              \n",
              "                       [[-1.4075e-01,  1.2032e-01, -1.3015e-01],\n",
              "                        [ 7.5944e-02,  1.0693e-01, -2.2057e-02],\n",
              "                        [ 2.6204e-01,  2.2882e-02, -8.4026e-02]],\n",
              "              \n",
              "                       [[ 3.3286e-02, -6.7639e-03,  2.4469e-02],\n",
              "                        [ 1.4256e-02,  4.3019e-02, -1.2649e-01],\n",
              "                        [ 8.1918e-02, -6.6906e-02, -5.6065e-02]],\n",
              "              \n",
              "                       [[-1.3863e-01, -3.7422e-02,  7.7946e-03],\n",
              "                        [ 4.0097e-02,  1.2972e-01,  4.3396e-02],\n",
              "                        [-5.6579e-02, -1.2363e-01,  2.1920e-02]],\n",
              "              \n",
              "                       [[ 2.6185e-01, -5.6543e-02,  4.7050e-02],\n",
              "                        [ 2.5125e-01,  9.6469e-02, -6.1799e-02],\n",
              "                        [ 1.7418e-01,  1.6742e-01,  4.6476e-02]]],\n",
              "              \n",
              "              \n",
              "                      [[[-2.6333e-02, -1.6283e-01, -1.5293e-01],\n",
              "                        [ 1.7785e-01, -3.3689e-01, -9.6859e-03],\n",
              "                        [ 4.1995e-02,  2.5799e-02, -9.7367e-02]],\n",
              "              \n",
              "                       [[ 4.8600e-02, -4.0191e-02, -1.1292e-01],\n",
              "                        [-5.0251e-02,  1.0421e-01, -2.2213e-02],\n",
              "                        [ 1.4852e-02, -4.5153e-02,  6.5902e-02]],\n",
              "              \n",
              "                       [[ 6.1128e-02,  3.6522e-02, -5.2360e-02],\n",
              "                        [-8.6337e-02,  4.2957e-03, -6.1737e-02],\n",
              "                        [ 8.6511e-02, -1.0137e-01,  4.6988e-02]],\n",
              "              \n",
              "                       [[-1.4873e-01,  3.2857e-01,  3.4666e-01],\n",
              "                        [-1.6191e-01,  8.6382e-01,  1.6979e-01],\n",
              "                        [-8.9184e-01, -6.7926e-02, -8.1295e-02]],\n",
              "              \n",
              "                       [[-3.1685e-03,  9.3688e-02, -6.6969e-02],\n",
              "                        [-6.5146e-02,  3.6021e-03, -1.8227e-03],\n",
              "                        [ 9.7566e-03, -1.1300e-01, -4.1196e-02]],\n",
              "              \n",
              "                       [[ 1.5506e-01, -4.6791e-01, -4.8970e-02],\n",
              "                        [ 2.9624e-01,  1.0833e-01, -9.6120e-03],\n",
              "                        [ 2.2147e-02,  2.7783e-01,  1.4713e-01]],\n",
              "              \n",
              "                       [[-5.6124e-01, -1.1853e-01,  1.7211e-01],\n",
              "                        [-5.8090e-01,  3.5462e-01,  3.7891e-01],\n",
              "                        [-3.6657e-01, -6.9638e-02, -2.2328e-02]],\n",
              "              \n",
              "                       [[-3.1840e-02, -2.7069e-01,  7.4172e-02],\n",
              "                        [-2.5719e-01, -2.9887e-02, -1.7566e-01],\n",
              "                        [-2.2371e-01, -1.3052e-01, -1.2320e-01]],\n",
              "              \n",
              "                       [[-4.0734e-01,  8.6902e-02,  4.2397e-01],\n",
              "                        [-1.7933e-01,  3.0957e-01,  3.2745e-01],\n",
              "                        [-2.8568e-01, -9.2317e-02, -8.6392e-02]],\n",
              "              \n",
              "                       [[ 3.3567e-01, -4.9030e-02, -1.2649e-01],\n",
              "                        [ 2.7079e-01, -7.0986e-02, -2.9972e-01],\n",
              "                        [-2.9102e-01,  9.9806e-02,  9.0099e-02]]],\n",
              "              \n",
              "              \n",
              "                      [[[-6.1795e-02,  6.7530e-02,  7.0187e-02],\n",
              "                        [-1.0536e-01, -1.0687e-01, -1.0031e-01],\n",
              "                        [-7.8193e-02, -5.4373e-02, -2.1401e-02]],\n",
              "              \n",
              "                       [[-2.5410e-02, -5.3686e-02, -3.3739e-02],\n",
              "                        [-3.9660e-02,  1.0344e-01, -3.9137e-02],\n",
              "                        [-7.5488e-02,  4.3746e-02, -6.1524e-03]],\n",
              "              \n",
              "                       [[ 8.0696e-02,  6.5861e-02,  9.6855e-02],\n",
              "                        [-7.7197e-02,  6.7774e-02,  8.8466e-02],\n",
              "                        [-5.2054e-02,  9.6899e-02,  7.9019e-02]],\n",
              "              \n",
              "                       [[-1.7611e-02,  4.8499e-02, -6.2098e-02],\n",
              "                        [-1.1181e-01,  2.9573e-02,  1.0933e-02],\n",
              "                        [-9.0584e-02,  2.9006e-02, -1.2203e-01]],\n",
              "              \n",
              "                       [[ 8.2914e-02,  9.9295e-02,  1.3806e-02],\n",
              "                        [-6.6772e-02,  5.8546e-02,  9.7386e-03],\n",
              "                        [ 1.4419e-02,  2.6820e-02,  5.9423e-02]],\n",
              "              \n",
              "                       [[-4.9745e-02, -3.3065e-02,  2.6569e-02],\n",
              "                        [-4.7707e-04,  7.5299e-02, -6.2286e-02],\n",
              "                        [-5.8961e-03,  1.7230e-02, -2.6802e-02]],\n",
              "              \n",
              "                       [[ 5.0394e-02,  4.2751e-03, -1.0647e-01],\n",
              "                        [-2.5083e-02, -5.1012e-02,  1.4798e-02],\n",
              "                        [-2.9057e-02, -1.1591e-01, -3.1453e-02]],\n",
              "              \n",
              "                       [[-2.2292e-02, -3.5829e-02,  8.5146e-02],\n",
              "                        [-2.4694e-02,  7.4643e-02,  2.8514e-02],\n",
              "                        [-9.9562e-02,  1.9297e-02,  7.7660e-02]],\n",
              "              \n",
              "                       [[-9.6929e-02, -7.1958e-02,  7.5552e-02],\n",
              "                        [ 7.1053e-02, -4.8329e-02,  5.6001e-02],\n",
              "                        [-3.2930e-02, -1.1222e-01, -1.0207e-02]],\n",
              "              \n",
              "                       [[ 4.9565e-02, -4.2261e-02,  4.3671e-02],\n",
              "                        [-7.6990e-02,  6.8727e-02,  9.2527e-02],\n",
              "                        [ 6.1465e-02,  1.6141e-02,  3.4851e-02]]],\n",
              "              \n",
              "              \n",
              "                      [[[-9.1221e-02, -7.8878e-02, -3.8464e-02],\n",
              "                        [-5.6999e-02, -4.0509e-02,  1.2096e-01],\n",
              "                        [ 6.6604e-02, -7.9262e-02,  5.9264e-02]],\n",
              "              \n",
              "                       [[ 4.0226e-02,  1.0464e-01,  6.4133e-02],\n",
              "                        [ 9.8644e-02, -3.4383e-02,  7.2701e-02],\n",
              "                        [ 8.5577e-02, -9.9624e-02, -8.8552e-02]],\n",
              "              \n",
              "                       [[ 2.1198e-02,  5.7461e-02, -5.2496e-02],\n",
              "                        [ 1.1680e-02, -2.1957e-04,  2.6729e-02],\n",
              "                        [-5.6644e-02,  5.9450e-02,  7.0176e-02]],\n",
              "              \n",
              "                       [[ 3.0924e-02,  7.0460e-02,  5.6475e-03],\n",
              "                        [ 1.4319e-01,  2.6554e-02, -1.4217e-01],\n",
              "                        [-1.4377e-02, -2.4966e-02, -2.9505e-01]],\n",
              "              \n",
              "                       [[-2.3442e-02,  1.2659e-02, -8.1057e-02],\n",
              "                        [ 1.5743e-02, -6.6531e-02,  9.5974e-03],\n",
              "                        [ 9.7063e-03,  1.1790e-02, -8.9078e-02]],\n",
              "              \n",
              "                       [[-1.3384e-01,  7.1398e-02,  1.7954e-01],\n",
              "                        [-7.0484e-02,  8.7948e-02, -4.4094e-02],\n",
              "                        [-4.9136e-03,  3.0036e-02,  3.4041e-02]],\n",
              "              \n",
              "                       [[-3.4597e-02,  2.5005e-01,  5.7760e-02],\n",
              "                        [ 1.1383e-02,  1.8973e-01, -1.3439e-01],\n",
              "                        [-1.6206e-02, -6.1297e-03, -1.6352e-01]],\n",
              "              \n",
              "                       [[ 4.0352e-02,  8.6403e-02, -6.7566e-02],\n",
              "                        [-5.1676e-02,  5.5693e-02, -1.2539e-01],\n",
              "                        [-1.8498e-02, -3.8470e-03, -1.0960e-01]],\n",
              "              \n",
              "                       [[ 8.5429e-02,  8.6893e-02,  9.5517e-02],\n",
              "                        [ 6.5791e-02, -3.5740e-02,  1.4060e-02],\n",
              "                        [ 3.6647e-02, -2.5469e-02, -1.9799e-01]],\n",
              "              \n",
              "                       [[-3.1181e-02, -1.0043e-01,  1.1905e-01],\n",
              "                        [-6.1035e-02, -1.1622e-01, -8.0956e-03],\n",
              "                        [-1.4109e-01,  4.4297e-02,  1.0503e-01]]],\n",
              "              \n",
              "              \n",
              "                      [[[-6.4655e-02,  2.3749e-02, -1.5784e-01],\n",
              "                        [-5.6127e-02,  1.5898e-01,  6.1592e-02],\n",
              "                        [ 1.9732e-01,  1.1105e-01,  1.2414e-01]],\n",
              "              \n",
              "                       [[ 6.4659e-02,  8.0344e-02, -1.0487e-01],\n",
              "                        [ 8.5039e-02, -8.7098e-02,  9.3785e-02],\n",
              "                        [-1.1525e-02, -9.2116e-02,  2.9422e-02]],\n",
              "              \n",
              "                       [[-2.1970e-02, -9.5091e-02, -3.8299e-02],\n",
              "                        [ 1.0732e-02,  8.1261e-02, -3.2739e-02],\n",
              "                        [ 6.2580e-02,  1.3489e-02,  3.5963e-03]],\n",
              "              \n",
              "                       [[ 1.9128e-01, -1.5124e-02, -1.2255e-01],\n",
              "                        [ 1.3101e-01, -1.7896e-01, -2.3642e-01],\n",
              "                        [ 8.0017e-02, -6.4938e-02, -1.4073e-01]],\n",
              "              \n",
              "                       [[-1.1557e-02, -9.7416e-03, -5.6326e-02],\n",
              "                        [ 1.6137e-02, -1.5529e-02,  3.2535e-02],\n",
              "                        [ 9.8133e-03, -5.6864e-02, -3.5192e-02]],\n",
              "              \n",
              "                       [[-4.1638e-03, -8.4301e-02, -1.9502e-02],\n",
              "                        [ 7.5958e-02,  2.6525e-02, -1.1807e-03],\n",
              "                        [ 9.8702e-02, -6.7838e-02, -1.2320e-01]],\n",
              "              \n",
              "                       [[ 4.8912e-02, -1.1942e-01, -5.0894e-02],\n",
              "                        [ 1.2606e-01, -7.5033e-02, -1.8844e-01],\n",
              "                        [ 2.3873e-01,  1.4222e-01, -2.9565e-02]],\n",
              "              \n",
              "                       [[ 7.0135e-02, -1.5315e-01,  1.5553e-02],\n",
              "                        [ 1.1441e-01, -4.4649e-03, -1.4258e-01],\n",
              "                        [ 9.6669e-02, -5.8022e-02, -7.7149e-03]],\n",
              "              \n",
              "                       [[ 1.2308e-02, -2.3747e-02, -8.5539e-02],\n",
              "                        [ 3.7021e-02,  7.3639e-02, -1.5209e-02],\n",
              "                        [-3.6494e-02,  3.0212e-02, -7.0995e-02]],\n",
              "              \n",
              "                       [[-3.6973e-02,  7.5514e-02,  1.1494e-01],\n",
              "                        [ 1.4858e-01, -6.3679e-02,  3.0965e-02],\n",
              "                        [ 2.2698e-01,  1.4429e-01, -5.6952e-02]]],\n",
              "              \n",
              "              \n",
              "                      [[[-1.1120e-01,  6.2612e-02,  3.2668e-02],\n",
              "                        [-3.5038e-02, -3.3929e-02, -2.0122e-02],\n",
              "                        [ 7.3094e-02, -1.1081e-02,  1.2527e-01]],\n",
              "              \n",
              "                       [[ 9.3096e-02,  1.1997e-02,  2.1004e-02],\n",
              "                        [-8.6263e-03,  7.2753e-02, -9.3924e-02],\n",
              "                        [ 4.1699e-02, -1.6896e-02,  4.8148e-02]],\n",
              "              \n",
              "                       [[-5.5115e-04, -3.9038e-02, -1.1438e-02],\n",
              "                        [ 5.6956e-02, -7.3184e-02, -6.6626e-02],\n",
              "                        [-2.3579e-02, -3.8315e-02,  4.1415e-02]],\n",
              "              \n",
              "                       [[ 3.2771e-02, -7.0231e-02,  3.7008e-02],\n",
              "                        [-5.7648e-02, -5.9185e-02, -5.6099e-02],\n",
              "                        [-8.2922e-02, -7.3666e-02, -1.2741e-01]],\n",
              "              \n",
              "                       [[-1.0275e-01,  2.2049e-02,  6.3242e-02],\n",
              "                        [ 9.6172e-02,  9.2770e-02,  3.3496e-03],\n",
              "                        [ 2.3163e-02, -5.6334e-02,  5.3744e-02]],\n",
              "              \n",
              "                       [[-1.0490e-01, -4.5179e-03, -2.1611e-02],\n",
              "                        [ 2.2293e-02,  1.0860e-02, -3.4234e-02],\n",
              "                        [ 1.0855e-01,  6.4280e-02,  9.2122e-02]],\n",
              "              \n",
              "                       [[ 6.4559e-04,  4.4392e-02,  2.5695e-02],\n",
              "                        [ 5.8858e-02,  8.7259e-02, -4.1330e-02],\n",
              "                        [ 6.2517e-02,  4.1823e-02,  5.2179e-02]],\n",
              "              \n",
              "                       [[ 1.0696e-01,  1.3329e-02, -4.8749e-02],\n",
              "                        [-4.4428e-03,  3.9864e-02,  1.5987e-02],\n",
              "                        [-3.0358e-02,  9.4054e-02,  6.9093e-02]],\n",
              "              \n",
              "                       [[-1.0502e-01, -3.0432e-02, -6.5568e-02],\n",
              "                        [-9.4106e-02,  1.8027e-02, -4.2798e-02],\n",
              "                        [-6.5288e-02, -2.5308e-02, -3.9298e-02]],\n",
              "              \n",
              "                       [[ 1.2998e-01,  6.3360e-03,  1.7114e-01],\n",
              "                        [ 5.1422e-02,  4.3521e-03,  6.6042e-02],\n",
              "                        [ 3.5614e-02, -1.0151e-01, -6.6097e-02]]],\n",
              "              \n",
              "              \n",
              "                      [[[-9.8758e-02,  3.2467e-01,  2.7592e-01],\n",
              "                        [-3.3713e-01, -1.3677e-02, -2.9778e-03],\n",
              "                        [-2.1908e-01, -2.8735e-01, -4.0012e-01]],\n",
              "              \n",
              "                       [[-7.4580e-02,  2.1983e-02,  4.9008e-02],\n",
              "                        [ 8.8812e-02, -5.5303e-02, -1.0140e-02],\n",
              "                        [-1.0610e-02, -2.1794e-03,  2.9496e-02]],\n",
              "              \n",
              "                       [[-1.6943e-03,  3.9484e-03,  1.4489e-02],\n",
              "                        [ 3.9783e-02, -3.0437e-02, -6.3022e-02],\n",
              "                        [ 2.5125e-02, -1.2129e-02, -4.7171e-02]],\n",
              "              \n",
              "                       [[-1.2152e-01, -4.1988e-01, -6.0175e-01],\n",
              "                        [ 4.0068e-01,  1.8090e-01, -2.2363e-01],\n",
              "                        [-2.2990e-02,  2.3169e-01,  3.3983e-01]],\n",
              "              \n",
              "                       [[-9.0403e-03, -1.6074e-02,  1.4955e-02],\n",
              "                        [ 6.4369e-02, -6.8400e-02,  5.5900e-02],\n",
              "                        [ 1.3971e-02, -7.4013e-02,  3.3333e-02]],\n",
              "              \n",
              "                       [[-5.8077e-02,  5.8482e-02,  7.8657e-02],\n",
              "                        [-1.5160e-01, -2.8137e-04, -1.5556e-01],\n",
              "                        [ 1.9126e-01, -2.5102e-03, -7.4544e-03]],\n",
              "              \n",
              "                       [[ 4.2263e-02,  2.5229e-01, -5.0835e-01],\n",
              "                        [ 3.4211e-01,  2.7206e-01, -2.7977e-01],\n",
              "                        [-2.1557e-01, -1.0369e-01, -2.3173e-01]],\n",
              "              \n",
              "                       [[-9.7281e-04,  5.4773e-02, -3.4409e-01],\n",
              "                        [ 3.9487e-02, -2.3777e-02, -9.8705e-03],\n",
              "                        [-2.1075e-01, -2.4727e-01,  1.3406e-02]],\n",
              "              \n",
              "                       [[-3.5280e-02, -3.1934e-02, -2.6203e-01],\n",
              "                        [ 1.4967e-01,  1.6523e-01, -3.2116e-01],\n",
              "                        [ 1.3378e-02,  1.6879e-01,  6.7946e-02]],\n",
              "              \n",
              "                       [[ 2.5803e-02, -2.1490e-01,  4.6822e-02],\n",
              "                        [-3.7229e-02, -3.6389e-01, -2.6536e-01],\n",
              "                        [ 7.3581e-02, -2.4604e-01, -1.5130e-01]]],\n",
              "              \n",
              "              \n",
              "                      [[[-2.2982e-02,  3.0563e-01,  1.3769e-01],\n",
              "                        [-2.9256e-02, -2.2470e-01, -5.3299e-02],\n",
              "                        [ 4.7825e-02, -1.8172e-02,  1.6377e-01]],\n",
              "              \n",
              "                       [[-9.0900e-02, -1.8395e-02, -6.0466e-02],\n",
              "                        [ 3.4782e-02, -6.9126e-02,  5.6376e-02],\n",
              "                        [-7.2653e-02,  6.4831e-02, -8.0558e-02]],\n",
              "              \n",
              "                       [[ 5.9203e-02, -4.5676e-02, -3.2900e-03],\n",
              "                        [-2.2044e-02,  6.8446e-02,  3.5049e-02],\n",
              "                        [-9.1184e-02,  1.0031e-02, -7.2103e-02]],\n",
              "              \n",
              "                       [[-1.0064e-01, -1.8720e-01, -4.2571e-01],\n",
              "                        [-2.2803e-01,  5.1051e-01,  1.8081e-01],\n",
              "                        [ 4.7637e-02,  4.7365e-01, -8.8906e-02]],\n",
              "              \n",
              "                       [[ 1.7569e-02, -1.1452e-01,  6.8592e-02],\n",
              "                        [-3.0239e-02, -4.9934e-02, -2.0187e-02],\n",
              "                        [ 6.3083e-02,  7.5002e-02,  2.9462e-04]],\n",
              "              \n",
              "                       [[ 1.0506e-01, -5.4830e-01, -2.6923e-01],\n",
              "                        [-1.4040e-01, -2.4552e-01, -1.4292e-01],\n",
              "                        [-1.0672e-01,  3.5598e-02,  4.5996e-02]],\n",
              "              \n",
              "                       [[ 1.5516e-01, -2.4743e-01, -1.8080e-01],\n",
              "                        [-3.2275e-01,  9.4610e-02, -1.2436e-01],\n",
              "                        [-2.9674e-01,  2.4295e-01,  8.5161e-02]],\n",
              "              \n",
              "                       [[ 6.7628e-02, -8.2019e-02, -7.9396e-02],\n",
              "                        [-8.0573e-02, -2.7617e-02, -2.7425e-02],\n",
              "                        [-1.1252e-01, -3.0374e-03, -6.9992e-02]],\n",
              "              \n",
              "                       [[ 1.1680e-01, -1.2447e-01, -1.9562e-01],\n",
              "                        [-1.8866e-01,  1.9359e-01,  8.4244e-02],\n",
              "                        [ 9.4376e-03,  1.4027e-01,  1.4343e-01]],\n",
              "              \n",
              "                       [[ 1.2473e-01, -4.1193e-01,  1.6708e-01],\n",
              "                        [ 1.0635e-01, -1.0306e-01,  5.4558e-02],\n",
              "                        [-1.2077e-02,  9.4804e-03, -1.1577e-01]]],\n",
              "              \n",
              "              \n",
              "                      [[[-1.2362e-01, -7.7755e-02,  1.9209e-01],\n",
              "                        [ 1.3100e-01,  2.4606e-01,  2.6671e-01],\n",
              "                        [-2.2811e-02, -1.0151e-02,  1.4832e-02]],\n",
              "              \n",
              "                       [[ 5.8898e-02,  1.7822e-02,  2.8528e-02],\n",
              "                        [-4.9310e-02,  4.6280e-02,  6.5322e-02],\n",
              "                        [ 4.7081e-02,  1.9053e-02,  1.0428e-01]],\n",
              "              \n",
              "                       [[-2.3858e-04,  2.2381e-02,  1.0008e-01],\n",
              "                        [ 1.0188e-01, -4.4854e-02,  9.5475e-02],\n",
              "                        [ 3.7767e-02, -1.2429e-02,  9.1572e-02]],\n",
              "              \n",
              "                       [[ 2.1410e-01,  4.2265e-01,  1.9217e-01],\n",
              "                        [-1.0939e-01, -5.7409e-01, -3.4350e-01],\n",
              "                        [ 1.3895e-01, -3.7802e-01,  2.6100e-02]],\n",
              "              \n",
              "                       [[ 4.6190e-02,  7.9578e-02,  4.7657e-02],\n",
              "                        [ 6.4858e-02,  3.6135e-02, -8.5916e-02],\n",
              "                        [-9.3509e-02, -1.1065e-02,  8.4674e-02]],\n",
              "              \n",
              "                       [[-3.1163e-02,  1.8792e-01, -3.5206e-02],\n",
              "                        [ 3.8860e-02,  7.0463e-02,  1.7927e-02],\n",
              "                        [-1.0502e-01, -2.2588e-01, -1.0268e-01]],\n",
              "              \n",
              "                       [[-7.8790e-02,  1.6839e-01,  1.2561e-01],\n",
              "                        [-1.5869e-02, -4.7636e-01, -5.5271e-01],\n",
              "                        [ 2.5880e-01, -3.3323e-01, -2.8949e-01]],\n",
              "              \n",
              "                       [[-4.1191e-02,  8.7409e-02,  6.1799e-02],\n",
              "                        [-2.0499e-01, -2.7555e-01, -5.0997e-02],\n",
              "                        [ 5.0115e-02, -2.2190e-01, -2.2642e-01]],\n",
              "              \n",
              "                       [[ 1.4464e-01,  1.6525e-01, -7.7511e-02],\n",
              "                        [ 2.3454e-02, -2.3043e-01, -2.6476e-01],\n",
              "                        [ 1.3505e-01, -2.8664e-01, -1.3624e-01]],\n",
              "              \n",
              "                       [[-8.6120e-02, -2.7219e-01,  1.4720e-01],\n",
              "                        [-1.4861e-01, -1.6049e-01,  7.0210e-02],\n",
              "                        [-2.3546e-01, -3.3513e-01,  1.0920e-01]]],\n",
              "              \n",
              "              \n",
              "                      [[[-9.6001e-02,  4.3370e-02,  6.1048e-04],\n",
              "                        [ 7.2330e-02,  8.6043e-02, -1.0327e-02],\n",
              "                        [ 1.2207e-01, -8.1927e-02, -8.7597e-02]],\n",
              "              \n",
              "                       [[ 7.6331e-02,  3.0854e-02, -1.4125e-02],\n",
              "                        [-2.4283e-02, -6.4230e-02,  6.3203e-02],\n",
              "                        [-2.6947e-03, -2.6755e-03,  2.5698e-02]],\n",
              "              \n",
              "                       [[ 7.7779e-02, -5.3747e-02, -3.6214e-02],\n",
              "                        [ 7.1361e-02,  5.9626e-02, -5.1707e-02],\n",
              "                        [-1.0437e-01,  1.9449e-02,  5.5441e-02]],\n",
              "              \n",
              "                       [[-1.3691e-02,  4.0709e-02, -1.2080e-01],\n",
              "                        [-2.0568e-02, -8.9962e-02,  4.1995e-02],\n",
              "                        [ 9.8681e-03,  2.3561e-02,  2.0175e-01]],\n",
              "              \n",
              "                       [[-7.0352e-02, -9.4674e-02, -1.0220e-01],\n",
              "                        [ 6.3701e-02,  3.5273e-02, -7.7771e-02],\n",
              "                        [ 4.7988e-02,  9.5886e-02, -1.0235e-01]],\n",
              "              \n",
              "                       [[ 4.0593e-02, -4.8266e-03, -3.7189e-02],\n",
              "                        [ 8.4132e-02,  8.2124e-02,  9.7180e-03],\n",
              "                        [ 1.0634e-01,  9.6121e-02,  7.7586e-02]],\n",
              "              \n",
              "                       [[-1.2061e-01, -2.8716e-02, -1.0242e-01],\n",
              "                        [-1.3649e-02, -5.7902e-02, -3.1617e-02],\n",
              "                        [-1.2273e-01, -1.2624e-01, -3.2826e-05]],\n",
              "              \n",
              "                       [[ 4.1187e-02,  3.7183e-02, -4.7707e-02],\n",
              "                        [-3.2641e-02, -5.0190e-02,  4.5673e-02],\n",
              "                        [-6.4405e-02,  4.4984e-02,  3.8942e-02]],\n",
              "              \n",
              "                       [[-1.0746e-01, -2.5930e-02, -3.0884e-02],\n",
              "                        [-7.8625e-02,  1.1007e-02, -2.6596e-02],\n",
              "                        [ 5.9295e-02, -9.8611e-02,  4.7084e-02]],\n",
              "              \n",
              "                       [[-1.1484e-01, -1.5998e-02, -9.4748e-03],\n",
              "                        [ 7.1715e-02,  1.0380e-01, -8.8804e-02],\n",
              "                        [ 1.1478e-02,  3.1484e-03,  9.1995e-02]]]])),\n",
              "             ('conv_block_2.0.bias',\n",
              "              tensor([-0.0753,  0.2206, -0.0503, -0.1896, -0.2849,  0.0465,  0.3349,  0.5329,\n",
              "                       0.8123, -0.0693])),\n",
              "             ('conv_block_2.2.weight',\n",
              "              tensor([[[[-9.6598e-02, -1.5548e-01, -3.7943e-03],\n",
              "                        [-6.8278e-02, -8.0038e-02,  6.6268e-03],\n",
              "                        [-1.1226e-02, -2.0582e-01,  7.4372e-02]],\n",
              "              \n",
              "                       [[-1.3693e-01, -2.8226e-01, -1.4404e-01],\n",
              "                        [-1.2507e-01, -4.1405e-02, -5.2510e-01],\n",
              "                        [ 4.6277e-01,  3.0801e-01, -6.9776e-01]],\n",
              "              \n",
              "                       [[ 6.9612e-02,  3.0486e-03,  8.1625e-02],\n",
              "                        [-5.8677e-02,  6.3929e-02,  1.0137e-02],\n",
              "                        [ 2.0247e-02,  7.0490e-02, -1.0069e-01]],\n",
              "              \n",
              "                       [[-1.4118e-01,  1.7373e-01, -1.5384e-01],\n",
              "                        [-1.3324e-01,  2.9607e-02, -8.7854e-02],\n",
              "                        [-8.5263e-02,  8.2238e-02, -4.5868e-03]],\n",
              "              \n",
              "                       [[-1.7479e-01, -2.2529e-01, -9.5702e-02],\n",
              "                        [-1.5877e-02, -1.2597e-01, -9.6263e-02],\n",
              "                        [-3.5403e-02, -2.1503e-01, -2.4906e-01]],\n",
              "              \n",
              "                       [[-7.1993e-02, -1.0188e-01,  1.2124e-01],\n",
              "                        [-1.1840e-02,  2.8403e-04,  8.1825e-02],\n",
              "                        [ 1.4981e-03, -8.0657e-02, -7.0120e-02]],\n",
              "              \n",
              "                       [[-7.3506e-02,  7.7839e-02, -1.4571e-01],\n",
              "                        [-4.8037e-01, -1.9297e-03,  3.7353e-01],\n",
              "                        [-3.9372e-01,  1.9891e-01,  3.3765e-01]],\n",
              "              \n",
              "                       [[ 3.5210e-01,  4.1191e-02, -8.5972e-02],\n",
              "                        [-6.3236e-02,  3.1766e-02, -6.5541e-03],\n",
              "                        [-6.0217e-03, -2.6347e-02, -1.5695e-01]],\n",
              "              \n",
              "                       [[ 3.4711e-01, -1.2139e-01,  9.8563e-02],\n",
              "                        [ 6.3304e-02, -3.6590e-01,  2.1865e-01],\n",
              "                        [-2.8460e-01, -4.4877e-01, -2.6116e-01]],\n",
              "              \n",
              "                       [[-7.3678e-02,  3.8052e-02, -6.4955e-02],\n",
              "                        [ 2.0709e-02, -7.2597e-02, -4.7955e-02],\n",
              "                        [ 5.7943e-02,  2.5606e-03, -3.4027e-02]]],\n",
              "              \n",
              "              \n",
              "                      [[[ 4.3236e-02,  7.1971e-02,  4.3488e-02],\n",
              "                        [-9.4934e-02,  7.2891e-02,  4.5751e-02],\n",
              "                        [ 1.3450e-01,  1.8198e-02,  1.3275e-01]],\n",
              "              \n",
              "                       [[ 8.0773e-02,  2.3362e-01, -3.4701e-01],\n",
              "                        [ 8.3114e-03, -1.7367e-01,  4.2241e-01],\n",
              "                        [-2.3691e-01, -7.8402e-01,  1.8931e-01]],\n",
              "              \n",
              "                       [[ 2.4709e-02,  2.0659e-02,  7.7882e-02],\n",
              "                        [ 7.6343e-02, -6.1500e-02, -4.1435e-02],\n",
              "                        [-2.9911e-02, -8.4169e-02, -2.6091e-02]],\n",
              "              \n",
              "                       [[-3.0271e-02,  1.9499e-01,  3.4161e-02],\n",
              "                        [ 9.7877e-02, -3.4696e-02, -1.2410e-01],\n",
              "                        [ 1.3973e-01,  4.6965e-02,  2.4255e-02]],\n",
              "              \n",
              "                       [[-8.3635e-02,  1.7987e-01,  7.6286e-02],\n",
              "                        [ 2.2003e-02,  5.1922e-02,  1.1623e-01],\n",
              "                        [ 1.1971e-01,  5.6102e-02,  1.2961e-02]],\n",
              "              \n",
              "                       [[-6.4818e-03,  3.8860e-02,  4.9968e-02],\n",
              "                        [-5.8324e-02, -1.0034e-01,  9.8005e-03],\n",
              "                        [ 4.9091e-02,  3.3225e-02, -9.2370e-03]],\n",
              "              \n",
              "                       [[-1.7730e-01,  8.1990e-02,  1.2611e-01],\n",
              "                        [-3.2924e-01,  1.8122e-01, -3.5894e-02],\n",
              "                        [ 2.8009e-02,  2.4394e-01, -1.0073e-01]],\n",
              "              \n",
              "                       [[ 4.7778e-02, -1.7055e-01,  1.1688e-01],\n",
              "                        [ 5.3663e-02, -5.3026e-01, -5.4073e-02],\n",
              "                        [ 2.5405e-01, -5.7891e-01,  2.6516e-01]],\n",
              "              \n",
              "                       [[-8.8067e-02, -2.0573e-01, -2.7151e-02],\n",
              "                        [ 1.5467e-01,  4.8916e-03, -3.0089e-01],\n",
              "                        [ 6.4225e-02,  8.4714e-02, -2.7769e-02]],\n",
              "              \n",
              "                       [[-1.6631e-02,  6.6781e-02,  1.0051e-01],\n",
              "                        [-6.7198e-02, -7.6692e-02,  4.6543e-02],\n",
              "                        [-1.1231e-02, -4.2033e-02, -8.9953e-02]]],\n",
              "              \n",
              "              \n",
              "                      [[[ 1.6481e-01,  5.8464e-02, -8.2955e-02],\n",
              "                        [-1.2338e-02,  8.7811e-02, -5.4012e-02],\n",
              "                        [ 1.6196e-02,  1.7144e-01, -4.0591e-02]],\n",
              "              \n",
              "                       [[-6.4995e-01,  1.7480e-01, -5.6449e-01],\n",
              "                        [-6.1279e-01,  6.0151e-01, -5.6742e-02],\n",
              "                        [-9.6613e-02, -7.2076e-02,  3.1030e-01]],\n",
              "              \n",
              "                       [[-5.6389e-03,  1.2291e-03, -2.3812e-02],\n",
              "                        [-5.5668e-03,  7.7126e-02,  5.6428e-02],\n",
              "                        [ 9.2824e-03, -3.5338e-02,  4.8564e-02]],\n",
              "              \n",
              "                       [[-7.2808e-02,  7.1828e-02,  1.4868e-02],\n",
              "                        [ 6.4164e-02,  4.3557e-02, -2.0347e-01],\n",
              "                        [ 3.7783e-02,  1.3470e-02, -1.0213e-01]],\n",
              "              \n",
              "                       [[ 1.2113e-01, -1.7104e-02, -6.3377e-02],\n",
              "                        [-3.7352e-02,  1.3407e-01, -1.0814e-01],\n",
              "                        [ 1.0270e-01,  9.7032e-02, -3.6519e-02]],\n",
              "              \n",
              "                       [[ 7.7995e-02,  1.1107e-02, -1.1079e-01],\n",
              "                        [ 7.8632e-02,  2.8439e-02,  7.9108e-03],\n",
              "                        [-7.7046e-02,  2.6653e-02, -4.6910e-02]],\n",
              "              \n",
              "                       [[-4.6269e-01, -1.1759e-01,  3.3233e-01],\n",
              "                        [-1.7693e-01,  1.0085e-01, -1.0411e-01],\n",
              "                        [-7.3945e-02,  2.0532e-01,  6.6342e-02]],\n",
              "              \n",
              "                       [[-3.0911e-01,  6.1124e-01, -3.4209e-02],\n",
              "                        [-2.4178e-01,  2.3069e-01, -9.5969e-02],\n",
              "                        [ 1.0446e-01, -2.8673e-01, -4.6724e-02]],\n",
              "              \n",
              "                       [[-2.8695e-01, -2.7125e-01,  3.6179e-02],\n",
              "                        [-3.4222e-02, -2.1449e-01, -5.8696e-02],\n",
              "                        [-1.4135e-02, -9.2415e-02, -2.1186e-01]],\n",
              "              \n",
              "                       [[ 5.3913e-02, -3.3025e-02, -1.2234e-01],\n",
              "                        [-3.8601e-02, -3.1815e-02, -7.0596e-02],\n",
              "                        [ 3.2299e-02, -1.0840e-01, -7.6292e-02]]],\n",
              "              \n",
              "              \n",
              "                      [[[-1.0604e-01, -1.2157e-02, -1.3729e-02],\n",
              "                        [-3.7245e-02,  9.0696e-02, -1.1334e-01],\n",
              "                        [ 9.7221e-03, -7.2976e-03,  3.1721e-02]],\n",
              "              \n",
              "                       [[ 1.3832e-01, -1.5474e-01, -4.1541e-01],\n",
              "                        [ 5.2134e-02, -3.3198e-01,  3.8380e-02],\n",
              "                        [-4.4826e-02, -4.4317e-01,  5.7513e-01]],\n",
              "              \n",
              "                       [[ 4.4351e-02, -3.0609e-02, -3.6259e-03],\n",
              "                        [ 2.8361e-02, -1.7084e-02,  8.2650e-02],\n",
              "                        [-8.1516e-02,  5.2511e-02, -6.3837e-02]],\n",
              "              \n",
              "                       [[-7.5671e-02,  2.5561e-02,  3.6676e-02],\n",
              "                        [ 9.3301e-02,  4.2742e-02, -2.7388e-02],\n",
              "                        [ 6.3591e-02, -6.4704e-02, -2.6861e-02]],\n",
              "              \n",
              "                       [[-4.9928e-02,  1.2771e-02,  5.3371e-02],\n",
              "                        [-8.4291e-02, -8.5437e-02, -8.5036e-02],\n",
              "                        [ 1.9705e-02, -1.8049e-01,  1.5752e-02]],\n",
              "              \n",
              "                       [[-9.8279e-02,  4.5671e-02,  6.3308e-02],\n",
              "                        [-7.5568e-02, -1.2236e-01,  4.6251e-03],\n",
              "                        [-3.1197e-02,  9.3512e-03, -6.7334e-02]],\n",
              "              \n",
              "                       [[-2.3714e-02, -8.4532e-02, -1.3637e-01],\n",
              "                        [-1.4482e-01, -1.1436e-01, -1.0024e-01],\n",
              "                        [-1.3565e-02, -2.2636e-01, -1.0132e-01]],\n",
              "              \n",
              "                       [[-1.1070e-01,  3.6547e-02,  6.0999e-02],\n",
              "                        [-1.0302e-01, -1.8095e-02,  1.5402e-01],\n",
              "                        [-2.0954e-01, -7.7662e-03, -4.0025e-03]],\n",
              "              \n",
              "                       [[ 1.6236e-01,  1.9998e-01,  9.9548e-02],\n",
              "                        [ 5.5452e-03, -3.8744e-02, -4.7185e-01],\n",
              "                        [ 3.8861e-01,  7.8735e-02, -2.5752e-01]],\n",
              "              \n",
              "                       [[ 4.3365e-02,  5.4139e-02,  7.8655e-02],\n",
              "                        [ 2.6999e-02, -1.1363e-01, -1.4672e-01],\n",
              "                        [-8.1204e-02,  1.6143e-02, -1.2282e-01]]],\n",
              "              \n",
              "              \n",
              "                      [[[-9.3417e-02, -1.3680e-01, -5.6805e-02],\n",
              "                        [-5.6679e-02, -6.8415e-02, -6.9979e-02],\n",
              "                        [ 3.6054e-02, -7.8500e-02, -4.0362e-02]],\n",
              "              \n",
              "                       [[ 5.1219e-01,  3.4649e-01,  2.8907e-01],\n",
              "                        [-1.7095e-01, -2.5110e-01, -2.1231e-01],\n",
              "                        [-1.1358e-01, -5.1238e-02, -1.1888e-01]],\n",
              "              \n",
              "                       [[-1.0097e-01, -9.3828e-02, -3.4082e-02],\n",
              "                        [-1.0699e-03, -4.8600e-02, -8.4142e-02],\n",
              "                        [ 1.0410e-02, -8.3807e-02, -8.1380e-02]],\n",
              "              \n",
              "                       [[-2.3640e-02, -7.0485e-02,  2.2468e-01],\n",
              "                        [ 7.4674e-02, -1.0762e-02,  4.9217e-02],\n",
              "                        [ 8.6049e-02,  7.9701e-02, -9.4780e-02]],\n",
              "              \n",
              "                       [[-3.2411e-02, -9.9800e-02, -7.2901e-02],\n",
              "                        [-6.0889e-02, -1.7870e-02, -5.5784e-02],\n",
              "                        [ 2.0723e-01,  9.5628e-02,  1.0801e-01]],\n",
              "              \n",
              "                       [[ 2.5316e-02, -5.3863e-02,  3.2537e-02],\n",
              "                        [-7.2194e-02, -5.8290e-02, -3.8529e-02],\n",
              "                        [-2.3771e-02, -9.4291e-02,  4.4621e-02]],\n",
              "              \n",
              "                       [[ 1.9571e-01, -2.1206e-01,  2.4389e-01],\n",
              "                        [-1.7468e-02, -1.5900e-01, -5.2421e-02],\n",
              "                        [ 3.4199e-02,  1.7828e-02, -1.5319e-01]],\n",
              "              \n",
              "                       [[ 1.2110e-02, -4.4362e-02,  5.1520e-02],\n",
              "                        [-1.6105e-01, -9.2098e-02, -8.1378e-02],\n",
              "                        [-1.8768e-01, -2.3207e-02,  1.2399e-01]],\n",
              "              \n",
              "                       [[-1.4896e-01,  9.6157e-02, -7.0235e-02],\n",
              "                        [-2.9644e-02,  4.9090e-02,  1.1436e-01],\n",
              "                        [-4.4682e-02,  2.3110e-02, -2.8918e-02]],\n",
              "              \n",
              "                       [[-8.6543e-02, -2.4661e-03, -3.0800e-02],\n",
              "                        [ 8.6143e-02,  9.7288e-02,  1.8543e-02],\n",
              "                        [ 9.7073e-02, -4.9426e-02,  1.0043e-01]]],\n",
              "              \n",
              "              \n",
              "                      [[[ 1.1760e-01, -2.1956e-02, -1.4929e-01],\n",
              "                        [ 5.3028e-02, -1.6221e-02, -4.7741e-02],\n",
              "                        [-2.2268e-02,  3.6587e-02, -5.6924e-02]],\n",
              "              \n",
              "                       [[-1.8182e-01, -4.6146e-01, -1.1963e-02],\n",
              "                        [-4.2629e-01, -4.1557e-01, -2.9730e-01],\n",
              "                        [ 1.7521e-01,  6.4692e-01,  9.9881e-02]],\n",
              "              \n",
              "                       [[ 4.1410e-02, -6.1440e-02, -8.1753e-02],\n",
              "                        [-5.9941e-03, -6.3986e-02, -9.1840e-02],\n",
              "                        [-9.5139e-02, -7.0976e-02,  8.5481e-02]],\n",
              "              \n",
              "                       [[ 9.0565e-02, -6.7565e-02, -1.0798e-01],\n",
              "                        [-4.2958e-02, -8.0240e-02, -5.6232e-02],\n",
              "                        [ 5.8943e-02, -2.2124e-02, -3.5851e-03]],\n",
              "              \n",
              "                       [[-2.0352e-01,  5.2230e-02, -1.2630e-01],\n",
              "                        [-7.3198e-02, -4.1413e-02, -6.9974e-02],\n",
              "                        [ 2.2635e-01, -2.0146e-02, -1.9871e-01]],\n",
              "              \n",
              "                       [[ 1.4088e-02, -9.9697e-02,  8.6231e-02],\n",
              "                        [-7.7657e-02,  5.3012e-02, -9.2298e-02],\n",
              "                        [-8.0695e-02,  1.4582e-02,  2.6509e-02]],\n",
              "              \n",
              "                       [[ 3.5686e-01,  3.0275e-01, -2.6470e-01],\n",
              "                        [-2.4303e-01,  5.5938e-02, -1.2509e-01],\n",
              "                        [-9.8220e-02, -4.3745e-01, -2.0302e-01]],\n",
              "              \n",
              "                       [[ 1.4278e-01, -9.7276e-02, -1.3646e-01],\n",
              "                        [ 1.3430e-02,  1.9941e-01,  8.9031e-02],\n",
              "                        [-2.4330e-01, -3.1216e-01,  3.1134e-01]],\n",
              "              \n",
              "                       [[ 6.7897e-02, -2.1283e-01,  2.0331e-01],\n",
              "                        [-1.3702e-01, -3.4147e-01, -8.3654e-02],\n",
              "                        [ 2.4368e-01,  1.2140e-01, -1.1277e-01]],\n",
              "              \n",
              "                       [[ 1.1985e-01,  8.7702e-02, -6.1380e-03],\n",
              "                        [-4.1377e-02, -5.0558e-02,  7.1384e-02],\n",
              "                        [ 8.6967e-02,  6.3691e-02, -9.2017e-02]]],\n",
              "              \n",
              "              \n",
              "                      [[[ 5.5099e-02,  6.0278e-03,  1.6573e-01],\n",
              "                        [ 1.1680e-01, -8.1340e-02, -4.4158e-02],\n",
              "                        [ 1.0252e-01, -5.3845e-02,  1.5819e-01]],\n",
              "              \n",
              "                       [[ 1.0758e-01,  1.7048e-01,  2.5109e-01],\n",
              "                        [-1.1689e-01, -2.3436e-01, -4.5114e-01],\n",
              "                        [-2.7646e-01, -2.1630e-01,  8.0984e-02]],\n",
              "              \n",
              "                       [[-6.2178e-03, -7.7866e-02, -2.5011e-02],\n",
              "                        [-3.5799e-02,  6.5956e-02, -3.1046e-02],\n",
              "                        [-2.9881e-02, -6.7916e-02, -4.2338e-02]],\n",
              "              \n",
              "                       [[ 1.1572e-01,  7.0193e-02,  3.5907e-02],\n",
              "                        [-1.3212e-01,  1.2237e-01,  2.5175e-02],\n",
              "                        [-1.9836e-01, -3.6016e-03,  3.0592e-02]],\n",
              "              \n",
              "                       [[ 1.8779e-01,  1.4097e-01,  9.3802e-02],\n",
              "                        [-9.8427e-02,  1.5564e-01, -1.1250e-01],\n",
              "                        [-3.6461e-01, -1.5256e-01, -7.6803e-03]],\n",
              "              \n",
              "                       [[-6.9690e-02, -6.0018e-02,  3.8605e-03],\n",
              "                        [ 8.6268e-03, -4.7080e-03, -5.8965e-02],\n",
              "                        [ 1.0280e-01, -6.8291e-03,  6.9807e-02]],\n",
              "              \n",
              "                       [[-5.9537e-02, -5.7837e-01, -1.8862e-01],\n",
              "                        [ 2.5043e-01,  1.8436e-01, -1.8301e-01],\n",
              "                        [ 1.2801e-01,  2.8988e-01, -2.2990e-01]],\n",
              "              \n",
              "                       [[-2.2163e-01, -3.6681e-01, -1.2365e-01],\n",
              "                        [-2.8947e-01, -4.8697e-01,  3.3806e-01],\n",
              "                        [ 4.8886e-01,  7.7590e-01, -2.1332e-01]],\n",
              "              \n",
              "                       [[ 3.5844e-02,  4.1275e-01,  2.0092e-01],\n",
              "                        [-9.7616e-02,  7.5650e-02,  1.1358e-01],\n",
              "                        [-3.7644e-01, -8.5065e-01, -3.1757e-02]],\n",
              "              \n",
              "                       [[ 5.4926e-02, -9.2121e-02,  4.2825e-02],\n",
              "                        [ 8.4266e-03, -5.8915e-02, -3.4876e-02],\n",
              "                        [-2.1973e-02, -1.2508e-01,  5.5857e-02]]],\n",
              "              \n",
              "              \n",
              "                      [[[ 7.6820e-02, -2.8124e-02,  9.9298e-02],\n",
              "                        [-3.5452e-02,  2.8978e-02, -6.6895e-02],\n",
              "                        [ 2.5143e-03,  5.3307e-02,  4.7688e-02]],\n",
              "              \n",
              "                       [[-1.1820e-01, -1.1006e-01,  5.5455e-03],\n",
              "                        [ 1.8355e-02,  2.7932e-03, -8.8558e-02],\n",
              "                        [ 4.2036e-04,  1.0087e-02,  4.8843e-02]],\n",
              "              \n",
              "                       [[ 9.1482e-03,  3.7845e-03, -5.1537e-03],\n",
              "                        [ 6.5272e-02,  8.3948e-03,  9.0732e-02],\n",
              "                        [ 6.1837e-02, -7.1728e-02, -8.4665e-04]],\n",
              "              \n",
              "                       [[-8.8207e-02, -8.1825e-02,  1.5185e-02],\n",
              "                        [ 2.5816e-02, -8.5053e-03,  9.5247e-02],\n",
              "                        [-5.8409e-02, -4.4123e-02, -2.3094e-02]],\n",
              "              \n",
              "                       [[-5.0480e-04, -7.5101e-03,  9.0074e-02],\n",
              "                        [-4.7234e-02, -5.5068e-02,  1.9290e-02],\n",
              "                        [ 7.3336e-02,  2.1843e-02,  6.9003e-02]],\n",
              "              \n",
              "                       [[-2.6899e-04,  7.0537e-02,  3.6842e-02],\n",
              "                        [ 7.5073e-02, -1.1186e-02, -9.4992e-02],\n",
              "                        [-4.2829e-02,  5.0908e-02,  7.8787e-02]],\n",
              "              \n",
              "                       [[-1.0469e-01,  2.6425e-02, -3.2545e-02],\n",
              "                        [-8.8518e-02, -4.9461e-03, -1.4073e-02],\n",
              "                        [ 2.9802e-02, -4.6621e-02,  2.2456e-02]],\n",
              "              \n",
              "                       [[-9.4123e-02, -7.0927e-02, -1.0328e-02],\n",
              "                        [ 1.2995e-01,  1.3638e-01,  4.3005e-02],\n",
              "                        [-1.3247e-01, -2.7837e-04, -1.4248e-01]],\n",
              "              \n",
              "                       [[-1.3575e-01, -3.7498e-02, -1.2102e-01],\n",
              "                        [ 3.9795e-02, -1.1612e-01, -2.9325e-02],\n",
              "                        [ 1.9628e-02, -1.3375e-01, -2.9486e-03]],\n",
              "              \n",
              "                       [[-1.7855e-02,  5.2286e-02,  9.6781e-02],\n",
              "                        [-5.2854e-02, -5.6126e-02,  7.0840e-02],\n",
              "                        [-8.9616e-03, -2.9679e-02,  5.6374e-02]]],\n",
              "              \n",
              "              \n",
              "                      [[[-1.9745e-01, -5.3026e-02,  5.2266e-02],\n",
              "                        [ 1.2006e-01, -4.2756e-02, -2.4419e-02],\n",
              "                        [-2.4994e-02,  2.1066e-02,  6.4992e-02]],\n",
              "              \n",
              "                       [[-6.8314e-02, -4.3074e-01, -5.9645e-02],\n",
              "                        [ 1.6706e-01, -1.6478e-01, -1.8953e-01],\n",
              "                        [-7.3905e-02, -2.0478e-01, -3.6500e-01]],\n",
              "              \n",
              "                       [[-2.9875e-03, -3.6907e-02, -7.4726e-02],\n",
              "                        [-4.7462e-02, -1.0312e-01, -6.5841e-02],\n",
              "                        [-1.1349e-02, -1.0674e-01, -9.6173e-02]],\n",
              "              \n",
              "                       [[ 7.0139e-02,  1.1899e-01, -1.3779e-01],\n",
              "                        [-7.3539e-02,  1.3222e-01, -1.0338e-01],\n",
              "                        [-1.6736e-01, -7.9613e-02, -1.5000e-02]],\n",
              "              \n",
              "                       [[ 6.5469e-02, -2.6054e-01,  9.2087e-02],\n",
              "                        [ 1.3169e-01,  7.5670e-02, -2.0782e-01],\n",
              "                        [ 4.3206e-02,  2.6262e-02, -2.3960e-01]],\n",
              "              \n",
              "                       [[ 1.2346e-01, -9.4917e-02,  1.7863e-02],\n",
              "                        [-7.0787e-02, -1.4293e-02,  1.0138e-01],\n",
              "                        [ 1.2726e-01, -6.1572e-03, -5.5592e-02]],\n",
              "              \n",
              "                       [[-7.5542e-02, -5.2344e-01,  7.9640e-02],\n",
              "                        [-2.5160e-01, -4.1604e-01, -3.3171e-01],\n",
              "                        [ 5.6779e-02,  2.1174e-01, -2.3134e-01]],\n",
              "              \n",
              "                       [[-1.1924e-01, -3.5263e-01, -8.2160e-02],\n",
              "                        [-2.8057e-02, -5.3143e-01,  1.6955e-01],\n",
              "                        [ 4.3023e-01, -1.2852e-01,  7.0156e-02]],\n",
              "              \n",
              "                       [[ 1.5666e-01,  1.2333e-01,  2.0250e-01],\n",
              "                        [ 4.2138e-02,  3.4422e-01,  1.9896e-01],\n",
              "                        [-1.0907e-01,  6.7798e-02,  2.9041e-01]],\n",
              "              \n",
              "                       [[ 7.8981e-02,  7.4492e-02, -1.0136e-01],\n",
              "                        [-1.7305e-02, -1.1230e-01, -8.1786e-03],\n",
              "                        [-1.0954e-01, -3.0772e-02, -8.6438e-02]]],\n",
              "              \n",
              "              \n",
              "                      [[[ 3.3794e-02, -1.6056e-03, -6.2385e-02],\n",
              "                        [ 5.4924e-02,  1.2498e-02, -1.1845e-01],\n",
              "                        [ 9.3825e-02,  3.7553e-02,  3.7130e-02]],\n",
              "              \n",
              "                       [[-2.3796e-01, -2.6499e-01, -6.9674e-02],\n",
              "                        [-3.4903e-01,  4.4252e-02,  1.0252e-02],\n",
              "                        [-1.6727e-01,  2.7869e-01,  2.3405e-01]],\n",
              "              \n",
              "                       [[-6.3213e-02,  6.8960e-02,  6.4962e-02],\n",
              "                        [ 2.3517e-02,  8.1627e-02,  3.8986e-02],\n",
              "                        [ 5.3237e-02, -5.8070e-02,  7.6373e-02]],\n",
              "              \n",
              "                       [[ 2.4048e-02,  5.9708e-02, -1.9622e-02],\n",
              "                        [ 6.5994e-02,  8.6070e-02, -5.8086e-02],\n",
              "                        [ 8.2436e-02, -6.5418e-02, -4.5979e-02]],\n",
              "              \n",
              "                       [[-8.4568e-02,  4.3291e-03, -1.0001e-01],\n",
              "                        [-3.8934e-02, -8.0064e-02, -3.2327e-02],\n",
              "                        [-1.3186e-01, -8.8238e-02, -7.6067e-02]],\n",
              "              \n",
              "                       [[-2.6266e-02, -5.7162e-02,  4.7168e-02],\n",
              "                        [-1.1259e-01, -1.0972e-01, -5.8992e-03],\n",
              "                        [-8.5619e-02,  4.2150e-02, -7.4246e-02]],\n",
              "              \n",
              "                       [[ 2.3150e-01, -1.1687e-01, -2.4404e-01],\n",
              "                        [ 2.1863e-01, -3.5720e-01, -4.9649e-01],\n",
              "                        [ 1.0991e-01, -1.2722e-01, -2.7230e-01]],\n",
              "              \n",
              "                       [[-2.1667e-01,  1.1853e-01,  7.3213e-02],\n",
              "                        [ 1.3460e-01,  9.5584e-02, -4.7475e-02],\n",
              "                        [ 2.6215e-01,  3.7280e-01,  1.7818e-01]],\n",
              "              \n",
              "                       [[ 5.3197e-01, -1.0128e-01, -3.8322e-01],\n",
              "                        [-1.1121e-01, -1.4373e-01, -2.2956e-01],\n",
              "                        [-2.2667e-01, -3.4445e-01, -1.1528e-01]],\n",
              "              \n",
              "                       [[-6.5112e-02, -9.3831e-02, -1.6239e-02],\n",
              "                        [-5.2555e-02, -5.3913e-02,  6.7650e-02],\n",
              "                        [-3.9719e-02, -4.7632e-02,  5.8397e-02]]]])),\n",
              "             ('conv_block_2.2.bias',\n",
              "              tensor([ 0.2090, -0.2309,  0.2111,  0.0626, -0.0748,  0.2196,  0.1247, -0.0889,\n",
              "                       0.0033, -0.1437])),\n",
              "             ('classifier.1.weight',\n",
              "              tensor([[-0.0229, -0.0403,  0.0670,  ...,  0.0078, -0.0116, -0.0265],\n",
              "                      [ 0.0073,  0.1533,  0.2515,  ...,  0.0043,  0.0224,  0.0420],\n",
              "                      [-0.0272,  0.1035,  0.1157,  ...,  0.0386, -0.0269,  0.0608],\n",
              "                      ...,\n",
              "                      [-0.0571, -0.0850, -0.0960,  ...,  0.0215,  0.0009, -0.0172],\n",
              "                      [ 0.1198,  0.2564, -0.0811,  ...,  0.0055,  0.0359, -0.0150],\n",
              "                      [-0.0453, -0.1119, -0.0801,  ..., -0.0145, -0.0409,  0.0257]])),\n",
              "             ('classifier.1.bias',\n",
              "              tensor([ 0.0532, -0.1374,  0.4262, -0.0200, -0.3830, -0.1830,  0.1566, -0.0018,\n",
              "                       0.1573, -0.1049]))])"
            ]
          },
          "metadata": {},
          "execution_count": 73
        }
      ]
    },
    {
      "cell_type": "code",
      "source": [
        "torch.manual_seed(42)\n",
        "loaded_model_2=FashionMNISTModelV2(input_shape=1,hidden_units=10,output_shape=len(class_names))\n",
        "loaded_model_2.load_state_dict(torch.load(f=MODEL_SAVE_PATH))\n",
        "loaded_model_2.to(device)"
      ],
      "metadata": {
        "colab": {
          "base_uri": "https://localhost:8080/"
        },
        "id": "7He2u3Gb4s-l",
        "outputId": "7920ca7e-b001-4693-ec72-5b15e53c5974"
      },
      "execution_count": null,
      "outputs": [
        {
          "output_type": "stream",
          "name": "stderr",
          "text": [
            "<ipython-input-74-a1eb5d6ed913>:3: FutureWarning: You are using `torch.load` with `weights_only=False` (the current default value), which uses the default pickle module implicitly. It is possible to construct malicious pickle data which will execute arbitrary code during unpickling (See https://github.com/pytorch/pytorch/blob/main/SECURITY.md#untrusted-models for more details). In a future release, the default value for `weights_only` will be flipped to `True`. This limits the functions that could be executed during unpickling. Arbitrary objects will no longer be allowed to be loaded via this mode unless they are explicitly allowlisted by the user via `torch.serialization.add_safe_globals`. We recommend you start setting `weights_only=True` for any use case where you don't have full control of the loaded file. Please open an issue on GitHub for any issues related to this experimental feature.\n",
            "  loaded_model_2.load_state_dict(torch.load(f=MODEL_SAVE_PATH))\n"
          ]
        },
        {
          "output_type": "execute_result",
          "data": {
            "text/plain": [
              "FashionMNISTModelV2(\n",
              "  (conv_block_1): Sequential(\n",
              "    (0): Conv2d(1, 10, kernel_size=(3, 3), stride=(1, 1), padding=(1, 1))\n",
              "    (1): ReLU()\n",
              "    (2): Conv2d(10, 10, kernel_size=(3, 3), stride=(1, 1), padding=(1, 1))\n",
              "    (3): ReLU()\n",
              "    (4): MaxPool2d(kernel_size=2, stride=2, padding=0, dilation=1, ceil_mode=False)\n",
              "  )\n",
              "  (conv_block_2): Sequential(\n",
              "    (0): Conv2d(10, 10, kernel_size=(3, 3), stride=(1, 1), padding=(1, 1))\n",
              "    (1): ReLU()\n",
              "    (2): Conv2d(10, 10, kernel_size=(3, 3), stride=(1, 1), padding=(1, 1))\n",
              "    (3): ReLU()\n",
              "    (4): MaxPool2d(kernel_size=2, stride=2, padding=0, dilation=1, ceil_mode=False)\n",
              "  )\n",
              "  (classifier): Sequential(\n",
              "    (0): Flatten(start_dim=1, end_dim=-1)\n",
              "    (1): Linear(in_features=490, out_features=10, bias=True)\n",
              "  )\n",
              ")"
            ]
          },
          "metadata": {},
          "execution_count": 74
        }
      ]
    },
    {
      "cell_type": "code",
      "source": [
        "model_2_results"
      ],
      "metadata": {
        "colab": {
          "base_uri": "https://localhost:8080/"
        },
        "id": "xuCG5trh69CF",
        "outputId": "84e0995a-9571-4173-af9c-40ee08989496"
      },
      "execution_count": null,
      "outputs": [
        {
          "output_type": "execute_result",
          "data": {
            "text/plain": [
              "{'model_name': 'FashionMNISTModelV2',\n",
              " 'model_loss': 0.32718968391418457,\n",
              " 'model_acc': 88.06908945686901}"
            ]
          },
          "metadata": {},
          "execution_count": 75
        }
      ]
    },
    {
      "cell_type": "code",
      "source": [
        "torch.manual_seed(42)\n",
        "loaded_model_2_results=eval_model(\n",
        "    model=loaded_model_2,\n",
        "    data_loader=test_dataloader,\n",
        "    loss_fn=loss_fn,\n",
        "    accuracy_fn=accuracy_fn,\n",
        "    device=device\n",
        ")\n",
        "loaded_model_2_results"
      ],
      "metadata": {
        "colab": {
          "base_uri": "https://localhost:8080/",
          "height": 101,
          "referenced_widgets": [
            "37798f566ae94b0ba541e185ef8532e5",
            "9b1bd52e28ca452eac404aa7c485064f",
            "294402cb78614b99a8847d9822ddff80",
            "ed80915c01594bdb961dbbfe535a280a",
            "2e6d793550984307ab1a14f72b15b343",
            "d0c943403b954dc3835d76a9a1e3f403",
            "8e631086267548a08e1e481e7ac7f8de",
            "3a032caf7b26448ba5ca9ae046f8d308",
            "50141f1bdc9e444db72a6963c1487520",
            "e506a893e63a4d7fab999776b412365a",
            "e0ad4e2c9b60497eae993ccedd4e623e"
          ]
        },
        "id": "LGAT9TkG7O_H",
        "outputId": "89c6d0b9-03d4-495a-9dc1-e29deadfe5c9"
      },
      "execution_count": null,
      "outputs": [
        {
          "output_type": "display_data",
          "data": {
            "text/plain": [
              "  0%|          | 0/313 [00:00<?, ?it/s]"
            ],
            "application/vnd.jupyter.widget-view+json": {
              "version_major": 2,
              "version_minor": 0,
              "model_id": "37798f566ae94b0ba541e185ef8532e5"
            }
          },
          "metadata": {}
        },
        {
          "output_type": "execute_result",
          "data": {
            "text/plain": [
              "{'model_name': 'FashionMNISTModelV2',\n",
              " 'model_loss': 0.32718968391418457,\n",
              " 'model_acc': 88.06908945686901}"
            ]
          },
          "metadata": {},
          "execution_count": 76
        }
      ]
    },
    {
      "cell_type": "code",
      "source": [
        "torch.isclose(torch.tensor(model_2_results[\"model_loss\"]),\n",
        "              torch.tensor(loaded_model_2_results[\"model_loss\"]))"
      ],
      "metadata": {
        "colab": {
          "base_uri": "https://localhost:8080/"
        },
        "id": "SVTWQtrx9gaJ",
        "outputId": "67dbb057-e614-43f7-c0df-291491dc24d8"
      },
      "execution_count": null,
      "outputs": [
        {
          "output_type": "execute_result",
          "data": {
            "text/plain": [
              "tensor(True)"
            ]
          },
          "metadata": {},
          "execution_count": 77
        }
      ]
    },
    {
      "cell_type": "code",
      "source": [],
      "metadata": {
        "id": "W8g3ekL9-EXJ"
      },
      "execution_count": null,
      "outputs": []
    }
  ]
}